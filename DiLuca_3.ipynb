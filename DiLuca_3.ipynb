{
    "metadata": {
        "kernelspec": {
            "name": "SQL",
            "display_name": "SQL",
            "language": "sql"
        },
        "language_info": {
            "name": "sql",
            "version": ""
        }
    },
    "nbformat_minor": 2,
    "nbformat": 4,
    "cells": [
        {
            "cell_type": "markdown",
            "source": [
                "Problem 1:"
            ],
            "metadata": {
                "azdata_cell_guid": "baff5255-2744-4ba8-91b4-1a095d974173"
            },
            "attachments": {}
        },
        {
            "cell_type": "code",
            "source": [
                "SELECT \r\n",
                "    t.Name AS TerritoryName,\r\n",
                "CASE \r\n",
                "WHEN EXISTS (\r\n",
                "    SELECT 1\r\n",
                "     FROM Sales.SalesOrderHeader soh\r\n",
                "     JOIN Sales.SalesTerritory st \r\n",
                "     ON soh.TerritoryID = st.TerritoryID\r\n",
                "     WHERE st.TerritoryID = t.TerritoryID\r\n",
                "     AND YEAR(soh.OrderDate) = 2013\r\n",
                "     GROUP BY st.TerritoryID, MONTH(soh.OrderDate)\r\n",
                "     HAVING SUM(soh.TotalDue) > 750000\r\n",
                "     ) THEN 'No'\r\n",
                "     ELSE 'Yes'\r\n",
                "     END AS TrainingRequired\r\n",
                "FROM \r\n",
                "    Sales.SalesTerritory t\r\n",
                "ORDER BY \r\n",
                "    t.Name ASC;"
            ],
            "metadata": {
                "azdata_cell_guid": "f92dcd86-278f-4e69-ba71-20ea14a305b9",
                "language": "sql"
            },
            "outputs": [
                {
                    "output_type": "display_data",
                    "data": {
                        "text/html": "(10 rows affected)"
                    },
                    "metadata": {}
                },
                {
                    "output_type": "display_data",
                    "data": {
                        "text/html": "Total execution time: 00:00:00.095"
                    },
                    "metadata": {}
                },
                {
                    "output_type": "execute_result",
                    "metadata": {},
                    "execution_count": 2,
                    "data": {
                        "application/vnd.dataresource+json": {
                            "schema": {
                                "fields": [
                                    {
                                        "name": "TerritoryName"
                                    },
                                    {
                                        "name": "TrainingRequired"
                                    }
                                ]
                            },
                            "data": [
                                {
                                    "TerritoryName": "Australia",
                                    "TrainingRequired": "Yes"
                                },
                                {
                                    "TerritoryName": "Canada",
                                    "TrainingRequired": "No"
                                },
                                {
                                    "TerritoryName": "Central",
                                    "TrainingRequired": "Yes"
                                },
                                {
                                    "TerritoryName": "France",
                                    "TrainingRequired": "No"
                                },
                                {
                                    "TerritoryName": "Germany",
                                    "TrainingRequired": "Yes"
                                },
                                {
                                    "TerritoryName": "Northeast",
                                    "TrainingRequired": "Yes"
                                },
                                {
                                    "TerritoryName": "Northwest",
                                    "TrainingRequired": "No"
                                },
                                {
                                    "TerritoryName": "Southeast",
                                    "TrainingRequired": "Yes"
                                },
                                {
                                    "TerritoryName": "Southwest",
                                    "TrainingRequired": "No"
                                },
                                {
                                    "TerritoryName": "United Kingdom",
                                    "TrainingRequired": "Yes"
                                }
                            ]
                        },
                        "text/html": [
                            "<table>",
                            "<tr><th>TerritoryName</th><th>TrainingRequired</th></tr>",
                            "<tr><td>Australia</td><td>Yes</td></tr>",
                            "<tr><td>Canada</td><td>No</td></tr>",
                            "<tr><td>Central</td><td>Yes</td></tr>",
                            "<tr><td>France</td><td>No</td></tr>",
                            "<tr><td>Germany</td><td>Yes</td></tr>",
                            "<tr><td>Northeast</td><td>Yes</td></tr>",
                            "<tr><td>Northwest</td><td>No</td></tr>",
                            "<tr><td>Southeast</td><td>Yes</td></tr>",
                            "<tr><td>Southwest</td><td>No</td></tr>",
                            "<tr><td>United Kingdom</td><td>Yes</td></tr>",
                            "</table>"
                        ]
                    }
                }
            ],
            "execution_count": 2
        },
        {
            "cell_type": "markdown",
            "source": [
                "Problem 2"
            ],
            "metadata": {
                "azdata_cell_guid": "9ab5fe46-103c-4c00-996f-9aa15217b8fb"
            },
            "attachments": {}
        },
        {
            "cell_type": "markdown",
            "source": [
                "Part A:"
            ],
            "metadata": {
                "azdata_cell_guid": "9b7f14c7-c5ce-4f5d-867c-98769db21353"
            },
            "attachments": {}
        },
        {
            "cell_type": "code",
            "source": [
                "SELECT cr.Name AS Country, sp.Name AS StateProvince, COUNT(soh.SalesOrderID) AS TotalOrders\r\n",
                "FROM Sales.SalesOrderHeader soh\r\n",
                "INNER JOIN Person.Address a \r\n",
                "ON soh.ShipToAddressID = a.AddressID\r\n",
                "INNER JOIN Person.StateProvince sp\r\n",
                "ON a.StateProvinceID = sp.StateProvinceID\r\n",
                "INNER JOIN Person.CountryRegion cr\r\n",
                "ON sp.CountryRegionCode = cr.CountryRegionCode\r\n",
                "GROUP BY cr.Name, sp.Name\r\n",
                "ORDER BY cr.Name ASC, TotalOrders DESC"
            ],
            "metadata": {
                "azdata_cell_guid": "d8d2f047-f30e-423d-8d0a-02a671112488",
                "language": "sql"
            },
            "outputs": [
                {
                    "output_type": "display_data",
                    "data": {
                        "text/html": "(70 rows affected)"
                    },
                    "metadata": {}
                },
                {
                    "output_type": "display_data",
                    "data": {
                        "text/html": "Total execution time: 00:00:00.106"
                    },
                    "metadata": {}
                },
                {
                    "output_type": "execute_result",
                    "execution_count": 43,
                    "data": {
                        "application/vnd.dataresource+json": {
                            "schema": {
                                "fields": [
                                    {
                                        "name": "Country"
                                    },
                                    {
                                        "name": "StateProvince"
                                    },
                                    {
                                        "name": "TotalOrders"
                                    }
                                ]
                            },
                            "data": [
                                {
                                    "Country": "Australia",
                                    "StateProvince": "New South Wales",
                                    "TotalOrders": "3009"
                                },
                                {
                                    "Country": "Australia",
                                    "StateProvince": "Victoria",
                                    "TotalOrders": "1710"
                                },
                                {
                                    "Country": "Australia",
                                    "StateProvince": "Queensland",
                                    "TotalOrders": "1461"
                                },
                                {
                                    "Country": "Australia",
                                    "StateProvince": "South Australia",
                                    "TotalOrders": "466"
                                },
                                {
                                    "Country": "Australia",
                                    "StateProvince": "Tasmania",
                                    "TotalOrders": "197"
                                },
                                {
                                    "Country": "Canada",
                                    "StateProvince": "British Columbia",
                                    "TotalOrders": "3472"
                                },
                                {
                                    "Country": "Canada",
                                    "StateProvince": "Ontario",
                                    "TotalOrders": "339"
                                },
                                {
                                    "Country": "Canada",
                                    "StateProvince": "Quebec",
                                    "TotalOrders": "146"
                                },
                                {
                                    "Country": "Canada",
                                    "StateProvince": "Alberta",
                                    "TotalOrders": "90"
                                },
                                {
                                    "Country": "Canada",
                                    "StateProvince": "Manitoba",
                                    "TotalOrders": "12"
                                },
                                {
                                    "Country": "Canada",
                                    "StateProvince": "Brunswick",
                                    "TotalOrders": "8"
                                },
                                {
                                    "Country": "France",
                                    "StateProvince": "Seine (Paris)",
                                    "TotalOrders": "575"
                                },
                                {
                                    "Country": "France",
                                    "StateProvince": "Seine Saint Denis",
                                    "TotalOrders": "391"
                                },
                                {
                                    "Country": "France",
                                    "StateProvince": "Nord",
                                    "TotalOrders": "387"
                                },
                                {
                                    "Country": "France",
                                    "StateProvince": "Hauts de Seine",
                                    "TotalOrders": "295"
                                },
                                {
                                    "Country": "France",
                                    "StateProvince": "Essonne",
                                    "TotalOrders": "236"
                                },
                                {
                                    "Country": "France",
                                    "StateProvince": "Yveline",
                                    "TotalOrders": "224"
                                },
                                {
                                    "Country": "France",
                                    "StateProvince": "Loiret",
                                    "TotalOrders": "99"
                                },
                                {
                                    "Country": "France",
                                    "StateProvince": "Seine et Marne",
                                    "TotalOrders": "98"
                                },
                                {
                                    "Country": "France",
                                    "StateProvince": "Moselle",
                                    "TotalOrders": "82"
                                },
                                {
                                    "Country": "France",
                                    "StateProvince": "Val d'Oise",
                                    "TotalOrders": "71"
                                },
                                {
                                    "Country": "France",
                                    "StateProvince": "Garonne (Haute)",
                                    "TotalOrders": "46"
                                },
                                {
                                    "Country": "France",
                                    "StateProvince": "Val de Marne",
                                    "TotalOrders": "43"
                                },
                                {
                                    "Country": "France",
                                    "StateProvince": "Loir et Cher",
                                    "TotalOrders": "38"
                                },
                                {
                                    "Country": "France",
                                    "StateProvince": "Charente-Maritime",
                                    "TotalOrders": "31"
                                },
                                {
                                    "Country": "France",
                                    "StateProvince": "Somme",
                                    "TotalOrders": "30"
                                },
                                {
                                    "Country": "France",
                                    "StateProvince": "Pas de Calais",
                                    "TotalOrders": "26"
                                },
                                {
                                    "Country": "Germany",
                                    "StateProvince": "Saarland",
                                    "TotalOrders": "658"
                                },
                                {
                                    "Country": "Germany",
                                    "StateProvince": "Nordrhein-Westfalen",
                                    "TotalOrders": "570"
                                },
                                {
                                    "Country": "Germany",
                                    "StateProvince": "Hessen",
                                    "TotalOrders": "560"
                                },
                                {
                                    "Country": "Germany",
                                    "StateProvince": "Hamburg",
                                    "TotalOrders": "441"
                                },
                                {
                                    "Country": "Germany",
                                    "StateProvince": "Bayern",
                                    "TotalOrders": "344"
                                },
                                {
                                    "Country": "Germany",
                                    "StateProvince": "Brandenburg",
                                    "TotalOrders": "50"
                                },
                                {
                                    "Country": "United Kingdom",
                                    "StateProvince": "England",
                                    "TotalOrders": "3219"
                                },
                                {
                                    "Country": "United States",
                                    "StateProvince": "California",
                                    "TotalOrders": "5884"
                                },
                                {
                                    "Country": "United States",
                                    "StateProvince": "Washington",
                                    "TotalOrders": "3042"
                                },
                                {
                                    "Country": "United States",
                                    "StateProvince": "Oregon",
                                    "TotalOrders": "1380"
                                },
                                {
                                    "Country": "United States",
                                    "StateProvince": "Texas",
                                    "TotalOrders": "253"
                                },
                                {
                                    "Country": "United States",
                                    "StateProvince": "Florida",
                                    "TotalOrders": "159"
                                },
                                {
                                    "Country": "United States",
                                    "StateProvince": "Michigan",
                                    "TotalOrders": "104"
                                },
                                {
                                    "Country": "United States",
                                    "StateProvince": "Tennessee",
                                    "TotalOrders": "92"
                                },
                                {
                                    "Country": "United States",
                                    "StateProvince": "Ohio",
                                    "TotalOrders": "83"
                                },
                                {
                                    "Country": "United States",
                                    "StateProvince": "Georgia",
                                    "TotalOrders": "76"
                                },
                                {
                                    "Country": "United States",
                                    "StateProvince": "Illinois",
                                    "TotalOrders": "73"
                                },
                                {
                                    "Country": "United States",
                                    "StateProvince": "Missouri",
                                    "TotalOrders": "68"
                                },
                                {
                                    "Country": "United States",
                                    "StateProvince": "Arizona",
                                    "TotalOrders": "67"
                                },
                                {
                                    "Country": "United States",
                                    "StateProvince": "Indiana",
                                    "TotalOrders": "65"
                                },
                                {
                                    "Country": "United States",
                                    "StateProvince": "Colorado",
                                    "TotalOrders": "64"
                                },
                                {
                                    "Country": "United States",
                                    "StateProvince": "Utah",
                                    "TotalOrders": "60"
                                },
                                {
                                    "Country": "United States",
                                    "StateProvince": "Connecticut",
                                    "TotalOrders": "59"
                                },
                                {
                                    "Country": "United States",
                                    "StateProvince": "New York",
                                    "TotalOrders": "53"
                                },
                                {
                                    "Country": "United States",
                                    "StateProvince": "Nevada",
                                    "TotalOrders": "49"
                                },
                                {
                                    "Country": "United States",
                                    "StateProvince": "New Hampshire",
                                    "TotalOrders": "48"
                                },
                                {
                                    "Country": "United States",
                                    "StateProvince": "North Carolina",
                                    "TotalOrders": "42"
                                },
                                {
                                    "Country": "United States",
                                    "StateProvince": "Minnesota",
                                    "TotalOrders": "38"
                                },
                                {
                                    "Country": "United States",
                                    "StateProvince": "Virginia",
                                    "TotalOrders": "34"
                                },
                                {
                                    "Country": "United States",
                                    "StateProvince": "Wyoming",
                                    "TotalOrders": "34"
                                },
                                {
                                    "Country": "United States",
                                    "StateProvince": "Massachusetts",
                                    "TotalOrders": "25"
                                },
                                {
                                    "Country": "United States",
                                    "StateProvince": "Wisconsin",
                                    "TotalOrders": "24"
                                },
                                {
                                    "Country": "United States",
                                    "StateProvince": "Kentucky",
                                    "TotalOrders": "23"
                                },
                                {
                                    "Country": "United States",
                                    "StateProvince": "Alabama",
                                    "TotalOrders": "22"
                                },
                                {
                                    "Country": "United States",
                                    "StateProvince": "South Carolina",
                                    "TotalOrders": "22"
                                },
                                {
                                    "Country": "United States",
                                    "StateProvince": "New Mexico",
                                    "TotalOrders": "20"
                                },
                                {
                                    "Country": "United States",
                                    "StateProvince": "Mississippi",
                                    "TotalOrders": "16"
                                },
                                {
                                    "Country": "United States",
                                    "StateProvince": "Montana",
                                    "TotalOrders": "16"
                                },
                                {
                                    "Country": "United States",
                                    "StateProvince": "South Dakota",
                                    "TotalOrders": "14"
                                },
                                {
                                    "Country": "United States",
                                    "StateProvince": "Idaho",
                                    "TotalOrders": "13"
                                },
                                {
                                    "Country": "United States",
                                    "StateProvince": "Maine",
                                    "TotalOrders": "12"
                                },
                                {
                                    "Country": "United States",
                                    "StateProvince": "Rhode Island",
                                    "TotalOrders": "6"
                                },
                                {
                                    "Country": "United States",
                                    "StateProvince": "Maryland",
                                    "TotalOrders": "1"
                                }
                            ]
                        },
                        "text/html": "<table><tr><th>Country</th><th>StateProvince</th><th>TotalOrders</th></tr><tr><td>Australia</td><td>New South Wales</td><td>3009</td></tr><tr><td>Australia</td><td>Victoria</td><td>1710</td></tr><tr><td>Australia</td><td>Queensland</td><td>1461</td></tr><tr><td>Australia</td><td>South Australia</td><td>466</td></tr><tr><td>Australia</td><td>Tasmania</td><td>197</td></tr><tr><td>Canada</td><td>British Columbia</td><td>3472</td></tr><tr><td>Canada</td><td>Ontario</td><td>339</td></tr><tr><td>Canada</td><td>Quebec</td><td>146</td></tr><tr><td>Canada</td><td>Alberta</td><td>90</td></tr><tr><td>Canada</td><td>Manitoba</td><td>12</td></tr><tr><td>Canada</td><td>Brunswick</td><td>8</td></tr><tr><td>France</td><td>Seine (Paris)</td><td>575</td></tr><tr><td>France</td><td>Seine Saint Denis</td><td>391</td></tr><tr><td>France</td><td>Nord</td><td>387</td></tr><tr><td>France</td><td>Hauts de Seine</td><td>295</td></tr><tr><td>France</td><td>Essonne</td><td>236</td></tr><tr><td>France</td><td>Yveline</td><td>224</td></tr><tr><td>France</td><td>Loiret</td><td>99</td></tr><tr><td>France</td><td>Seine et Marne</td><td>98</td></tr><tr><td>France</td><td>Moselle</td><td>82</td></tr><tr><td>France</td><td>Val d&#39;Oise</td><td>71</td></tr><tr><td>France</td><td>Garonne (Haute)</td><td>46</td></tr><tr><td>France</td><td>Val de Marne</td><td>43</td></tr><tr><td>France</td><td>Loir et Cher</td><td>38</td></tr><tr><td>France</td><td>Charente-Maritime</td><td>31</td></tr><tr><td>France</td><td>Somme</td><td>30</td></tr><tr><td>France</td><td>Pas de Calais</td><td>26</td></tr><tr><td>Germany</td><td>Saarland</td><td>658</td></tr><tr><td>Germany</td><td>Nordrhein-Westfalen</td><td>570</td></tr><tr><td>Germany</td><td>Hessen</td><td>560</td></tr><tr><td>Germany</td><td>Hamburg</td><td>441</td></tr><tr><td>Germany</td><td>Bayern</td><td>344</td></tr><tr><td>Germany</td><td>Brandenburg</td><td>50</td></tr><tr><td>United Kingdom</td><td>England</td><td>3219</td></tr><tr><td>United States</td><td>California</td><td>5884</td></tr><tr><td>United States</td><td>Washington</td><td>3042</td></tr><tr><td>United States</td><td>Oregon</td><td>1380</td></tr><tr><td>United States</td><td>Texas</td><td>253</td></tr><tr><td>United States</td><td>Florida</td><td>159</td></tr><tr><td>United States</td><td>Michigan</td><td>104</td></tr><tr><td>United States</td><td>Tennessee</td><td>92</td></tr><tr><td>United States</td><td>Ohio</td><td>83</td></tr><tr><td>United States</td><td>Georgia</td><td>76</td></tr><tr><td>United States</td><td>Illinois</td><td>73</td></tr><tr><td>United States</td><td>Missouri</td><td>68</td></tr><tr><td>United States</td><td>Arizona</td><td>67</td></tr><tr><td>United States</td><td>Indiana</td><td>65</td></tr><tr><td>United States</td><td>Colorado</td><td>64</td></tr><tr><td>United States</td><td>Utah</td><td>60</td></tr><tr><td>United States</td><td>Connecticut</td><td>59</td></tr><tr><td>United States</td><td>New York</td><td>53</td></tr><tr><td>United States</td><td>Nevada</td><td>49</td></tr><tr><td>United States</td><td>New Hampshire</td><td>48</td></tr><tr><td>United States</td><td>North Carolina</td><td>42</td></tr><tr><td>United States</td><td>Minnesota</td><td>38</td></tr><tr><td>United States</td><td>Virginia</td><td>34</td></tr><tr><td>United States</td><td>Wyoming</td><td>34</td></tr><tr><td>United States</td><td>Massachusetts</td><td>25</td></tr><tr><td>United States</td><td>Wisconsin</td><td>24</td></tr><tr><td>United States</td><td>Kentucky</td><td>23</td></tr><tr><td>United States</td><td>Alabama</td><td>22</td></tr><tr><td>United States</td><td>South Carolina</td><td>22</td></tr><tr><td>United States</td><td>New Mexico</td><td>20</td></tr><tr><td>United States</td><td>Mississippi</td><td>16</td></tr><tr><td>United States</td><td>Montana</td><td>16</td></tr><tr><td>United States</td><td>South Dakota</td><td>14</td></tr><tr><td>United States</td><td>Idaho</td><td>13</td></tr><tr><td>United States</td><td>Maine</td><td>12</td></tr><tr><td>United States</td><td>Rhode Island</td><td>6</td></tr><tr><td>United States</td><td>Maryland</td><td>1</td></tr></table>"
                    },
                    "metadata": {}
                }
            ],
            "execution_count": 43
        },
        {
            "cell_type": "markdown",
            "source": [
                "Part B:\n",
                "\n",
                "<span style=\"background-color: transparent; color: rgb(0, 0, 0); font-family: &quot;Times New Roman&quot;, serif; font-size: 12pt; white-space-collapse: preserve;\"><br></span>"
            ],
            "metadata": {
                "language": "sql",
                "azdata_cell_guid": "9fc45b79-b906-4c5b-838f-eb46d89e9b6e"
            },
            "attachments": {}
        },
        {
            "cell_type": "code",
            "source": [
                "SELECT cr.Name AS Country, sp.Name AS StateProvince, \r\n",
                "        COUNT(soh.SalesOrderID) AS TotalOrders\r\n",
                "FROM Sales.SalesOrderHeader soh\r\n",
                "INNER JOIN Person.Address a \r\n",
                "ON soh.ShipToAddressID = a.AddressID\r\n",
                "INNER JOIN Person.StateProvince sp\r\n",
                "ON a.StateProvinceID = sp.StateProvinceID\r\n",
                "INNER JOIN Person.CountryRegion cr\r\n",
                "ON sp.CountryRegionCode = cr.CountryRegionCode\r\n",
                "GROUP BY cr.Name, sp.Name\r\n",
                "HAVING \r\n",
                "    COUNT(soh.SalesOrderID) >= 100\r\n",
                "ORDER BY cr.Name ASC, TotalOrders DESC\r\n",
                ""
            ],
            "metadata": {
                "azdata_cell_guid": "5979f586-93a8-43d4-accb-e2f1a4a06b93",
                "language": "sql"
            },
            "outputs": [
                {
                    "output_type": "display_data",
                    "data": {
                        "text/html": "(26 rows affected)"
                    },
                    "metadata": {}
                },
                {
                    "output_type": "display_data",
                    "data": {
                        "text/html": "Total execution time: 00:00:00.126"
                    },
                    "metadata": {}
                },
                {
                    "output_type": "execute_result",
                    "execution_count": 44,
                    "data": {
                        "application/vnd.dataresource+json": {
                            "schema": {
                                "fields": [
                                    {
                                        "name": "Country"
                                    },
                                    {
                                        "name": "StateProvince"
                                    },
                                    {
                                        "name": "TotalOrders"
                                    }
                                ]
                            },
                            "data": [
                                {
                                    "Country": "Australia",
                                    "StateProvince": "New South Wales",
                                    "TotalOrders": "3009"
                                },
                                {
                                    "Country": "Australia",
                                    "StateProvince": "Victoria",
                                    "TotalOrders": "1710"
                                },
                                {
                                    "Country": "Australia",
                                    "StateProvince": "Queensland",
                                    "TotalOrders": "1461"
                                },
                                {
                                    "Country": "Australia",
                                    "StateProvince": "South Australia",
                                    "TotalOrders": "466"
                                },
                                {
                                    "Country": "Australia",
                                    "StateProvince": "Tasmania",
                                    "TotalOrders": "197"
                                },
                                {
                                    "Country": "Canada",
                                    "StateProvince": "British Columbia",
                                    "TotalOrders": "3472"
                                },
                                {
                                    "Country": "Canada",
                                    "StateProvince": "Ontario",
                                    "TotalOrders": "339"
                                },
                                {
                                    "Country": "Canada",
                                    "StateProvince": "Quebec",
                                    "TotalOrders": "146"
                                },
                                {
                                    "Country": "France",
                                    "StateProvince": "Seine (Paris)",
                                    "TotalOrders": "575"
                                },
                                {
                                    "Country": "France",
                                    "StateProvince": "Seine Saint Denis",
                                    "TotalOrders": "391"
                                },
                                {
                                    "Country": "France",
                                    "StateProvince": "Nord",
                                    "TotalOrders": "387"
                                },
                                {
                                    "Country": "France",
                                    "StateProvince": "Hauts de Seine",
                                    "TotalOrders": "295"
                                },
                                {
                                    "Country": "France",
                                    "StateProvince": "Essonne",
                                    "TotalOrders": "236"
                                },
                                {
                                    "Country": "France",
                                    "StateProvince": "Yveline",
                                    "TotalOrders": "224"
                                },
                                {
                                    "Country": "Germany",
                                    "StateProvince": "Saarland",
                                    "TotalOrders": "658"
                                },
                                {
                                    "Country": "Germany",
                                    "StateProvince": "Nordrhein-Westfalen",
                                    "TotalOrders": "570"
                                },
                                {
                                    "Country": "Germany",
                                    "StateProvince": "Hessen",
                                    "TotalOrders": "560"
                                },
                                {
                                    "Country": "Germany",
                                    "StateProvince": "Hamburg",
                                    "TotalOrders": "441"
                                },
                                {
                                    "Country": "Germany",
                                    "StateProvince": "Bayern",
                                    "TotalOrders": "344"
                                },
                                {
                                    "Country": "United Kingdom",
                                    "StateProvince": "England",
                                    "TotalOrders": "3219"
                                },
                                {
                                    "Country": "United States",
                                    "StateProvince": "California",
                                    "TotalOrders": "5884"
                                },
                                {
                                    "Country": "United States",
                                    "StateProvince": "Washington",
                                    "TotalOrders": "3042"
                                },
                                {
                                    "Country": "United States",
                                    "StateProvince": "Oregon",
                                    "TotalOrders": "1380"
                                },
                                {
                                    "Country": "United States",
                                    "StateProvince": "Texas",
                                    "TotalOrders": "253"
                                },
                                {
                                    "Country": "United States",
                                    "StateProvince": "Florida",
                                    "TotalOrders": "159"
                                },
                                {
                                    "Country": "United States",
                                    "StateProvince": "Michigan",
                                    "TotalOrders": "104"
                                }
                            ]
                        },
                        "text/html": "<table><tr><th>Country</th><th>StateProvince</th><th>TotalOrders</th></tr><tr><td>Australia</td><td>New South Wales</td><td>3009</td></tr><tr><td>Australia</td><td>Victoria</td><td>1710</td></tr><tr><td>Australia</td><td>Queensland</td><td>1461</td></tr><tr><td>Australia</td><td>South Australia</td><td>466</td></tr><tr><td>Australia</td><td>Tasmania</td><td>197</td></tr><tr><td>Canada</td><td>British Columbia</td><td>3472</td></tr><tr><td>Canada</td><td>Ontario</td><td>339</td></tr><tr><td>Canada</td><td>Quebec</td><td>146</td></tr><tr><td>France</td><td>Seine (Paris)</td><td>575</td></tr><tr><td>France</td><td>Seine Saint Denis</td><td>391</td></tr><tr><td>France</td><td>Nord</td><td>387</td></tr><tr><td>France</td><td>Hauts de Seine</td><td>295</td></tr><tr><td>France</td><td>Essonne</td><td>236</td></tr><tr><td>France</td><td>Yveline</td><td>224</td></tr><tr><td>Germany</td><td>Saarland</td><td>658</td></tr><tr><td>Germany</td><td>Nordrhein-Westfalen</td><td>570</td></tr><tr><td>Germany</td><td>Hessen</td><td>560</td></tr><tr><td>Germany</td><td>Hamburg</td><td>441</td></tr><tr><td>Germany</td><td>Bayern</td><td>344</td></tr><tr><td>United Kingdom</td><td>England</td><td>3219</td></tr><tr><td>United States</td><td>California</td><td>5884</td></tr><tr><td>United States</td><td>Washington</td><td>3042</td></tr><tr><td>United States</td><td>Oregon</td><td>1380</td></tr><tr><td>United States</td><td>Texas</td><td>253</td></tr><tr><td>United States</td><td>Florida</td><td>159</td></tr><tr><td>United States</td><td>Michigan</td><td>104</td></tr></table>"
                    },
                    "metadata": {}
                }
            ],
            "execution_count": 44
        },
        {
            "cell_type": "markdown",
            "source": [
                "Problem 3"
            ],
            "metadata": {
                "azdata_cell_guid": "7e813159-096e-44c0-8b7e-e6329697dfa0"
            },
            "attachments": {}
        },
        {
            "cell_type": "code",
            "source": [
                "WITH ProductSales AS (\r\n",
                "    SELECT \r\n",
                "        p.ProductID,\r\n",
                "        p.Name AS ProductName,\r\n",
                "        pc.Name AS CategoryName,\r\n",
                "        SUM(sod.OrderQty) AS TotalUnitsSold\r\n",
                "    FROM Sales.SalesOrderDetail sod\r\n",
                "    JOIN Production.Product p \r\n",
                "    ON sod.ProductID = p.ProductID\r\n",
                "    JOIN Production.ProductSubcategory psc \r\n",
                "    ON p.ProductSubcategoryID = psc.ProductSubcategoryID\r\n",
                "    JOIN Production.ProductCategory pc ON psc.ProductCategoryID = pc.ProductCategoryID\r\n",
                "    GROUP BY \r\n",
                "        p.ProductID, p.Name, pc.Name),\r\n",
                "RankedSales AS (\r\n",
                "    SELECT \r\n",
                "        ps.ProductID,\r\n",
                "        ps.ProductName,\r\n",
                "        ps.CategoryName,\r\n",
                "        ps.TotalUnitsSold,\r\n",
                "        RANK() OVER (PARTITION BY ps.CategoryName ORDER BY ps.TotalUnitsSold DESC) AS SalesRank,\r\n",
                "        NTILE(5) OVER (PARTITION BY ps.CategoryName ORDER BY ps.TotalUnitsSold DESC) AS SalesQuintile\r\n",
                "    FROM \r\n",
                "        ProductSales ps\r\n",
                ")\r\n",
                "SELECT \r\n",
                "    CategoryName,\r\n",
                "    ProductName,\r\n",
                "    TotalUnitsSold,\r\n",
                "    SalesRank,\r\n",
                "    SalesQuintile\r\n",
                "FROM \r\n",
                "    RankedSales\r\n",
                "ORDER BY \r\n",
                "    CategoryName,\r\n",
                "    SalesRank;\r\n",
                ""
            ],
            "metadata": {
                "azdata_cell_guid": "9ce71823-a970-413e-8bab-0d1e5565c1d0",
                "language": "sql"
            },
            "outputs": [
                {
                    "output_type": "display_data",
                    "data": {
                        "text/html": "(266 rows affected)"
                    },
                    "metadata": {}
                },
                {
                    "output_type": "display_data",
                    "data": {
                        "text/html": "Total execution time: 00:00:00.874"
                    },
                    "metadata": {}
                },
                {
                    "output_type": "execute_result",
                    "execution_count": 77,
                    "data": {
                        "application/vnd.dataresource+json": {
                            "schema": {
                                "fields": [
                                    {
                                        "name": "CategoryName"
                                    },
                                    {
                                        "name": "ProductName"
                                    },
                                    {
                                        "name": "TotalUnitsSold"
                                    },
                                    {
                                        "name": "SalesRank"
                                    },
                                    {
                                        "name": "SalesQuintile"
                                    }
                                ]
                            },
                            "data": [
                                {
                                    "CategoryName": "Accessories",
                                    "ProductName": "Water Bottle - 30 oz.",
                                    "TotalUnitsSold": "6815",
                                    "SalesRank": "1",
                                    "SalesQuintile": "1"
                                },
                                {
                                    "CategoryName": "Accessories",
                                    "ProductName": "Sport-100 Helmet, Blue",
                                    "TotalUnitsSold": "6743",
                                    "SalesRank": "2",
                                    "SalesQuintile": "1"
                                },
                                {
                                    "CategoryName": "Accessories",
                                    "ProductName": "Sport-100 Helmet, Black",
                                    "TotalUnitsSold": "6532",
                                    "SalesRank": "3",
                                    "SalesQuintile": "1"
                                },
                                {
                                    "CategoryName": "Accessories",
                                    "ProductName": "Sport-100 Helmet, Red",
                                    "TotalUnitsSold": "6266",
                                    "SalesRank": "4",
                                    "SalesQuintile": "1"
                                },
                                {
                                    "CategoryName": "Accessories",
                                    "ProductName": "Patch Kit/8 Patches",
                                    "TotalUnitsSold": "3865",
                                    "SalesRank": "5",
                                    "SalesQuintile": "1"
                                },
                                {
                                    "CategoryName": "Accessories",
                                    "ProductName": "Bike Wash - Dissolver",
                                    "TotalUnitsSold": "3319",
                                    "SalesRank": "6",
                                    "SalesQuintile": "2"
                                },
                                {
                                    "CategoryName": "Accessories",
                                    "ProductName": "Hitch Rack - 4-Bike",
                                    "TotalUnitsSold": "3166",
                                    "SalesRank": "7",
                                    "SalesQuintile": "2"
                                },
                                {
                                    "CategoryName": "Accessories",
                                    "ProductName": "Mountain Tire Tube",
                                    "TotalUnitsSold": "3095",
                                    "SalesRank": "8",
                                    "SalesQuintile": "2"
                                },
                                {
                                    "CategoryName": "Accessories",
                                    "ProductName": "Hydration Pack - 70 oz.",
                                    "TotalUnitsSold": "2761",
                                    "SalesRank": "9",
                                    "SalesQuintile": "2"
                                },
                                {
                                    "CategoryName": "Accessories",
                                    "ProductName": "Road Tire Tube",
                                    "TotalUnitsSold": "2376",
                                    "SalesRank": "10",
                                    "SalesQuintile": "2"
                                },
                                {
                                    "CategoryName": "Accessories",
                                    "ProductName": "Fender Set - Mountain",
                                    "TotalUnitsSold": "2121",
                                    "SalesRank": "11",
                                    "SalesQuintile": "3"
                                },
                                {
                                    "CategoryName": "Accessories",
                                    "ProductName": "Mountain Bottle Cage",
                                    "TotalUnitsSold": "2025",
                                    "SalesRank": "12",
                                    "SalesQuintile": "3"
                                },
                                {
                                    "CategoryName": "Accessories",
                                    "ProductName": "Road Bottle Cage",
                                    "TotalUnitsSold": "1712",
                                    "SalesRank": "13",
                                    "SalesQuintile": "3"
                                },
                                {
                                    "CategoryName": "Accessories",
                                    "ProductName": "Touring Tire Tube",
                                    "TotalUnitsSold": "1488",
                                    "SalesRank": "14",
                                    "SalesQuintile": "3"
                                },
                                {
                                    "CategoryName": "Accessories",
                                    "ProductName": "HL Mountain Tire",
                                    "TotalUnitsSold": "1396",
                                    "SalesRank": "15",
                                    "SalesQuintile": "3"
                                },
                                {
                                    "CategoryName": "Accessories",
                                    "ProductName": "ML Mountain Tire",
                                    "TotalUnitsSold": "1161",
                                    "SalesRank": "16",
                                    "SalesQuintile": "4"
                                },
                                {
                                    "CategoryName": "Accessories",
                                    "ProductName": "Minipump",
                                    "TotalUnitsSold": "1130",
                                    "SalesRank": "17",
                                    "SalesQuintile": "4"
                                },
                                {
                                    "CategoryName": "Accessories",
                                    "ProductName": "Cable Lock",
                                    "TotalUnitsSold": "1087",
                                    "SalesRank": "18",
                                    "SalesQuintile": "4"
                                },
                                {
                                    "CategoryName": "Accessories",
                                    "ProductName": "LL Road Tire",
                                    "TotalUnitsSold": "1044",
                                    "SalesRank": "19",
                                    "SalesQuintile": "4"
                                },
                                {
                                    "CategoryName": "Accessories",
                                    "ProductName": "Touring Tire",
                                    "TotalUnitsSold": "935",
                                    "SalesRank": "20",
                                    "SalesQuintile": "4"
                                },
                                {
                                    "CategoryName": "Accessories",
                                    "ProductName": "ML Road Tire",
                                    "TotalUnitsSold": "926",
                                    "SalesRank": "21",
                                    "SalesQuintile": "5"
                                },
                                {
                                    "CategoryName": "Accessories",
                                    "ProductName": "LL Mountain Tire",
                                    "TotalUnitsSold": "862",
                                    "SalesRank": "22",
                                    "SalesQuintile": "5"
                                },
                                {
                                    "CategoryName": "Accessories",
                                    "ProductName": "HL Road Tire",
                                    "TotalUnitsSold": "858",
                                    "SalesRank": "23",
                                    "SalesQuintile": "5"
                                },
                                {
                                    "CategoryName": "Accessories",
                                    "ProductName": "All-Purpose Bike Stand",
                                    "TotalUnitsSold": "249",
                                    "SalesRank": "24",
                                    "SalesQuintile": "5"
                                },
                                {
                                    "CategoryName": "Bikes",
                                    "ProductName": "Mountain-200 Black, 38",
                                    "TotalUnitsSold": "2977",
                                    "SalesRank": "1",
                                    "SalesQuintile": "1"
                                },
                                {
                                    "CategoryName": "Bikes",
                                    "ProductName": "Mountain-200 Black, 42",
                                    "TotalUnitsSold": "2664",
                                    "SalesRank": "2",
                                    "SalesQuintile": "1"
                                },
                                {
                                    "CategoryName": "Bikes",
                                    "ProductName": "Mountain-200 Silver, 38",
                                    "TotalUnitsSold": "2394",
                                    "SalesRank": "3",
                                    "SalesQuintile": "1"
                                },
                                {
                                    "CategoryName": "Bikes",
                                    "ProductName": "Road-650 Black, 52",
                                    "TotalUnitsSold": "2270",
                                    "SalesRank": "4",
                                    "SalesQuintile": "1"
                                },
                                {
                                    "CategoryName": "Bikes",
                                    "ProductName": "Road-650 Red, 44",
                                    "TotalUnitsSold": "2254",
                                    "SalesRank": "5",
                                    "SalesQuintile": "1"
                                },
                                {
                                    "CategoryName": "Bikes",
                                    "ProductName": "Mountain-200 Silver, 42",
                                    "TotalUnitsSold": "2234",
                                    "SalesRank": "6",
                                    "SalesQuintile": "1"
                                },
                                {
                                    "CategoryName": "Bikes",
                                    "ProductName": "Road-650 Red, 60",
                                    "TotalUnitsSold": "2232",
                                    "SalesRank": "7",
                                    "SalesQuintile": "1"
                                },
                                {
                                    "CategoryName": "Bikes",
                                    "ProductName": "Mountain-200 Silver, 46",
                                    "TotalUnitsSold": "2216",
                                    "SalesRank": "8",
                                    "SalesQuintile": "1"
                                },
                                {
                                    "CategoryName": "Bikes",
                                    "ProductName": "Mountain-200 Black, 46",
                                    "TotalUnitsSold": "2111",
                                    "SalesRank": "9",
                                    "SalesQuintile": "1"
                                },
                                {
                                    "CategoryName": "Bikes",
                                    "ProductName": "Road-650 Red, 62",
                                    "TotalUnitsSold": "1896",
                                    "SalesRank": "10",
                                    "SalesQuintile": "1"
                                },
                                {
                                    "CategoryName": "Bikes",
                                    "ProductName": "Road-650 Red, 48",
                                    "TotalUnitsSold": "1888",
                                    "SalesRank": "11",
                                    "SalesQuintile": "1"
                                },
                                {
                                    "CategoryName": "Bikes",
                                    "ProductName": "Road-650 Black, 58",
                                    "TotalUnitsSold": "1871",
                                    "SalesRank": "12",
                                    "SalesQuintile": "1"
                                },
                                {
                                    "CategoryName": "Bikes",
                                    "ProductName": "Road-550-W Yellow, 48",
                                    "TotalUnitsSold": "1763",
                                    "SalesRank": "13",
                                    "SalesQuintile": "1"
                                },
                                {
                                    "CategoryName": "Bikes",
                                    "ProductName": "Road-550-W Yellow, 38",
                                    "TotalUnitsSold": "1744",
                                    "SalesRank": "14",
                                    "SalesQuintile": "1"
                                },
                                {
                                    "CategoryName": "Bikes",
                                    "ProductName": "Road-250 Black, 44",
                                    "TotalUnitsSold": "1642",
                                    "SalesRank": "15",
                                    "SalesQuintile": "1"
                                },
                                {
                                    "CategoryName": "Bikes",
                                    "ProductName": "Road-350-W Yellow, 48",
                                    "TotalUnitsSold": "1622",
                                    "SalesRank": "16",
                                    "SalesQuintile": "1"
                                },
                                {
                                    "CategoryName": "Bikes",
                                    "ProductName": "Road-750 Black, 48",
                                    "TotalUnitsSold": "1556",
                                    "SalesRank": "17",
                                    "SalesQuintile": "1"
                                },
                                {
                                    "CategoryName": "Bikes",
                                    "ProductName": "Road-550-W Yellow, 40",
                                    "TotalUnitsSold": "1500",
                                    "SalesRank": "18",
                                    "SalesQuintile": "1"
                                },
                                {
                                    "CategoryName": "Bikes",
                                    "ProductName": "Road-250 Black, 48",
                                    "TotalUnitsSold": "1498",
                                    "SalesRank": "19",
                                    "SalesQuintile": "1"
                                },
                                {
                                    "CategoryName": "Bikes",
                                    "ProductName": "Road-350-W Yellow, 40",
                                    "TotalUnitsSold": "1477",
                                    "SalesRank": "20",
                                    "SalesQuintile": "1"
                                },
                                {
                                    "CategoryName": "Bikes",
                                    "ProductName": "Road-750 Black, 52",
                                    "TotalUnitsSold": "1338",
                                    "SalesRank": "21",
                                    "SalesQuintile": "2"
                                },
                                {
                                    "CategoryName": "Bikes",
                                    "ProductName": "Road-550-W Yellow, 42",
                                    "TotalUnitsSold": "1249",
                                    "SalesRank": "22",
                                    "SalesQuintile": "2"
                                },
                                {
                                    "CategoryName": "Bikes",
                                    "ProductName": "Road-250 Black, 52",
                                    "TotalUnitsSold": "1245",
                                    "SalesRank": "23",
                                    "SalesQuintile": "2"
                                },
                                {
                                    "CategoryName": "Bikes",
                                    "ProductName": "Touring-1000 Blue, 60",
                                    "TotalUnitsSold": "1120",
                                    "SalesRank": "24",
                                    "SalesQuintile": "2"
                                },
                                {
                                    "CategoryName": "Bikes",
                                    "ProductName": "Touring-1000 Yellow, 60",
                                    "TotalUnitsSold": "1114",
                                    "SalesRank": "25",
                                    "SalesQuintile": "2"
                                },
                                {
                                    "CategoryName": "Bikes",
                                    "ProductName": "Road-650 Red, 52",
                                    "TotalUnitsSold": "1112",
                                    "SalesRank": "26",
                                    "SalesQuintile": "2"
                                },
                                {
                                    "CategoryName": "Bikes",
                                    "ProductName": "Road-650 Black, 60",
                                    "TotalUnitsSold": "1100",
                                    "SalesRank": "27",
                                    "SalesQuintile": "2"
                                },
                                {
                                    "CategoryName": "Bikes",
                                    "ProductName": "Road-650 Black, 44",
                                    "TotalUnitsSold": "1080",
                                    "SalesRank": "28",
                                    "SalesQuintile": "2"
                                },
                                {
                                    "CategoryName": "Bikes",
                                    "ProductName": "Touring-2000 Blue, 54",
                                    "TotalUnitsSold": "1010",
                                    "SalesRank": "29",
                                    "SalesQuintile": "2"
                                },
                                {
                                    "CategoryName": "Bikes",
                                    "ProductName": "Touring-1000 Yellow, 46",
                                    "TotalUnitsSold": "1005",
                                    "SalesRank": "30",
                                    "SalesQuintile": "2"
                                },
                                {
                                    "CategoryName": "Bikes",
                                    "ProductName": "Touring-1000 Blue, 46",
                                    "TotalUnitsSold": "1002",
                                    "SalesRank": "31",
                                    "SalesQuintile": "2"
                                },
                                {
                                    "CategoryName": "Bikes",
                                    "ProductName": "Road-250 Red, 58",
                                    "TotalUnitsSold": "946",
                                    "SalesRank": "32",
                                    "SalesQuintile": "2"
                                },
                                {
                                    "CategoryName": "Bikes",
                                    "ProductName": "Road-350-W Yellow, 42",
                                    "TotalUnitsSold": "944",
                                    "SalesRank": "33",
                                    "SalesQuintile": "2"
                                },
                                {
                                    "CategoryName": "Bikes",
                                    "ProductName": "Road-550-W Yellow, 44",
                                    "TotalUnitsSold": "927",
                                    "SalesRank": "34",
                                    "SalesQuintile": "2"
                                },
                                {
                                    "CategoryName": "Bikes",
                                    "ProductName": "Road-250 Black, 58",
                                    "TotalUnitsSold": "910",
                                    "SalesRank": "35",
                                    "SalesQuintile": "2"
                                },
                                {
                                    "CategoryName": "Bikes",
                                    "ProductName": "Road-250 Red, 44",
                                    "TotalUnitsSold": "895",
                                    "SalesRank": "36",
                                    "SalesQuintile": "2"
                                },
                                {
                                    "CategoryName": "Bikes",
                                    "ProductName": "Road-750 Black, 58",
                                    "TotalUnitsSold": "892",
                                    "SalesRank": "37",
                                    "SalesQuintile": "2"
                                },
                                {
                                    "CategoryName": "Bikes",
                                    "ProductName": "Touring-3000 Yellow, 44",
                                    "TotalUnitsSold": "851",
                                    "SalesRank": "38",
                                    "SalesQuintile": "2"
                                },
                                {
                                    "CategoryName": "Bikes",
                                    "ProductName": "Touring-3000 Yellow, 62",
                                    "TotalUnitsSold": "844",
                                    "SalesRank": "39",
                                    "SalesQuintile": "2"
                                },
                                {
                                    "CategoryName": "Bikes",
                                    "ProductName": "Touring-3000 Blue, 50",
                                    "TotalUnitsSold": "841",
                                    "SalesRank": "40",
                                    "SalesQuintile": "2"
                                },
                                {
                                    "CategoryName": "Bikes",
                                    "ProductName": "Touring-2000 Blue, 60",
                                    "TotalUnitsSold": "820",
                                    "SalesRank": "41",
                                    "SalesQuintile": "3"
                                },
                                {
                                    "CategoryName": "Bikes",
                                    "ProductName": "Road-250 Red, 48",
                                    "TotalUnitsSold": "812",
                                    "SalesRank": "42",
                                    "SalesQuintile": "3"
                                },
                                {
                                    "CategoryName": "Bikes",
                                    "ProductName": "Mountain-300 Black, 40",
                                    "TotalUnitsSold": "776",
                                    "SalesRank": "43",
                                    "SalesQuintile": "3"
                                },
                                {
                                    "CategoryName": "Bikes",
                                    "ProductName": "Mountain-300 Black, 44",
                                    "TotalUnitsSold": "747",
                                    "SalesRank": "44",
                                    "SalesQuintile": "3"
                                },
                                {
                                    "CategoryName": "Bikes",
                                    "ProductName": "Mountain-300 Black, 48",
                                    "TotalUnitsSold": "740",
                                    "SalesRank": "45",
                                    "SalesQuintile": "3"
                                },
                                {
                                    "CategoryName": "Bikes",
                                    "ProductName": "Road-450 Red, 52",
                                    "TotalUnitsSold": "710",
                                    "SalesRank": "46",
                                    "SalesQuintile": "3"
                                },
                                {
                                    "CategoryName": "Bikes",
                                    "ProductName": "Touring-3000 Blue, 54",
                                    "TotalUnitsSold": "686",
                                    "SalesRank": "47",
                                    "SalesQuintile": "3"
                                },
                                {
                                    "CategoryName": "Bikes",
                                    "ProductName": "Touring-3000 Yellow, 50",
                                    "TotalUnitsSold": "686",
                                    "SalesRank": "47",
                                    "SalesQuintile": "3"
                                },
                                {
                                    "CategoryName": "Bikes",
                                    "ProductName": "Mountain-300 Black, 38",
                                    "TotalUnitsSold": "684",
                                    "SalesRank": "49",
                                    "SalesQuintile": "3"
                                },
                                {
                                    "CategoryName": "Bikes",
                                    "ProductName": "Mountain-100 Black, 38",
                                    "TotalUnitsSold": "682",
                                    "SalesRank": "50",
                                    "SalesQuintile": "3"
                                },
                                {
                                    "CategoryName": "Bikes",
                                    "ProductName": "Mountain-100 Black, 44",
                                    "TotalUnitsSold": "678",
                                    "SalesRank": "51",
                                    "SalesQuintile": "3"
                                },
                                {
                                    "CategoryName": "Bikes",
                                    "ProductName": "Road-150 Red, 56",
                                    "TotalUnitsSold": "664",
                                    "SalesRank": "52",
                                    "SalesQuintile": "3"
                                },
                                {
                                    "CategoryName": "Bikes",
                                    "ProductName": "Road-750 Black, 44",
                                    "TotalUnitsSold": "656",
                                    "SalesRank": "53",
                                    "SalesQuintile": "3"
                                },
                                {
                                    "CategoryName": "Bikes",
                                    "ProductName": "Touring-1000 Yellow, 50",
                                    "TotalUnitsSold": "652",
                                    "SalesRank": "54",
                                    "SalesQuintile": "3"
                                },
                                {
                                    "CategoryName": "Bikes",
                                    "ProductName": "Touring-1000 Blue, 50",
                                    "TotalUnitsSold": "649",
                                    "SalesRank": "55",
                                    "SalesQuintile": "3"
                                },
                                {
                                    "CategoryName": "Bikes",
                                    "ProductName": "Road-650 Black, 62",
                                    "TotalUnitsSold": "644",
                                    "SalesRank": "56",
                                    "SalesQuintile": "3"
                                },
                                {
                                    "CategoryName": "Bikes",
                                    "ProductName": "Road-650 Black, 48",
                                    "TotalUnitsSold": "644",
                                    "SalesRank": "56",
                                    "SalesQuintile": "3"
                                },
                                {
                                    "CategoryName": "Bikes",
                                    "ProductName": "Mountain-100 Silver, 38",
                                    "TotalUnitsSold": "642",
                                    "SalesRank": "58",
                                    "SalesQuintile": "3"
                                },
                                {
                                    "CategoryName": "Bikes",
                                    "ProductName": "Road-250 Red, 52",
                                    "TotalUnitsSold": "639",
                                    "SalesRank": "59",
                                    "SalesQuintile": "3"
                                },
                                {
                                    "CategoryName": "Bikes",
                                    "ProductName": "Mountain-100 Black, 42",
                                    "TotalUnitsSold": "634",
                                    "SalesRank": "60",
                                    "SalesQuintile": "4"
                                },
                                {
                                    "CategoryName": "Bikes",
                                    "ProductName": "Road-650 Red, 58",
                                    "TotalUnitsSold": "618",
                                    "SalesRank": "61",
                                    "SalesQuintile": "4"
                                },
                                {
                                    "CategoryName": "Bikes",
                                    "ProductName": "Mountain-400-W Silver, 40",
                                    "TotalUnitsSold": "617",
                                    "SalesRank": "62",
                                    "SalesQuintile": "4"
                                },
                                {
                                    "CategoryName": "Bikes",
                                    "ProductName": "Mountain-100 Black, 48",
                                    "TotalUnitsSold": "616",
                                    "SalesRank": "63",
                                    "SalesQuintile": "4"
                                },
                                {
                                    "CategoryName": "Bikes",
                                    "ProductName": "Mountain-100 Silver, 44",
                                    "TotalUnitsSold": "601",
                                    "SalesRank": "64",
                                    "SalesQuintile": "4"
                                },
                                {
                                    "CategoryName": "Bikes",
                                    "ProductName": "Road-150 Red, 62",
                                    "TotalUnitsSold": "600",
                                    "SalesRank": "65",
                                    "SalesQuintile": "4"
                                },
                                {
                                    "CategoryName": "Bikes",
                                    "ProductName": "Mountain-100 Silver, 42",
                                    "TotalUnitsSold": "593",
                                    "SalesRank": "66",
                                    "SalesQuintile": "4"
                                },
                                {
                                    "CategoryName": "Bikes",
                                    "ProductName": "Road-450 Red, 58",
                                    "TotalUnitsSold": "582",
                                    "SalesRank": "67",
                                    "SalesQuintile": "4"
                                },
                                {
                                    "CategoryName": "Bikes",
                                    "ProductName": "Touring-2000 Blue, 46",
                                    "TotalUnitsSold": "538",
                                    "SalesRank": "68",
                                    "SalesQuintile": "4"
                                },
                                {
                                    "CategoryName": "Bikes",
                                    "ProductName": "Road-350-W Yellow, 44",
                                    "TotalUnitsSold": "536",
                                    "SalesRank": "69",
                                    "SalesQuintile": "4"
                                },
                                {
                                    "CategoryName": "Bikes",
                                    "ProductName": "Mountain-500 Silver, 52",
                                    "TotalUnitsSold": "515",
                                    "SalesRank": "70",
                                    "SalesQuintile": "4"
                                },
                                {
                                    "CategoryName": "Bikes",
                                    "ProductName": "Mountain-100 Silver, 48",
                                    "TotalUnitsSold": "505",
                                    "SalesRank": "71",
                                    "SalesQuintile": "4"
                                },
                                {
                                    "CategoryName": "Bikes",
                                    "ProductName": "Road-150 Red, 48",
                                    "TotalUnitsSold": "493",
                                    "SalesRank": "72",
                                    "SalesQuintile": "4"
                                },
                                {
                                    "CategoryName": "Bikes",
                                    "ProductName": "Touring-3000 Blue, 58",
                                    "TotalUnitsSold": "482",
                                    "SalesRank": "73",
                                    "SalesQuintile": "4"
                                },
                                {
                                    "CategoryName": "Bikes",
                                    "ProductName": "Road-150 Red, 52",
                                    "TotalUnitsSold": "458",
                                    "SalesRank": "74",
                                    "SalesQuintile": "4"
                                },
                                {
                                    "CategoryName": "Bikes",
                                    "ProductName": "Mountain-500 Silver, 48",
                                    "TotalUnitsSold": "457",
                                    "SalesRank": "75",
                                    "SalesQuintile": "4"
                                },
                                {
                                    "CategoryName": "Bikes",
                                    "ProductName": "Mountain-500 Silver, 42",
                                    "TotalUnitsSold": "455",
                                    "SalesRank": "76",
                                    "SalesQuintile": "4"
                                },
                                {
                                    "CategoryName": "Bikes",
                                    "ProductName": "Touring-3000 Yellow, 54",
                                    "TotalUnitsSold": "453",
                                    "SalesRank": "77",
                                    "SalesQuintile": "4"
                                },
                                {
                                    "CategoryName": "Bikes",
                                    "ProductName": "Mountain-500 Silver, 40",
                                    "TotalUnitsSold": "450",
                                    "SalesRank": "78",
                                    "SalesQuintile": "4"
                                },
                                {
                                    "CategoryName": "Bikes",
                                    "ProductName": "Mountain-500 Black, 48",
                                    "TotalUnitsSold": "449",
                                    "SalesRank": "79",
                                    "SalesQuintile": "5"
                                },
                                {
                                    "CategoryName": "Bikes",
                                    "ProductName": "Road-150 Red, 44",
                                    "TotalUnitsSold": "437",
                                    "SalesRank": "80",
                                    "SalesQuintile": "5"
                                },
                                {
                                    "CategoryName": "Bikes",
                                    "ProductName": "Mountain-400-W Silver, 38",
                                    "TotalUnitsSold": "425",
                                    "SalesRank": "81",
                                    "SalesQuintile": "5"
                                },
                                {
                                    "CategoryName": "Bikes",
                                    "ProductName": "Touring-1000 Blue, 54",
                                    "TotalUnitsSold": "413",
                                    "SalesRank": "82",
                                    "SalesQuintile": "5"
                                },
                                {
                                    "CategoryName": "Bikes",
                                    "ProductName": "Mountain-400-W Silver, 46",
                                    "TotalUnitsSold": "401",
                                    "SalesRank": "83",
                                    "SalesQuintile": "5"
                                },
                                {
                                    "CategoryName": "Bikes",
                                    "ProductName": "Touring-1000 Yellow, 54",
                                    "TotalUnitsSold": "397",
                                    "SalesRank": "84",
                                    "SalesQuintile": "5"
                                },
                                {
                                    "CategoryName": "Bikes",
                                    "ProductName": "Mountain-500 Black, 42",
                                    "TotalUnitsSold": "388",
                                    "SalesRank": "85",
                                    "SalesQuintile": "5"
                                },
                                {
                                    "CategoryName": "Bikes",
                                    "ProductName": "Mountain-400-W Silver, 42",
                                    "TotalUnitsSold": "385",
                                    "SalesRank": "86",
                                    "SalesQuintile": "5"
                                },
                                {
                                    "CategoryName": "Bikes",
                                    "ProductName": "Mountain-500 Silver, 44",
                                    "TotalUnitsSold": "381",
                                    "SalesRank": "87",
                                    "SalesQuintile": "5"
                                },
                                {
                                    "CategoryName": "Bikes",
                                    "ProductName": "Mountain-500 Black, 44",
                                    "TotalUnitsSold": "350",
                                    "SalesRank": "88",
                                    "SalesQuintile": "5"
                                },
                                {
                                    "CategoryName": "Bikes",
                                    "ProductName": "Road-450 Red, 60",
                                    "TotalUnitsSold": "350",
                                    "SalesRank": "88",
                                    "SalesQuintile": "5"
                                },
                                {
                                    "CategoryName": "Bikes",
                                    "ProductName": "Road-450 Red, 44",
                                    "TotalUnitsSold": "346",
                                    "SalesRank": "90",
                                    "SalesQuintile": "5"
                                },
                                {
                                    "CategoryName": "Bikes",
                                    "ProductName": "Touring-2000 Blue, 50",
                                    "TotalUnitsSold": "322",
                                    "SalesRank": "91",
                                    "SalesQuintile": "5"
                                },
                                {
                                    "CategoryName": "Bikes",
                                    "ProductName": "Touring-3000 Yellow, 58",
                                    "TotalUnitsSold": "293",
                                    "SalesRank": "92",
                                    "SalesQuintile": "5"
                                },
                                {
                                    "CategoryName": "Bikes",
                                    "ProductName": "Touring-3000 Blue, 44",
                                    "TotalUnitsSold": "292",
                                    "SalesRank": "93",
                                    "SalesQuintile": "5"
                                },
                                {
                                    "CategoryName": "Bikes",
                                    "ProductName": "Mountain-500 Black, 40",
                                    "TotalUnitsSold": "282",
                                    "SalesRank": "94",
                                    "SalesQuintile": "5"
                                },
                                {
                                    "CategoryName": "Bikes",
                                    "ProductName": "Touring-3000 Blue, 62",
                                    "TotalUnitsSold": "281",
                                    "SalesRank": "95",
                                    "SalesQuintile": "5"
                                },
                                {
                                    "CategoryName": "Bikes",
                                    "ProductName": "Mountain-500 Black, 52",
                                    "TotalUnitsSold": "272",
                                    "SalesRank": "96",
                                    "SalesQuintile": "5"
                                },
                                {
                                    "CategoryName": "Bikes",
                                    "ProductName": "Road-450 Red, 48",
                                    "TotalUnitsSold": "156",
                                    "SalesRank": "97",
                                    "SalesQuintile": "5"
                                },
                                {
                                    "CategoryName": "Clothing",
                                    "ProductName": "AWC Logo Cap",
                                    "TotalUnitsSold": "8311",
                                    "SalesRank": "1",
                                    "SalesQuintile": "1"
                                },
                                {
                                    "CategoryName": "Clothing",
                                    "ProductName": "Long-Sleeve Logo Jersey, L",
                                    "TotalUnitsSold": "6592",
                                    "SalesRank": "2",
                                    "SalesQuintile": "1"
                                },
                                {
                                    "CategoryName": "Clothing",
                                    "ProductName": "Classic Vest, S",
                                    "TotalUnitsSold": "4247",
                                    "SalesRank": "3",
                                    "SalesQuintile": "1"
                                },
                                {
                                    "CategoryName": "Clothing",
                                    "ProductName": "Short-Sleeve Classic Jersey, XL",
                                    "TotalUnitsSold": "3864",
                                    "SalesRank": "4",
                                    "SalesQuintile": "1"
                                },
                                {
                                    "CategoryName": "Clothing",
                                    "ProductName": "Long-Sleeve Logo Jersey, M",
                                    "TotalUnitsSold": "3636",
                                    "SalesRank": "5",
                                    "SalesQuintile": "1"
                                },
                                {
                                    "CategoryName": "Clothing",
                                    "ProductName": "Half-Finger Gloves, M",
                                    "TotalUnitsSold": "3464",
                                    "SalesRank": "6",
                                    "SalesQuintile": "1"
                                },
                                {
                                    "CategoryName": "Clothing",
                                    "ProductName": "Full-Finger Gloves, L",
                                    "TotalUnitsSold": "3378",
                                    "SalesRank": "7",
                                    "SalesQuintile": "1"
                                },
                                {
                                    "CategoryName": "Clothing",
                                    "ProductName": "Women's Mountain Shorts, S",
                                    "TotalUnitsSold": "3296",
                                    "SalesRank": "8",
                                    "SalesQuintile": "2"
                                },
                                {
                                    "CategoryName": "Clothing",
                                    "ProductName": "Women's Mountain Shorts, L",
                                    "TotalUnitsSold": "3244",
                                    "SalesRank": "9",
                                    "SalesQuintile": "2"
                                },
                                {
                                    "CategoryName": "Clothing",
                                    "ProductName": "Long-Sleeve Logo Jersey, XL",
                                    "TotalUnitsSold": "2980",
                                    "SalesRank": "10",
                                    "SalesQuintile": "2"
                                },
                                {
                                    "CategoryName": "Clothing",
                                    "ProductName": "Short-Sleeve Classic Jersey, L",
                                    "TotalUnitsSold": "2848",
                                    "SalesRank": "11",
                                    "SalesQuintile": "2"
                                },
                                {
                                    "CategoryName": "Clothing",
                                    "ProductName": "Racing Socks, L",
                                    "TotalUnitsSold": "2473",
                                    "SalesRank": "12",
                                    "SalesQuintile": "2"
                                },
                                {
                                    "CategoryName": "Clothing",
                                    "ProductName": "Classic Vest, M",
                                    "TotalUnitsSold": "2284",
                                    "SalesRank": "13",
                                    "SalesQuintile": "2"
                                },
                                {
                                    "CategoryName": "Clothing",
                                    "ProductName": "Full-Finger Gloves, M",
                                    "TotalUnitsSold": "2206",
                                    "SalesRank": "14",
                                    "SalesQuintile": "2"
                                },
                                {
                                    "CategoryName": "Clothing",
                                    "ProductName": "Half-Finger Gloves, S",
                                    "TotalUnitsSold": "2188",
                                    "SalesRank": "15",
                                    "SalesQuintile": "3"
                                },
                                {
                                    "CategoryName": "Clothing",
                                    "ProductName": "Women's Tights, L",
                                    "TotalUnitsSold": "2123",
                                    "SalesRank": "16",
                                    "SalesQuintile": "3"
                                },
                                {
                                    "CategoryName": "Clothing",
                                    "ProductName": "Women's Tights, S",
                                    "TotalUnitsSold": "2072",
                                    "SalesRank": "17",
                                    "SalesQuintile": "3"
                                },
                                {
                                    "CategoryName": "Clothing",
                                    "ProductName": "Short-Sleeve Classic Jersey, S",
                                    "TotalUnitsSold": "1955",
                                    "SalesRank": "18",
                                    "SalesQuintile": "3"
                                },
                                {
                                    "CategoryName": "Clothing",
                                    "ProductName": "Men's Bib-Shorts, M",
                                    "TotalUnitsSold": "1616",
                                    "SalesRank": "19",
                                    "SalesQuintile": "3"
                                },
                                {
                                    "CategoryName": "Clothing",
                                    "ProductName": "Racing Socks, M",
                                    "TotalUnitsSold": "1547",
                                    "SalesRank": "20",
                                    "SalesQuintile": "3"
                                },
                                {
                                    "CategoryName": "Clothing",
                                    "ProductName": "Half-Finger Gloves, L",
                                    "TotalUnitsSold": "1276",
                                    "SalesRank": "21",
                                    "SalesQuintile": "3"
                                },
                                {
                                    "CategoryName": "Clothing",
                                    "ProductName": "Men's Sports Shorts, M",
                                    "TotalUnitsSold": "1276",
                                    "SalesRank": "21",
                                    "SalesQuintile": "4"
                                },
                                {
                                    "CategoryName": "Clothing",
                                    "ProductName": "Women's Mountain Shorts, M",
                                    "TotalUnitsSold": "1139",
                                    "SalesRank": "23",
                                    "SalesQuintile": "4"
                                },
                                {
                                    "CategoryName": "Clothing",
                                    "ProductName": "Mountain Bike Socks, M",
                                    "TotalUnitsSold": "1107",
                                    "SalesRank": "24",
                                    "SalesQuintile": "4"
                                },
                                {
                                    "CategoryName": "Clothing",
                                    "ProductName": "Men's Bib-Shorts, S",
                                    "TotalUnitsSold": "876",
                                    "SalesRank": "25",
                                    "SalesQuintile": "4"
                                },
                                {
                                    "CategoryName": "Clothing",
                                    "ProductName": "Men's Bib-Shorts, L",
                                    "TotalUnitsSold": "633",
                                    "SalesRank": "26",
                                    "SalesQuintile": "4"
                                },
                                {
                                    "CategoryName": "Clothing",
                                    "ProductName": "Men's Sports Shorts, S",
                                    "TotalUnitsSold": "567",
                                    "SalesRank": "27",
                                    "SalesQuintile": "4"
                                },
                                {
                                    "CategoryName": "Clothing",
                                    "ProductName": "Full-Finger Gloves, S",
                                    "TotalUnitsSold": "500",
                                    "SalesRank": "28",
                                    "SalesQuintile": "4"
                                },
                                {
                                    "CategoryName": "Clothing",
                                    "ProductName": "Men's Sports Shorts, L",
                                    "TotalUnitsSold": "445",
                                    "SalesRank": "29",
                                    "SalesQuintile": "5"
                                },
                                {
                                    "CategoryName": "Clothing",
                                    "ProductName": "Long-Sleeve Logo Jersey, S",
                                    "TotalUnitsSold": "429",
                                    "SalesRank": "30",
                                    "SalesQuintile": "5"
                                },
                                {
                                    "CategoryName": "Clothing",
                                    "ProductName": "Short-Sleeve Classic Jersey, M",
                                    "TotalUnitsSold": "407",
                                    "SalesRank": "31",
                                    "SalesQuintile": "5"
                                },
                                {
                                    "CategoryName": "Clothing",
                                    "ProductName": "Women's Tights, M",
                                    "TotalUnitsSold": "394",
                                    "SalesRank": "32",
                                    "SalesQuintile": "5"
                                },
                                {
                                    "CategoryName": "Clothing",
                                    "ProductName": "Classic Vest, L",
                                    "TotalUnitsSold": "207",
                                    "SalesRank": "33",
                                    "SalesQuintile": "5"
                                },
                                {
                                    "CategoryName": "Clothing",
                                    "ProductName": "Mountain Bike Socks, L",
                                    "TotalUnitsSold": "90",
                                    "SalesRank": "34",
                                    "SalesQuintile": "5"
                                },
                                {
                                    "CategoryName": "Components",
                                    "ProductName": "LL Road Frame - Black, 52",
                                    "TotalUnitsSold": "1581",
                                    "SalesRank": "1",
                                    "SalesQuintile": "1"
                                },
                                {
                                    "CategoryName": "Components",
                                    "ProductName": "ML Mountain Handlebars",
                                    "TotalUnitsSold": "1465",
                                    "SalesRank": "2",
                                    "SalesQuintile": "1"
                                },
                                {
                                    "CategoryName": "Components",
                                    "ProductName": "ML Road Frame-W - Yellow, 44",
                                    "TotalUnitsSold": "1435",
                                    "SalesRank": "3",
                                    "SalesQuintile": "1"
                                },
                                {
                                    "CategoryName": "Components",
                                    "ProductName": "HL Mountain Frame - Silver, 38",
                                    "TotalUnitsSold": "1206",
                                    "SalesRank": "4",
                                    "SalesQuintile": "1"
                                },
                                {
                                    "CategoryName": "Components",
                                    "ProductName": "HL Mountain Frame - Black, 42",
                                    "TotalUnitsSold": "1181",
                                    "SalesRank": "5",
                                    "SalesQuintile": "1"
                                },
                                {
                                    "CategoryName": "Components",
                                    "ProductName": "LL Road Frame - Red, 60",
                                    "TotalUnitsSold": "996",
                                    "SalesRank": "6",
                                    "SalesQuintile": "1"
                                },
                                {
                                    "CategoryName": "Components",
                                    "ProductName": "LL Road Frame - Red, 44",
                                    "TotalUnitsSold": "991",
                                    "SalesRank": "7",
                                    "SalesQuintile": "1"
                                },
                                {
                                    "CategoryName": "Components",
                                    "ProductName": "ML Mountain Frame - Black, 48",
                                    "TotalUnitsSold": "959",
                                    "SalesRank": "8",
                                    "SalesQuintile": "1"
                                },
                                {
                                    "CategoryName": "Components",
                                    "ProductName": "LL Road Frame - Black, 58",
                                    "TotalUnitsSold": "940",
                                    "SalesRank": "9",
                                    "SalesQuintile": "1"
                                },
                                {
                                    "CategoryName": "Components",
                                    "ProductName": "ML Mountain Frame-W - Silver, 40",
                                    "TotalUnitsSold": "899",
                                    "SalesRank": "10",
                                    "SalesQuintile": "1"
                                },
                                {
                                    "CategoryName": "Components",
                                    "ProductName": "ML Road Frame-W - Yellow, 38",
                                    "TotalUnitsSold": "895",
                                    "SalesRank": "11",
                                    "SalesQuintile": "1"
                                },
                                {
                                    "CategoryName": "Components",
                                    "ProductName": "ML Road Frame-W - Yellow, 48",
                                    "TotalUnitsSold": "889",
                                    "SalesRank": "12",
                                    "SalesQuintile": "1"
                                },
                                {
                                    "CategoryName": "Components",
                                    "ProductName": "LL Road Pedal",
                                    "TotalUnitsSold": "868",
                                    "SalesRank": "13",
                                    "SalesQuintile": "1"
                                },
                                {
                                    "CategoryName": "Components",
                                    "ProductName": "LL Road Rear Wheel",
                                    "TotalUnitsSold": "868",
                                    "SalesRank": "13",
                                    "SalesQuintile": "1"
                                },
                                {
                                    "CategoryName": "Components",
                                    "ProductName": "LL Mountain Handlebars",
                                    "TotalUnitsSold": "865",
                                    "SalesRank": "15",
                                    "SalesQuintile": "1"
                                },
                                {
                                    "CategoryName": "Components",
                                    "ProductName": "ML Mountain Rear Wheel",
                                    "TotalUnitsSold": "851",
                                    "SalesRank": "16",
                                    "SalesQuintile": "1"
                                },
                                {
                                    "CategoryName": "Components",
                                    "ProductName": "HL Mountain Rear Wheel",
                                    "TotalUnitsSold": "850",
                                    "SalesRank": "17",
                                    "SalesQuintile": "1"
                                },
                                {
                                    "CategoryName": "Components",
                                    "ProductName": "Front Derailleur",
                                    "TotalUnitsSold": "813",
                                    "SalesRank": "18",
                                    "SalesQuintile": "1"
                                },
                                {
                                    "CategoryName": "Components",
                                    "ProductName": "Front Brakes",
                                    "TotalUnitsSold": "789",
                                    "SalesRank": "19",
                                    "SalesQuintile": "1"
                                },
                                {
                                    "CategoryName": "Components",
                                    "ProductName": "HL Mountain Pedal",
                                    "TotalUnitsSold": "785",
                                    "SalesRank": "20",
                                    "SalesQuintile": "1"
                                },
                                {
                                    "CategoryName": "Components",
                                    "ProductName": "Chain",
                                    "TotalUnitsSold": "774",
                                    "SalesRank": "21",
                                    "SalesQuintile": "1"
                                },
                                {
                                    "CategoryName": "Components",
                                    "ProductName": "LL Road Frame - Red, 62",
                                    "TotalUnitsSold": "697",
                                    "SalesRank": "22",
                                    "SalesQuintile": "1"
                                },
                                {
                                    "CategoryName": "Components",
                                    "ProductName": "HL Road Pedal",
                                    "TotalUnitsSold": "676",
                                    "SalesRank": "23",
                                    "SalesQuintile": "1"
                                },
                                {
                                    "CategoryName": "Components",
                                    "ProductName": "LL Road Frame - Red, 48",
                                    "TotalUnitsSold": "671",
                                    "SalesRank": "24",
                                    "SalesQuintile": "2"
                                },
                                {
                                    "CategoryName": "Components",
                                    "ProductName": "ML Road Pedal",
                                    "TotalUnitsSold": "661",
                                    "SalesRank": "25",
                                    "SalesQuintile": "2"
                                },
                                {
                                    "CategoryName": "Components",
                                    "ProductName": "ML Headset",
                                    "TotalUnitsSold": "659",
                                    "SalesRank": "26",
                                    "SalesQuintile": "2"
                                },
                                {
                                    "CategoryName": "Components",
                                    "ProductName": "HL Mountain Frame - Black, 38",
                                    "TotalUnitsSold": "659",
                                    "SalesRank": "26",
                                    "SalesQuintile": "2"
                                },
                                {
                                    "CategoryName": "Components",
                                    "ProductName": "HL Mountain Frame - Silver, 46",
                                    "TotalUnitsSold": "649",
                                    "SalesRank": "28",
                                    "SalesQuintile": "2"
                                },
                                {
                                    "CategoryName": "Components",
                                    "ProductName": "LL Mountain Frame - Silver, 42",
                                    "TotalUnitsSold": "638",
                                    "SalesRank": "29",
                                    "SalesQuintile": "2"
                                },
                                {
                                    "CategoryName": "Components",
                                    "ProductName": "HL Road Handlebars",
                                    "TotalUnitsSold": "631",
                                    "SalesRank": "30",
                                    "SalesQuintile": "2"
                                },
                                {
                                    "CategoryName": "Components",
                                    "ProductName": "ML Mountain Frame-W - Silver, 42",
                                    "TotalUnitsSold": "627",
                                    "SalesRank": "31",
                                    "SalesQuintile": "2"
                                },
                                {
                                    "CategoryName": "Components",
                                    "ProductName": "LL Mountain Frame - Black, 44",
                                    "TotalUnitsSold": "625",
                                    "SalesRank": "32",
                                    "SalesQuintile": "2"
                                },
                                {
                                    "CategoryName": "Components",
                                    "ProductName": "ML Mountain Frame - Black, 44",
                                    "TotalUnitsSold": "619",
                                    "SalesRank": "33",
                                    "SalesQuintile": "2"
                                },
                                {
                                    "CategoryName": "Components",
                                    "ProductName": "LL Mountain Front Wheel",
                                    "TotalUnitsSold": "617",
                                    "SalesRank": "34",
                                    "SalesQuintile": "2"
                                },
                                {
                                    "CategoryName": "Components",
                                    "ProductName": "HL Crankset",
                                    "TotalUnitsSold": "613",
                                    "SalesRank": "35",
                                    "SalesQuintile": "2"
                                },
                                {
                                    "CategoryName": "Components",
                                    "ProductName": "HL Road Front Wheel",
                                    "TotalUnitsSold": "567",
                                    "SalesRank": "36",
                                    "SalesQuintile": "2"
                                },
                                {
                                    "CategoryName": "Components",
                                    "ProductName": "HL Bottom Bracket",
                                    "TotalUnitsSold": "543",
                                    "SalesRank": "37",
                                    "SalesQuintile": "2"
                                },
                                {
                                    "CategoryName": "Components",
                                    "ProductName": "HL Touring Frame - Blue, 54",
                                    "TotalUnitsSold": "542",
                                    "SalesRank": "38",
                                    "SalesQuintile": "2"
                                },
                                {
                                    "CategoryName": "Components",
                                    "ProductName": "HL Touring Frame - Yellow, 54",
                                    "TotalUnitsSold": "540",
                                    "SalesRank": "39",
                                    "SalesQuintile": "2"
                                },
                                {
                                    "CategoryName": "Components",
                                    "ProductName": "ML Mountain Seat/Saddle",
                                    "TotalUnitsSold": "534",
                                    "SalesRank": "40",
                                    "SalesQuintile": "2"
                                },
                                {
                                    "CategoryName": "Components",
                                    "ProductName": "ML Road Front Wheel",
                                    "TotalUnitsSold": "532",
                                    "SalesRank": "41",
                                    "SalesQuintile": "2"
                                },
                                {
                                    "CategoryName": "Components",
                                    "ProductName": "HL Mountain Seat/Saddle",
                                    "TotalUnitsSold": "519",
                                    "SalesRank": "42",
                                    "SalesQuintile": "2"
                                },
                                {
                                    "CategoryName": "Components",
                                    "ProductName": "ML Mountain Frame - Black, 38",
                                    "TotalUnitsSold": "514",
                                    "SalesRank": "43",
                                    "SalesQuintile": "2"
                                },
                                {
                                    "CategoryName": "Components",
                                    "ProductName": "HL Mountain Handlebars",
                                    "TotalUnitsSold": "500",
                                    "SalesRank": "44",
                                    "SalesQuintile": "2"
                                },
                                {
                                    "CategoryName": "Components",
                                    "ProductName": "HL Road Frame - Red, 44",
                                    "TotalUnitsSold": "486",
                                    "SalesRank": "45",
                                    "SalesQuintile": "2"
                                },
                                {
                                    "CategoryName": "Components",
                                    "ProductName": "HL Road Frame - Red, 62",
                                    "TotalUnitsSold": "485",
                                    "SalesRank": "46",
                                    "SalesQuintile": "3"
                                },
                                {
                                    "CategoryName": "Components",
                                    "ProductName": "HL Road Frame - Black, 44",
                                    "TotalUnitsSold": "459",
                                    "SalesRank": "47",
                                    "SalesQuintile": "3"
                                },
                                {
                                    "CategoryName": "Components",
                                    "ProductName": "LL Mountain Pedal",
                                    "TotalUnitsSold": "449",
                                    "SalesRank": "48",
                                    "SalesQuintile": "3"
                                },
                                {
                                    "CategoryName": "Components",
                                    "ProductName": "HL Fork",
                                    "TotalUnitsSold": "444",
                                    "SalesRank": "49",
                                    "SalesQuintile": "3"
                                },
                                {
                                    "CategoryName": "Components",
                                    "ProductName": "LL Mountain Frame - Silver, 40",
                                    "TotalUnitsSold": "442",
                                    "SalesRank": "50",
                                    "SalesQuintile": "3"
                                },
                                {
                                    "CategoryName": "Components",
                                    "ProductName": "LL Crankset",
                                    "TotalUnitsSold": "426",
                                    "SalesRank": "51",
                                    "SalesQuintile": "3"
                                },
                                {
                                    "CategoryName": "Components",
                                    "ProductName": "HL Touring Seat/Saddle",
                                    "TotalUnitsSold": "426",
                                    "SalesRank": "51",
                                    "SalesQuintile": "3"
                                },
                                {
                                    "CategoryName": "Components",
                                    "ProductName": "LL Mountain Frame - Silver, 52",
                                    "TotalUnitsSold": "425",
                                    "SalesRank": "53",
                                    "SalesQuintile": "3"
                                },
                                {
                                    "CategoryName": "Components",
                                    "ProductName": "LL Mountain Frame - Black, 42",
                                    "TotalUnitsSold": "423",
                                    "SalesRank": "54",
                                    "SalesQuintile": "3"
                                },
                                {
                                    "CategoryName": "Components",
                                    "ProductName": "HL Touring Frame - Yellow, 60",
                                    "TotalUnitsSold": "387",
                                    "SalesRank": "55",
                                    "SalesQuintile": "3"
                                },
                                {
                                    "CategoryName": "Components",
                                    "ProductName": "LL Mountain Frame - Black, 48",
                                    "TotalUnitsSold": "386",
                                    "SalesRank": "56",
                                    "SalesQuintile": "3"
                                },
                                {
                                    "CategoryName": "Components",
                                    "ProductName": "LL Bottom Bracket",
                                    "TotalUnitsSold": "378",
                                    "SalesRank": "57",
                                    "SalesQuintile": "3"
                                },
                                {
                                    "CategoryName": "Components",
                                    "ProductName": "LL Mountain Frame - Silver, 44",
                                    "TotalUnitsSold": "371",
                                    "SalesRank": "58",
                                    "SalesQuintile": "3"
                                },
                                {
                                    "CategoryName": "Components",
                                    "ProductName": "HL Touring Frame - Blue, 60",
                                    "TotalUnitsSold": "371",
                                    "SalesRank": "58",
                                    "SalesQuintile": "3"
                                },
                                {
                                    "CategoryName": "Components",
                                    "ProductName": "Rear Derailleur",
                                    "TotalUnitsSold": "353",
                                    "SalesRank": "60",
                                    "SalesQuintile": "3"
                                },
                                {
                                    "CategoryName": "Components",
                                    "ProductName": "LL Touring Frame - Yellow, 62",
                                    "TotalUnitsSold": "348",
                                    "SalesRank": "61",
                                    "SalesQuintile": "3"
                                },
                                {
                                    "CategoryName": "Components",
                                    "ProductName": "LL Mountain Seat/Saddle",
                                    "TotalUnitsSold": "347",
                                    "SalesRank": "62",
                                    "SalesQuintile": "3"
                                },
                                {
                                    "CategoryName": "Components",
                                    "ProductName": "HL Mountain Frame - Silver, 42",
                                    "TotalUnitsSold": "347",
                                    "SalesRank": "62",
                                    "SalesQuintile": "3"
                                },
                                {
                                    "CategoryName": "Components",
                                    "ProductName": "ML Mountain Pedal",
                                    "TotalUnitsSold": "345",
                                    "SalesRank": "64",
                                    "SalesQuintile": "3"
                                },
                                {
                                    "CategoryName": "Components",
                                    "ProductName": "LL Mountain Rear Wheel",
                                    "TotalUnitsSold": "342",
                                    "SalesRank": "65",
                                    "SalesQuintile": "3"
                                },
                                {
                                    "CategoryName": "Components",
                                    "ProductName": "LL Touring Frame - Blue, 50",
                                    "TotalUnitsSold": "316",
                                    "SalesRank": "66",
                                    "SalesQuintile": "3"
                                },
                                {
                                    "CategoryName": "Components",
                                    "ProductName": "LL Touring Frame - Yellow, 44",
                                    "TotalUnitsSold": "294",
                                    "SalesRank": "67",
                                    "SalesQuintile": "3"
                                },
                                {
                                    "CategoryName": "Components",
                                    "ProductName": "ML Mountain Front Wheel",
                                    "TotalUnitsSold": "266",
                                    "SalesRank": "68",
                                    "SalesQuintile": "4"
                                },
                                {
                                    "CategoryName": "Components",
                                    "ProductName": "HL Headset",
                                    "TotalUnitsSold": "255",
                                    "SalesRank": "69",
                                    "SalesQuintile": "4"
                                },
                                {
                                    "CategoryName": "Components",
                                    "ProductName": "ML Road Frame - Red, 48",
                                    "TotalUnitsSold": "250",
                                    "SalesRank": "70",
                                    "SalesQuintile": "4"
                                },
                                {
                                    "CategoryName": "Components",
                                    "ProductName": "Rear Brakes",
                                    "TotalUnitsSold": "246",
                                    "SalesRank": "71",
                                    "SalesQuintile": "4"
                                },
                                {
                                    "CategoryName": "Components",
                                    "ProductName": "LL Road Frame - Black, 44",
                                    "TotalUnitsSold": "238",
                                    "SalesRank": "72",
                                    "SalesQuintile": "4"
                                },
                                {
                                    "CategoryName": "Components",
                                    "ProductName": "LL Touring Frame - Yellow, 50",
                                    "TotalUnitsSold": "228",
                                    "SalesRank": "73",
                                    "SalesQuintile": "4"
                                },
                                {
                                    "CategoryName": "Components",
                                    "ProductName": "HL Mountain Front Wheel",
                                    "TotalUnitsSold": "222",
                                    "SalesRank": "74",
                                    "SalesQuintile": "4"
                                },
                                {
                                    "CategoryName": "Components",
                                    "ProductName": "HL Touring Handlebars",
                                    "TotalUnitsSold": "220",
                                    "SalesRank": "75",
                                    "SalesQuintile": "4"
                                },
                                {
                                    "CategoryName": "Components",
                                    "ProductName": "LL Road Handlebars",
                                    "TotalUnitsSold": "213",
                                    "SalesRank": "76",
                                    "SalesQuintile": "4"
                                },
                                {
                                    "CategoryName": "Components",
                                    "ProductName": "LL Touring Frame - Blue, 54",
                                    "TotalUnitsSold": "211",
                                    "SalesRank": "77",
                                    "SalesQuintile": "4"
                                },
                                {
                                    "CategoryName": "Components",
                                    "ProductName": "ML Road Frame-W - Yellow, 40",
                                    "TotalUnitsSold": "203",
                                    "SalesRank": "78",
                                    "SalesQuintile": "4"
                                },
                                {
                                    "CategoryName": "Components",
                                    "ProductName": "LL Fork",
                                    "TotalUnitsSold": "190",
                                    "SalesRank": "79",
                                    "SalesQuintile": "4"
                                },
                                {
                                    "CategoryName": "Components",
                                    "ProductName": "ML Mountain Frame-W - Silver, 46",
                                    "TotalUnitsSold": "188",
                                    "SalesRank": "80",
                                    "SalesQuintile": "4"
                                },
                                {
                                    "CategoryName": "Components",
                                    "ProductName": "HL Mountain Frame - Silver, 48",
                                    "TotalUnitsSold": "173",
                                    "SalesRank": "81",
                                    "SalesQuintile": "4"
                                },
                                {
                                    "CategoryName": "Components",
                                    "ProductName": "Touring Pedal",
                                    "TotalUnitsSold": "147",
                                    "SalesRank": "82",
                                    "SalesQuintile": "4"
                                },
                                {
                                    "CategoryName": "Components",
                                    "ProductName": "HL Road Seat/Saddle",
                                    "TotalUnitsSold": "134",
                                    "SalesRank": "83",
                                    "SalesQuintile": "4"
                                },
                                {
                                    "CategoryName": "Components",
                                    "ProductName": "HL Mountain Frame - Black, 48",
                                    "TotalUnitsSold": "131",
                                    "SalesRank": "84",
                                    "SalesQuintile": "4"
                                },
                                {
                                    "CategoryName": "Components",
                                    "ProductName": "LL Road Frame - Black, 60",
                                    "TotalUnitsSold": "129",
                                    "SalesRank": "85",
                                    "SalesQuintile": "4"
                                },
                                {
                                    "CategoryName": "Components",
                                    "ProductName": "HL Touring Frame - Blue, 50",
                                    "TotalUnitsSold": "124",
                                    "SalesRank": "86",
                                    "SalesQuintile": "4"
                                },
                                {
                                    "CategoryName": "Components",
                                    "ProductName": "HL Touring Frame - Blue, 46",
                                    "TotalUnitsSold": "114",
                                    "SalesRank": "87",
                                    "SalesQuintile": "4"
                                },
                                {
                                    "CategoryName": "Components",
                                    "ProductName": "HL Road Frame - Red, 48",
                                    "TotalUnitsSold": "109",
                                    "SalesRank": "88",
                                    "SalesQuintile": "4"
                                },
                                {
                                    "CategoryName": "Components",
                                    "ProductName": "HL Road Frame - Black, 48",
                                    "TotalUnitsSold": "109",
                                    "SalesRank": "88",
                                    "SalesQuintile": "4"
                                },
                                {
                                    "CategoryName": "Components",
                                    "ProductName": "LL Road Frame - Red, 52",
                                    "TotalUnitsSold": "100",
                                    "SalesRank": "90",
                                    "SalesQuintile": "5"
                                },
                                {
                                    "CategoryName": "Components",
                                    "ProductName": "LL Headset",
                                    "TotalUnitsSold": "95",
                                    "SalesRank": "91",
                                    "SalesQuintile": "5"
                                },
                                {
                                    "CategoryName": "Components",
                                    "ProductName": "HL Road Rear Wheel",
                                    "TotalUnitsSold": "94",
                                    "SalesRank": "92",
                                    "SalesQuintile": "5"
                                },
                                {
                                    "CategoryName": "Components",
                                    "ProductName": "LL Touring Seat/Saddle",
                                    "TotalUnitsSold": "91",
                                    "SalesRank": "93",
                                    "SalesQuintile": "5"
                                },
                                {
                                    "CategoryName": "Components",
                                    "ProductName": "ML Road Frame - Red, 52",
                                    "TotalUnitsSold": "90",
                                    "SalesRank": "94",
                                    "SalesQuintile": "5"
                                },
                                {
                                    "CategoryName": "Components",
                                    "ProductName": "HL Touring Frame - Yellow, 46",
                                    "TotalUnitsSold": "87",
                                    "SalesRank": "95",
                                    "SalesQuintile": "5"
                                },
                                {
                                    "CategoryName": "Components",
                                    "ProductName": "ML Touring Seat/Saddle",
                                    "TotalUnitsSold": "84",
                                    "SalesRank": "96",
                                    "SalesQuintile": "5"
                                },
                                {
                                    "CategoryName": "Components",
                                    "ProductName": "HL Touring Frame - Yellow, 50",
                                    "TotalUnitsSold": "83",
                                    "SalesRank": "97",
                                    "SalesQuintile": "5"
                                },
                                {
                                    "CategoryName": "Components",
                                    "ProductName": "ML Crankset",
                                    "TotalUnitsSold": "68",
                                    "SalesRank": "98",
                                    "SalesQuintile": "5"
                                },
                                {
                                    "CategoryName": "Components",
                                    "ProductName": "ML Mountain Frame - Black, 40",
                                    "TotalUnitsSold": "68",
                                    "SalesRank": "98",
                                    "SalesQuintile": "5"
                                },
                                {
                                    "CategoryName": "Components",
                                    "ProductName": "ML Road Rear Wheel",
                                    "TotalUnitsSold": "64",
                                    "SalesRank": "100",
                                    "SalesQuintile": "5"
                                },
                                {
                                    "CategoryName": "Components",
                                    "ProductName": "LL Touring Handlebars",
                                    "TotalUnitsSold": "56",
                                    "SalesRank": "101",
                                    "SalesQuintile": "5"
                                },
                                {
                                    "CategoryName": "Components",
                                    "ProductName": "LL Mountain Frame - Silver, 48",
                                    "TotalUnitsSold": "44",
                                    "SalesRank": "102",
                                    "SalesQuintile": "5"
                                },
                                {
                                    "CategoryName": "Components",
                                    "ProductName": "LL Touring Frame - Yellow, 58",
                                    "TotalUnitsSold": "36",
                                    "SalesRank": "103",
                                    "SalesQuintile": "5"
                                },
                                {
                                    "CategoryName": "Components",
                                    "ProductName": "LL Touring Frame - Blue, 44",
                                    "TotalUnitsSold": "25",
                                    "SalesRank": "104",
                                    "SalesQuintile": "5"
                                },
                                {
                                    "CategoryName": "Components",
                                    "ProductName": "HL Mountain Frame - Black, 44",
                                    "TotalUnitsSold": "17",
                                    "SalesRank": "105",
                                    "SalesQuintile": "5"
                                },
                                {
                                    "CategoryName": "Components",
                                    "ProductName": "LL Touring Frame - Blue, 62",
                                    "TotalUnitsSold": "15",
                                    "SalesRank": "106",
                                    "SalesQuintile": "5"
                                },
                                {
                                    "CategoryName": "Components",
                                    "ProductName": "LL Mountain Frame - Black, 52",
                                    "TotalUnitsSold": "15",
                                    "SalesRank": "106",
                                    "SalesQuintile": "5"
                                },
                                {
                                    "CategoryName": "Components",
                                    "ProductName": "LL Road Seat/Saddle",
                                    "TotalUnitsSold": "10",
                                    "SalesRank": "108",
                                    "SalesQuintile": "5"
                                },
                                {
                                    "CategoryName": "Components",
                                    "ProductName": "LL Mountain Frame - Black, 40",
                                    "TotalUnitsSold": "8",
                                    "SalesRank": "109",
                                    "SalesQuintile": "5"
                                },
                                {
                                    "CategoryName": "Components",
                                    "ProductName": "ML Mountain Frame-W - Silver, 38",
                                    "TotalUnitsSold": "7",
                                    "SalesRank": "110",
                                    "SalesQuintile": "5"
                                },
                                {
                                    "CategoryName": "Components",
                                    "ProductName": "LL Touring Frame - Blue, 58",
                                    "TotalUnitsSold": "4",
                                    "SalesRank": "111",
                                    "SalesQuintile": "5"
                                }
                            ]
                        },
                        "text/html": "<table><tr><th>CategoryName</th><th>ProductName</th><th>TotalUnitsSold</th><th>SalesRank</th><th>SalesQuintile</th></tr><tr><td>Accessories</td><td>Water Bottle - 30 oz.</td><td>6815</td><td>1</td><td>1</td></tr><tr><td>Accessories</td><td>Sport-100 Helmet, Blue</td><td>6743</td><td>2</td><td>1</td></tr><tr><td>Accessories</td><td>Sport-100 Helmet, Black</td><td>6532</td><td>3</td><td>1</td></tr><tr><td>Accessories</td><td>Sport-100 Helmet, Red</td><td>6266</td><td>4</td><td>1</td></tr><tr><td>Accessories</td><td>Patch Kit/8 Patches</td><td>3865</td><td>5</td><td>1</td></tr><tr><td>Accessories</td><td>Bike Wash - Dissolver</td><td>3319</td><td>6</td><td>2</td></tr><tr><td>Accessories</td><td>Hitch Rack - 4-Bike</td><td>3166</td><td>7</td><td>2</td></tr><tr><td>Accessories</td><td>Mountain Tire Tube</td><td>3095</td><td>8</td><td>2</td></tr><tr><td>Accessories</td><td>Hydration Pack - 70 oz.</td><td>2761</td><td>9</td><td>2</td></tr><tr><td>Accessories</td><td>Road Tire Tube</td><td>2376</td><td>10</td><td>2</td></tr><tr><td>Accessories</td><td>Fender Set - Mountain</td><td>2121</td><td>11</td><td>3</td></tr><tr><td>Accessories</td><td>Mountain Bottle Cage</td><td>2025</td><td>12</td><td>3</td></tr><tr><td>Accessories</td><td>Road Bottle Cage</td><td>1712</td><td>13</td><td>3</td></tr><tr><td>Accessories</td><td>Touring Tire Tube</td><td>1488</td><td>14</td><td>3</td></tr><tr><td>Accessories</td><td>HL Mountain Tire</td><td>1396</td><td>15</td><td>3</td></tr><tr><td>Accessories</td><td>ML Mountain Tire</td><td>1161</td><td>16</td><td>4</td></tr><tr><td>Accessories</td><td>Minipump</td><td>1130</td><td>17</td><td>4</td></tr><tr><td>Accessories</td><td>Cable Lock</td><td>1087</td><td>18</td><td>4</td></tr><tr><td>Accessories</td><td>LL Road Tire</td><td>1044</td><td>19</td><td>4</td></tr><tr><td>Accessories</td><td>Touring Tire</td><td>935</td><td>20</td><td>4</td></tr><tr><td>Accessories</td><td>ML Road Tire</td><td>926</td><td>21</td><td>5</td></tr><tr><td>Accessories</td><td>LL Mountain Tire</td><td>862</td><td>22</td><td>5</td></tr><tr><td>Accessories</td><td>HL Road Tire</td><td>858</td><td>23</td><td>5</td></tr><tr><td>Accessories</td><td>All-Purpose Bike Stand</td><td>249</td><td>24</td><td>5</td></tr><tr><td>Bikes</td><td>Mountain-200 Black, 38</td><td>2977</td><td>1</td><td>1</td></tr><tr><td>Bikes</td><td>Mountain-200 Black, 42</td><td>2664</td><td>2</td><td>1</td></tr><tr><td>Bikes</td><td>Mountain-200 Silver, 38</td><td>2394</td><td>3</td><td>1</td></tr><tr><td>Bikes</td><td>Road-650 Black, 52</td><td>2270</td><td>4</td><td>1</td></tr><tr><td>Bikes</td><td>Road-650 Red, 44</td><td>2254</td><td>5</td><td>1</td></tr><tr><td>Bikes</td><td>Mountain-200 Silver, 42</td><td>2234</td><td>6</td><td>1</td></tr><tr><td>Bikes</td><td>Road-650 Red, 60</td><td>2232</td><td>7</td><td>1</td></tr><tr><td>Bikes</td><td>Mountain-200 Silver, 46</td><td>2216</td><td>8</td><td>1</td></tr><tr><td>Bikes</td><td>Mountain-200 Black, 46</td><td>2111</td><td>9</td><td>1</td></tr><tr><td>Bikes</td><td>Road-650 Red, 62</td><td>1896</td><td>10</td><td>1</td></tr><tr><td>Bikes</td><td>Road-650 Red, 48</td><td>1888</td><td>11</td><td>1</td></tr><tr><td>Bikes</td><td>Road-650 Black, 58</td><td>1871</td><td>12</td><td>1</td></tr><tr><td>Bikes</td><td>Road-550-W Yellow, 48</td><td>1763</td><td>13</td><td>1</td></tr><tr><td>Bikes</td><td>Road-550-W Yellow, 38</td><td>1744</td><td>14</td><td>1</td></tr><tr><td>Bikes</td><td>Road-250 Black, 44</td><td>1642</td><td>15</td><td>1</td></tr><tr><td>Bikes</td><td>Road-350-W Yellow, 48</td><td>1622</td><td>16</td><td>1</td></tr><tr><td>Bikes</td><td>Road-750 Black, 48</td><td>1556</td><td>17</td><td>1</td></tr><tr><td>Bikes</td><td>Road-550-W Yellow, 40</td><td>1500</td><td>18</td><td>1</td></tr><tr><td>Bikes</td><td>Road-250 Black, 48</td><td>1498</td><td>19</td><td>1</td></tr><tr><td>Bikes</td><td>Road-350-W Yellow, 40</td><td>1477</td><td>20</td><td>1</td></tr><tr><td>Bikes</td><td>Road-750 Black, 52</td><td>1338</td><td>21</td><td>2</td></tr><tr><td>Bikes</td><td>Road-550-W Yellow, 42</td><td>1249</td><td>22</td><td>2</td></tr><tr><td>Bikes</td><td>Road-250 Black, 52</td><td>1245</td><td>23</td><td>2</td></tr><tr><td>Bikes</td><td>Touring-1000 Blue, 60</td><td>1120</td><td>24</td><td>2</td></tr><tr><td>Bikes</td><td>Touring-1000 Yellow, 60</td><td>1114</td><td>25</td><td>2</td></tr><tr><td>Bikes</td><td>Road-650 Red, 52</td><td>1112</td><td>26</td><td>2</td></tr><tr><td>Bikes</td><td>Road-650 Black, 60</td><td>1100</td><td>27</td><td>2</td></tr><tr><td>Bikes</td><td>Road-650 Black, 44</td><td>1080</td><td>28</td><td>2</td></tr><tr><td>Bikes</td><td>Touring-2000 Blue, 54</td><td>1010</td><td>29</td><td>2</td></tr><tr><td>Bikes</td><td>Touring-1000 Yellow, 46</td><td>1005</td><td>30</td><td>2</td></tr><tr><td>Bikes</td><td>Touring-1000 Blue, 46</td><td>1002</td><td>31</td><td>2</td></tr><tr><td>Bikes</td><td>Road-250 Red, 58</td><td>946</td><td>32</td><td>2</td></tr><tr><td>Bikes</td><td>Road-350-W Yellow, 42</td><td>944</td><td>33</td><td>2</td></tr><tr><td>Bikes</td><td>Road-550-W Yellow, 44</td><td>927</td><td>34</td><td>2</td></tr><tr><td>Bikes</td><td>Road-250 Black, 58</td><td>910</td><td>35</td><td>2</td></tr><tr><td>Bikes</td><td>Road-250 Red, 44</td><td>895</td><td>36</td><td>2</td></tr><tr><td>Bikes</td><td>Road-750 Black, 58</td><td>892</td><td>37</td><td>2</td></tr><tr><td>Bikes</td><td>Touring-3000 Yellow, 44</td><td>851</td><td>38</td><td>2</td></tr><tr><td>Bikes</td><td>Touring-3000 Yellow, 62</td><td>844</td><td>39</td><td>2</td></tr><tr><td>Bikes</td><td>Touring-3000 Blue, 50</td><td>841</td><td>40</td><td>2</td></tr><tr><td>Bikes</td><td>Touring-2000 Blue, 60</td><td>820</td><td>41</td><td>3</td></tr><tr><td>Bikes</td><td>Road-250 Red, 48</td><td>812</td><td>42</td><td>3</td></tr><tr><td>Bikes</td><td>Mountain-300 Black, 40</td><td>776</td><td>43</td><td>3</td></tr><tr><td>Bikes</td><td>Mountain-300 Black, 44</td><td>747</td><td>44</td><td>3</td></tr><tr><td>Bikes</td><td>Mountain-300 Black, 48</td><td>740</td><td>45</td><td>3</td></tr><tr><td>Bikes</td><td>Road-450 Red, 52</td><td>710</td><td>46</td><td>3</td></tr><tr><td>Bikes</td><td>Touring-3000 Blue, 54</td><td>686</td><td>47</td><td>3</td></tr><tr><td>Bikes</td><td>Touring-3000 Yellow, 50</td><td>686</td><td>47</td><td>3</td></tr><tr><td>Bikes</td><td>Mountain-300 Black, 38</td><td>684</td><td>49</td><td>3</td></tr><tr><td>Bikes</td><td>Mountain-100 Black, 38</td><td>682</td><td>50</td><td>3</td></tr><tr><td>Bikes</td><td>Mountain-100 Black, 44</td><td>678</td><td>51</td><td>3</td></tr><tr><td>Bikes</td><td>Road-150 Red, 56</td><td>664</td><td>52</td><td>3</td></tr><tr><td>Bikes</td><td>Road-750 Black, 44</td><td>656</td><td>53</td><td>3</td></tr><tr><td>Bikes</td><td>Touring-1000 Yellow, 50</td><td>652</td><td>54</td><td>3</td></tr><tr><td>Bikes</td><td>Touring-1000 Blue, 50</td><td>649</td><td>55</td><td>3</td></tr><tr><td>Bikes</td><td>Road-650 Black, 62</td><td>644</td><td>56</td><td>3</td></tr><tr><td>Bikes</td><td>Road-650 Black, 48</td><td>644</td><td>56</td><td>3</td></tr><tr><td>Bikes</td><td>Mountain-100 Silver, 38</td><td>642</td><td>58</td><td>3</td></tr><tr><td>Bikes</td><td>Road-250 Red, 52</td><td>639</td><td>59</td><td>3</td></tr><tr><td>Bikes</td><td>Mountain-100 Black, 42</td><td>634</td><td>60</td><td>4</td></tr><tr><td>Bikes</td><td>Road-650 Red, 58</td><td>618</td><td>61</td><td>4</td></tr><tr><td>Bikes</td><td>Mountain-400-W Silver, 40</td><td>617</td><td>62</td><td>4</td></tr><tr><td>Bikes</td><td>Mountain-100 Black, 48</td><td>616</td><td>63</td><td>4</td></tr><tr><td>Bikes</td><td>Mountain-100 Silver, 44</td><td>601</td><td>64</td><td>4</td></tr><tr><td>Bikes</td><td>Road-150 Red, 62</td><td>600</td><td>65</td><td>4</td></tr><tr><td>Bikes</td><td>Mountain-100 Silver, 42</td><td>593</td><td>66</td><td>4</td></tr><tr><td>Bikes</td><td>Road-450 Red, 58</td><td>582</td><td>67</td><td>4</td></tr><tr><td>Bikes</td><td>Touring-2000 Blue, 46</td><td>538</td><td>68</td><td>4</td></tr><tr><td>Bikes</td><td>Road-350-W Yellow, 44</td><td>536</td><td>69</td><td>4</td></tr><tr><td>Bikes</td><td>Mountain-500 Silver, 52</td><td>515</td><td>70</td><td>4</td></tr><tr><td>Bikes</td><td>Mountain-100 Silver, 48</td><td>505</td><td>71</td><td>4</td></tr><tr><td>Bikes</td><td>Road-150 Red, 48</td><td>493</td><td>72</td><td>4</td></tr><tr><td>Bikes</td><td>Touring-3000 Blue, 58</td><td>482</td><td>73</td><td>4</td></tr><tr><td>Bikes</td><td>Road-150 Red, 52</td><td>458</td><td>74</td><td>4</td></tr><tr><td>Bikes</td><td>Mountain-500 Silver, 48</td><td>457</td><td>75</td><td>4</td></tr><tr><td>Bikes</td><td>Mountain-500 Silver, 42</td><td>455</td><td>76</td><td>4</td></tr><tr><td>Bikes</td><td>Touring-3000 Yellow, 54</td><td>453</td><td>77</td><td>4</td></tr><tr><td>Bikes</td><td>Mountain-500 Silver, 40</td><td>450</td><td>78</td><td>4</td></tr><tr><td>Bikes</td><td>Mountain-500 Black, 48</td><td>449</td><td>79</td><td>5</td></tr><tr><td>Bikes</td><td>Road-150 Red, 44</td><td>437</td><td>80</td><td>5</td></tr><tr><td>Bikes</td><td>Mountain-400-W Silver, 38</td><td>425</td><td>81</td><td>5</td></tr><tr><td>Bikes</td><td>Touring-1000 Blue, 54</td><td>413</td><td>82</td><td>5</td></tr><tr><td>Bikes</td><td>Mountain-400-W Silver, 46</td><td>401</td><td>83</td><td>5</td></tr><tr><td>Bikes</td><td>Touring-1000 Yellow, 54</td><td>397</td><td>84</td><td>5</td></tr><tr><td>Bikes</td><td>Mountain-500 Black, 42</td><td>388</td><td>85</td><td>5</td></tr><tr><td>Bikes</td><td>Mountain-400-W Silver, 42</td><td>385</td><td>86</td><td>5</td></tr><tr><td>Bikes</td><td>Mountain-500 Silver, 44</td><td>381</td><td>87</td><td>5</td></tr><tr><td>Bikes</td><td>Mountain-500 Black, 44</td><td>350</td><td>88</td><td>5</td></tr><tr><td>Bikes</td><td>Road-450 Red, 60</td><td>350</td><td>88</td><td>5</td></tr><tr><td>Bikes</td><td>Road-450 Red, 44</td><td>346</td><td>90</td><td>5</td></tr><tr><td>Bikes</td><td>Touring-2000 Blue, 50</td><td>322</td><td>91</td><td>5</td></tr><tr><td>Bikes</td><td>Touring-3000 Yellow, 58</td><td>293</td><td>92</td><td>5</td></tr><tr><td>Bikes</td><td>Touring-3000 Blue, 44</td><td>292</td><td>93</td><td>5</td></tr><tr><td>Bikes</td><td>Mountain-500 Black, 40</td><td>282</td><td>94</td><td>5</td></tr><tr><td>Bikes</td><td>Touring-3000 Blue, 62</td><td>281</td><td>95</td><td>5</td></tr><tr><td>Bikes</td><td>Mountain-500 Black, 52</td><td>272</td><td>96</td><td>5</td></tr><tr><td>Bikes</td><td>Road-450 Red, 48</td><td>156</td><td>97</td><td>5</td></tr><tr><td>Clothing</td><td>AWC Logo Cap</td><td>8311</td><td>1</td><td>1</td></tr><tr><td>Clothing</td><td>Long-Sleeve Logo Jersey, L</td><td>6592</td><td>2</td><td>1</td></tr><tr><td>Clothing</td><td>Classic Vest, S</td><td>4247</td><td>3</td><td>1</td></tr><tr><td>Clothing</td><td>Short-Sleeve Classic Jersey, XL</td><td>3864</td><td>4</td><td>1</td></tr><tr><td>Clothing</td><td>Long-Sleeve Logo Jersey, M</td><td>3636</td><td>5</td><td>1</td></tr><tr><td>Clothing</td><td>Half-Finger Gloves, M</td><td>3464</td><td>6</td><td>1</td></tr><tr><td>Clothing</td><td>Full-Finger Gloves, L</td><td>3378</td><td>7</td><td>1</td></tr><tr><td>Clothing</td><td>Women&#39;s Mountain Shorts, S</td><td>3296</td><td>8</td><td>2</td></tr><tr><td>Clothing</td><td>Women&#39;s Mountain Shorts, L</td><td>3244</td><td>9</td><td>2</td></tr><tr><td>Clothing</td><td>Long-Sleeve Logo Jersey, XL</td><td>2980</td><td>10</td><td>2</td></tr><tr><td>Clothing</td><td>Short-Sleeve Classic Jersey, L</td><td>2848</td><td>11</td><td>2</td></tr><tr><td>Clothing</td><td>Racing Socks, L</td><td>2473</td><td>12</td><td>2</td></tr><tr><td>Clothing</td><td>Classic Vest, M</td><td>2284</td><td>13</td><td>2</td></tr><tr><td>Clothing</td><td>Full-Finger Gloves, M</td><td>2206</td><td>14</td><td>2</td></tr><tr><td>Clothing</td><td>Half-Finger Gloves, S</td><td>2188</td><td>15</td><td>3</td></tr><tr><td>Clothing</td><td>Women&#39;s Tights, L</td><td>2123</td><td>16</td><td>3</td></tr><tr><td>Clothing</td><td>Women&#39;s Tights, S</td><td>2072</td><td>17</td><td>3</td></tr><tr><td>Clothing</td><td>Short-Sleeve Classic Jersey, S</td><td>1955</td><td>18</td><td>3</td></tr><tr><td>Clothing</td><td>Men&#39;s Bib-Shorts, M</td><td>1616</td><td>19</td><td>3</td></tr><tr><td>Clothing</td><td>Racing Socks, M</td><td>1547</td><td>20</td><td>3</td></tr><tr><td>Clothing</td><td>Half-Finger Gloves, L</td><td>1276</td><td>21</td><td>3</td></tr><tr><td>Clothing</td><td>Men&#39;s Sports Shorts, M</td><td>1276</td><td>21</td><td>4</td></tr><tr><td>Clothing</td><td>Women&#39;s Mountain Shorts, M</td><td>1139</td><td>23</td><td>4</td></tr><tr><td>Clothing</td><td>Mountain Bike Socks, M</td><td>1107</td><td>24</td><td>4</td></tr><tr><td>Clothing</td><td>Men&#39;s Bib-Shorts, S</td><td>876</td><td>25</td><td>4</td></tr><tr><td>Clothing</td><td>Men&#39;s Bib-Shorts, L</td><td>633</td><td>26</td><td>4</td></tr><tr><td>Clothing</td><td>Men&#39;s Sports Shorts, S</td><td>567</td><td>27</td><td>4</td></tr><tr><td>Clothing</td><td>Full-Finger Gloves, S</td><td>500</td><td>28</td><td>4</td></tr><tr><td>Clothing</td><td>Men&#39;s Sports Shorts, L</td><td>445</td><td>29</td><td>5</td></tr><tr><td>Clothing</td><td>Long-Sleeve Logo Jersey, S</td><td>429</td><td>30</td><td>5</td></tr><tr><td>Clothing</td><td>Short-Sleeve Classic Jersey, M</td><td>407</td><td>31</td><td>5</td></tr><tr><td>Clothing</td><td>Women&#39;s Tights, M</td><td>394</td><td>32</td><td>5</td></tr><tr><td>Clothing</td><td>Classic Vest, L</td><td>207</td><td>33</td><td>5</td></tr><tr><td>Clothing</td><td>Mountain Bike Socks, L</td><td>90</td><td>34</td><td>5</td></tr><tr><td>Components</td><td>LL Road Frame - Black, 52</td><td>1581</td><td>1</td><td>1</td></tr><tr><td>Components</td><td>ML Mountain Handlebars</td><td>1465</td><td>2</td><td>1</td></tr><tr><td>Components</td><td>ML Road Frame-W - Yellow, 44</td><td>1435</td><td>3</td><td>1</td></tr><tr><td>Components</td><td>HL Mountain Frame - Silver, 38</td><td>1206</td><td>4</td><td>1</td></tr><tr><td>Components</td><td>HL Mountain Frame - Black, 42</td><td>1181</td><td>5</td><td>1</td></tr><tr><td>Components</td><td>LL Road Frame - Red, 60</td><td>996</td><td>6</td><td>1</td></tr><tr><td>Components</td><td>LL Road Frame - Red, 44</td><td>991</td><td>7</td><td>1</td></tr><tr><td>Components</td><td>ML Mountain Frame - Black, 48</td><td>959</td><td>8</td><td>1</td></tr><tr><td>Components</td><td>LL Road Frame - Black, 58</td><td>940</td><td>9</td><td>1</td></tr><tr><td>Components</td><td>ML Mountain Frame-W - Silver, 40</td><td>899</td><td>10</td><td>1</td></tr><tr><td>Components</td><td>ML Road Frame-W - Yellow, 38</td><td>895</td><td>11</td><td>1</td></tr><tr><td>Components</td><td>ML Road Frame-W - Yellow, 48</td><td>889</td><td>12</td><td>1</td></tr><tr><td>Components</td><td>LL Road Pedal</td><td>868</td><td>13</td><td>1</td></tr><tr><td>Components</td><td>LL Road Rear Wheel</td><td>868</td><td>13</td><td>1</td></tr><tr><td>Components</td><td>LL Mountain Handlebars</td><td>865</td><td>15</td><td>1</td></tr><tr><td>Components</td><td>ML Mountain Rear Wheel</td><td>851</td><td>16</td><td>1</td></tr><tr><td>Components</td><td>HL Mountain Rear Wheel</td><td>850</td><td>17</td><td>1</td></tr><tr><td>Components</td><td>Front Derailleur</td><td>813</td><td>18</td><td>1</td></tr><tr><td>Components</td><td>Front Brakes</td><td>789</td><td>19</td><td>1</td></tr><tr><td>Components</td><td>HL Mountain Pedal</td><td>785</td><td>20</td><td>1</td></tr><tr><td>Components</td><td>Chain</td><td>774</td><td>21</td><td>1</td></tr><tr><td>Components</td><td>LL Road Frame - Red, 62</td><td>697</td><td>22</td><td>1</td></tr><tr><td>Components</td><td>HL Road Pedal</td><td>676</td><td>23</td><td>1</td></tr><tr><td>Components</td><td>LL Road Frame - Red, 48</td><td>671</td><td>24</td><td>2</td></tr><tr><td>Components</td><td>ML Road Pedal</td><td>661</td><td>25</td><td>2</td></tr><tr><td>Components</td><td>ML Headset</td><td>659</td><td>26</td><td>2</td></tr><tr><td>Components</td><td>HL Mountain Frame - Black, 38</td><td>659</td><td>26</td><td>2</td></tr><tr><td>Components</td><td>HL Mountain Frame - Silver, 46</td><td>649</td><td>28</td><td>2</td></tr><tr><td>Components</td><td>LL Mountain Frame - Silver, 42</td><td>638</td><td>29</td><td>2</td></tr><tr><td>Components</td><td>HL Road Handlebars</td><td>631</td><td>30</td><td>2</td></tr><tr><td>Components</td><td>ML Mountain Frame-W - Silver, 42</td><td>627</td><td>31</td><td>2</td></tr><tr><td>Components</td><td>LL Mountain Frame - Black, 44</td><td>625</td><td>32</td><td>2</td></tr><tr><td>Components</td><td>ML Mountain Frame - Black, 44</td><td>619</td><td>33</td><td>2</td></tr><tr><td>Components</td><td>LL Mountain Front Wheel</td><td>617</td><td>34</td><td>2</td></tr><tr><td>Components</td><td>HL Crankset</td><td>613</td><td>35</td><td>2</td></tr><tr><td>Components</td><td>HL Road Front Wheel</td><td>567</td><td>36</td><td>2</td></tr><tr><td>Components</td><td>HL Bottom Bracket</td><td>543</td><td>37</td><td>2</td></tr><tr><td>Components</td><td>HL Touring Frame - Blue, 54</td><td>542</td><td>38</td><td>2</td></tr><tr><td>Components</td><td>HL Touring Frame - Yellow, 54</td><td>540</td><td>39</td><td>2</td></tr><tr><td>Components</td><td>ML Mountain Seat/Saddle</td><td>534</td><td>40</td><td>2</td></tr><tr><td>Components</td><td>ML Road Front Wheel</td><td>532</td><td>41</td><td>2</td></tr><tr><td>Components</td><td>HL Mountain Seat/Saddle</td><td>519</td><td>42</td><td>2</td></tr><tr><td>Components</td><td>ML Mountain Frame - Black, 38</td><td>514</td><td>43</td><td>2</td></tr><tr><td>Components</td><td>HL Mountain Handlebars</td><td>500</td><td>44</td><td>2</td></tr><tr><td>Components</td><td>HL Road Frame - Red, 44</td><td>486</td><td>45</td><td>2</td></tr><tr><td>Components</td><td>HL Road Frame - Red, 62</td><td>485</td><td>46</td><td>3</td></tr><tr><td>Components</td><td>HL Road Frame - Black, 44</td><td>459</td><td>47</td><td>3</td></tr><tr><td>Components</td><td>LL Mountain Pedal</td><td>449</td><td>48</td><td>3</td></tr><tr><td>Components</td><td>HL Fork</td><td>444</td><td>49</td><td>3</td></tr><tr><td>Components</td><td>LL Mountain Frame - Silver, 40</td><td>442</td><td>50</td><td>3</td></tr><tr><td>Components</td><td>LL Crankset</td><td>426</td><td>51</td><td>3</td></tr><tr><td>Components</td><td>HL Touring Seat/Saddle</td><td>426</td><td>51</td><td>3</td></tr><tr><td>Components</td><td>LL Mountain Frame - Silver, 52</td><td>425</td><td>53</td><td>3</td></tr><tr><td>Components</td><td>LL Mountain Frame - Black, 42</td><td>423</td><td>54</td><td>3</td></tr><tr><td>Components</td><td>HL Touring Frame - Yellow, 60</td><td>387</td><td>55</td><td>3</td></tr><tr><td>Components</td><td>LL Mountain Frame - Black, 48</td><td>386</td><td>56</td><td>3</td></tr><tr><td>Components</td><td>LL Bottom Bracket</td><td>378</td><td>57</td><td>3</td></tr><tr><td>Components</td><td>LL Mountain Frame - Silver, 44</td><td>371</td><td>58</td><td>3</td></tr><tr><td>Components</td><td>HL Touring Frame - Blue, 60</td><td>371</td><td>58</td><td>3</td></tr><tr><td>Components</td><td>Rear Derailleur</td><td>353</td><td>60</td><td>3</td></tr><tr><td>Components</td><td>LL Touring Frame - Yellow, 62</td><td>348</td><td>61</td><td>3</td></tr><tr><td>Components</td><td>LL Mountain Seat/Saddle</td><td>347</td><td>62</td><td>3</td></tr><tr><td>Components</td><td>HL Mountain Frame - Silver, 42</td><td>347</td><td>62</td><td>3</td></tr><tr><td>Components</td><td>ML Mountain Pedal</td><td>345</td><td>64</td><td>3</td></tr><tr><td>Components</td><td>LL Mountain Rear Wheel</td><td>342</td><td>65</td><td>3</td></tr><tr><td>Components</td><td>LL Touring Frame - Blue, 50</td><td>316</td><td>66</td><td>3</td></tr><tr><td>Components</td><td>LL Touring Frame - Yellow, 44</td><td>294</td><td>67</td><td>3</td></tr><tr><td>Components</td><td>ML Mountain Front Wheel</td><td>266</td><td>68</td><td>4</td></tr><tr><td>Components</td><td>HL Headset</td><td>255</td><td>69</td><td>4</td></tr><tr><td>Components</td><td>ML Road Frame - Red, 48</td><td>250</td><td>70</td><td>4</td></tr><tr><td>Components</td><td>Rear Brakes</td><td>246</td><td>71</td><td>4</td></tr><tr><td>Components</td><td>LL Road Frame - Black, 44</td><td>238</td><td>72</td><td>4</td></tr><tr><td>Components</td><td>LL Touring Frame - Yellow, 50</td><td>228</td><td>73</td><td>4</td></tr><tr><td>Components</td><td>HL Mountain Front Wheel</td><td>222</td><td>74</td><td>4</td></tr><tr><td>Components</td><td>HL Touring Handlebars</td><td>220</td><td>75</td><td>4</td></tr><tr><td>Components</td><td>LL Road Handlebars</td><td>213</td><td>76</td><td>4</td></tr><tr><td>Components</td><td>LL Touring Frame - Blue, 54</td><td>211</td><td>77</td><td>4</td></tr><tr><td>Components</td><td>ML Road Frame-W - Yellow, 40</td><td>203</td><td>78</td><td>4</td></tr><tr><td>Components</td><td>LL Fork</td><td>190</td><td>79</td><td>4</td></tr><tr><td>Components</td><td>ML Mountain Frame-W - Silver, 46</td><td>188</td><td>80</td><td>4</td></tr><tr><td>Components</td><td>HL Mountain Frame - Silver, 48</td><td>173</td><td>81</td><td>4</td></tr><tr><td>Components</td><td>Touring Pedal</td><td>147</td><td>82</td><td>4</td></tr><tr><td>Components</td><td>HL Road Seat/Saddle</td><td>134</td><td>83</td><td>4</td></tr><tr><td>Components</td><td>HL Mountain Frame - Black, 48</td><td>131</td><td>84</td><td>4</td></tr><tr><td>Components</td><td>LL Road Frame - Black, 60</td><td>129</td><td>85</td><td>4</td></tr><tr><td>Components</td><td>HL Touring Frame - Blue, 50</td><td>124</td><td>86</td><td>4</td></tr><tr><td>Components</td><td>HL Touring Frame - Blue, 46</td><td>114</td><td>87</td><td>4</td></tr><tr><td>Components</td><td>HL Road Frame - Red, 48</td><td>109</td><td>88</td><td>4</td></tr><tr><td>Components</td><td>HL Road Frame - Black, 48</td><td>109</td><td>88</td><td>4</td></tr><tr><td>Components</td><td>LL Road Frame - Red, 52</td><td>100</td><td>90</td><td>5</td></tr><tr><td>Components</td><td>LL Headset</td><td>95</td><td>91</td><td>5</td></tr><tr><td>Components</td><td>HL Road Rear Wheel</td><td>94</td><td>92</td><td>5</td></tr><tr><td>Components</td><td>LL Touring Seat/Saddle</td><td>91</td><td>93</td><td>5</td></tr><tr><td>Components</td><td>ML Road Frame - Red, 52</td><td>90</td><td>94</td><td>5</td></tr><tr><td>Components</td><td>HL Touring Frame - Yellow, 46</td><td>87</td><td>95</td><td>5</td></tr><tr><td>Components</td><td>ML Touring Seat/Saddle</td><td>84</td><td>96</td><td>5</td></tr><tr><td>Components</td><td>HL Touring Frame - Yellow, 50</td><td>83</td><td>97</td><td>5</td></tr><tr><td>Components</td><td>ML Crankset</td><td>68</td><td>98</td><td>5</td></tr><tr><td>Components</td><td>ML Mountain Frame - Black, 40</td><td>68</td><td>98</td><td>5</td></tr><tr><td>Components</td><td>ML Road Rear Wheel</td><td>64</td><td>100</td><td>5</td></tr><tr><td>Components</td><td>LL Touring Handlebars</td><td>56</td><td>101</td><td>5</td></tr><tr><td>Components</td><td>LL Mountain Frame - Silver, 48</td><td>44</td><td>102</td><td>5</td></tr><tr><td>Components</td><td>LL Touring Frame - Yellow, 58</td><td>36</td><td>103</td><td>5</td></tr><tr><td>Components</td><td>LL Touring Frame - Blue, 44</td><td>25</td><td>104</td><td>5</td></tr><tr><td>Components</td><td>HL Mountain Frame - Black, 44</td><td>17</td><td>105</td><td>5</td></tr><tr><td>Components</td><td>LL Touring Frame - Blue, 62</td><td>15</td><td>106</td><td>5</td></tr><tr><td>Components</td><td>LL Mountain Frame - Black, 52</td><td>15</td><td>106</td><td>5</td></tr><tr><td>Components</td><td>LL Road Seat/Saddle</td><td>10</td><td>108</td><td>5</td></tr><tr><td>Components</td><td>LL Mountain Frame - Black, 40</td><td>8</td><td>109</td><td>5</td></tr><tr><td>Components</td><td>ML Mountain Frame-W - Silver, 38</td><td>7</td><td>110</td><td>5</td></tr><tr><td>Components</td><td>LL Touring Frame - Blue, 58</td><td>4</td><td>111</td><td>5</td></tr></table>"
                    },
                    "metadata": {}
                }
            ],
            "execution_count": 77
        }
    ]
}