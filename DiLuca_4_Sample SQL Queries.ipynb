{
    "metadata": {
        "kernelspec": {
            "name": "SQL",
            "display_name": "SQL",
            "language": "sql"
        },
        "language_info": {
            "name": "sql",
            "version": ""
        }
    },
    "nbformat_minor": 2,
    "nbformat": 4,
    "cells": [
        {
            "cell_type": "markdown",
            "source": [
                "Problem 1:"
            ],
            "metadata": {
                "azdata_cell_guid": "7b7a5d5f-9f8d-4c12-ad3a-f183f1e3ebd5"
            },
            "attachments": {}
        },
        {
            "cell_type": "code",
            "source": [
                "USE ADW\r\n",
                "\r\n",
                "SELECT dr.ResellerName AS Reseller\r\n",
                "      ,dg.CountryRegionCode AS Country\r\n",
                "      ,dpc.EnglishProductCategoryName AS ProductCategory\r\n",
                "      ,SUM(frs.SalesAmount) AS TotalSalesAmount\r\n",
                "      ,dc.CurrencyAlternateKey AS Currency\r\n",
                "FROM  FactResellerSales frs\r\n",
                "JOIN DimProduct dp\r\n",
                "ON frs.ProductKey = dp.ProductKey\r\n",
                "JOIN DimProductSubcategory ps\r\n",
                "ON dp.ProductSubcategoryKey = ps.ProductSubcategoryKey\r\n",
                "JOIN DimProductCategory dpc\r\n",
                "ON ps.ProductCategoryKey = dpc.ProductCategoryKey\r\n",
                "JOIN DimReseller dr\r\n",
                "ON frs.ResellerKey = dr.ResellerKey\r\n",
                "JOIN DimGeography dg\r\n",
                "ON dr.GeographyKey = dg.GeographyKey\r\n",
                "JOIN DimCurrency dc\r\n",
                "ON frs.CurrencyKey = dc.CurrencyKey\r\n",
                "JOIN DimPromotion dpr\r\n",
                "ON frs.PromotionKey = dpr.PromotionKey\r\n",
                "WHERE dpr.EnglishPromotionName = 'Touring-3000 Promotion'\r\n",
                "GROUP BY dr.ResellerName\r\n",
                "         ,dg.CountryRegionCode\r\n",
                "         ,dpc.EnglishProductCategoryName\r\n",
                "         ,dc.CurrencyAlternateKey\r\n",
                "ORDER BY TotalSalesAmount DESC;"
            ],
            "metadata": {
                "azdata_cell_guid": "aa71c7a3-1503-42d4-b095-37fed39e7c92",
                "language": "sql"
            },
            "outputs": [
                {
                    "output_type": "display_data",
                    "data": {
                        "text/html": "(101 rows affected)"
                    },
                    "metadata": {}
                },
                {
                    "output_type": "display_data",
                    "data": {
                        "text/html": "Total execution time: 00:00:00.625"
                    },
                    "metadata": {}
                },
                {
                    "output_type": "execute_result",
                    "execution_count": 11,
                    "data": {
                        "application/vnd.dataresource+json": {
                            "schema": {
                                "fields": [
                                    {
                                        "name": "Reseller"
                                    },
                                    {
                                        "name": "Country"
                                    },
                                    {
                                        "name": "ProductCategory"
                                    },
                                    {
                                        "name": "TotalSalesAmount"
                                    },
                                    {
                                        "name": "Currency"
                                    }
                                ]
                            },
                            "data": [
                                {
                                    "Reseller": "Action Bicycle Specialists",
                                    "Country": "GB",
                                    "ProductCategory": "Bikes",
                                    "TotalSalesAmount": "19024.5748",
                                    "Currency": "GBP"
                                },
                                {
                                    "Reseller": "Westside Plaza",
                                    "Country": "US",
                                    "ProductCategory": "Bikes",
                                    "TotalSalesAmount": "19024.5746",
                                    "Currency": "USD"
                                },
                                {
                                    "Reseller": "Camping and Sports Store",
                                    "Country": "CA",
                                    "ProductCategory": "Bikes",
                                    "TotalSalesAmount": "17320.8815",
                                    "Currency": "CAD"
                                },
                                {
                                    "Reseller": "Global Bike Retailers",
                                    "Country": "DE",
                                    "ProductCategory": "Bikes",
                                    "TotalSalesAmount": "16752.9838",
                                    "Currency": "EUR"
                                },
                                {
                                    "Reseller": "Perfect Toys",
                                    "Country": "FR",
                                    "ProductCategory": "Bikes",
                                    "TotalSalesAmount": "15333.2394",
                                    "Currency": "USD"
                                },
                                {
                                    "Reseller": "Roadway Bicycle Supply",
                                    "Country": "FR",
                                    "ProductCategory": "Bikes",
                                    "TotalSalesAmount": "14481.3929",
                                    "Currency": "USD"
                                },
                                {
                                    "Reseller": "Rally Master Company Inc",
                                    "Country": "US",
                                    "ProductCategory": "Bikes",
                                    "TotalSalesAmount": "13913.495",
                                    "Currency": "USD"
                                },
                                {
                                    "Reseller": "Best Cycle Store",
                                    "Country": "DE",
                                    "ProductCategory": "Bikes",
                                    "TotalSalesAmount": "12493.7506",
                                    "Currency": "EUR"
                                },
                                {
                                    "Reseller": "Front Runner Bikes",
                                    "Country": "US",
                                    "ProductCategory": "Bikes",
                                    "TotalSalesAmount": "11641.9039",
                                    "Currency": "USD"
                                },
                                {
                                    "Reseller": "Favorite Toy Distributor",
                                    "Country": "FR",
                                    "ProductCategory": "Bikes",
                                    "TotalSalesAmount": "10506.1085",
                                    "Currency": "EUR"
                                },
                                {
                                    "Reseller": "Glossy Bikes",
                                    "Country": "US",
                                    "ProductCategory": "Bikes",
                                    "TotalSalesAmount": "9086.3642",
                                    "Currency": "USD"
                                },
                                {
                                    "Reseller": "Outstanding Cycles",
                                    "Country": "US",
                                    "ProductCategory": "Bikes",
                                    "TotalSalesAmount": "9086.3641",
                                    "Currency": "USD"
                                },
                                {
                                    "Reseller": "Another Bicycle Company",
                                    "Country": "US",
                                    "ProductCategory": "Bikes",
                                    "TotalSalesAmount": "8518.4665",
                                    "Currency": "USD"
                                },
                                {
                                    "Reseller": "Vintage Sport Boutique",
                                    "Country": "US",
                                    "ProductCategory": "Bikes",
                                    "TotalSalesAmount": "8518.4665",
                                    "Currency": "USD"
                                },
                                {
                                    "Reseller": "Technical Parts Manufacturing",
                                    "Country": "US",
                                    "ProductCategory": "Bikes",
                                    "TotalSalesAmount": "8518.4665",
                                    "Currency": "USD"
                                },
                                {
                                    "Reseller": "Instruments and Parts Company",
                                    "Country": "GB",
                                    "ProductCategory": "Bikes",
                                    "TotalSalesAmount": "7950.5687",
                                    "Currency": "GBP"
                                },
                                {
                                    "Reseller": "Metro Metals Co.",
                                    "Country": "GB",
                                    "ProductCategory": "Bikes",
                                    "TotalSalesAmount": "7666.6198",
                                    "Currency": "GBP"
                                },
                                {
                                    "Reseller": "Extreme Riding Supplies",
                                    "Country": "US",
                                    "ProductCategory": "Bikes",
                                    "TotalSalesAmount": "7666.6196",
                                    "Currency": "USD"
                                },
                                {
                                    "Reseller": "Next Door Cycles",
                                    "Country": "DE",
                                    "ProductCategory": "Bikes",
                                    "TotalSalesAmount": "7382.671",
                                    "Currency": "EUR"
                                },
                                {
                                    "Reseller": "Nationwide Supply",
                                    "Country": "AU",
                                    "ProductCategory": "Bikes",
                                    "TotalSalesAmount": "7382.6709",
                                    "Currency": "AUD"
                                },
                                {
                                    "Reseller": "Petroleum Products Distributors",
                                    "Country": "CA",
                                    "ProductCategory": "Bikes",
                                    "TotalSalesAmount": "7098.722",
                                    "Currency": "CAD"
                                },
                                {
                                    "Reseller": "Roadway Bike Emporium",
                                    "Country": "US",
                                    "ProductCategory": "Bikes",
                                    "TotalSalesAmount": "7098.7219",
                                    "Currency": "USD"
                                },
                                {
                                    "Reseller": "Utilitarian Sporting Goods",
                                    "Country": "US",
                                    "ProductCategory": "Bikes",
                                    "TotalSalesAmount": "6814.7731",
                                    "Currency": "USD"
                                },
                                {
                                    "Reseller": "Grand Industries",
                                    "Country": "CA",
                                    "ProductCategory": "Bikes",
                                    "TotalSalesAmount": "6530.8242",
                                    "Currency": "CAD"
                                },
                                {
                                    "Reseller": "Farthest Bike Store",
                                    "Country": "CA",
                                    "ProductCategory": "Bikes",
                                    "TotalSalesAmount": "6246.8753",
                                    "Currency": "CAD"
                                },
                                {
                                    "Reseller": "Excellent Bikes",
                                    "Country": "DE",
                                    "ProductCategory": "Bikes",
                                    "TotalSalesAmount": "6246.8753",
                                    "Currency": "EUR"
                                },
                                {
                                    "Reseller": "Running and Cycling Gear",
                                    "Country": "US",
                                    "ProductCategory": "Bikes",
                                    "TotalSalesAmount": "5678.9778",
                                    "Currency": "USD"
                                },
                                {
                                    "Reseller": "Amalgamated Parts Shop",
                                    "Country": "DE",
                                    "ProductCategory": "Bikes",
                                    "TotalSalesAmount": "5395.0287",
                                    "Currency": "EUR"
                                },
                                {
                                    "Reseller": "Gears and Parts Company",
                                    "Country": "AU",
                                    "ProductCategory": "Bikes",
                                    "TotalSalesAmount": "5111.0799",
                                    "Currency": "AUD"
                                },
                                {
                                    "Reseller": "Rugged Bikes",
                                    "Country": "US",
                                    "ProductCategory": "Bikes",
                                    "TotalSalesAmount": "5111.0798",
                                    "Currency": "USD"
                                },
                                {
                                    "Reseller": "Eighth Bike Store",
                                    "Country": "US",
                                    "ProductCategory": "Bikes",
                                    "TotalSalesAmount": "4827.1311",
                                    "Currency": "USD"
                                },
                                {
                                    "Reseller": "Helmets and Cycles",
                                    "Country": "AU",
                                    "ProductCategory": "Bikes",
                                    "TotalSalesAmount": "4827.131",
                                    "Currency": "AUD"
                                },
                                {
                                    "Reseller": "Odometers and Accessories Company",
                                    "Country": "CA",
                                    "ProductCategory": "Bikes",
                                    "TotalSalesAmount": "4827.131",
                                    "Currency": "CAD"
                                },
                                {
                                    "Reseller": "Educational Services",
                                    "Country": "DE",
                                    "ProductCategory": "Bikes",
                                    "TotalSalesAmount": "4543.1822",
                                    "Currency": "EUR"
                                },
                                {
                                    "Reseller": "Sleek Bikes",
                                    "Country": "US",
                                    "ProductCategory": "Bikes",
                                    "TotalSalesAmount": "4543.1821",
                                    "Currency": "USD"
                                },
                                {
                                    "Reseller": "Immense Manufacturing Company",
                                    "Country": "US",
                                    "ProductCategory": "Bikes",
                                    "TotalSalesAmount": "4543.182",
                                    "Currency": "USD"
                                },
                                {
                                    "Reseller": "Kickstands and Accessories Company",
                                    "Country": "US",
                                    "ProductCategory": "Bikes",
                                    "TotalSalesAmount": "4259.2333",
                                    "Currency": "USD"
                                },
                                {
                                    "Reseller": "Fourth Bike Store",
                                    "Country": "US",
                                    "ProductCategory": "Bikes",
                                    "TotalSalesAmount": "4259.2333",
                                    "Currency": "USD"
                                },
                                {
                                    "Reseller": "Mountain Bike Store",
                                    "Country": "US",
                                    "ProductCategory": "Bikes",
                                    "TotalSalesAmount": "4259.2333",
                                    "Currency": "USD"
                                },
                                {
                                    "Reseller": "Cycle Parts and Accessories",
                                    "Country": "AU",
                                    "ProductCategory": "Bikes",
                                    "TotalSalesAmount": "3975.2845",
                                    "Currency": "AUD"
                                },
                                {
                                    "Reseller": "Blue-Ribbon Bike Company",
                                    "Country": "US",
                                    "ProductCategory": "Bikes",
                                    "TotalSalesAmount": "3975.2844",
                                    "Currency": "USD"
                                },
                                {
                                    "Reseller": "Quick Parts and Service",
                                    "Country": "CA",
                                    "ProductCategory": "Bikes",
                                    "TotalSalesAmount": "3975.2844",
                                    "Currency": "CAD"
                                },
                                {
                                    "Reseller": "The Bike Outlet",
                                    "Country": "FR",
                                    "ProductCategory": "Bikes",
                                    "TotalSalesAmount": "3975.2844",
                                    "Currency": "USD"
                                },
                                {
                                    "Reseller": "Industrial Supplies",
                                    "Country": "US",
                                    "ProductCategory": "Bikes",
                                    "TotalSalesAmount": "3975.2843",
                                    "Currency": "USD"
                                },
                                {
                                    "Reseller": "Authorized Bike Sales and Rental",
                                    "Country": "US",
                                    "ProductCategory": "Bikes",
                                    "TotalSalesAmount": "3975.2842",
                                    "Currency": "USD"
                                },
                                {
                                    "Reseller": "Bike Part Wholesalers",
                                    "Country": "AU",
                                    "ProductCategory": "Bikes",
                                    "TotalSalesAmount": "3691.3355",
                                    "Currency": "AUD"
                                },
                                {
                                    "Reseller": "Fitness Supplies",
                                    "Country": "US",
                                    "ProductCategory": "Bikes",
                                    "TotalSalesAmount": "3691.3355",
                                    "Currency": "USD"
                                },
                                {
                                    "Reseller": "Exchange Parts Inc.",
                                    "Country": "US",
                                    "ProductCategory": "Bikes",
                                    "TotalSalesAmount": "3691.3355",
                                    "Currency": "USD"
                                },
                                {
                                    "Reseller": "Popular Bike Lines",
                                    "Country": "AU",
                                    "ProductCategory": "Bikes",
                                    "TotalSalesAmount": "3691.3355",
                                    "Currency": "AUD"
                                },
                                {
                                    "Reseller": "Helpful Sales and Repair Service",
                                    "Country": "AU",
                                    "ProductCategory": "Bikes",
                                    "TotalSalesAmount": "3691.3355",
                                    "Currency": "AUD"
                                },
                                {
                                    "Reseller": "Stock Parts and Supplies",
                                    "Country": "US",
                                    "ProductCategory": "Bikes",
                                    "TotalSalesAmount": "3407.3866",
                                    "Currency": "USD"
                                },
                                {
                                    "Reseller": "Variety Cycling",
                                    "Country": "GB",
                                    "ProductCategory": "Bikes",
                                    "TotalSalesAmount": "3123.4377",
                                    "Currency": "GBP"
                                },
                                {
                                    "Reseller": "Cycles Wholesaler & Mfg.",
                                    "Country": "GB",
                                    "ProductCategory": "Bikes",
                                    "TotalSalesAmount": "3123.4377",
                                    "Currency": "GBP"
                                },
                                {
                                    "Reseller": "Fast Bike Works",
                                    "Country": "AU",
                                    "ProductCategory": "Bikes",
                                    "TotalSalesAmount": "3123.4376",
                                    "Currency": "AUD"
                                },
                                {
                                    "Reseller": "Fasteners & Bolts Outlet",
                                    "Country": "CA",
                                    "ProductCategory": "Bikes",
                                    "TotalSalesAmount": "2839.4889",
                                    "Currency": "CAD"
                                },
                                {
                                    "Reseller": "Locks Company",
                                    "Country": "US",
                                    "ProductCategory": "Bikes",
                                    "TotalSalesAmount": "2839.4889",
                                    "Currency": "USD"
                                },
                                {
                                    "Reseller": "Metal Clearing House",
                                    "Country": "CA",
                                    "ProductCategory": "Bikes",
                                    "TotalSalesAmount": "2839.4889",
                                    "Currency": "CAD"
                                },
                                {
                                    "Reseller": "Pedaling Components",
                                    "Country": "DE",
                                    "ProductCategory": "Bikes",
                                    "TotalSalesAmount": "2555.5399",
                                    "Currency": "EUR"
                                },
                                {
                                    "Reseller": "Professional Sales and Service",
                                    "Country": "US",
                                    "ProductCategory": "Bikes",
                                    "TotalSalesAmount": "2271.5912",
                                    "Currency": "USD"
                                },
                                {
                                    "Reseller": "Fun Toys and Bikes",
                                    "Country": "US",
                                    "ProductCategory": "Bikes",
                                    "TotalSalesAmount": "2271.5912",
                                    "Currency": "USD"
                                },
                                {
                                    "Reseller": "Rich Department Store",
                                    "Country": "AU",
                                    "ProductCategory": "Bikes",
                                    "TotalSalesAmount": "2271.591",
                                    "Currency": "AUD"
                                },
                                {
                                    "Reseller": "Small Bike Accessories Shop",
                                    "Country": "US",
                                    "ProductCategory": "Bikes",
                                    "TotalSalesAmount": "1987.6423",
                                    "Currency": "USD"
                                },
                                {
                                    "Reseller": "Sports Merchandise",
                                    "Country": "US",
                                    "ProductCategory": "Bikes",
                                    "TotalSalesAmount": "1987.6422",
                                    "Currency": "USD"
                                },
                                {
                                    "Reseller": "Honest Repair Service",
                                    "Country": "US",
                                    "ProductCategory": "Bikes",
                                    "TotalSalesAmount": "1987.6422",
                                    "Currency": "USD"
                                },
                                {
                                    "Reseller": "Liquidation Sales",
                                    "Country": "AU",
                                    "ProductCategory": "Bikes",
                                    "TotalSalesAmount": "1703.6934",
                                    "Currency": "AUD"
                                },
                                {
                                    "Reseller": "Racing Supply Distributors",
                                    "Country": "FR",
                                    "ProductCategory": "Bikes",
                                    "TotalSalesAmount": "1703.6934",
                                    "Currency": "USD"
                                },
                                {
                                    "Reseller": "South Bike Company",
                                    "Country": "CA",
                                    "ProductCategory": "Bikes",
                                    "TotalSalesAmount": "1703.6933",
                                    "Currency": "CAD"
                                },
                                {
                                    "Reseller": "Quitting Business Distributors",
                                    "Country": "US",
                                    "ProductCategory": "Bikes",
                                    "TotalSalesAmount": "1419.7445",
                                    "Currency": "USD"
                                },
                                {
                                    "Reseller": "Thrilling Bike Tours",
                                    "Country": "US",
                                    "ProductCategory": "Bikes",
                                    "TotalSalesAmount": "1419.7445",
                                    "Currency": "USD"
                                },
                                {
                                    "Reseller": "Machines & Cycles Store",
                                    "Country": "CA",
                                    "ProductCategory": "Bikes",
                                    "TotalSalesAmount": "1419.7445",
                                    "Currency": "CAD"
                                },
                                {
                                    "Reseller": "Finer Sporting Goods",
                                    "Country": "FR",
                                    "ProductCategory": "Bikes",
                                    "TotalSalesAmount": "1419.7445",
                                    "Currency": "USD"
                                },
                                {
                                    "Reseller": "First Supplies",
                                    "Country": "AU",
                                    "ProductCategory": "Bikes",
                                    "TotalSalesAmount": "1419.7445",
                                    "Currency": "AUD"
                                },
                                {
                                    "Reseller": "Engineered Bike Systems",
                                    "Country": "US",
                                    "ProductCategory": "Bikes",
                                    "TotalSalesAmount": "1135.7956",
                                    "Currency": "USD"
                                },
                                {
                                    "Reseller": "Cycles Sales and Repair",
                                    "Country": "FR",
                                    "ProductCategory": "Bikes",
                                    "TotalSalesAmount": "1135.7956",
                                    "Currency": "USD"
                                },
                                {
                                    "Reseller": "Bicycle Exporters",
                                    "Country": "DE",
                                    "ProductCategory": "Bikes",
                                    "TotalSalesAmount": "1135.7956",
                                    "Currency": "EUR"
                                },
                                {
                                    "Reseller": "Novelty Bikes",
                                    "Country": "US",
                                    "ProductCategory": "Bikes",
                                    "TotalSalesAmount": "1135.7956",
                                    "Currency": "USD"
                                },
                                {
                                    "Reseller": "Systematic Sales",
                                    "Country": "US",
                                    "ProductCategory": "Bikes",
                                    "TotalSalesAmount": "1135.7956",
                                    "Currency": "USD"
                                },
                                {
                                    "Reseller": "Plastic Products Manufacturers",
                                    "Country": "AU",
                                    "ProductCategory": "Bikes",
                                    "TotalSalesAmount": "1135.7956",
                                    "Currency": "AUD"
                                },
                                {
                                    "Reseller": "Finer Mart",
                                    "Country": "US",
                                    "ProductCategory": "Bikes",
                                    "TotalSalesAmount": "1135.7955",
                                    "Currency": "USD"
                                },
                                {
                                    "Reseller": "Exemplary Cycles",
                                    "Country": "US",
                                    "ProductCategory": "Bikes",
                                    "TotalSalesAmount": "851.8467",
                                    "Currency": "USD"
                                },
                                {
                                    "Reseller": "Paints and Solvents Company",
                                    "Country": "US",
                                    "ProductCategory": "Bikes",
                                    "TotalSalesAmount": "851.8467",
                                    "Currency": "USD"
                                },
                                {
                                    "Reseller": "West Wind Distributors",
                                    "Country": "DE",
                                    "ProductCategory": "Bikes",
                                    "TotalSalesAmount": "851.8467",
                                    "Currency": "EUR"
                                },
                                {
                                    "Reseller": "Efficient Cycling",
                                    "Country": "CA",
                                    "ProductCategory": "Bikes",
                                    "TotalSalesAmount": "851.8466",
                                    "Currency": "CAD"
                                },
                                {
                                    "Reseller": "Purchase Mart",
                                    "Country": "US",
                                    "ProductCategory": "Bikes",
                                    "TotalSalesAmount": "567.8978",
                                    "Currency": "USD"
                                },
                                {
                                    "Reseller": "Quality Bike Sales",
                                    "Country": "AU",
                                    "ProductCategory": "Bikes",
                                    "TotalSalesAmount": "567.8978",
                                    "Currency": "AUD"
                                },
                                {
                                    "Reseller": "List Price Catalog Company",
                                    "Country": "AU",
                                    "ProductCategory": "Bikes",
                                    "TotalSalesAmount": "567.8978",
                                    "Currency": "AUD"
                                },
                                {
                                    "Reseller": "Rural Department Store",
                                    "Country": "US",
                                    "ProductCategory": "Bikes",
                                    "TotalSalesAmount": "567.8978",
                                    "Currency": "USD"
                                },
                                {
                                    "Reseller": "Rustic Bike Store",
                                    "Country": "DE",
                                    "ProductCategory": "Bikes",
                                    "TotalSalesAmount": "283.9489",
                                    "Currency": "EUR"
                                },
                                {
                                    "Reseller": "Sensible Sports",
                                    "Country": "AU",
                                    "ProductCategory": "Bikes",
                                    "TotalSalesAmount": "283.9489",
                                    "Currency": "AUD"
                                },
                                {
                                    "Reseller": "Rampart Amusement Company",
                                    "Country": "GB",
                                    "ProductCategory": "Bikes",
                                    "TotalSalesAmount": "283.9489",
                                    "Currency": "GBP"
                                },
                                {
                                    "Reseller": "Vale Riding Supplies",
                                    "Country": "US",
                                    "ProductCategory": "Bikes",
                                    "TotalSalesAmount": "283.9489",
                                    "Currency": "USD"
                                },
                                {
                                    "Reseller": "Transport Bikes",
                                    "Country": "US",
                                    "ProductCategory": "Bikes",
                                    "TotalSalesAmount": "283.9489",
                                    "Currency": "USD"
                                },
                                {
                                    "Reseller": "Incomparable Bicycle Store",
                                    "Country": "US",
                                    "ProductCategory": "Bikes",
                                    "TotalSalesAmount": "283.9489",
                                    "Currency": "USD"
                                },
                                {
                                    "Reseller": "Off-Price Bike Center",
                                    "Country": "DE",
                                    "ProductCategory": "Bikes",
                                    "TotalSalesAmount": "283.9489",
                                    "Currency": "EUR"
                                },
                                {
                                    "Reseller": "Eastside Cycle Shop",
                                    "Country": "AU",
                                    "ProductCategory": "Bikes",
                                    "TotalSalesAmount": "283.9489",
                                    "Currency": "AUD"
                                },
                                {
                                    "Reseller": "Eastward Bike Accessories",
                                    "Country": "AU",
                                    "ProductCategory": "Bikes",
                                    "TotalSalesAmount": "283.9489",
                                    "Currency": "AUD"
                                },
                                {
                                    "Reseller": "Cycle Clearance",
                                    "Country": "US",
                                    "ProductCategory": "Bikes",
                                    "TotalSalesAmount": "283.9489",
                                    "Currency": "USD"
                                },
                                {
                                    "Reseller": "Accessories Network",
                                    "Country": "FR",
                                    "ProductCategory": "Bikes",
                                    "TotalSalesAmount": "283.9489",
                                    "Currency": "USD"
                                },
                                {
                                    "Reseller": "Family Entertainment Center",
                                    "Country": "US",
                                    "ProductCategory": "Bikes",
                                    "TotalSalesAmount": "283.9489",
                                    "Currency": "USD"
                                },
                                {
                                    "Reseller": "Fitness Bike Accessories",
                                    "Country": "AU",
                                    "ProductCategory": "Bikes",
                                    "TotalSalesAmount": "283.9489",
                                    "Currency": "AUD"
                                },
                                {
                                    "Reseller": "Fitness Discount Store",
                                    "Country": "AU",
                                    "ProductCategory": "Bikes",
                                    "TotalSalesAmount": "283.9489",
                                    "Currency": "AUD"
                                }
                            ]
                        },
                        "text/html": "<table><tr><th>Reseller</th><th>Country</th><th>ProductCategory</th><th>TotalSalesAmount</th><th>Currency</th></tr><tr><td>Action Bicycle Specialists</td><td>GB</td><td>Bikes</td><td>19024.5748</td><td>GBP</td></tr><tr><td>Westside Plaza</td><td>US</td><td>Bikes</td><td>19024.5746</td><td>USD</td></tr><tr><td>Camping and Sports Store</td><td>CA</td><td>Bikes</td><td>17320.8815</td><td>CAD</td></tr><tr><td>Global Bike Retailers</td><td>DE</td><td>Bikes</td><td>16752.9838</td><td>EUR</td></tr><tr><td>Perfect Toys</td><td>FR</td><td>Bikes</td><td>15333.2394</td><td>USD</td></tr><tr><td>Roadway Bicycle Supply</td><td>FR</td><td>Bikes</td><td>14481.3929</td><td>USD</td></tr><tr><td>Rally Master Company Inc</td><td>US</td><td>Bikes</td><td>13913.495</td><td>USD</td></tr><tr><td>Best Cycle Store</td><td>DE</td><td>Bikes</td><td>12493.7506</td><td>EUR</td></tr><tr><td>Front Runner Bikes</td><td>US</td><td>Bikes</td><td>11641.9039</td><td>USD</td></tr><tr><td>Favorite Toy Distributor</td><td>FR</td><td>Bikes</td><td>10506.1085</td><td>EUR</td></tr><tr><td>Glossy Bikes</td><td>US</td><td>Bikes</td><td>9086.3642</td><td>USD</td></tr><tr><td>Outstanding Cycles</td><td>US</td><td>Bikes</td><td>9086.3641</td><td>USD</td></tr><tr><td>Another Bicycle Company</td><td>US</td><td>Bikes</td><td>8518.4665</td><td>USD</td></tr><tr><td>Vintage Sport Boutique</td><td>US</td><td>Bikes</td><td>8518.4665</td><td>USD</td></tr><tr><td>Technical Parts Manufacturing</td><td>US</td><td>Bikes</td><td>8518.4665</td><td>USD</td></tr><tr><td>Instruments and Parts Company</td><td>GB</td><td>Bikes</td><td>7950.5687</td><td>GBP</td></tr><tr><td>Metro Metals Co.</td><td>GB</td><td>Bikes</td><td>7666.6198</td><td>GBP</td></tr><tr><td>Extreme Riding Supplies</td><td>US</td><td>Bikes</td><td>7666.6196</td><td>USD</td></tr><tr><td>Next Door Cycles</td><td>DE</td><td>Bikes</td><td>7382.671</td><td>EUR</td></tr><tr><td>Nationwide Supply</td><td>AU</td><td>Bikes</td><td>7382.6709</td><td>AUD</td></tr><tr><td>Petroleum Products Distributors</td><td>CA</td><td>Bikes</td><td>7098.722</td><td>CAD</td></tr><tr><td>Roadway Bike Emporium</td><td>US</td><td>Bikes</td><td>7098.7219</td><td>USD</td></tr><tr><td>Utilitarian Sporting Goods</td><td>US</td><td>Bikes</td><td>6814.7731</td><td>USD</td></tr><tr><td>Grand Industries</td><td>CA</td><td>Bikes</td><td>6530.8242</td><td>CAD</td></tr><tr><td>Farthest Bike Store</td><td>CA</td><td>Bikes</td><td>6246.8753</td><td>CAD</td></tr><tr><td>Excellent Bikes</td><td>DE</td><td>Bikes</td><td>6246.8753</td><td>EUR</td></tr><tr><td>Running and Cycling Gear</td><td>US</td><td>Bikes</td><td>5678.9778</td><td>USD</td></tr><tr><td>Amalgamated Parts Shop</td><td>DE</td><td>Bikes</td><td>5395.0287</td><td>EUR</td></tr><tr><td>Gears and Parts Company</td><td>AU</td><td>Bikes</td><td>5111.0799</td><td>AUD</td></tr><tr><td>Rugged Bikes</td><td>US</td><td>Bikes</td><td>5111.0798</td><td>USD</td></tr><tr><td>Eighth Bike Store</td><td>US</td><td>Bikes</td><td>4827.1311</td><td>USD</td></tr><tr><td>Helmets and Cycles</td><td>AU</td><td>Bikes</td><td>4827.131</td><td>AUD</td></tr><tr><td>Odometers and Accessories Company</td><td>CA</td><td>Bikes</td><td>4827.131</td><td>CAD</td></tr><tr><td>Educational Services</td><td>DE</td><td>Bikes</td><td>4543.1822</td><td>EUR</td></tr><tr><td>Sleek Bikes</td><td>US</td><td>Bikes</td><td>4543.1821</td><td>USD</td></tr><tr><td>Immense Manufacturing Company</td><td>US</td><td>Bikes</td><td>4543.182</td><td>USD</td></tr><tr><td>Kickstands and Accessories Company</td><td>US</td><td>Bikes</td><td>4259.2333</td><td>USD</td></tr><tr><td>Fourth Bike Store</td><td>US</td><td>Bikes</td><td>4259.2333</td><td>USD</td></tr><tr><td>Mountain Bike Store</td><td>US</td><td>Bikes</td><td>4259.2333</td><td>USD</td></tr><tr><td>Cycle Parts and Accessories</td><td>AU</td><td>Bikes</td><td>3975.2845</td><td>AUD</td></tr><tr><td>Blue-Ribbon Bike Company</td><td>US</td><td>Bikes</td><td>3975.2844</td><td>USD</td></tr><tr><td>Quick Parts and Service</td><td>CA</td><td>Bikes</td><td>3975.2844</td><td>CAD</td></tr><tr><td>The Bike Outlet</td><td>FR</td><td>Bikes</td><td>3975.2844</td><td>USD</td></tr><tr><td>Industrial Supplies</td><td>US</td><td>Bikes</td><td>3975.2843</td><td>USD</td></tr><tr><td>Authorized Bike Sales and Rental</td><td>US</td><td>Bikes</td><td>3975.2842</td><td>USD</td></tr><tr><td>Bike Part Wholesalers</td><td>AU</td><td>Bikes</td><td>3691.3355</td><td>AUD</td></tr><tr><td>Fitness Supplies</td><td>US</td><td>Bikes</td><td>3691.3355</td><td>USD</td></tr><tr><td>Exchange Parts Inc.</td><td>US</td><td>Bikes</td><td>3691.3355</td><td>USD</td></tr><tr><td>Popular Bike Lines</td><td>AU</td><td>Bikes</td><td>3691.3355</td><td>AUD</td></tr><tr><td>Helpful Sales and Repair Service</td><td>AU</td><td>Bikes</td><td>3691.3355</td><td>AUD</td></tr><tr><td>Stock Parts and Supplies</td><td>US</td><td>Bikes</td><td>3407.3866</td><td>USD</td></tr><tr><td>Variety Cycling</td><td>GB</td><td>Bikes</td><td>3123.4377</td><td>GBP</td></tr><tr><td>Cycles Wholesaler &amp; Mfg.</td><td>GB</td><td>Bikes</td><td>3123.4377</td><td>GBP</td></tr><tr><td>Fast Bike Works</td><td>AU</td><td>Bikes</td><td>3123.4376</td><td>AUD</td></tr><tr><td>Fasteners &amp; Bolts Outlet</td><td>CA</td><td>Bikes</td><td>2839.4889</td><td>CAD</td></tr><tr><td>Locks Company</td><td>US</td><td>Bikes</td><td>2839.4889</td><td>USD</td></tr><tr><td>Metal Clearing House</td><td>CA</td><td>Bikes</td><td>2839.4889</td><td>CAD</td></tr><tr><td>Pedaling Components</td><td>DE</td><td>Bikes</td><td>2555.5399</td><td>EUR</td></tr><tr><td>Professional Sales and Service</td><td>US</td><td>Bikes</td><td>2271.5912</td><td>USD</td></tr><tr><td>Fun Toys and Bikes</td><td>US</td><td>Bikes</td><td>2271.5912</td><td>USD</td></tr><tr><td>Rich Department Store</td><td>AU</td><td>Bikes</td><td>2271.591</td><td>AUD</td></tr><tr><td>Small Bike Accessories Shop</td><td>US</td><td>Bikes</td><td>1987.6423</td><td>USD</td></tr><tr><td>Sports Merchandise</td><td>US</td><td>Bikes</td><td>1987.6422</td><td>USD</td></tr><tr><td>Honest Repair Service</td><td>US</td><td>Bikes</td><td>1987.6422</td><td>USD</td></tr><tr><td>Liquidation Sales</td><td>AU</td><td>Bikes</td><td>1703.6934</td><td>AUD</td></tr><tr><td>Racing Supply Distributors</td><td>FR</td><td>Bikes</td><td>1703.6934</td><td>USD</td></tr><tr><td>South Bike Company</td><td>CA</td><td>Bikes</td><td>1703.6933</td><td>CAD</td></tr><tr><td>Quitting Business Distributors</td><td>US</td><td>Bikes</td><td>1419.7445</td><td>USD</td></tr><tr><td>Thrilling Bike Tours</td><td>US</td><td>Bikes</td><td>1419.7445</td><td>USD</td></tr><tr><td>Machines &amp; Cycles Store</td><td>CA</td><td>Bikes</td><td>1419.7445</td><td>CAD</td></tr><tr><td>Finer Sporting Goods</td><td>FR</td><td>Bikes</td><td>1419.7445</td><td>USD</td></tr><tr><td>First Supplies</td><td>AU</td><td>Bikes</td><td>1419.7445</td><td>AUD</td></tr><tr><td>Engineered Bike Systems</td><td>US</td><td>Bikes</td><td>1135.7956</td><td>USD</td></tr><tr><td>Cycles Sales and Repair</td><td>FR</td><td>Bikes</td><td>1135.7956</td><td>USD</td></tr><tr><td>Bicycle Exporters</td><td>DE</td><td>Bikes</td><td>1135.7956</td><td>EUR</td></tr><tr><td>Novelty Bikes</td><td>US</td><td>Bikes</td><td>1135.7956</td><td>USD</td></tr><tr><td>Systematic Sales</td><td>US</td><td>Bikes</td><td>1135.7956</td><td>USD</td></tr><tr><td>Plastic Products Manufacturers</td><td>AU</td><td>Bikes</td><td>1135.7956</td><td>AUD</td></tr><tr><td>Finer Mart</td><td>US</td><td>Bikes</td><td>1135.7955</td><td>USD</td></tr><tr><td>Exemplary Cycles</td><td>US</td><td>Bikes</td><td>851.8467</td><td>USD</td></tr><tr><td>Paints and Solvents Company</td><td>US</td><td>Bikes</td><td>851.8467</td><td>USD</td></tr><tr><td>West Wind Distributors</td><td>DE</td><td>Bikes</td><td>851.8467</td><td>EUR</td></tr><tr><td>Efficient Cycling</td><td>CA</td><td>Bikes</td><td>851.8466</td><td>CAD</td></tr><tr><td>Purchase Mart</td><td>US</td><td>Bikes</td><td>567.8978</td><td>USD</td></tr><tr><td>Quality Bike Sales</td><td>AU</td><td>Bikes</td><td>567.8978</td><td>AUD</td></tr><tr><td>List Price Catalog Company</td><td>AU</td><td>Bikes</td><td>567.8978</td><td>AUD</td></tr><tr><td>Rural Department Store</td><td>US</td><td>Bikes</td><td>567.8978</td><td>USD</td></tr><tr><td>Rustic Bike Store</td><td>DE</td><td>Bikes</td><td>283.9489</td><td>EUR</td></tr><tr><td>Sensible Sports</td><td>AU</td><td>Bikes</td><td>283.9489</td><td>AUD</td></tr><tr><td>Rampart Amusement Company</td><td>GB</td><td>Bikes</td><td>283.9489</td><td>GBP</td></tr><tr><td>Vale Riding Supplies</td><td>US</td><td>Bikes</td><td>283.9489</td><td>USD</td></tr><tr><td>Transport Bikes</td><td>US</td><td>Bikes</td><td>283.9489</td><td>USD</td></tr><tr><td>Incomparable Bicycle Store</td><td>US</td><td>Bikes</td><td>283.9489</td><td>USD</td></tr><tr><td>Off-Price Bike Center</td><td>DE</td><td>Bikes</td><td>283.9489</td><td>EUR</td></tr><tr><td>Eastside Cycle Shop</td><td>AU</td><td>Bikes</td><td>283.9489</td><td>AUD</td></tr><tr><td>Eastward Bike Accessories</td><td>AU</td><td>Bikes</td><td>283.9489</td><td>AUD</td></tr><tr><td>Cycle Clearance</td><td>US</td><td>Bikes</td><td>283.9489</td><td>USD</td></tr><tr><td>Accessories Network</td><td>FR</td><td>Bikes</td><td>283.9489</td><td>USD</td></tr><tr><td>Family Entertainment Center</td><td>US</td><td>Bikes</td><td>283.9489</td><td>USD</td></tr><tr><td>Fitness Bike Accessories</td><td>AU</td><td>Bikes</td><td>283.9489</td><td>AUD</td></tr><tr><td>Fitness Discount Store</td><td>AU</td><td>Bikes</td><td>283.9489</td><td>AUD</td></tr></table>"
                    },
                    "metadata": {}
                }
            ],
            "execution_count": 11
        },
        {
            "cell_type": "markdown",
            "source": [
                "Problem 2:"
            ],
            "metadata": {
                "azdata_cell_guid": "485c6d8a-9648-4cb3-80d9-df0f7e85a5ee"
            },
            "attachments": {}
        },
        {
            "cell_type": "code",
            "source": [
                "USE ADW\r\n",
                "\r\n",
                ";WITH Sales AS (\r\n",
                "SELECT dg.StateProvinceName AS [State/Province], dg.City AS City, sum(frs.SalesAmount) AS TotalResellerSales\r\n",
                "FROM FactResellerSales frs\r\n",
                "INNER JOIN DimCurrency dc\r\n",
                "ON frs.CurrencyKey = dc.CurrencyKey\r\n",
                "INNER JOIN DimReseller drs\r\n",
                "ON frs.ResellerKey = drs.ResellerKey\r\n",
                "INNER JOIN DimGeography dg\r\n",
                "ON drs.GeographyKey = dg.GeographyKey\r\n",
                "WHERE dc.CurrencyName = 'EURO'\r\n",
                "GROUP BY dg.StateProvinceName, dg.City\r\n",
                ")\r\n",
                "SELECT [State/Province], City, TotalResellerSales\r\n",
                "FROM Sales\r\n",
                "UNION ALL\r\n",
                "SELECT [State/Province], 'Total', SUM(TotalResellerSales)\r\n",
                "FROM Sales\r\n",
                "GROUP BY [State/Province]\r\n",
                "UNION ALL\r\n",
                "SELECT 'Grand', 'Total', SUM(TotalResellerSales)\r\n",
                "FROM Sales\r\n",
                "ORDER BY [State/Province]"
            ],
            "metadata": {
                "azdata_cell_guid": "481d3866-1300-4036-9a18-0fbf09d12e49",
                "language": "sql"
            },
            "outputs": [
                {
                    "output_type": "display_data",
                    "data": {
                        "text/html": "(46 rows affected)"
                    },
                    "metadata": {}
                },
                {
                    "output_type": "display_data",
                    "data": {
                        "text/html": "Total execution time: 00:00:00.820"
                    },
                    "metadata": {}
                },
                {
                    "output_type": "execute_result",
                    "execution_count": 19,
                    "data": {
                        "application/vnd.dataresource+json": {
                            "schema": {
                                "fields": [
                                    {
                                        "name": "State/Province"
                                    },
                                    {
                                        "name": "City"
                                    },
                                    {
                                        "name": "TotalResellerSales"
                                    }
                                ]
                            },
                            "data": [
                                {
                                    "State/Province": "Bayern",
                                    "City": "Augsburg",
                                    "TotalResellerSales": "3192.3709"
                                },
                                {
                                    "State/Province": "Bayern",
                                    "City": "Frankfurt",
                                    "TotalResellerSales": "12795.432"
                                },
                                {
                                    "State/Province": "Bayern",
                                    "City": "Grevenbroich",
                                    "TotalResellerSales": "186217.0681"
                                },
                                {
                                    "State/Province": "Bayern",
                                    "City": "Total",
                                    "TotalResellerSales": "202204.871"
                                },
                                {
                                    "State/Province": "Brandenburg",
                                    "City": "Berlin",
                                    "TotalResellerSales": "144.00"
                                },
                                {
                                    "State/Province": "Brandenburg",
                                    "City": "Eilenburg",
                                    "TotalResellerSales": "116553.24"
                                },
                                {
                                    "State/Province": "Brandenburg",
                                    "City": "Total",
                                    "TotalResellerSales": "116697.24"
                                },
                                {
                                    "State/Province": "Grand",
                                    "City": "Total",
                                    "TotalResellerSales": "2474535.7092"
                                },
                                {
                                    "State/Province": "Hamburg",
                                    "City": "Augsburg",
                                    "TotalResellerSales": "5404.2048"
                                },
                                {
                                    "State/Province": "Hamburg",
                                    "City": "Berlin",
                                    "TotalResellerSales": "4689.126"
                                },
                                {
                                    "State/Province": "Hamburg",
                                    "City": "Essen",
                                    "TotalResellerSales": "30648.094"
                                },
                                {
                                    "State/Province": "Hamburg",
                                    "City": "Frankfurt am Main",
                                    "TotalResellerSales": "197327.5854"
                                },
                                {
                                    "State/Province": "Hamburg",
                                    "City": "Hamburg",
                                    "TotalResellerSales": "7963.932"
                                },
                                {
                                    "State/Province": "Hamburg",
                                    "City": "Muehlheim",
                                    "TotalResellerSales": "22090.0415"
                                },
                                {
                                    "State/Province": "Hamburg",
                                    "City": "Paderborn",
                                    "TotalResellerSales": "3372.3384"
                                },
                                {
                                    "State/Province": "Hamburg",
                                    "City": "Total",
                                    "TotalResellerSales": "271495.3221"
                                },
                                {
                                    "State/Province": "Hauts de Seine",
                                    "City": "Colombes",
                                    "TotalResellerSales": "147554.8323"
                                },
                                {
                                    "State/Province": "Hauts de Seine",
                                    "City": "Suresnes",
                                    "TotalResellerSales": "26980.5748"
                                },
                                {
                                    "State/Province": "Hauts de Seine",
                                    "City": "Total",
                                    "TotalResellerSales": "174535.4071"
                                },
                                {
                                    "State/Province": "Hessen",
                                    "City": "Bad Soden",
                                    "TotalResellerSales": "337756.7319"
                                },
                                {
                                    "State/Province": "Hessen",
                                    "City": "Berlin",
                                    "TotalResellerSales": "3372.4549"
                                },
                                {
                                    "State/Province": "Hessen",
                                    "City": "Duesseldorf",
                                    "TotalResellerSales": "12240.162"
                                },
                                {
                                    "State/Province": "Hessen",
                                    "City": "München",
                                    "TotalResellerSales": "8582.946"
                                },
                                {
                                    "State/Province": "Hessen",
                                    "City": "Total",
                                    "TotalResellerSales": "361952.2948"
                                },
                                {
                                    "State/Province": "Nordrhein-Westfalen",
                                    "City": "Berlin",
                                    "TotalResellerSales": "26427.372"
                                },
                                {
                                    "State/Province": "Nordrhein-Westfalen",
                                    "City": "Braunschweig",
                                    "TotalResellerSales": "8140.752"
                                },
                                {
                                    "State/Province": "Nordrhein-Westfalen",
                                    "City": "Hannover",
                                    "TotalResellerSales": "29218.3575"
                                },
                                {
                                    "State/Province": "Nordrhein-Westfalen",
                                    "City": "Leipzig",
                                    "TotalResellerSales": "6369.00"
                                },
                                {
                                    "State/Province": "Nordrhein-Westfalen",
                                    "City": "München",
                                    "TotalResellerSales": "153764.3535"
                                },
                                {
                                    "State/Province": "Nordrhein-Westfalen",
                                    "City": "Total",
                                    "TotalResellerSales": "223919.835"
                                },
                                {
                                    "State/Province": "Saarland",
                                    "City": "Berlin",
                                    "TotalResellerSales": "220496.689"
                                },
                                {
                                    "State/Province": "Saarland",
                                    "City": "Frankfurt am Main",
                                    "TotalResellerSales": "5426.7938"
                                },
                                {
                                    "State/Province": "Saarland",
                                    "City": "Kiel",
                                    "TotalResellerSales": "56130.0691"
                                },
                                {
                                    "State/Province": "Saarland",
                                    "City": "Münster",
                                    "TotalResellerSales": "132143.7064"
                                },
                                {
                                    "State/Province": "Saarland",
                                    "City": "Offenbach",
                                    "TotalResellerSales": "272052.2258"
                                },
                                {
                                    "State/Province": "Saarland",
                                    "City": "Poing",
                                    "TotalResellerSales": "1344.588"
                                },
                                {
                                    "State/Province": "Saarland",
                                    "City": "Saarbrücken",
                                    "TotalResellerSales": "117328.4563"
                                },
                                {
                                    "State/Province": "Saarland",
                                    "City": "Stuttgart",
                                    "TotalResellerSales": "228.582"
                                },
                                {
                                    "State/Province": "Saarland",
                                    "City": "Sulzbach Taunus",
                                    "TotalResellerSales": "2567.364"
                                },
                                {
                                    "State/Province": "Saarland",
                                    "City": "Total",
                                    "TotalResellerSales": "807718.4744"
                                },
                                {
                                    "State/Province": "Seine (Paris)",
                                    "City": "Paris",
                                    "TotalResellerSales": "287495.0167"
                                },
                                {
                                    "State/Province": "Seine (Paris)",
                                    "City": "Total",
                                    "TotalResellerSales": "287495.0167"
                                },
                                {
                                    "State/Province": "Seine et Marne",
                                    "City": "Lieusaint",
                                    "TotalResellerSales": "31.584"
                                },
                                {
                                    "State/Province": "Seine et Marne",
                                    "City": "Total",
                                    "TotalResellerSales": "31.584"
                                },
                                {
                                    "State/Province": "Val de Marne",
                                    "City": "Orly",
                                    "TotalResellerSales": "28485.6641"
                                },
                                {
                                    "State/Province": "Val de Marne",
                                    "City": "Total",
                                    "TotalResellerSales": "28485.6641"
                                }
                            ]
                        },
                        "text/html": "<table><tr><th>State/Province</th><th>City</th><th>TotalResellerSales</th></tr><tr><td>Bayern</td><td>Augsburg</td><td>3192.3709</td></tr><tr><td>Bayern</td><td>Frankfurt</td><td>12795.432</td></tr><tr><td>Bayern</td><td>Grevenbroich</td><td>186217.0681</td></tr><tr><td>Bayern</td><td>Total</td><td>202204.871</td></tr><tr><td>Brandenburg</td><td>Berlin</td><td>144.00</td></tr><tr><td>Brandenburg</td><td>Eilenburg</td><td>116553.24</td></tr><tr><td>Brandenburg</td><td>Total</td><td>116697.24</td></tr><tr><td>Grand</td><td>Total</td><td>2474535.7092</td></tr><tr><td>Hamburg</td><td>Augsburg</td><td>5404.2048</td></tr><tr><td>Hamburg</td><td>Berlin</td><td>4689.126</td></tr><tr><td>Hamburg</td><td>Essen</td><td>30648.094</td></tr><tr><td>Hamburg</td><td>Frankfurt am Main</td><td>197327.5854</td></tr><tr><td>Hamburg</td><td>Hamburg</td><td>7963.932</td></tr><tr><td>Hamburg</td><td>Muehlheim</td><td>22090.0415</td></tr><tr><td>Hamburg</td><td>Paderborn</td><td>3372.3384</td></tr><tr><td>Hamburg</td><td>Total</td><td>271495.3221</td></tr><tr><td>Hauts de Seine</td><td>Colombes</td><td>147554.8323</td></tr><tr><td>Hauts de Seine</td><td>Suresnes</td><td>26980.5748</td></tr><tr><td>Hauts de Seine</td><td>Total</td><td>174535.4071</td></tr><tr><td>Hessen</td><td>Bad Soden</td><td>337756.7319</td></tr><tr><td>Hessen</td><td>Berlin</td><td>3372.4549</td></tr><tr><td>Hessen</td><td>Duesseldorf</td><td>12240.162</td></tr><tr><td>Hessen</td><td>München</td><td>8582.946</td></tr><tr><td>Hessen</td><td>Total</td><td>361952.2948</td></tr><tr><td>Nordrhein-Westfalen</td><td>Berlin</td><td>26427.372</td></tr><tr><td>Nordrhein-Westfalen</td><td>Braunschweig</td><td>8140.752</td></tr><tr><td>Nordrhein-Westfalen</td><td>Hannover</td><td>29218.3575</td></tr><tr><td>Nordrhein-Westfalen</td><td>Leipzig</td><td>6369.00</td></tr><tr><td>Nordrhein-Westfalen</td><td>München</td><td>153764.3535</td></tr><tr><td>Nordrhein-Westfalen</td><td>Total</td><td>223919.835</td></tr><tr><td>Saarland</td><td>Berlin</td><td>220496.689</td></tr><tr><td>Saarland</td><td>Frankfurt am Main</td><td>5426.7938</td></tr><tr><td>Saarland</td><td>Kiel</td><td>56130.0691</td></tr><tr><td>Saarland</td><td>Münster</td><td>132143.7064</td></tr><tr><td>Saarland</td><td>Offenbach</td><td>272052.2258</td></tr><tr><td>Saarland</td><td>Poing</td><td>1344.588</td></tr><tr><td>Saarland</td><td>Saarbrücken</td><td>117328.4563</td></tr><tr><td>Saarland</td><td>Stuttgart</td><td>228.582</td></tr><tr><td>Saarland</td><td>Sulzbach Taunus</td><td>2567.364</td></tr><tr><td>Saarland</td><td>Total</td><td>807718.4744</td></tr><tr><td>Seine (Paris)</td><td>Paris</td><td>287495.0167</td></tr><tr><td>Seine (Paris)</td><td>Total</td><td>287495.0167</td></tr><tr><td>Seine et Marne</td><td>Lieusaint</td><td>31.584</td></tr><tr><td>Seine et Marne</td><td>Total</td><td>31.584</td></tr><tr><td>Val de Marne</td><td>Orly</td><td>28485.6641</td></tr><tr><td>Val de Marne</td><td>Total</td><td>28485.6641</td></tr></table>"
                    },
                    "metadata": {}
                }
            ],
            "execution_count": 19
        },
        {
            "cell_type": "markdown",
            "source": [
                "Problem 3:"
            ],
            "metadata": {
                "azdata_cell_guid": "19578758-fe5d-48d0-a9c4-46b69a6e3fb9"
            },
            "attachments": {}
        },
        {
            "cell_type": "code",
            "source": [
                "USE ADW\r\n",
                "\r\n",
                "SELECT dc.CurrencyName,\r\n",
                "       ROUND(SUM(frs.SalesAmount), 2) AS [TotalResellerSales]\r\n",
                "FROM FactResellerSales frs\r\n",
                "JOIN DimCurrency dc\r\n",
                "ON frs.CurrencyKey = dc.CurrencyKey\r\n",
                "GROUP BY dc.CurrencyName\r\n",
                "ORDER BY [TotalResellerSales] DESC"
            ],
            "metadata": {
                "azdata_cell_guid": "ae1b1ba1-a677-40ba-bcfc-99341a82e7a5",
                "language": "sql"
            },
            "outputs": [
                {
                    "output_type": "display_data",
                    "data": {
                        "text/html": "(5 rows affected)"
                    },
                    "metadata": {}
                },
                {
                    "output_type": "display_data",
                    "data": {
                        "text/html": "Total execution time: 00:00:00.051"
                    },
                    "metadata": {}
                },
                {
                    "output_type": "execute_result",
                    "execution_count": 12,
                    "data": {
                        "application/vnd.dataresource+json": {
                            "schema": {
                                "fields": [
                                    {
                                        "name": "CurrencyName"
                                    },
                                    {
                                        "name": "TotalResellerSales"
                                    }
                                ]
                            },
                            "data": [
                                {
                                    "CurrencyName": "US Dollar",
                                    "TotalResellerSales": "57724791.47"
                                },
                                {
                                    "CurrencyName": "Canadian Dollar",
                                    "TotalResellerSales": "14377925.60"
                                },
                                {
                                    "CurrencyName": "United Kingdom Pound",
                                    "TotalResellerSales": "4279008.83"
                                },
                                {
                                    "CurrencyName": "EURO",
                                    "TotalResellerSales": "2474535.71"
                                },
                                {
                                    "CurrencyName": "Australian Dollar",
                                    "TotalResellerSales": "1594335.38"
                                }
                            ]
                        },
                        "text/html": "<table><tr><th>CurrencyName</th><th>TotalResellerSales</th></tr><tr><td>US Dollar</td><td>57724791.47</td></tr><tr><td>Canadian Dollar</td><td>14377925.60</td></tr><tr><td>United Kingdom Pound</td><td>4279008.83</td></tr><tr><td>EURO</td><td>2474535.71</td></tr><tr><td>Australian Dollar</td><td>1594335.38</td></tr></table>"
                    },
                    "metadata": {}
                }
            ],
            "execution_count": 12
        },
        {
            "cell_type": "markdown",
            "source": [
                "Problem 4:"
            ],
            "metadata": {
                "azdata_cell_guid": "13ad235c-a032-438b-a2df-0de99b9b31fc"
            },
            "attachments": {}
        },
        {
            "cell_type": "code",
            "source": [
                "USE ADW\r\n",
                "\r\n",
                "SELECT \r\n",
                "    dd.FiscalYear,\r\n",
                "    dp.EnglishPromotionName,\r\n",
                "    dc.CurrencyName,\r\n",
                "    SUM(CASE WHEN dd.FiscalQuarter = 2 THEN frs.SalesAmount ELSE 0 END) AS FiscalQ2,\r\n",
                "    SUM(CASE WHEN dd.FiscalQuarter = 3 THEN frs.SalesAmount ELSE 0 END) AS FiscalQ3\r\n",
                "FROM FactResellerSales frs\r\n",
                "JOIN DimPromotion dp\r\n",
                "ON frs.PromotionKey = dp.PromotionKey\r\n",
                "JOIN DimDate dd\r\n",
                "ON frs.OrderDateKey = dd.DateKey\r\n",
                "JOIN DimCurrency dc\r\n",
                "ON frs.CurrencyKey = dc.CurrencyKey\r\n",
                "WHERE dp.PromotionKey = 13 OR dp.PromotionKey = 14\r\n",
                "AND dd.FiscalQuarter IN (2, 3)\r\n",
                "GROUP BY dd.FiscalYear, dp.EnglishPromotionName, dc.CurrencyName\r\n",
                "ORDER BY dd.FiscalYear, dp.EnglishPromotionName, dc.CurrencyName;  "
            ],
            "metadata": {
                "azdata_cell_guid": "52af18e7-9e84-4c91-a576-f0ad1a2467d5",
                "language": "sql",
                "tags": []
            },
            "outputs": [
                {
                    "output_type": "display_data",
                    "data": {
                        "text/html": "(10 rows affected)"
                    },
                    "metadata": {}
                },
                {
                    "output_type": "display_data",
                    "data": {
                        "text/html": "Total execution time: 00:00:00.061"
                    },
                    "metadata": {}
                },
                {
                    "output_type": "execute_result",
                    "execution_count": 13,
                    "data": {
                        "application/vnd.dataresource+json": {
                            "schema": {
                                "fields": [
                                    {
                                        "name": "FiscalYear"
                                    },
                                    {
                                        "name": "EnglishPromotionName"
                                    },
                                    {
                                        "name": "CurrencyName"
                                    },
                                    {
                                        "name": "FiscalQ2"
                                    },
                                    {
                                        "name": "FiscalQ3"
                                    }
                                ]
                            },
                            "data": [
                                {
                                    "FiscalYear": "2012",
                                    "EnglishPromotionName": "Touring-1000 Promotion",
                                    "CurrencyName": "Australian Dollar",
                                    "FiscalQ2": "12206.4384",
                                    "FiscalQ3": "66372.5088"
                                },
                                {
                                    "FiscalYear": "2012",
                                    "EnglishPromotionName": "Touring-1000 Promotion",
                                    "CurrencyName": "Canadian Dollar",
                                    "FiscalQ2": "3051.6096",
                                    "FiscalQ3": "71712.8256"
                                },
                                {
                                    "FiscalYear": "2012",
                                    "EnglishPromotionName": "Touring-1000 Promotion",
                                    "CurrencyName": "EURO",
                                    "FiscalQ2": "28227.3888",
                                    "FiscalQ3": "37382.2176"
                                },
                                {
                                    "FiscalYear": "2012",
                                    "EnglishPromotionName": "Touring-1000 Promotion",
                                    "CurrencyName": "United Kingdom Pound",
                                    "FiscalQ2": "6103.2192",
                                    "FiscalQ3": "42722.5344"
                                },
                                {
                                    "FiscalYear": "2012",
                                    "EnglishPromotionName": "Touring-1000 Promotion",
                                    "CurrencyName": "US Dollar",
                                    "FiscalQ2": "83919.264",
                                    "FiscalQ3": "229633.6224"
                                },
                                {
                                    "FiscalYear": "2012",
                                    "EnglishPromotionName": "Touring-3000 Promotion",
                                    "CurrencyName": "Australian Dollar",
                                    "FiscalQ2": "8234.5178",
                                    "FiscalQ3": "36345.4572"
                                },
                                {
                                    "FiscalYear": "2012",
                                    "EnglishPromotionName": "Touring-3000 Promotion",
                                    "CurrencyName": "Canadian Dollar",
                                    "FiscalQ2": "1419.7445",
                                    "FiscalQ3": "54234.2361"
                                },
                                {
                                    "FiscalYear": "2012",
                                    "EnglishPromotionName": "Touring-3000 Promotion",
                                    "CurrencyName": "EURO",
                                    "FiscalQ2": "19024.5749",
                                    "FiscalQ3": "49407.1052"
                                },
                                {
                                    "FiscalYear": "2012",
                                    "EnglishPromotionName": "Touring-3000 Promotion",
                                    "CurrencyName": "United Kingdom Pound",
                                    "FiscalQ2": "3123.4377",
                                    "FiscalQ3": "38049.1499"
                                },
                                {
                                    "FiscalYear": "2012",
                                    "EnglishPromotionName": "Touring-3000 Promotion",
                                    "CurrencyName": "US Dollar",
                                    "FiscalQ2": "64172.4467",
                                    "FiscalQ3": "169233.5343"
                                }
                            ]
                        },
                        "text/html": "<table><tr><th>FiscalYear</th><th>EnglishPromotionName</th><th>CurrencyName</th><th>FiscalQ2</th><th>FiscalQ3</th></tr><tr><td>2012</td><td>Touring-1000 Promotion</td><td>Australian Dollar</td><td>12206.4384</td><td>66372.5088</td></tr><tr><td>2012</td><td>Touring-1000 Promotion</td><td>Canadian Dollar</td><td>3051.6096</td><td>71712.8256</td></tr><tr><td>2012</td><td>Touring-1000 Promotion</td><td>EURO</td><td>28227.3888</td><td>37382.2176</td></tr><tr><td>2012</td><td>Touring-1000 Promotion</td><td>United Kingdom Pound</td><td>6103.2192</td><td>42722.5344</td></tr><tr><td>2012</td><td>Touring-1000 Promotion</td><td>US Dollar</td><td>83919.264</td><td>229633.6224</td></tr><tr><td>2012</td><td>Touring-3000 Promotion</td><td>Australian Dollar</td><td>8234.5178</td><td>36345.4572</td></tr><tr><td>2012</td><td>Touring-3000 Promotion</td><td>Canadian Dollar</td><td>1419.7445</td><td>54234.2361</td></tr><tr><td>2012</td><td>Touring-3000 Promotion</td><td>EURO</td><td>19024.5749</td><td>49407.1052</td></tr><tr><td>2012</td><td>Touring-3000 Promotion</td><td>United Kingdom Pound</td><td>3123.4377</td><td>38049.1499</td></tr><tr><td>2012</td><td>Touring-3000 Promotion</td><td>US Dollar</td><td>64172.4467</td><td>169233.5343</td></tr></table>"
                    },
                    "metadata": {}
                }
            ],
            "execution_count": 13
        },
        {
            "cell_type": "markdown",
            "source": [
                "Problem 5:"
            ],
            "metadata": {
                "azdata_cell_guid": "11672dd7-1a4d-4fd0-a2f4-f3fefc217434"
            },
            "attachments": {}
        },
        {
            "cell_type": "code",
            "source": [
                "USE ADW\r\n",
                "\r\n",
                "\r\n",
                "SELECT dst.SalesTerritoryRegion AS SalesTerritoryRegion,\r\n",
                "       ISNULL(dg.StateProvinceName, 'Unknown') AS StateProvinceName,\r\n",
                "       dc.CurrencyAlternateKey AS Currency,\r\n",
                "       AVG(dcu.YearlyIncome) AS AverageIncome, \r\n",
                "       AVG(frs.SalesAmount) AS AverageSales,\r\n",
                "       AVG(frs.SalesAmount) / AVG(dcu.YearlyIncome) AS AvgSalesAsPercentageOfAvgIncome\r\n",
                "FROM FactResellerSales frs\r\n",
                "INNER JOIN DimReseller dr\r\n",
                "ON frs.ResellerKey = dr.ResellerKey\r\n",
                "INNER JOIN DimGeography dg\r\n",
                "ON dr.GeographyKey = dg.GeographyKey\r\n",
                "INNER JOIN DimCurrency dc\r\n",
                "ON frs.CurrencyKey = dc.CurrencyKey\r\n",
                "INNER JOIN DimSalesTerritory dst\r\n",
                "ON dg.SalesTerritoryKey = dst.SalesTerritoryKey\r\n",
                "INNER JOIN DimCustomer dcu\r\n",
                "ON dg.GeographyKey = dcu.GeographyKey\r\n",
                "GROUP BY dst.SalesTerritoryRegion, dg.StateProvinceName, dc.CurrencyAlternateKey\r\n",
                "ORDER BY AverageSales ASC"
            ],
            "metadata": {
                "azdata_cell_guid": "aad55c45-ba3e-4921-8315-f28151d8b5f7",
                "language": "sql"
            },
            "outputs": [
                {
                    "output_type": "display_data",
                    "data": {
                        "text/html": "(51 rows affected)"
                    },
                    "metadata": {}
                },
                {
                    "output_type": "display_data",
                    "data": {
                        "text/html": "Total execution time: 00:00:01.132"
                    },
                    "metadata": {}
                },
                {
                    "output_type": "execute_result",
                    "execution_count": 14,
                    "data": {
                        "application/vnd.dataresource+json": {
                            "schema": {
                                "fields": [
                                    {
                                        "name": "SalesTerritoryRegion"
                                    },
                                    {
                                        "name": "StateProvinceName"
                                    },
                                    {
                                        "name": "Currency"
                                    },
                                    {
                                        "name": "AverageIncome"
                                    },
                                    {
                                        "name": "AverageSales"
                                    },
                                    {
                                        "name": "AvgSalesAsPercentageOfAvgIncome"
                                    }
                                ]
                            },
                            "data": [
                                {
                                    "SalesTerritoryRegion": "France",
                                    "StateProvinceName": "Seine et Marne",
                                    "Currency": "EUR",
                                    "AverageIncome": "36000.00",
                                    "AverageSales": "31.584",
                                    "AvgSalesAsPercentageOfAvgIncome": "0.0008"
                                },
                                {
                                    "SalesTerritoryRegion": "Southeast",
                                    "StateProvinceName": "Kentucky",
                                    "Currency": "USD",
                                    "AverageIncome": "70000.00",
                                    "AverageSales": "161.0553",
                                    "AvgSalesAsPercentageOfAvgIncome": "0.0023"
                                },
                                {
                                    "SalesTerritoryRegion": "France",
                                    "StateProvinceName": "Val de Marne",
                                    "Currency": "EUR",
                                    "AverageIncome": "34666.6666",
                                    "AverageSales": "406.938",
                                    "AvgSalesAsPercentageOfAvgIncome": "0.0117"
                                },
                                {
                                    "SalesTerritoryRegion": "Germany",
                                    "StateProvinceName": "Hessen",
                                    "Currency": "EUR",
                                    "AverageIncome": "39711.2608",
                                    "AverageSales": "470.8164",
                                    "AvgSalesAsPercentageOfAvgIncome": "0.0118"
                                },
                                {
                                    "SalesTerritoryRegion": "France",
                                    "StateProvinceName": "Nord",
                                    "Currency": "USD",
                                    "AverageIncome": "34398.0099",
                                    "AverageSales": "518.4369",
                                    "AvgSalesAsPercentageOfAvgIncome": "0.015"
                                },
                                {
                                    "SalesTerritoryRegion": "France",
                                    "StateProvinceName": "Hauts de Seine",
                                    "Currency": "EUR",
                                    "AverageIncome": "37310.6666",
                                    "AverageSales": "644.1804",
                                    "AvgSalesAsPercentageOfAvgIncome": "0.0172"
                                },
                                {
                                    "SalesTerritoryRegion": "France",
                                    "StateProvinceName": "Pas de Calais",
                                    "Currency": "USD",
                                    "AverageIncome": "33750.00",
                                    "AverageSales": "700.4315",
                                    "AvgSalesAsPercentageOfAvgIncome": "0.0207"
                                },
                                {
                                    "SalesTerritoryRegion": "Germany",
                                    "StateProvinceName": "Nordrhein-Westfalen",
                                    "Currency": "EUR",
                                    "AverageIncome": "43296.8161",
                                    "AverageSales": "749.4204",
                                    "AvgSalesAsPercentageOfAvgIncome": "0.0173"
                                },
                                {
                                    "SalesTerritoryRegion": "France",
                                    "StateProvinceName": "Seine et Marne",
                                    "Currency": "USD",
                                    "AverageIncome": "39703.7037",
                                    "AverageSales": "762.6938",
                                    "AvgSalesAsPercentageOfAvgIncome": "0.0192"
                                },
                                {
                                    "SalesTerritoryRegion": "Southeast",
                                    "StateProvinceName": "North Carolina",
                                    "Currency": "USD",
                                    "AverageIncome": "40000.00",
                                    "AverageSales": "768.4047",
                                    "AvgSalesAsPercentageOfAvgIncome": "0.0192"
                                },
                                {
                                    "SalesTerritoryRegion": "Northwest",
                                    "StateProvinceName": "Utah",
                                    "Currency": "USD",
                                    "AverageIncome": "56000.00",
                                    "AverageSales": "768.7139",
                                    "AvgSalesAsPercentageOfAvgIncome": "0.0137"
                                },
                                {
                                    "SalesTerritoryRegion": "Northwest",
                                    "StateProvinceName": "Montana",
                                    "Currency": "USD",
                                    "AverageIncome": "90000.00",
                                    "AverageSales": "794.1686",
                                    "AvgSalesAsPercentageOfAvgIncome": "0.0088"
                                },
                                {
                                    "SalesTerritoryRegion": "France",
                                    "StateProvinceName": "Val d'Oise",
                                    "Currency": "USD",
                                    "AverageIncome": "45333.3333",
                                    "AverageSales": "794.2997",
                                    "AvgSalesAsPercentageOfAvgIncome": "0.0175"
                                },
                                {
                                    "SalesTerritoryRegion": "Australia",
                                    "StateProvinceName": "Victoria",
                                    "Currency": "AUD",
                                    "AverageIncome": "62700.2407",
                                    "AverageSales": "811.2063",
                                    "AvgSalesAsPercentageOfAvgIncome": "0.0129"
                                },
                                {
                                    "SalesTerritoryRegion": "Australia",
                                    "StateProvinceName": "South Australia",
                                    "Currency": "AUD",
                                    "AverageIncome": "66766.4583",
                                    "AverageSales": "823.5083",
                                    "AvgSalesAsPercentageOfAvgIncome": "0.0123"
                                },
                                {
                                    "SalesTerritoryRegion": "Northeast",
                                    "StateProvinceName": "New York",
                                    "Currency": "USD",
                                    "AverageIncome": "40000.00",
                                    "AverageSales": "824.4708",
                                    "AvgSalesAsPercentageOfAvgIncome": "0.0206"
                                },
                                {
                                    "SalesTerritoryRegion": "Central",
                                    "StateProvinceName": "Illinois",
                                    "Currency": "USD",
                                    "AverageIncome": "47839.0461",
                                    "AverageSales": "827.6965",
                                    "AvgSalesAsPercentageOfAvgIncome": "0.0173"
                                },
                                {
                                    "SalesTerritoryRegion": "Southeast",
                                    "StateProvinceName": "Alabama",
                                    "Currency": "USD",
                                    "AverageIncome": "40000.00",
                                    "AverageSales": "891.771",
                                    "AvgSalesAsPercentageOfAvgIncome": "0.0222"
                                },
                                {
                                    "SalesTerritoryRegion": "Southeast",
                                    "StateProvinceName": "South Carolina",
                                    "Currency": "USD",
                                    "AverageIncome": "110000.00",
                                    "AverageSales": "945.0376",
                                    "AvgSalesAsPercentageOfAvgIncome": "0.0085"
                                },
                                {
                                    "SalesTerritoryRegion": "Southeast",
                                    "StateProvinceName": "Mississippi",
                                    "Currency": "USD",
                                    "AverageIncome": "40000.00",
                                    "AverageSales": "955.7984",
                                    "AvgSalesAsPercentageOfAvgIncome": "0.0238"
                                },
                                {
                                    "SalesTerritoryRegion": "Australia",
                                    "StateProvinceName": "New South Wales",
                                    "Currency": "AUD",
                                    "AverageIncome": "64474.6061",
                                    "AverageSales": "957.7113",
                                    "AvgSalesAsPercentageOfAvgIncome": "0.0148"
                                },
                                {
                                    "SalesTerritoryRegion": "Germany",
                                    "StateProvinceName": "Hamburg",
                                    "Currency": "EUR",
                                    "AverageIncome": "47401.6962",
                                    "AverageSales": "980.1349",
                                    "AvgSalesAsPercentageOfAvgIncome": "0.0206"
                                },
                                {
                                    "SalesTerritoryRegion": "France",
                                    "StateProvinceName": "Essonne",
                                    "Currency": "USD",
                                    "AverageIncome": "22848.6842",
                                    "AverageSales": "1002.7652",
                                    "AvgSalesAsPercentageOfAvgIncome": "0.0438"
                                },
                                {
                                    "SalesTerritoryRegion": "Southwest",
                                    "StateProvinceName": "California",
                                    "Currency": "USD",
                                    "AverageIncome": "69283.5809",
                                    "AverageSales": "1003.6711",
                                    "AvgSalesAsPercentageOfAvgIncome": "0.0144"
                                },
                                {
                                    "SalesTerritoryRegion": "France",
                                    "StateProvinceName": "Loir et Cher",
                                    "Currency": "USD",
                                    "AverageIncome": "42352.9411",
                                    "AverageSales": "1034.9513",
                                    "AvgSalesAsPercentageOfAvgIncome": "0.0244"
                                },
                                {
                                    "SalesTerritoryRegion": "Northeast",
                                    "StateProvinceName": "Massachusetts",
                                    "Currency": "USD",
                                    "AverageIncome": "60000.00",
                                    "AverageSales": "1053.1071",
                                    "AvgSalesAsPercentageOfAvgIncome": "0.0175"
                                },
                                {
                                    "SalesTerritoryRegion": "Germany",
                                    "StateProvinceName": "Bayern",
                                    "Currency": "EUR",
                                    "AverageIncome": "37957.6427",
                                    "AverageSales": "1099.5165",
                                    "AvgSalesAsPercentageOfAvgIncome": "0.0289"
                                },
                                {
                                    "SalesTerritoryRegion": "Germany",
                                    "StateProvinceName": "Saarland",
                                    "Currency": "EUR",
                                    "AverageIncome": "41945.9681",
                                    "AverageSales": "1106.5758",
                                    "AvgSalesAsPercentageOfAvgIncome": "0.0263"
                                },
                                {
                                    "SalesTerritoryRegion": "Australia",
                                    "StateProvinceName": "Queensland",
                                    "Currency": "AUD",
                                    "AverageIncome": "69000.00",
                                    "AverageSales": "1116.3278",
                                    "AvgSalesAsPercentageOfAvgIncome": "0.0161"
                                },
                                {
                                    "SalesTerritoryRegion": "France",
                                    "StateProvinceName": "Seine Saint Denis",
                                    "Currency": "USD",
                                    "AverageIncome": "34425.6375",
                                    "AverageSales": "1150.4887",
                                    "AvgSalesAsPercentageOfAvgIncome": "0.0334"
                                },
                                {
                                    "SalesTerritoryRegion": "Southeast",
                                    "StateProvinceName": "Florida",
                                    "Currency": "USD",
                                    "AverageIncome": "46551.7241",
                                    "AverageSales": "1204.0087",
                                    "AvgSalesAsPercentageOfAvgIncome": "0.0258"
                                },
                                {
                                    "SalesTerritoryRegion": "United Kingdom",
                                    "StateProvinceName": "England",
                                    "Currency": "GBP",
                                    "AverageIncome": "51349.8402",
                                    "AverageSales": "1221.8176",
                                    "AvgSalesAsPercentageOfAvgIncome": "0.0237"
                                },
                                {
                                    "SalesTerritoryRegion": "Central",
                                    "StateProvinceName": "Missouri",
                                    "Currency": "USD",
                                    "AverageIncome": "80000.00",
                                    "AverageSales": "1236.1553",
                                    "AvgSalesAsPercentageOfAvgIncome": "0.0154"
                                },
                                {
                                    "SalesTerritoryRegion": "France",
                                    "StateProvinceName": "Seine (Paris)",
                                    "Currency": "USD",
                                    "AverageIncome": "34023.5166",
                                    "AverageSales": "1246.8611",
                                    "AvgSalesAsPercentageOfAvgIncome": "0.0366"
                                },
                                {
                                    "SalesTerritoryRegion": "Northwest",
                                    "StateProvinceName": "Oregon",
                                    "Currency": "USD",
                                    "AverageIncome": "59073.7963",
                                    "AverageSales": "1297.9937",
                                    "AvgSalesAsPercentageOfAvgIncome": "0.0219"
                                },
                                {
                                    "SalesTerritoryRegion": "Northeast",
                                    "StateProvinceName": "Ohio",
                                    "Currency": "USD",
                                    "AverageIncome": "50764.1196",
                                    "AverageSales": "1307.8578",
                                    "AvgSalesAsPercentageOfAvgIncome": "0.0257"
                                },
                                {
                                    "SalesTerritoryRegion": "Canada",
                                    "StateProvinceName": "Alberta",
                                    "Currency": "CAD",
                                    "AverageIncome": "51818.1818",
                                    "AverageSales": "1315.5686",
                                    "AvgSalesAsPercentageOfAvgIncome": "0.0253"
                                },
                                {
                                    "SalesTerritoryRegion": "Germany",
                                    "StateProvinceName": "Brandenburg",
                                    "Currency": "EUR",
                                    "AverageIncome": "38000.00",
                                    "AverageSales": "1324.4686",
                                    "AvgSalesAsPercentageOfAvgIncome": "0.0348"
                                },
                                {
                                    "SalesTerritoryRegion": "Southeast",
                                    "StateProvinceName": "Georgia",
                                    "Currency": "USD",
                                    "AverageIncome": "44000.00",
                                    "AverageSales": "1357.5184",
                                    "AvgSalesAsPercentageOfAvgIncome": "0.0308"
                                },
                                {
                                    "SalesTerritoryRegion": "Southeast",
                                    "StateProvinceName": "Virginia",
                                    "Currency": "USD",
                                    "AverageIncome": "40000.00",
                                    "AverageSales": "1370.7326",
                                    "AvgSalesAsPercentageOfAvgIncome": "0.0342"
                                },
                                {
                                    "SalesTerritoryRegion": "Central",
                                    "StateProvinceName": "Minnesota",
                                    "Currency": "USD",
                                    "AverageIncome": "80000.00",
                                    "AverageSales": "1374.1041",
                                    "AvgSalesAsPercentageOfAvgIncome": "0.0171"
                                },
                                {
                                    "SalesTerritoryRegion": "Southwest",
                                    "StateProvinceName": "Texas",
                                    "Currency": "USD",
                                    "AverageIncome": "59193.2457",
                                    "AverageSales": "1451.7965",
                                    "AvgSalesAsPercentageOfAvgIncome": "0.0245"
                                },
                                {
                                    "SalesTerritoryRegion": "Northwest",
                                    "StateProvinceName": "Washington",
                                    "Currency": "USD",
                                    "AverageIncome": "59681.2813",
                                    "AverageSales": "1523.48",
                                    "AvgSalesAsPercentageOfAvgIncome": "0.0255"
                                },
                                {
                                    "SalesTerritoryRegion": "Canada",
                                    "StateProvinceName": "British Columbia",
                                    "Currency": "CAD",
                                    "AverageIncome": "58388.5237",
                                    "AverageSales": "1540.1878",
                                    "AvgSalesAsPercentageOfAvgIncome": "0.0263"
                                },
                                {
                                    "SalesTerritoryRegion": "France",
                                    "StateProvinceName": "Loiret",
                                    "Currency": "USD",
                                    "AverageIncome": "29000.00",
                                    "AverageSales": "1575.653",
                                    "AvgSalesAsPercentageOfAvgIncome": "0.0543"
                                },
                                {
                                    "SalesTerritoryRegion": "France",
                                    "StateProvinceName": "Hauts de Seine",
                                    "Currency": "USD",
                                    "AverageIncome": "34565.8914",
                                    "AverageSales": "1914.2129",
                                    "AvgSalesAsPercentageOfAvgIncome": "0.0553"
                                },
                                {
                                    "SalesTerritoryRegion": "Northwest",
                                    "StateProvinceName": "Wyoming",
                                    "Currency": "USD",
                                    "AverageIncome": "54736.8421",
                                    "AverageSales": "2237.2301",
                                    "AvgSalesAsPercentageOfAvgIncome": "0.0408"
                                },
                                {
                                    "SalesTerritoryRegion": "France",
                                    "StateProvinceName": "Seine (Paris)",
                                    "Currency": "EUR",
                                    "AverageIncome": "32998.8331",
                                    "AverageSales": "2433.2277",
                                    "AvgSalesAsPercentageOfAvgIncome": "0.0737"
                                },
                                {
                                    "SalesTerritoryRegion": "Canada",
                                    "StateProvinceName": "Ontario",
                                    "Currency": "CAD",
                                    "AverageIncome": "40000.00",
                                    "AverageSales": "2766.0123",
                                    "AvgSalesAsPercentageOfAvgIncome": "0.0691"
                                },
                                {
                                    "SalesTerritoryRegion": "France",
                                    "StateProvinceName": "Garonne (Haute)",
                                    "Currency": "USD",
                                    "AverageIncome": "29000.00",
                                    "AverageSales": "3179.1917",
                                    "AvgSalesAsPercentageOfAvgIncome": "0.1096"
                                },
                                {
                                    "SalesTerritoryRegion": "Southwest",
                                    "StateProvinceName": "Arizona",
                                    "Currency": "USD",
                                    "AverageIncome": "40000.00",
                                    "AverageSales": "3179.2997",
                                    "AvgSalesAsPercentageOfAvgIncome": "0.0794"
                                }
                            ]
                        },
                        "text/html": "<table><tr><th>SalesTerritoryRegion</th><th>StateProvinceName</th><th>Currency</th><th>AverageIncome</th><th>AverageSales</th><th>AvgSalesAsPercentageOfAvgIncome</th></tr><tr><td>France</td><td>Seine et Marne</td><td>EUR</td><td>36000.00</td><td>31.584</td><td>0.0008</td></tr><tr><td>Southeast</td><td>Kentucky</td><td>USD</td><td>70000.00</td><td>161.0553</td><td>0.0023</td></tr><tr><td>France</td><td>Val de Marne</td><td>EUR</td><td>34666.6666</td><td>406.938</td><td>0.0117</td></tr><tr><td>Germany</td><td>Hessen</td><td>EUR</td><td>39711.2608</td><td>470.8164</td><td>0.0118</td></tr><tr><td>France</td><td>Nord</td><td>USD</td><td>34398.0099</td><td>518.4369</td><td>0.015</td></tr><tr><td>France</td><td>Hauts de Seine</td><td>EUR</td><td>37310.6666</td><td>644.1804</td><td>0.0172</td></tr><tr><td>France</td><td>Pas de Calais</td><td>USD</td><td>33750.00</td><td>700.4315</td><td>0.0207</td></tr><tr><td>Germany</td><td>Nordrhein-Westfalen</td><td>EUR</td><td>43296.8161</td><td>749.4204</td><td>0.0173</td></tr><tr><td>France</td><td>Seine et Marne</td><td>USD</td><td>39703.7037</td><td>762.6938</td><td>0.0192</td></tr><tr><td>Southeast</td><td>North Carolina</td><td>USD</td><td>40000.00</td><td>768.4047</td><td>0.0192</td></tr><tr><td>Northwest</td><td>Utah</td><td>USD</td><td>56000.00</td><td>768.7139</td><td>0.0137</td></tr><tr><td>Northwest</td><td>Montana</td><td>USD</td><td>90000.00</td><td>794.1686</td><td>0.0088</td></tr><tr><td>France</td><td>Val d&#39;Oise</td><td>USD</td><td>45333.3333</td><td>794.2997</td><td>0.0175</td></tr><tr><td>Australia</td><td>Victoria</td><td>AUD</td><td>62700.2407</td><td>811.2063</td><td>0.0129</td></tr><tr><td>Australia</td><td>South Australia</td><td>AUD</td><td>66766.4583</td><td>823.5083</td><td>0.0123</td></tr><tr><td>Northeast</td><td>New York</td><td>USD</td><td>40000.00</td><td>824.4708</td><td>0.0206</td></tr><tr><td>Central</td><td>Illinois</td><td>USD</td><td>47839.0461</td><td>827.6965</td><td>0.0173</td></tr><tr><td>Southeast</td><td>Alabama</td><td>USD</td><td>40000.00</td><td>891.771</td><td>0.0222</td></tr><tr><td>Southeast</td><td>South Carolina</td><td>USD</td><td>110000.00</td><td>945.0376</td><td>0.0085</td></tr><tr><td>Southeast</td><td>Mississippi</td><td>USD</td><td>40000.00</td><td>955.7984</td><td>0.0238</td></tr><tr><td>Australia</td><td>New South Wales</td><td>AUD</td><td>64474.6061</td><td>957.7113</td><td>0.0148</td></tr><tr><td>Germany</td><td>Hamburg</td><td>EUR</td><td>47401.6962</td><td>980.1349</td><td>0.0206</td></tr><tr><td>France</td><td>Essonne</td><td>USD</td><td>22848.6842</td><td>1002.7652</td><td>0.0438</td></tr><tr><td>Southwest</td><td>California</td><td>USD</td><td>69283.5809</td><td>1003.6711</td><td>0.0144</td></tr><tr><td>France</td><td>Loir et Cher</td><td>USD</td><td>42352.9411</td><td>1034.9513</td><td>0.0244</td></tr><tr><td>Northeast</td><td>Massachusetts</td><td>USD</td><td>60000.00</td><td>1053.1071</td><td>0.0175</td></tr><tr><td>Germany</td><td>Bayern</td><td>EUR</td><td>37957.6427</td><td>1099.5165</td><td>0.0289</td></tr><tr><td>Germany</td><td>Saarland</td><td>EUR</td><td>41945.9681</td><td>1106.5758</td><td>0.0263</td></tr><tr><td>Australia</td><td>Queensland</td><td>AUD</td><td>69000.00</td><td>1116.3278</td><td>0.0161</td></tr><tr><td>France</td><td>Seine Saint Denis</td><td>USD</td><td>34425.6375</td><td>1150.4887</td><td>0.0334</td></tr><tr><td>Southeast</td><td>Florida</td><td>USD</td><td>46551.7241</td><td>1204.0087</td><td>0.0258</td></tr><tr><td>United Kingdom</td><td>England</td><td>GBP</td><td>51349.8402</td><td>1221.8176</td><td>0.0237</td></tr><tr><td>Central</td><td>Missouri</td><td>USD</td><td>80000.00</td><td>1236.1553</td><td>0.0154</td></tr><tr><td>France</td><td>Seine (Paris)</td><td>USD</td><td>34023.5166</td><td>1246.8611</td><td>0.0366</td></tr><tr><td>Northwest</td><td>Oregon</td><td>USD</td><td>59073.7963</td><td>1297.9937</td><td>0.0219</td></tr><tr><td>Northeast</td><td>Ohio</td><td>USD</td><td>50764.1196</td><td>1307.8578</td><td>0.0257</td></tr><tr><td>Canada</td><td>Alberta</td><td>CAD</td><td>51818.1818</td><td>1315.5686</td><td>0.0253</td></tr><tr><td>Germany</td><td>Brandenburg</td><td>EUR</td><td>38000.00</td><td>1324.4686</td><td>0.0348</td></tr><tr><td>Southeast</td><td>Georgia</td><td>USD</td><td>44000.00</td><td>1357.5184</td><td>0.0308</td></tr><tr><td>Southeast</td><td>Virginia</td><td>USD</td><td>40000.00</td><td>1370.7326</td><td>0.0342</td></tr><tr><td>Central</td><td>Minnesota</td><td>USD</td><td>80000.00</td><td>1374.1041</td><td>0.0171</td></tr><tr><td>Southwest</td><td>Texas</td><td>USD</td><td>59193.2457</td><td>1451.7965</td><td>0.0245</td></tr><tr><td>Northwest</td><td>Washington</td><td>USD</td><td>59681.2813</td><td>1523.48</td><td>0.0255</td></tr><tr><td>Canada</td><td>British Columbia</td><td>CAD</td><td>58388.5237</td><td>1540.1878</td><td>0.0263</td></tr><tr><td>France</td><td>Loiret</td><td>USD</td><td>29000.00</td><td>1575.653</td><td>0.0543</td></tr><tr><td>France</td><td>Hauts de Seine</td><td>USD</td><td>34565.8914</td><td>1914.2129</td><td>0.0553</td></tr><tr><td>Northwest</td><td>Wyoming</td><td>USD</td><td>54736.8421</td><td>2237.2301</td><td>0.0408</td></tr><tr><td>France</td><td>Seine (Paris)</td><td>EUR</td><td>32998.8331</td><td>2433.2277</td><td>0.0737</td></tr><tr><td>Canada</td><td>Ontario</td><td>CAD</td><td>40000.00</td><td>2766.0123</td><td>0.0691</td></tr><tr><td>France</td><td>Garonne (Haute)</td><td>USD</td><td>29000.00</td><td>3179.1917</td><td>0.1096</td></tr><tr><td>Southwest</td><td>Arizona</td><td>USD</td><td>40000.00</td><td>3179.2997</td><td>0.0794</td></tr></table>"
                    },
                    "metadata": {}
                }
            ],
            "execution_count": 14
        }
    ]
}