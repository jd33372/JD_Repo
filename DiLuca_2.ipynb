{
    "metadata": {
        "kernelspec": {
            "name": "SQL",
            "display_name": "SQL",
            "language": "sql"
        },
        "language_info": {
            "name": "sql",
            "version": ""
        }
    },
    "nbformat_minor": 2,
    "nbformat": 4,
    "cells": [
        {
            "cell_type": "markdown",
            "source": [
                "Problem 1\n",
                "\n",
                "Part A:"
            ],
            "metadata": {
                "azdata_cell_guid": "1324133c-523e-4a41-9aee-75292c625ca2"
            },
            "attachments": {}
        },
        {
            "cell_type": "code",
            "source": [
                "SELECT st.Name AS TerritoryName,\r\n",
                "ROUND(SUM(soh.SubTotal), 0) AS TotalRevenue\r\n",
                "FROM Sales.SalesTerritory st \r\n",
                "INNER JOIN Sales.SalesOrderHeader soh \r\n",
                "ON st.TerritoryID = soh.TerritoryID\r\n",
                "GROUP BY st.Name\r\n",
                "ORDER BY TotalRevenue DESC"
            ],
            "metadata": {
                "azdata_cell_guid": "d3ac7921-7cdc-4f5b-aac5-ce113cea3b09",
                "language": "sql"
            },
            "outputs": [
                {
                    "output_type": "display_data",
                    "data": {
                        "text/html": "(10 rows affected)"
                    },
                    "metadata": {}
                },
                {
                    "output_type": "display_data",
                    "data": {
                        "text/html": "Total execution time: 00:00:00.145"
                    },
                    "metadata": {}
                },
                {
                    "output_type": "execute_result",
                    "metadata": {},
                    "execution_count": 2,
                    "data": {
                        "application/vnd.dataresource+json": {
                            "schema": {
                                "fields": [
                                    {
                                        "name": "TerritoryName"
                                    },
                                    {
                                        "name": "TotalRevenue"
                                    }
                                ]
                            },
                            "data": [
                                {
                                    "TerritoryName": "Southwest",
                                    "TotalRevenue": "24184610.00"
                                },
                                {
                                    "TerritoryName": "Canada",
                                    "TotalRevenue": "16355770.00"
                                },
                                {
                                    "TerritoryName": "Northwest",
                                    "TotalRevenue": "16084943.00"
                                },
                                {
                                    "TerritoryName": "Australia",
                                    "TotalRevenue": "10655336.00"
                                },
                                {
                                    "TerritoryName": "Central",
                                    "TotalRevenue": "7909009.00"
                                },
                                {
                                    "TerritoryName": "Southeast",
                                    "TotalRevenue": "7879655.00"
                                },
                                {
                                    "TerritoryName": "United Kingdom",
                                    "TotalRevenue": "7670721.00"
                                },
                                {
                                    "TerritoryName": "France",
                                    "TotalRevenue": "7251556.00"
                                },
                                {
                                    "TerritoryName": "Northeast",
                                    "TotalRevenue": "6939374.00"
                                },
                                {
                                    "TerritoryName": "Germany",
                                    "TotalRevenue": "4915408.00"
                                }
                            ]
                        },
                        "text/html": [
                            "<table>",
                            "<tr><th>TerritoryName</th><th>TotalRevenue</th></tr>",
                            "<tr><td>Southwest</td><td>24184610.00</td></tr>",
                            "<tr><td>Canada</td><td>16355770.00</td></tr>",
                            "<tr><td>Northwest</td><td>16084943.00</td></tr>",
                            "<tr><td>Australia</td><td>10655336.00</td></tr>",
                            "<tr><td>Central</td><td>7909009.00</td></tr>",
                            "<tr><td>Southeast</td><td>7879655.00</td></tr>",
                            "<tr><td>United Kingdom</td><td>7670721.00</td></tr>",
                            "<tr><td>France</td><td>7251556.00</td></tr>",
                            "<tr><td>Northeast</td><td>6939374.00</td></tr>",
                            "<tr><td>Germany</td><td>4915408.00</td></tr>",
                            "</table>"
                        ]
                    }
                }
            ],
            "execution_count": 2
        },
        {
            "cell_type": "markdown",
            "source": [
                "Part B:"
            ],
            "metadata": {
                "azdata_cell_guid": "c6a18cc8-6af9-46d5-9c20-8ebac132094d"
            },
            "attachments": {}
        },
        {
            "cell_type": "code",
            "source": [
                "SELECT st.Name AS TerritoryName,\r\n",
                "DATEPART(MONTH, soh.OrderDate) AS MONTH,\r\n",
                "ROUND(SUM(soh.SubTotal), 0) AS SalesRevenue,\r\n",
                "YEAR(soh.OrderDate) AS YEAR\r\n",
                "FROM Sales.SalesTerritory st \r\n",
                "INNER JOIN Sales.SalesOrderHeader soh \r\n",
                "ON st.TerritoryID = soh.TerritoryID\r\n",
                "WHERE YEAR(soh.OrderDate) = 2013\r\n",
                "GROUP BY st.Name,\r\n",
                "         DATEPART(MONTH, soh.OrderDate),\r\n",
                "         YEAR(soh.OrderDate)\r\n",
                "ORDER BY st.Name\r\n",
                ""
            ],
            "metadata": {
                "azdata_cell_guid": "43240193-f553-40fa-8f5b-d01ad594e4e5",
                "language": "sql",
                "tags": []
            },
            "outputs": [
                {
                    "output_type": "display_data",
                    "data": {
                        "text/html": "(120 rows affected)"
                    },
                    "metadata": {}
                },
                {
                    "output_type": "display_data",
                    "data": {
                        "text/html": "Total execution time: 00:00:00.085"
                    },
                    "metadata": {}
                },
                {
                    "output_type": "execute_result",
                    "metadata": {},
                    "execution_count": 4,
                    "data": {
                        "application/vnd.dataresource+json": {
                            "schema": {
                                "fields": [
                                    {
                                        "name": "TerritoryName"
                                    },
                                    {
                                        "name": "MONTH"
                                    },
                                    {
                                        "name": "SalesRevenue"
                                    },
                                    {
                                        "name": "YEAR"
                                    }
                                ]
                            },
                            "data": [
                                {
                                    "TerritoryName": "Australia",
                                    "MONTH": "5",
                                    "SalesRevenue": "252419.00",
                                    "YEAR": "2013"
                                },
                                {
                                    "TerritoryName": "Australia",
                                    "MONTH": "12",
                                    "SalesRevenue": "468650.00",
                                    "YEAR": "2013"
                                },
                                {
                                    "TerritoryName": "Australia",
                                    "MONTH": "7",
                                    "SalesRevenue": "456778.00",
                                    "YEAR": "2013"
                                },
                                {
                                    "TerritoryName": "Australia",
                                    "MONTH": "2",
                                    "SalesRevenue": "177688.00",
                                    "YEAR": "2013"
                                },
                                {
                                    "TerritoryName": "Australia",
                                    "MONTH": "9",
                                    "SalesRevenue": "457110.00",
                                    "YEAR": "2013"
                                },
                                {
                                    "TerritoryName": "Australia",
                                    "MONTH": "4",
                                    "SalesRevenue": "205166.00",
                                    "YEAR": "2013"
                                },
                                {
                                    "TerritoryName": "Australia",
                                    "MONTH": "11",
                                    "SalesRevenue": "427533.00",
                                    "YEAR": "2013"
                                },
                                {
                                    "TerritoryName": "Australia",
                                    "MONTH": "6",
                                    "SalesRevenue": "380029.00",
                                    "YEAR": "2013"
                                },
                                {
                                    "TerritoryName": "Australia",
                                    "MONTH": "1",
                                    "SalesRevenue": "222514.00",
                                    "YEAR": "2013"
                                },
                                {
                                    "TerritoryName": "Australia",
                                    "MONTH": "8",
                                    "SalesRevenue": "394786.00",
                                    "YEAR": "2013"
                                },
                                {
                                    "TerritoryName": "Australia",
                                    "MONTH": "3",
                                    "SalesRevenue": "215688.00",
                                    "YEAR": "2013"
                                },
                                {
                                    "TerritoryName": "Australia",
                                    "MONTH": "10",
                                    "SalesRevenue": "572304.00",
                                    "YEAR": "2013"
                                },
                                {
                                    "TerritoryName": "Canada",
                                    "MONTH": "12",
                                    "SalesRevenue": "436189.00",
                                    "YEAR": "2013"
                                },
                                {
                                    "TerritoryName": "Canada",
                                    "MONTH": "7",
                                    "SalesRevenue": "733453.00",
                                    "YEAR": "2013"
                                },
                                {
                                    "TerritoryName": "Canada",
                                    "MONTH": "9",
                                    "SalesRevenue": "480936.00",
                                    "YEAR": "2013"
                                },
                                {
                                    "TerritoryName": "Canada",
                                    "MONTH": "4",
                                    "SalesRevenue": "467353.00",
                                    "YEAR": "2013"
                                },
                                {
                                    "TerritoryName": "Canada",
                                    "MONTH": "2",
                                    "SalesRevenue": "461556.00",
                                    "YEAR": "2013"
                                },
                                {
                                    "TerritoryName": "Canada",
                                    "MONTH": "11",
                                    "SalesRevenue": "356269.00",
                                    "YEAR": "2013"
                                },
                                {
                                    "TerritoryName": "Canada",
                                    "MONTH": "6",
                                    "SalesRevenue": "607975.00",
                                    "YEAR": "2013"
                                },
                                {
                                    "TerritoryName": "Canada",
                                    "MONTH": "1",
                                    "SalesRevenue": "417125.00",
                                    "YEAR": "2013"
                                },
                                {
                                    "TerritoryName": "Canada",
                                    "MONTH": "8",
                                    "SalesRevenue": "467319.00",
                                    "YEAR": "2013"
                                },
                                {
                                    "TerritoryName": "Canada",
                                    "MONTH": "3",
                                    "SalesRevenue": "485927.00",
                                    "YEAR": "2013"
                                },
                                {
                                    "TerritoryName": "Canada",
                                    "MONTH": "10",
                                    "SalesRevenue": "804615.00",
                                    "YEAR": "2013"
                                },
                                {
                                    "TerritoryName": "Canada",
                                    "MONTH": "5",
                                    "SalesRevenue": "510801.00",
                                    "YEAR": "2013"
                                },
                                {
                                    "TerritoryName": "Central",
                                    "MONTH": "2",
                                    "SalesRevenue": "193947.00",
                                    "YEAR": "2013"
                                },
                                {
                                    "TerritoryName": "Central",
                                    "MONTH": "7",
                                    "SalesRevenue": "348164.00",
                                    "YEAR": "2013"
                                },
                                {
                                    "TerritoryName": "Central",
                                    "MONTH": "11",
                                    "SalesRevenue": "113958.00",
                                    "YEAR": "2013"
                                },
                                {
                                    "TerritoryName": "Central",
                                    "MONTH": "9",
                                    "SalesRevenue": "324853.00",
                                    "YEAR": "2013"
                                },
                                {
                                    "TerritoryName": "Central",
                                    "MONTH": "4",
                                    "SalesRevenue": "220322.00",
                                    "YEAR": "2013"
                                },
                                {
                                    "TerritoryName": "Central",
                                    "MONTH": "8",
                                    "SalesRevenue": "162558.00",
                                    "YEAR": "2013"
                                },
                                {
                                    "TerritoryName": "Central",
                                    "MONTH": "6",
                                    "SalesRevenue": "378578.00",
                                    "YEAR": "2013"
                                },
                                {
                                    "TerritoryName": "Central",
                                    "MONTH": "1",
                                    "SalesRevenue": "179655.00",
                                    "YEAR": "2013"
                                },
                                {
                                    "TerritoryName": "Central",
                                    "MONTH": "5",
                                    "SalesRevenue": "216804.00",
                                    "YEAR": "2013"
                                },
                                {
                                    "TerritoryName": "Central",
                                    "MONTH": "3",
                                    "SalesRevenue": "283992.00",
                                    "YEAR": "2013"
                                },
                                {
                                    "TerritoryName": "Central",
                                    "MONTH": "12",
                                    "SalesRevenue": "253954.00",
                                    "YEAR": "2013"
                                },
                                {
                                    "TerritoryName": "Central",
                                    "MONTH": "10",
                                    "SalesRevenue": "317443.00",
                                    "YEAR": "2013"
                                },
                                {
                                    "TerritoryName": "France",
                                    "MONTH": "8",
                                    "SalesRevenue": "163919.00",
                                    "YEAR": "2013"
                                },
                                {
                                    "TerritoryName": "France",
                                    "MONTH": "3",
                                    "SalesRevenue": "246492.00",
                                    "YEAR": "2013"
                                },
                                {
                                    "TerritoryName": "France",
                                    "MONTH": "1",
                                    "SalesRevenue": "108416.00",
                                    "YEAR": "2013"
                                },
                                {
                                    "TerritoryName": "France",
                                    "MONTH": "10",
                                    "SalesRevenue": "270755.00",
                                    "YEAR": "2013"
                                },
                                {
                                    "TerritoryName": "France",
                                    "MONTH": "5",
                                    "SalesRevenue": "151473.00",
                                    "YEAR": "2013"
                                },
                                {
                                    "TerritoryName": "France",
                                    "MONTH": "12",
                                    "SalesRevenue": "583347.00",
                                    "YEAR": "2013"
                                },
                                {
                                    "TerritoryName": "France",
                                    "MONTH": "7",
                                    "SalesRevenue": "281400.00",
                                    "YEAR": "2013"
                                },
                                {
                                    "TerritoryName": "France",
                                    "MONTH": "2",
                                    "SalesRevenue": "123079.00",
                                    "YEAR": "2013"
                                },
                                {
                                    "TerritoryName": "France",
                                    "MONTH": "9",
                                    "SalesRevenue": "713907.00",
                                    "YEAR": "2013"
                                },
                                {
                                    "TerritoryName": "France",
                                    "MONTH": "11",
                                    "SalesRevenue": "224719.00",
                                    "YEAR": "2013"
                                },
                                {
                                    "TerritoryName": "France",
                                    "MONTH": "6",
                                    "SalesRevenue": "800815.00",
                                    "YEAR": "2013"
                                },
                                {
                                    "TerritoryName": "France",
                                    "MONTH": "4",
                                    "SalesRevenue": "138184.00",
                                    "YEAR": "2013"
                                },
                                {
                                    "TerritoryName": "Germany",
                                    "MONTH": "9",
                                    "SalesRevenue": "294496.00",
                                    "YEAR": "2013"
                                },
                                {
                                    "TerritoryName": "Germany",
                                    "MONTH": "4",
                                    "SalesRevenue": "56416.00",
                                    "YEAR": "2013"
                                },
                                {
                                    "TerritoryName": "Germany",
                                    "MONTH": "11",
                                    "SalesRevenue": "287291.00",
                                    "YEAR": "2013"
                                },
                                {
                                    "TerritoryName": "Germany",
                                    "MONTH": "6",
                                    "SalesRevenue": "362450.00",
                                    "YEAR": "2013"
                                },
                                {
                                    "TerritoryName": "Germany",
                                    "MONTH": "1",
                                    "SalesRevenue": "69561.00",
                                    "YEAR": "2013"
                                },
                                {
                                    "TerritoryName": "Germany",
                                    "MONTH": "8",
                                    "SalesRevenue": "308561.00",
                                    "YEAR": "2013"
                                },
                                {
                                    "TerritoryName": "Germany",
                                    "MONTH": "3",
                                    "SalesRevenue": "66450.00",
                                    "YEAR": "2013"
                                },
                                {
                                    "TerritoryName": "Germany",
                                    "MONTH": "12",
                                    "SalesRevenue": "308301.00",
                                    "YEAR": "2013"
                                },
                                {
                                    "TerritoryName": "Germany",
                                    "MONTH": "10",
                                    "SalesRevenue": "276967.00",
                                    "YEAR": "2013"
                                },
                                {
                                    "TerritoryName": "Germany",
                                    "MONTH": "5",
                                    "SalesRevenue": "252220.00",
                                    "YEAR": "2013"
                                },
                                {
                                    "TerritoryName": "Germany",
                                    "MONTH": "7",
                                    "SalesRevenue": "225865.00",
                                    "YEAR": "2013"
                                },
                                {
                                    "TerritoryName": "Germany",
                                    "MONTH": "2",
                                    "SalesRevenue": "56643.00",
                                    "YEAR": "2013"
                                },
                                {
                                    "TerritoryName": "Northeast",
                                    "MONTH": "6",
                                    "SalesRevenue": "286993.00",
                                    "YEAR": "2013"
                                },
                                {
                                    "TerritoryName": "Northeast",
                                    "MONTH": "4",
                                    "SalesRevenue": "178885.00",
                                    "YEAR": "2013"
                                },
                                {
                                    "TerritoryName": "Northeast",
                                    "MONTH": "11",
                                    "SalesRevenue": "140163.00",
                                    "YEAR": "2013"
                                },
                                {
                                    "TerritoryName": "Northeast",
                                    "MONTH": "3",
                                    "SalesRevenue": "341011.00",
                                    "YEAR": "2013"
                                },
                                {
                                    "TerritoryName": "Northeast",
                                    "MONTH": "1",
                                    "SalesRevenue": "152396.00",
                                    "YEAR": "2013"
                                },
                                {
                                    "TerritoryName": "Northeast",
                                    "MONTH": "10",
                                    "SalesRevenue": "221905.00",
                                    "YEAR": "2013"
                                },
                                {
                                    "TerritoryName": "Northeast",
                                    "MONTH": "8",
                                    "SalesRevenue": "189074.00",
                                    "YEAR": "2013"
                                },
                                {
                                    "TerritoryName": "Northeast",
                                    "MONTH": "12",
                                    "SalesRevenue": "140656.00",
                                    "YEAR": "2013"
                                },
                                {
                                    "TerritoryName": "Northeast",
                                    "MONTH": "5",
                                    "SalesRevenue": "190500.00",
                                    "YEAR": "2013"
                                },
                                {
                                    "TerritoryName": "Northeast",
                                    "MONTH": "9",
                                    "SalesRevenue": "181179.00",
                                    "YEAR": "2013"
                                },
                                {
                                    "TerritoryName": "Northeast",
                                    "MONTH": "7",
                                    "SalesRevenue": "273329.00",
                                    "YEAR": "2013"
                                },
                                {
                                    "TerritoryName": "Northeast",
                                    "MONTH": "2",
                                    "SalesRevenue": "335169.00",
                                    "YEAR": "2013"
                                },
                                {
                                    "TerritoryName": "Northwest",
                                    "MONTH": "5",
                                    "SalesRevenue": "431414.00",
                                    "YEAR": "2013"
                                },
                                {
                                    "TerritoryName": "Northwest",
                                    "MONTH": "3",
                                    "SalesRevenue": "546006.00",
                                    "YEAR": "2013"
                                },
                                {
                                    "TerritoryName": "Northwest",
                                    "MONTH": "10",
                                    "SalesRevenue": "676266.00",
                                    "YEAR": "2013"
                                },
                                {
                                    "TerritoryName": "Northwest",
                                    "MONTH": "12",
                                    "SalesRevenue": "637728.00",
                                    "YEAR": "2013"
                                },
                                {
                                    "TerritoryName": "Northwest",
                                    "MONTH": "7",
                                    "SalesRevenue": "702756.00",
                                    "YEAR": "2013"
                                },
                                {
                                    "TerritoryName": "Northwest",
                                    "MONTH": "2",
                                    "SalesRevenue": "259074.00",
                                    "YEAR": "2013"
                                },
                                {
                                    "TerritoryName": "Northwest",
                                    "MONTH": "11",
                                    "SalesRevenue": "544111.00",
                                    "YEAR": "2013"
                                },
                                {
                                    "TerritoryName": "Northwest",
                                    "MONTH": "9",
                                    "SalesRevenue": "711921.00",
                                    "YEAR": "2013"
                                },
                                {
                                    "TerritoryName": "Northwest",
                                    "MONTH": "4",
                                    "SalesRevenue": "148982.00",
                                    "YEAR": "2013"
                                },
                                {
                                    "TerritoryName": "Northwest",
                                    "MONTH": "8",
                                    "SalesRevenue": "418150.00",
                                    "YEAR": "2013"
                                },
                                {
                                    "TerritoryName": "Northwest",
                                    "MONTH": "6",
                                    "SalesRevenue": "820494.00",
                                    "YEAR": "2013"
                                },
                                {
                                    "TerritoryName": "Northwest",
                                    "MONTH": "1",
                                    "SalesRevenue": "118274.00",
                                    "YEAR": "2013"
                                },
                                {
                                    "TerritoryName": "Southeast",
                                    "MONTH": "11",
                                    "SalesRevenue": "114993.00",
                                    "YEAR": "2013"
                                },
                                {
                                    "TerritoryName": "Southeast",
                                    "MONTH": "6",
                                    "SalesRevenue": "274597.00",
                                    "YEAR": "2013"
                                },
                                {
                                    "TerritoryName": "Southeast",
                                    "MONTH": "4",
                                    "SalesRevenue": "209090.00",
                                    "YEAR": "2013"
                                },
                                {
                                    "TerritoryName": "Southeast",
                                    "MONTH": "8",
                                    "SalesRevenue": "161507.00",
                                    "YEAR": "2013"
                                },
                                {
                                    "TerritoryName": "Southeast",
                                    "MONTH": "3",
                                    "SalesRevenue": "213206.00",
                                    "YEAR": "2013"
                                },
                                {
                                    "TerritoryName": "Southeast",
                                    "MONTH": "1",
                                    "SalesRevenue": "139830.00",
                                    "YEAR": "2013"
                                },
                                {
                                    "TerritoryName": "Southeast",
                                    "MONTH": "5",
                                    "SalesRevenue": "177763.00",
                                    "YEAR": "2013"
                                },
                                {
                                    "TerritoryName": "Southeast",
                                    "MONTH": "12",
                                    "SalesRevenue": "191157.00",
                                    "YEAR": "2013"
                                },
                                {
                                    "TerritoryName": "Southeast",
                                    "MONTH": "10",
                                    "SalesRevenue": "219936.00",
                                    "YEAR": "2013"
                                },
                                {
                                    "TerritoryName": "Southeast",
                                    "MONTH": "2",
                                    "SalesRevenue": "174644.00",
                                    "YEAR": "2013"
                                },
                                {
                                    "TerritoryName": "Southeast",
                                    "MONTH": "9",
                                    "SalesRevenue": "233699.00",
                                    "YEAR": "2013"
                                },
                                {
                                    "TerritoryName": "Southeast",
                                    "MONTH": "7",
                                    "SalesRevenue": "289525.00",
                                    "YEAR": "2013"
                                },
                                {
                                    "TerritoryName": "Southwest",
                                    "MONTH": "3",
                                    "SalesRevenue": "846761.00",
                                    "YEAR": "2013"
                                },
                                {
                                    "TerritoryName": "Southwest",
                                    "MONTH": "10",
                                    "SalesRevenue": "833388.00",
                                    "YEAR": "2013"
                                },
                                {
                                    "TerritoryName": "Southwest",
                                    "MONTH": "8",
                                    "SalesRevenue": "814277.00",
                                    "YEAR": "2013"
                                },
                                {
                                    "TerritoryName": "Southwest",
                                    "MONTH": "12",
                                    "SalesRevenue": "749160.00",
                                    "YEAR": "2013"
                                },
                                {
                                    "TerritoryName": "Southwest",
                                    "MONTH": "7",
                                    "SalesRevenue": "967045.00",
                                    "YEAR": "2013"
                                },
                                {
                                    "TerritoryName": "Southwest",
                                    "MONTH": "5",
                                    "SalesRevenue": "848815.00",
                                    "YEAR": "2013"
                                },
                                {
                                    "TerritoryName": "Southwest",
                                    "MONTH": "9",
                                    "SalesRevenue": "787346.00",
                                    "YEAR": "2013"
                                },
                                {
                                    "TerritoryName": "Southwest",
                                    "MONTH": "4",
                                    "SalesRevenue": "710288.00",
                                    "YEAR": "2013"
                                },
                                {
                                    "TerritoryName": "Southwest",
                                    "MONTH": "2",
                                    "SalesRevenue": "431230.00",
                                    "YEAR": "2013"
                                },
                                {
                                    "TerritoryName": "Southwest",
                                    "MONTH": "6",
                                    "SalesRevenue": "827496.00",
                                    "YEAR": "2013"
                                },
                                {
                                    "TerritoryName": "Southwest",
                                    "MONTH": "1",
                                    "SalesRevenue": "494888.00",
                                    "YEAR": "2013"
                                },
                                {
                                    "TerritoryName": "Southwest",
                                    "MONTH": "11",
                                    "SalesRevenue": "805845.00",
                                    "YEAR": "2013"
                                },
                                {
                                    "TerritoryName": "United Kingdom",
                                    "MONTH": "1",
                                    "SalesRevenue": "185214.00",
                                    "YEAR": "2013"
                                },
                                {
                                    "TerritoryName": "United Kingdom",
                                    "MONTH": "8",
                                    "SalesRevenue": "253814.00",
                                    "YEAR": "2013"
                                },
                                {
                                    "TerritoryName": "United Kingdom",
                                    "MONTH": "3",
                                    "SalesRevenue": "166536.00",
                                    "YEAR": "2013"
                                },
                                {
                                    "TerritoryName": "United Kingdom",
                                    "MONTH": "12",
                                    "SalesRevenue": "306343.00",
                                    "YEAR": "2013"
                                },
                                {
                                    "TerritoryName": "United Kingdom",
                                    "MONTH": "10",
                                    "SalesRevenue": "602234.00",
                                    "YEAR": "2013"
                                },
                                {
                                    "TerritoryName": "United Kingdom",
                                    "MONTH": "5",
                                    "SalesRevenue": "213417.00",
                                    "YEAR": "2013"
                                },
                                {
                                    "TerritoryName": "United Kingdom",
                                    "MONTH": "9",
                                    "SalesRevenue": "347462.00",
                                    "YEAR": "2013"
                                },
                                {
                                    "TerritoryName": "United Kingdom",
                                    "MONTH": "7",
                                    "SalesRevenue": "618040.00",
                                    "YEAR": "2013"
                                },
                                {
                                    "TerritoryName": "United Kingdom",
                                    "MONTH": "2",
                                    "SalesRevenue": "103892.00",
                                    "YEAR": "2013"
                                },
                                {
                                    "TerritoryName": "United Kingdom",
                                    "MONTH": "6",
                                    "SalesRevenue": "341642.00",
                                    "YEAR": "2013"
                                },
                                {
                                    "TerritoryName": "United Kingdom",
                                    "MONTH": "4",
                                    "SalesRevenue": "197580.00",
                                    "YEAR": "2013"
                                },
                                {
                                    "TerritoryName": "United Kingdom",
                                    "MONTH": "11",
                                    "SalesRevenue": "297249.00",
                                    "YEAR": "2013"
                                }
                            ]
                        },
                        "text/html": [
                            "<table>",
                            "<tr><th>TerritoryName</th><th>MONTH</th><th>SalesRevenue</th><th>YEAR</th></tr>",
                            "<tr><td>Australia</td><td>5</td><td>252419.00</td><td>2013</td></tr>",
                            "<tr><td>Australia</td><td>12</td><td>468650.00</td><td>2013</td></tr>",
                            "<tr><td>Australia</td><td>7</td><td>456778.00</td><td>2013</td></tr>",
                            "<tr><td>Australia</td><td>2</td><td>177688.00</td><td>2013</td></tr>",
                            "<tr><td>Australia</td><td>9</td><td>457110.00</td><td>2013</td></tr>",
                            "<tr><td>Australia</td><td>4</td><td>205166.00</td><td>2013</td></tr>",
                            "<tr><td>Australia</td><td>11</td><td>427533.00</td><td>2013</td></tr>",
                            "<tr><td>Australia</td><td>6</td><td>380029.00</td><td>2013</td></tr>",
                            "<tr><td>Australia</td><td>1</td><td>222514.00</td><td>2013</td></tr>",
                            "<tr><td>Australia</td><td>8</td><td>394786.00</td><td>2013</td></tr>",
                            "<tr><td>Australia</td><td>3</td><td>215688.00</td><td>2013</td></tr>",
                            "<tr><td>Australia</td><td>10</td><td>572304.00</td><td>2013</td></tr>",
                            "<tr><td>Canada</td><td>12</td><td>436189.00</td><td>2013</td></tr>",
                            "<tr><td>Canada</td><td>7</td><td>733453.00</td><td>2013</td></tr>",
                            "<tr><td>Canada</td><td>9</td><td>480936.00</td><td>2013</td></tr>",
                            "<tr><td>Canada</td><td>4</td><td>467353.00</td><td>2013</td></tr>",
                            "<tr><td>Canada</td><td>2</td><td>461556.00</td><td>2013</td></tr>",
                            "<tr><td>Canada</td><td>11</td><td>356269.00</td><td>2013</td></tr>",
                            "<tr><td>Canada</td><td>6</td><td>607975.00</td><td>2013</td></tr>",
                            "<tr><td>Canada</td><td>1</td><td>417125.00</td><td>2013</td></tr>",
                            "<tr><td>Canada</td><td>8</td><td>467319.00</td><td>2013</td></tr>",
                            "<tr><td>Canada</td><td>3</td><td>485927.00</td><td>2013</td></tr>",
                            "<tr><td>Canada</td><td>10</td><td>804615.00</td><td>2013</td></tr>",
                            "<tr><td>Canada</td><td>5</td><td>510801.00</td><td>2013</td></tr>",
                            "<tr><td>Central</td><td>2</td><td>193947.00</td><td>2013</td></tr>",
                            "<tr><td>Central</td><td>7</td><td>348164.00</td><td>2013</td></tr>",
                            "<tr><td>Central</td><td>11</td><td>113958.00</td><td>2013</td></tr>",
                            "<tr><td>Central</td><td>9</td><td>324853.00</td><td>2013</td></tr>",
                            "<tr><td>Central</td><td>4</td><td>220322.00</td><td>2013</td></tr>",
                            "<tr><td>Central</td><td>8</td><td>162558.00</td><td>2013</td></tr>",
                            "<tr><td>Central</td><td>6</td><td>378578.00</td><td>2013</td></tr>",
                            "<tr><td>Central</td><td>1</td><td>179655.00</td><td>2013</td></tr>",
                            "<tr><td>Central</td><td>5</td><td>216804.00</td><td>2013</td></tr>",
                            "<tr><td>Central</td><td>3</td><td>283992.00</td><td>2013</td></tr>",
                            "<tr><td>Central</td><td>12</td><td>253954.00</td><td>2013</td></tr>",
                            "<tr><td>Central</td><td>10</td><td>317443.00</td><td>2013</td></tr>",
                            "<tr><td>France</td><td>8</td><td>163919.00</td><td>2013</td></tr>",
                            "<tr><td>France</td><td>3</td><td>246492.00</td><td>2013</td></tr>",
                            "<tr><td>France</td><td>1</td><td>108416.00</td><td>2013</td></tr>",
                            "<tr><td>France</td><td>10</td><td>270755.00</td><td>2013</td></tr>",
                            "<tr><td>France</td><td>5</td><td>151473.00</td><td>2013</td></tr>",
                            "<tr><td>France</td><td>12</td><td>583347.00</td><td>2013</td></tr>",
                            "<tr><td>France</td><td>7</td><td>281400.00</td><td>2013</td></tr>",
                            "<tr><td>France</td><td>2</td><td>123079.00</td><td>2013</td></tr>",
                            "<tr><td>France</td><td>9</td><td>713907.00</td><td>2013</td></tr>",
                            "<tr><td>France</td><td>11</td><td>224719.00</td><td>2013</td></tr>",
                            "<tr><td>France</td><td>6</td><td>800815.00</td><td>2013</td></tr>",
                            "<tr><td>France</td><td>4</td><td>138184.00</td><td>2013</td></tr>",
                            "<tr><td>Germany</td><td>9</td><td>294496.00</td><td>2013</td></tr>",
                            "<tr><td>Germany</td><td>4</td><td>56416.00</td><td>2013</td></tr>",
                            "<tr><td>Germany</td><td>11</td><td>287291.00</td><td>2013</td></tr>",
                            "<tr><td>Germany</td><td>6</td><td>362450.00</td><td>2013</td></tr>",
                            "<tr><td>Germany</td><td>1</td><td>69561.00</td><td>2013</td></tr>",
                            "<tr><td>Germany</td><td>8</td><td>308561.00</td><td>2013</td></tr>",
                            "<tr><td>Germany</td><td>3</td><td>66450.00</td><td>2013</td></tr>",
                            "<tr><td>Germany</td><td>12</td><td>308301.00</td><td>2013</td></tr>",
                            "<tr><td>Germany</td><td>10</td><td>276967.00</td><td>2013</td></tr>",
                            "<tr><td>Germany</td><td>5</td><td>252220.00</td><td>2013</td></tr>",
                            "<tr><td>Germany</td><td>7</td><td>225865.00</td><td>2013</td></tr>",
                            "<tr><td>Germany</td><td>2</td><td>56643.00</td><td>2013</td></tr>",
                            "<tr><td>Northeast</td><td>6</td><td>286993.00</td><td>2013</td></tr>",
                            "<tr><td>Northeast</td><td>4</td><td>178885.00</td><td>2013</td></tr>",
                            "<tr><td>Northeast</td><td>11</td><td>140163.00</td><td>2013</td></tr>",
                            "<tr><td>Northeast</td><td>3</td><td>341011.00</td><td>2013</td></tr>",
                            "<tr><td>Northeast</td><td>1</td><td>152396.00</td><td>2013</td></tr>",
                            "<tr><td>Northeast</td><td>10</td><td>221905.00</td><td>2013</td></tr>",
                            "<tr><td>Northeast</td><td>8</td><td>189074.00</td><td>2013</td></tr>",
                            "<tr><td>Northeast</td><td>12</td><td>140656.00</td><td>2013</td></tr>",
                            "<tr><td>Northeast</td><td>5</td><td>190500.00</td><td>2013</td></tr>",
                            "<tr><td>Northeast</td><td>9</td><td>181179.00</td><td>2013</td></tr>",
                            "<tr><td>Northeast</td><td>7</td><td>273329.00</td><td>2013</td></tr>",
                            "<tr><td>Northeast</td><td>2</td><td>335169.00</td><td>2013</td></tr>",
                            "<tr><td>Northwest</td><td>5</td><td>431414.00</td><td>2013</td></tr>",
                            "<tr><td>Northwest</td><td>3</td><td>546006.00</td><td>2013</td></tr>",
                            "<tr><td>Northwest</td><td>10</td><td>676266.00</td><td>2013</td></tr>",
                            "<tr><td>Northwest</td><td>12</td><td>637728.00</td><td>2013</td></tr>",
                            "<tr><td>Northwest</td><td>7</td><td>702756.00</td><td>2013</td></tr>",
                            "<tr><td>Northwest</td><td>2</td><td>259074.00</td><td>2013</td></tr>",
                            "<tr><td>Northwest</td><td>11</td><td>544111.00</td><td>2013</td></tr>",
                            "<tr><td>Northwest</td><td>9</td><td>711921.00</td><td>2013</td></tr>",
                            "<tr><td>Northwest</td><td>4</td><td>148982.00</td><td>2013</td></tr>",
                            "<tr><td>Northwest</td><td>8</td><td>418150.00</td><td>2013</td></tr>",
                            "<tr><td>Northwest</td><td>6</td><td>820494.00</td><td>2013</td></tr>",
                            "<tr><td>Northwest</td><td>1</td><td>118274.00</td><td>2013</td></tr>",
                            "<tr><td>Southeast</td><td>11</td><td>114993.00</td><td>2013</td></tr>",
                            "<tr><td>Southeast</td><td>6</td><td>274597.00</td><td>2013</td></tr>",
                            "<tr><td>Southeast</td><td>4</td><td>209090.00</td><td>2013</td></tr>",
                            "<tr><td>Southeast</td><td>8</td><td>161507.00</td><td>2013</td></tr>",
                            "<tr><td>Southeast</td><td>3</td><td>213206.00</td><td>2013</td></tr>",
                            "<tr><td>Southeast</td><td>1</td><td>139830.00</td><td>2013</td></tr>",
                            "<tr><td>Southeast</td><td>5</td><td>177763.00</td><td>2013</td></tr>",
                            "<tr><td>Southeast</td><td>12</td><td>191157.00</td><td>2013</td></tr>",
                            "<tr><td>Southeast</td><td>10</td><td>219936.00</td><td>2013</td></tr>",
                            "<tr><td>Southeast</td><td>2</td><td>174644.00</td><td>2013</td></tr>",
                            "<tr><td>Southeast</td><td>9</td><td>233699.00</td><td>2013</td></tr>",
                            "<tr><td>Southeast</td><td>7</td><td>289525.00</td><td>2013</td></tr>",
                            "<tr><td>Southwest</td><td>3</td><td>846761.00</td><td>2013</td></tr>",
                            "<tr><td>Southwest</td><td>10</td><td>833388.00</td><td>2013</td></tr>",
                            "<tr><td>Southwest</td><td>8</td><td>814277.00</td><td>2013</td></tr>",
                            "<tr><td>Southwest</td><td>12</td><td>749160.00</td><td>2013</td></tr>",
                            "<tr><td>Southwest</td><td>7</td><td>967045.00</td><td>2013</td></tr>",
                            "<tr><td>Southwest</td><td>5</td><td>848815.00</td><td>2013</td></tr>",
                            "<tr><td>Southwest</td><td>9</td><td>787346.00</td><td>2013</td></tr>",
                            "<tr><td>Southwest</td><td>4</td><td>710288.00</td><td>2013</td></tr>",
                            "<tr><td>Southwest</td><td>2</td><td>431230.00</td><td>2013</td></tr>",
                            "<tr><td>Southwest</td><td>6</td><td>827496.00</td><td>2013</td></tr>",
                            "<tr><td>Southwest</td><td>1</td><td>494888.00</td><td>2013</td></tr>",
                            "<tr><td>Southwest</td><td>11</td><td>805845.00</td><td>2013</td></tr>",
                            "<tr><td>United Kingdom</td><td>1</td><td>185214.00</td><td>2013</td></tr>",
                            "<tr><td>United Kingdom</td><td>8</td><td>253814.00</td><td>2013</td></tr>",
                            "<tr><td>United Kingdom</td><td>3</td><td>166536.00</td><td>2013</td></tr>",
                            "<tr><td>United Kingdom</td><td>12</td><td>306343.00</td><td>2013</td></tr>",
                            "<tr><td>United Kingdom</td><td>10</td><td>602234.00</td><td>2013</td></tr>",
                            "<tr><td>United Kingdom</td><td>5</td><td>213417.00</td><td>2013</td></tr>",
                            "<tr><td>United Kingdom</td><td>9</td><td>347462.00</td><td>2013</td></tr>",
                            "<tr><td>United Kingdom</td><td>7</td><td>618040.00</td><td>2013</td></tr>",
                            "<tr><td>United Kingdom</td><td>2</td><td>103892.00</td><td>2013</td></tr>",
                            "<tr><td>United Kingdom</td><td>6</td><td>341642.00</td><td>2013</td></tr>",
                            "<tr><td>United Kingdom</td><td>4</td><td>197580.00</td><td>2013</td></tr>",
                            "<tr><td>United Kingdom</td><td>11</td><td>297249.00</td><td>2013</td></tr>",
                            "</table>"
                        ]
                    }
                }
            ],
            "execution_count": 4
        },
        {
            "cell_type": "markdown",
            "source": [
                "Part C:"
            ],
            "metadata": {
                "azdata_cell_guid": "b023f303-80c2-4d95-ba4d-29ad92de0981"
            },
            "attachments": {}
        },
        {
            "cell_type": "code",
            "source": [
                "SELECT DISTINCT st.Name AS AwardWinners\r\n",
                "FROM Sales.SalesTerritory st\r\n",
                "INNER JOIN Sales.SalesOrderHeader soh\r\n",
                "ON st.TerritoryID = soh.TerritoryID\r\n",
                "WHERE YEAR(soh.OrderDate) = 2013\r\n",
                "GROUP BY st.Name, DATEPART(MONTH, soh.OrderDate)\r\n",
                "HAVING SUM(soh.SubTotal) > 750000\r\n",
                "ORDER BY st.Name\r\n",
                "\r\n",
                ""
            ],
            "metadata": {
                "azdata_cell_guid": "562e3b13-ab19-4239-8b62-442b286d804e",
                "language": "sql"
            },
            "outputs": [
                {
                    "output_type": "display_data",
                    "data": {
                        "text/html": "(4 rows affected)"
                    },
                    "metadata": {}
                },
                {
                    "output_type": "display_data",
                    "data": {
                        "text/html": "Total execution time: 00:00:00.055"
                    },
                    "metadata": {}
                },
                {
                    "output_type": "execute_result",
                    "metadata": {},
                    "execution_count": 5,
                    "data": {
                        "application/vnd.dataresource+json": {
                            "schema": {
                                "fields": [
                                    {
                                        "name": "AwardWinners"
                                    }
                                ]
                            },
                            "data": [
                                {
                                    "AwardWinners": "Canada"
                                },
                                {
                                    "AwardWinners": "France"
                                },
                                {
                                    "AwardWinners": "Northwest"
                                },
                                {
                                    "AwardWinners": "Southwest"
                                }
                            ]
                        },
                        "text/html": [
                            "<table>",
                            "<tr><th>AwardWinners</th></tr>",
                            "<tr><td>Canada</td></tr>",
                            "<tr><td>France</td></tr>",
                            "<tr><td>Northwest</td></tr>",
                            "<tr><td>Southwest</td></tr>",
                            "</table>"
                        ]
                    }
                }
            ],
            "execution_count": 5
        },
        {
            "cell_type": "markdown",
            "source": [
                "Part D:"
            ],
            "metadata": {
                "azdata_cell_guid": "4bd200fc-cdaf-45a7-afe9-c00126ba4fc1"
            },
            "attachments": {}
        },
        {
            "cell_type": "code",
            "source": [
                "WITH AwardWinners AS (\r\n",
                "SELECT DISTINCT st.Name AS TerritoryName \r\n",
                "FROM Sales.SalesTerritory st\r\n",
                "INNER JOIN Sales.SalesOrderHeader soh\r\n",
                "ON st.TerritoryID = soh.TerritoryID\r\n",
                "WHERE YEAR(soh.OrderDate) = 2013\r\n",
                "GROUP BY st.Name, DATEPART(MONTH, soh.OrderDate)\r\n",
                "HAVING SUM(soh.SubTotal) > 750000\r\n",
                ")\r\n",
                "\r\n",
                "SELECT Name\r\n",
                "FROM Sales.SalesTerritory\r\n",
                "WHERE Name NOT IN (SELECT TerritoryName FROM AwardWinners)\r\n",
                "ORDER BY \r\n",
                "Name"
            ],
            "metadata": {
                "azdata_cell_guid": "e4642ac4-e50a-4623-89ae-210c4b9cb448",
                "language": "sql",
                "tags": []
            },
            "outputs": [
                {
                    "output_type": "display_data",
                    "data": {
                        "text/html": "(6 rows affected)"
                    },
                    "metadata": {}
                },
                {
                    "output_type": "display_data",
                    "data": {
                        "text/html": "Total execution time: 00:00:00.059"
                    },
                    "metadata": {}
                },
                {
                    "output_type": "execute_result",
                    "metadata": {},
                    "execution_count": 7,
                    "data": {
                        "application/vnd.dataresource+json": {
                            "schema": {
                                "fields": [
                                    {
                                        "name": "Name"
                                    }
                                ]
                            },
                            "data": [
                                {
                                    "Name": "Australia"
                                },
                                {
                                    "Name": "Central"
                                },
                                {
                                    "Name": "Germany"
                                },
                                {
                                    "Name": "Northeast"
                                },
                                {
                                    "Name": "Southeast"
                                },
                                {
                                    "Name": "United Kingdom"
                                }
                            ]
                        },
                        "text/html": [
                            "<table>",
                            "<tr><th>Name</th></tr>",
                            "<tr><td>Australia</td></tr>",
                            "<tr><td>Central</td></tr>",
                            "<tr><td>Germany</td></tr>",
                            "<tr><td>Northeast</td></tr>",
                            "<tr><td>Southeast</td></tr>",
                            "<tr><td>United Kingdom</td></tr>",
                            "</table>"
                        ]
                    }
                }
            ],
            "execution_count": 7
        },
        {
            "cell_type": "markdown",
            "source": [
                "Problem 2 \n",
                "\n",
                "Part A:"
            ],
            "metadata": {
                "azdata_cell_guid": "30953b6e-6d66-429d-8260-221387a80fb7"
            },
            "attachments": {}
        },
        {
            "cell_type": "code",
            "source": [
                "SELECT pp.Name,\r\n",
                "        SUM(sod.OrderQty) AS TotalUnitsSold\r\n",
                "FROM Production.Product pp\r\n",
                "INNER JOIN Sales.SalesOrderDetail sod\r\n",
                "ON pp.ProductID = sod.ProductID\r\n",
                "WHERE pp.FinishedGoodsFlag = 1\r\n",
                "GROUP BY pp.ProductID, pp.Name\r\n",
                "HAVING SUM(sod.OrderQty) < 50\r\n",
                "ORDER BY TotalUnitsSold ASC\r\n",
                ""
            ],
            "metadata": {
                "azdata_cell_guid": "c9ba30da-4923-4cfb-bb01-3f106ba9bb20",
                "language": "sql"
            },
            "outputs": [
                {
                    "output_type": "display_data",
                    "data": {
                        "text/html": "(10 rows affected)"
                    },
                    "metadata": {}
                },
                {
                    "output_type": "display_data",
                    "data": {
                        "text/html": "Total execution time: 00:00:00.081"
                    },
                    "metadata": {}
                },
                {
                    "output_type": "execute_result",
                    "metadata": {},
                    "execution_count": 8,
                    "data": {
                        "application/vnd.dataresource+json": {
                            "schema": {
                                "fields": [
                                    {
                                        "name": "Name"
                                    },
                                    {
                                        "name": "TotalUnitsSold"
                                    }
                                ]
                            },
                            "data": [
                                {
                                    "Name": "LL Touring Frame - Blue, 58",
                                    "TotalUnitsSold": "4"
                                },
                                {
                                    "Name": "ML Mountain Frame-W - Silver, 38",
                                    "TotalUnitsSold": "7"
                                },
                                {
                                    "Name": "LL Mountain Frame - Black, 40",
                                    "TotalUnitsSold": "8"
                                },
                                {
                                    "Name": "LL Road Seat/Saddle",
                                    "TotalUnitsSold": "10"
                                },
                                {
                                    "Name": "LL Touring Frame - Blue, 62",
                                    "TotalUnitsSold": "15"
                                },
                                {
                                    "Name": "LL Mountain Frame - Black, 52",
                                    "TotalUnitsSold": "15"
                                },
                                {
                                    "Name": "HL Mountain Frame - Black, 44",
                                    "TotalUnitsSold": "17"
                                },
                                {
                                    "Name": "LL Touring Frame - Blue, 44",
                                    "TotalUnitsSold": "25"
                                },
                                {
                                    "Name": "LL Touring Frame - Yellow, 58",
                                    "TotalUnitsSold": "36"
                                },
                                {
                                    "Name": "LL Mountain Frame - Silver, 48",
                                    "TotalUnitsSold": "44"
                                }
                            ]
                        },
                        "text/html": [
                            "<table>",
                            "<tr><th>Name</th><th>TotalUnitsSold</th></tr>",
                            "<tr><td>LL Touring Frame - Blue, 58</td><td>4</td></tr>",
                            "<tr><td>ML Mountain Frame-W - Silver, 38</td><td>7</td></tr>",
                            "<tr><td>LL Mountain Frame - Black, 40</td><td>8</td></tr>",
                            "<tr><td>LL Road Seat/Saddle</td><td>10</td></tr>",
                            "<tr><td>LL Touring Frame - Blue, 62</td><td>15</td></tr>",
                            "<tr><td>LL Mountain Frame - Black, 52</td><td>15</td></tr>",
                            "<tr><td>HL Mountain Frame - Black, 44</td><td>17</td></tr>",
                            "<tr><td>LL Touring Frame - Blue, 44</td><td>25</td></tr>",
                            "<tr><td>LL Touring Frame - Yellow, 58</td><td>36</td></tr>",
                            "<tr><td>LL Mountain Frame - Silver, 48</td><td>44</td></tr>",
                            "</table>"
                        ]
                    }
                }
            ],
            "execution_count": 8
        },
        {
            "cell_type": "markdown",
            "source": [
                "Part B:"
            ],
            "metadata": {
                "azdata_cell_guid": "fadd92be-1a08-48c2-b474-a03ef4389d1b"
            },
            "attachments": {}
        },
        {
            "cell_type": "code",
            "source": [
                "SELECT cr.Name AS CountryName, \r\n",
                "        MAX(str.TaxRate) AS MaxTaxRate\r\n",
                "FROM Person.CountryRegion cr\r\n",
                "INNER JOIN Person.StateProvince sp\r\n",
                "ON cr.CountryRegionCode = sp.CountryRegionCode\r\n",
                "INNER JOIN Sales.SalesTaxRate str\r\n",
                "ON sp.StateProvinceID = str.StateProvinceID\r\n",
                "GROUP BY cr.Name\r\n",
                "ORDER BY MaxTaxRate DESC"
            ],
            "metadata": {
                "azdata_cell_guid": "cbe66c11-fd7a-43d9-ab28-a7e8d07cb53b",
                "language": "sql",
                "tags": []
            },
            "outputs": [
                {
                    "output_type": "display_data",
                    "data": {
                        "text/html": "(6 rows affected)"
                    },
                    "metadata": {}
                },
                {
                    "output_type": "display_data",
                    "data": {
                        "text/html": "Total execution time: 00:00:00.034"
                    },
                    "metadata": {}
                },
                {
                    "output_type": "execute_result",
                    "metadata": {},
                    "execution_count": 15,
                    "data": {
                        "application/vnd.dataresource+json": {
                            "schema": {
                                "fields": [
                                    {
                                        "name": "CountryName"
                                    },
                                    {
                                        "name": "MaxTaxRate"
                                    }
                                ]
                            },
                            "data": [
                                {
                                    "CountryName": "France",
                                    "MaxTaxRate": "19.60"
                                },
                                {
                                    "CountryName": "United Kingdom",
                                    "MaxTaxRate": "17.50"
                                },
                                {
                                    "CountryName": "Germany",
                                    "MaxTaxRate": "16.00"
                                },
                                {
                                    "CountryName": "Canada",
                                    "MaxTaxRate": "14.25"
                                },
                                {
                                    "CountryName": "Australia",
                                    "MaxTaxRate": "10.00"
                                },
                                {
                                    "CountryName": "United States",
                                    "MaxTaxRate": "8.80"
                                }
                            ]
                        },
                        "text/html": [
                            "<table>",
                            "<tr><th>CountryName</th><th>MaxTaxRate</th></tr>",
                            "<tr><td>France</td><td>19.60</td></tr>",
                            "<tr><td>United Kingdom</td><td>17.50</td></tr>",
                            "<tr><td>Germany</td><td>16.00</td></tr>",
                            "<tr><td>Canada</td><td>14.25</td></tr>",
                            "<tr><td>Australia</td><td>10.00</td></tr>",
                            "<tr><td>United States</td><td>8.80</td></tr>",
                            "</table>"
                        ]
                    }
                }
            ],
            "execution_count": 15
        },
        {
            "cell_type": "markdown",
            "source": [
                "Part C:"
            ],
            "metadata": {
                "azdata_cell_guid": "bf48c3ab-d6ca-4751-84f4-72c614296523"
            },
            "attachments": {}
        },
        {
            "cell_type": "code",
            "source": [
                "SELECT DISTINCT  s.Name AS StoreName, st.Name AS TerritoryName\r\n",
                "FROM Sales.SalesOrderHeader soh\r\n",
                "INNER JOIN Sales.SalesOrderDetail sod\r\n",
                "ON soh.SalesOrderID = sod.SalesOrderID\r\n",
                "INNER JOIN Sales.Customer c\r\n",
                "ON soh.CustomerID = c.CustomerID\r\n",
                "INNER JOIN Sales.Store s\r\n",
                "ON c.StoreID = s.BusinessEntityID\r\n",
                "INNER JOIN Production.Product p \r\n",
                "ON sod.ProductID = p.ProductID\r\n",
                "INNER JOIN Production.ProductSubcategory psc\r\n",
                "ON p.ProductSubcategoryID = psc.ProductSubcategoryID\r\n",
                "INNER JOIN Sales.SalesTerritory st\r\n",
                "ON soh.TerritoryID = st.TerritoryID\r\n",
                "WHERE\r\n",
                "    psc.Name LIKE '%Helmet%'\r\n",
                "    AND soh.ShipDate BETWEEN '2014-02-01' AND '2014-02-05'\r\n",
                "GROUP BY s.Name, st.Name\r\n",
                "ORDER BY st.Name, s.Name"
            ],
            "metadata": {
                "azdata_cell_guid": "8b2dae81-0e2c-475d-83e6-1d1ec0f04284",
                "language": "sql",
                "tags": []
            },
            "outputs": [
                {
                    "output_type": "display_data",
                    "data": {
                        "text/html": "(36 rows affected)"
                    },
                    "metadata": {}
                },
                {
                    "output_type": "display_data",
                    "data": {
                        "text/html": "Total execution time: 00:00:00.083"
                    },
                    "metadata": {}
                },
                {
                    "output_type": "execute_result",
                    "metadata": {},
                    "execution_count": 60,
                    "data": {
                        "application/vnd.dataresource+json": {
                            "schema": {
                                "fields": [
                                    {
                                        "name": "StoreName"
                                    },
                                    {
                                        "name": "TerritoryName"
                                    }
                                ]
                            },
                            "data": [
                                {
                                    "StoreName": "Bike Part Wholesalers",
                                    "TerritoryName": "Australia"
                                },
                                {
                                    "StoreName": "Nationwide Supply",
                                    "TerritoryName": "Australia"
                                },
                                {
                                    "StoreName": "Popular Bike Lines",
                                    "TerritoryName": "Australia"
                                },
                                {
                                    "StoreName": "Corner Bicycle Supply",
                                    "TerritoryName": "Canada"
                                },
                                {
                                    "StoreName": "Odometers and Accessories Company",
                                    "TerritoryName": "Canada"
                                },
                                {
                                    "StoreName": "Petroleum Products Distributors",
                                    "TerritoryName": "Canada"
                                },
                                {
                                    "StoreName": "Rapid Bikes",
                                    "TerritoryName": "Canada"
                                },
                                {
                                    "StoreName": "Vigorous Exercise Company",
                                    "TerritoryName": "Canada"
                                },
                                {
                                    "StoreName": "Local Sales and Rental",
                                    "TerritoryName": "Central"
                                },
                                {
                                    "StoreName": "Riders Company",
                                    "TerritoryName": "Central"
                                },
                                {
                                    "StoreName": "Work and Play Association",
                                    "TerritoryName": "Central"
                                },
                                {
                                    "StoreName": "World of Bikes",
                                    "TerritoryName": "Central"
                                },
                                {
                                    "StoreName": "Getaway Inn",
                                    "TerritoryName": "France"
                                },
                                {
                                    "StoreName": "Neighborhood Bicycle Storehouse",
                                    "TerritoryName": "France"
                                },
                                {
                                    "StoreName": "Racing Sales and Service",
                                    "TerritoryName": "France"
                                },
                                {
                                    "StoreName": "Educational Services",
                                    "TerritoryName": "Germany"
                                },
                                {
                                    "StoreName": "Enterprise Center",
                                    "TerritoryName": "Germany"
                                },
                                {
                                    "StoreName": "Rodeway Bike Store",
                                    "TerritoryName": "Germany"
                                },
                                {
                                    "StoreName": "Fourth Bike Store",
                                    "TerritoryName": "Northeast"
                                },
                                {
                                    "StoreName": "Glossy Bikes",
                                    "TerritoryName": "Northeast"
                                },
                                {
                                    "StoreName": "Larger Cycle Shop",
                                    "TerritoryName": "Northeast"
                                },
                                {
                                    "StoreName": "Recreation Systems",
                                    "TerritoryName": "Northeast"
                                },
                                {
                                    "StoreName": "The Bike Mechanics",
                                    "TerritoryName": "Northeast"
                                },
                                {
                                    "StoreName": "Fashionable Bikes and Accessories",
                                    "TerritoryName": "Northwest"
                                },
                                {
                                    "StoreName": "Blue-Ribbon Bike Company",
                                    "TerritoryName": "Southeast"
                                },
                                {
                                    "StoreName": "Excellent Riding Supplies",
                                    "TerritoryName": "Southeast"
                                },
                                {
                                    "StoreName": "Front Runner Bikes",
                                    "TerritoryName": "Southeast"
                                },
                                {
                                    "StoreName": "Sales and Supply Company",
                                    "TerritoryName": "Southeast"
                                },
                                {
                                    "StoreName": "Advanced Bike Components",
                                    "TerritoryName": "Southwest"
                                },
                                {
                                    "StoreName": "Chic Department Stores",
                                    "TerritoryName": "Southwest"
                                },
                                {
                                    "StoreName": "Coalition Bike Company",
                                    "TerritoryName": "Southwest"
                                },
                                {
                                    "StoreName": "Eastside Department Store",
                                    "TerritoryName": "Southwest"
                                },
                                {
                                    "StoreName": "First Cycle Store",
                                    "TerritoryName": "Southwest"
                                },
                                {
                                    "StoreName": "Futuristic Bikes",
                                    "TerritoryName": "Southwest"
                                },
                                {
                                    "StoreName": "Action Bicycle Specialists",
                                    "TerritoryName": "United Kingdom"
                                },
                                {
                                    "StoreName": "Riding Cycles",
                                    "TerritoryName": "United Kingdom"
                                }
                            ]
                        },
                        "text/html": [
                            "<table>",
                            "<tr><th>StoreName</th><th>TerritoryName</th></tr>",
                            "<tr><td>Bike Part Wholesalers</td><td>Australia</td></tr>",
                            "<tr><td>Nationwide Supply</td><td>Australia</td></tr>",
                            "<tr><td>Popular Bike Lines</td><td>Australia</td></tr>",
                            "<tr><td>Corner Bicycle Supply</td><td>Canada</td></tr>",
                            "<tr><td>Odometers and Accessories Company</td><td>Canada</td></tr>",
                            "<tr><td>Petroleum Products Distributors</td><td>Canada</td></tr>",
                            "<tr><td>Rapid Bikes</td><td>Canada</td></tr>",
                            "<tr><td>Vigorous Exercise Company</td><td>Canada</td></tr>",
                            "<tr><td>Local Sales and Rental</td><td>Central</td></tr>",
                            "<tr><td>Riders Company</td><td>Central</td></tr>",
                            "<tr><td>Work and Play Association</td><td>Central</td></tr>",
                            "<tr><td>World of Bikes</td><td>Central</td></tr>",
                            "<tr><td>Getaway Inn</td><td>France</td></tr>",
                            "<tr><td>Neighborhood Bicycle Storehouse</td><td>France</td></tr>",
                            "<tr><td>Racing Sales and Service</td><td>France</td></tr>",
                            "<tr><td>Educational Services</td><td>Germany</td></tr>",
                            "<tr><td>Enterprise Center</td><td>Germany</td></tr>",
                            "<tr><td>Rodeway Bike Store</td><td>Germany</td></tr>",
                            "<tr><td>Fourth Bike Store</td><td>Northeast</td></tr>",
                            "<tr><td>Glossy Bikes</td><td>Northeast</td></tr>",
                            "<tr><td>Larger Cycle Shop</td><td>Northeast</td></tr>",
                            "<tr><td>Recreation Systems</td><td>Northeast</td></tr>",
                            "<tr><td>The Bike Mechanics</td><td>Northeast</td></tr>",
                            "<tr><td>Fashionable Bikes and Accessories</td><td>Northwest</td></tr>",
                            "<tr><td>Blue-Ribbon Bike Company</td><td>Southeast</td></tr>",
                            "<tr><td>Excellent Riding Supplies</td><td>Southeast</td></tr>",
                            "<tr><td>Front Runner Bikes</td><td>Southeast</td></tr>",
                            "<tr><td>Sales and Supply Company</td><td>Southeast</td></tr>",
                            "<tr><td>Advanced Bike Components</td><td>Southwest</td></tr>",
                            "<tr><td>Chic Department Stores</td><td>Southwest</td></tr>",
                            "<tr><td>Coalition Bike Company</td><td>Southwest</td></tr>",
                            "<tr><td>Eastside Department Store</td><td>Southwest</td></tr>",
                            "<tr><td>First Cycle Store</td><td>Southwest</td></tr>",
                            "<tr><td>Futuristic Bikes</td><td>Southwest</td></tr>",
                            "<tr><td>Action Bicycle Specialists</td><td>United Kingdom</td></tr>",
                            "<tr><td>Riding Cycles</td><td>United Kingdom</td></tr>",
                            "</table>"
                        ]
                    }
                }
            ],
            "execution_count": 60
        }
    ]
}