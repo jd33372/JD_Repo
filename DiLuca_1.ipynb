{
    "metadata": {
        "kernelspec": {
            "name": "SQL",
            "display_name": "SQL",
            "language": "sql"
        },
        "language_info": {
            "name": "sql",
            "version": ""
        }
    },
    "nbformat_minor": 2,
    "nbformat": 4,
    "cells": [
        {
            "cell_type": "code",
            "source": [
                "--Problem 1\r\n",
                "\r\n",
                "USE AdventureWorks2014"
            ],
            "metadata": {
                "language": "sql",
                "azdata_cell_guid": "b0992c8e-1c5d-4cdf-92f2-bf9e535829fa"
            },
            "outputs": [
                {
                    "output_type": "display_data",
                    "data": {
                        "text/html": "Commands completed successfully."
                    },
                    "metadata": {}
                },
                {
                    "output_type": "display_data",
                    "data": {
                        "text/html": "Total execution time: 00:00:00.026"
                    },
                    "metadata": {}
                }
            ],
            "execution_count": 25
        },
        {
            "cell_type": "code",
            "source": [
                "--Part A\r\n",
                "\r\n",
                "SELECT DISTINCT JobTitle\r\n",
                "FROM HumanResources.Employee\r\n",
                "ORDER BY JobTitle ASC"
            ],
            "metadata": {
                "language": "sql",
                "azdata_cell_guid": "d24c471e-c9bd-477a-8f5b-bcdd18de2e90"
            },
            "outputs": [
                {
                    "output_type": "display_data",
                    "data": {
                        "text/html": "(67 rows affected)"
                    },
                    "metadata": {}
                },
                {
                    "output_type": "display_data",
                    "data": {
                        "text/html": "Total execution time: 00:00:00.053"
                    },
                    "metadata": {}
                },
                {
                    "output_type": "execute_result",
                    "execution_count": 18,
                    "data": {
                        "application/vnd.dataresource+json": {
                            "schema": {
                                "fields": [
                                    {
                                        "name": "JobTitle"
                                    }
                                ]
                            },
                            "data": [
                                {
                                    "JobTitle": "Accountant"
                                },
                                {
                                    "JobTitle": "Accounts Manager"
                                },
                                {
                                    "JobTitle": "Accounts Payable Specialist"
                                },
                                {
                                    "JobTitle": "Accounts Receivable Specialist"
                                },
                                {
                                    "JobTitle": "Application Specialist"
                                },
                                {
                                    "JobTitle": "Assistant to the Chief Financial Officer"
                                },
                                {
                                    "JobTitle": "Benefits Specialist"
                                },
                                {
                                    "JobTitle": "Buyer"
                                },
                                {
                                    "JobTitle": "Chief Executive Officer"
                                },
                                {
                                    "JobTitle": "Chief Financial Officer"
                                },
                                {
                                    "JobTitle": "Control Specialist"
                                },
                                {
                                    "JobTitle": "Database Administrator"
                                },
                                {
                                    "JobTitle": "Design Engineer"
                                },
                                {
                                    "JobTitle": "Document Control Assistant"
                                },
                                {
                                    "JobTitle": "Document Control Manager"
                                },
                                {
                                    "JobTitle": "Engineering Manager"
                                },
                                {
                                    "JobTitle": "European Sales Manager"
                                },
                                {
                                    "JobTitle": "Facilities Administrative Assistant"
                                },
                                {
                                    "JobTitle": "Facilities Manager"
                                },
                                {
                                    "JobTitle": "Finance Manager"
                                },
                                {
                                    "JobTitle": "Human Resources Administrative Assistant"
                                },
                                {
                                    "JobTitle": "Human Resources Manager"
                                },
                                {
                                    "JobTitle": "Information Services Manager"
                                },
                                {
                                    "JobTitle": "Janitor"
                                },
                                {
                                    "JobTitle": "Maintenance Supervisor"
                                },
                                {
                                    "JobTitle": "Marketing Assistant"
                                },
                                {
                                    "JobTitle": "Marketing Manager"
                                },
                                {
                                    "JobTitle": "Marketing Specialist"
                                },
                                {
                                    "JobTitle": "Master Scheduler"
                                },
                                {
                                    "JobTitle": "Network Administrator"
                                },
                                {
                                    "JobTitle": "Network Manager"
                                },
                                {
                                    "JobTitle": "North American Sales Manager"
                                },
                                {
                                    "JobTitle": "Pacific Sales Manager"
                                },
                                {
                                    "JobTitle": "Production Control Manager"
                                },
                                {
                                    "JobTitle": "Production Supervisor - WC10"
                                },
                                {
                                    "JobTitle": "Production Supervisor - WC20"
                                },
                                {
                                    "JobTitle": "Production Supervisor - WC30"
                                },
                                {
                                    "JobTitle": "Production Supervisor - WC40"
                                },
                                {
                                    "JobTitle": "Production Supervisor - WC45"
                                },
                                {
                                    "JobTitle": "Production Supervisor - WC50"
                                },
                                {
                                    "JobTitle": "Production Supervisor - WC60"
                                },
                                {
                                    "JobTitle": "Production Technician - WC10"
                                },
                                {
                                    "JobTitle": "Production Technician - WC20"
                                },
                                {
                                    "JobTitle": "Production Technician - WC30"
                                },
                                {
                                    "JobTitle": "Production Technician - WC40"
                                },
                                {
                                    "JobTitle": "Production Technician - WC45"
                                },
                                {
                                    "JobTitle": "Production Technician - WC50"
                                },
                                {
                                    "JobTitle": "Production Technician - WC60"
                                },
                                {
                                    "JobTitle": "Purchasing Assistant"
                                },
                                {
                                    "JobTitle": "Purchasing Manager"
                                },
                                {
                                    "JobTitle": "Quality Assurance Manager"
                                },
                                {
                                    "JobTitle": "Quality Assurance Supervisor"
                                },
                                {
                                    "JobTitle": "Quality Assurance Technician"
                                },
                                {
                                    "JobTitle": "Recruiter"
                                },
                                {
                                    "JobTitle": "Research and Development Engineer"
                                },
                                {
                                    "JobTitle": "Research and Development Manager"
                                },
                                {
                                    "JobTitle": "Sales Representative"
                                },
                                {
                                    "JobTitle": "Scheduling Assistant"
                                },
                                {
                                    "JobTitle": "Senior Design Engineer"
                                },
                                {
                                    "JobTitle": "Senior Tool Designer"
                                },
                                {
                                    "JobTitle": "Shipping and Receiving Clerk"
                                },
                                {
                                    "JobTitle": "Shipping and Receiving Supervisor"
                                },
                                {
                                    "JobTitle": "Stocker"
                                },
                                {
                                    "JobTitle": "Tool Designer"
                                },
                                {
                                    "JobTitle": "Vice President of Engineering"
                                },
                                {
                                    "JobTitle": "Vice President of Production"
                                },
                                {
                                    "JobTitle": "Vice President of Sales"
                                }
                            ]
                        },
                        "text/html": "<table><tr><th>JobTitle</th></tr><tr><td>Accountant</td></tr><tr><td>Accounts Manager</td></tr><tr><td>Accounts Payable Specialist</td></tr><tr><td>Accounts Receivable Specialist</td></tr><tr><td>Application Specialist</td></tr><tr><td>Assistant to the Chief Financial Officer</td></tr><tr><td>Benefits Specialist</td></tr><tr><td>Buyer</td></tr><tr><td>Chief Executive Officer</td></tr><tr><td>Chief Financial Officer</td></tr><tr><td>Control Specialist</td></tr><tr><td>Database Administrator</td></tr><tr><td>Design Engineer</td></tr><tr><td>Document Control Assistant</td></tr><tr><td>Document Control Manager</td></tr><tr><td>Engineering Manager</td></tr><tr><td>European Sales Manager</td></tr><tr><td>Facilities Administrative Assistant</td></tr><tr><td>Facilities Manager</td></tr><tr><td>Finance Manager</td></tr><tr><td>Human Resources Administrative Assistant</td></tr><tr><td>Human Resources Manager</td></tr><tr><td>Information Services Manager</td></tr><tr><td>Janitor</td></tr><tr><td>Maintenance Supervisor</td></tr><tr><td>Marketing Assistant</td></tr><tr><td>Marketing Manager</td></tr><tr><td>Marketing Specialist</td></tr><tr><td>Master Scheduler</td></tr><tr><td>Network Administrator</td></tr><tr><td>Network Manager</td></tr><tr><td>North American Sales Manager</td></tr><tr><td>Pacific Sales Manager</td></tr><tr><td>Production Control Manager</td></tr><tr><td>Production Supervisor - WC10</td></tr><tr><td>Production Supervisor - WC20</td></tr><tr><td>Production Supervisor - WC30</td></tr><tr><td>Production Supervisor - WC40</td></tr><tr><td>Production Supervisor - WC45</td></tr><tr><td>Production Supervisor - WC50</td></tr><tr><td>Production Supervisor - WC60</td></tr><tr><td>Production Technician - WC10</td></tr><tr><td>Production Technician - WC20</td></tr><tr><td>Production Technician - WC30</td></tr><tr><td>Production Technician - WC40</td></tr><tr><td>Production Technician - WC45</td></tr><tr><td>Production Technician - WC50</td></tr><tr><td>Production Technician - WC60</td></tr><tr><td>Purchasing Assistant</td></tr><tr><td>Purchasing Manager</td></tr><tr><td>Quality Assurance Manager</td></tr><tr><td>Quality Assurance Supervisor</td></tr><tr><td>Quality Assurance Technician</td></tr><tr><td>Recruiter</td></tr><tr><td>Research and Development Engineer</td></tr><tr><td>Research and Development Manager</td></tr><tr><td>Sales Representative</td></tr><tr><td>Scheduling Assistant</td></tr><tr><td>Senior Design Engineer</td></tr><tr><td>Senior Tool Designer</td></tr><tr><td>Shipping and Receiving Clerk</td></tr><tr><td>Shipping and Receiving Supervisor</td></tr><tr><td>Stocker</td></tr><tr><td>Tool Designer</td></tr><tr><td>Vice President of Engineering</td></tr><tr><td>Vice President of Production</td></tr><tr><td>Vice President of Sales</td></tr></table>"
                    },
                    "metadata": {}
                }
            ],
            "execution_count": 18
        },
        {
            "cell_type": "code",
            "source": [
                "--Part B\r\n",
                "\r\n",
                "SELECT JobTitle \r\n",
                "FROM HumanResources.Employee\r\n",
                "WHERE JobTitle LIKE '%Manager%'\r\n",
                "OR JobTitle LIKE '%Supervisor%'\r\n",
                "OR JobTitle LIKE '%Chief%'\r\n",
                "OR JobTitle LIKE '%Vice_President%'\r\n",
                "ORDER BY JobTitle ASC"
            ],
            "metadata": {
                "language": "sql",
                "azdata_cell_guid": "f32b5529-d460-43f6-950d-42a30f2aa7f8"
            },
            "outputs": [
                {
                    "output_type": "display_data",
                    "data": {
                        "text/html": "(47 rows affected)"
                    },
                    "metadata": {}
                },
                {
                    "output_type": "display_data",
                    "data": {
                        "text/html": "Total execution time: 00:00:00.052"
                    },
                    "metadata": {}
                },
                {
                    "output_type": "execute_result",
                    "metadata": {},
                    "execution_count": 3,
                    "data": {
                        "application/vnd.dataresource+json": {
                            "schema": {
                                "fields": [
                                    {
                                        "name": "JobTitle"
                                    }
                                ]
                            },
                            "data": [
                                {
                                    "JobTitle": "Accounts Manager"
                                },
                                {
                                    "JobTitle": "Assistant to the Chief Financial Officer"
                                },
                                {
                                    "JobTitle": "Chief Executive Officer"
                                },
                                {
                                    "JobTitle": "Chief Financial Officer"
                                },
                                {
                                    "JobTitle": "Document Control Manager"
                                },
                                {
                                    "JobTitle": "Engineering Manager"
                                },
                                {
                                    "JobTitle": "European Sales Manager"
                                },
                                {
                                    "JobTitle": "Facilities Manager"
                                },
                                {
                                    "JobTitle": "Finance Manager"
                                },
                                {
                                    "JobTitle": "Human Resources Manager"
                                },
                                {
                                    "JobTitle": "Information Services Manager"
                                },
                                {
                                    "JobTitle": "Maintenance Supervisor"
                                },
                                {
                                    "JobTitle": "Marketing Manager"
                                },
                                {
                                    "JobTitle": "Network Manager"
                                },
                                {
                                    "JobTitle": "North American Sales Manager"
                                },
                                {
                                    "JobTitle": "Pacific Sales Manager"
                                },
                                {
                                    "JobTitle": "Production Control Manager"
                                },
                                {
                                    "JobTitle": "Production Supervisor - WC10"
                                },
                                {
                                    "JobTitle": "Production Supervisor - WC10"
                                },
                                {
                                    "JobTitle": "Production Supervisor - WC10"
                                },
                                {
                                    "JobTitle": "Production Supervisor - WC20"
                                },
                                {
                                    "JobTitle": "Production Supervisor - WC20"
                                },
                                {
                                    "JobTitle": "Production Supervisor - WC20"
                                },
                                {
                                    "JobTitle": "Production Supervisor - WC30"
                                },
                                {
                                    "JobTitle": "Production Supervisor - WC30"
                                },
                                {
                                    "JobTitle": "Production Supervisor - WC30"
                                },
                                {
                                    "JobTitle": "Production Supervisor - WC40"
                                },
                                {
                                    "JobTitle": "Production Supervisor - WC40"
                                },
                                {
                                    "JobTitle": "Production Supervisor - WC40"
                                },
                                {
                                    "JobTitle": "Production Supervisor - WC45"
                                },
                                {
                                    "JobTitle": "Production Supervisor - WC45"
                                },
                                {
                                    "JobTitle": "Production Supervisor - WC45"
                                },
                                {
                                    "JobTitle": "Production Supervisor - WC50"
                                },
                                {
                                    "JobTitle": "Production Supervisor - WC50"
                                },
                                {
                                    "JobTitle": "Production Supervisor - WC50"
                                },
                                {
                                    "JobTitle": "Production Supervisor - WC60"
                                },
                                {
                                    "JobTitle": "Production Supervisor - WC60"
                                },
                                {
                                    "JobTitle": "Production Supervisor - WC60"
                                },
                                {
                                    "JobTitle": "Purchasing Manager"
                                },
                                {
                                    "JobTitle": "Quality Assurance Manager"
                                },
                                {
                                    "JobTitle": "Quality Assurance Supervisor"
                                },
                                {
                                    "JobTitle": "Research and Development Manager"
                                },
                                {
                                    "JobTitle": "Research and Development Manager"
                                },
                                {
                                    "JobTitle": "Shipping and Receiving Supervisor"
                                },
                                {
                                    "JobTitle": "Vice President of Engineering"
                                },
                                {
                                    "JobTitle": "Vice President of Production"
                                },
                                {
                                    "JobTitle": "Vice President of Sales"
                                }
                            ]
                        },
                        "text/html": [
                            "<table>",
                            "<tr><th>JobTitle</th></tr>",
                            "<tr><td>Accounts Manager</td></tr>",
                            "<tr><td>Assistant to the Chief Financial Officer</td></tr>",
                            "<tr><td>Chief Executive Officer</td></tr>",
                            "<tr><td>Chief Financial Officer</td></tr>",
                            "<tr><td>Document Control Manager</td></tr>",
                            "<tr><td>Engineering Manager</td></tr>",
                            "<tr><td>European Sales Manager</td></tr>",
                            "<tr><td>Facilities Manager</td></tr>",
                            "<tr><td>Finance Manager</td></tr>",
                            "<tr><td>Human Resources Manager</td></tr>",
                            "<tr><td>Information Services Manager</td></tr>",
                            "<tr><td>Maintenance Supervisor</td></tr>",
                            "<tr><td>Marketing Manager</td></tr>",
                            "<tr><td>Network Manager</td></tr>",
                            "<tr><td>North American Sales Manager</td></tr>",
                            "<tr><td>Pacific Sales Manager</td></tr>",
                            "<tr><td>Production Control Manager</td></tr>",
                            "<tr><td>Production Supervisor - WC10</td></tr>",
                            "<tr><td>Production Supervisor - WC10</td></tr>",
                            "<tr><td>Production Supervisor - WC10</td></tr>",
                            "<tr><td>Production Supervisor - WC20</td></tr>",
                            "<tr><td>Production Supervisor - WC20</td></tr>",
                            "<tr><td>Production Supervisor - WC20</td></tr>",
                            "<tr><td>Production Supervisor - WC30</td></tr>",
                            "<tr><td>Production Supervisor - WC30</td></tr>",
                            "<tr><td>Production Supervisor - WC30</td></tr>",
                            "<tr><td>Production Supervisor - WC40</td></tr>",
                            "<tr><td>Production Supervisor - WC40</td></tr>",
                            "<tr><td>Production Supervisor - WC40</td></tr>",
                            "<tr><td>Production Supervisor - WC45</td></tr>",
                            "<tr><td>Production Supervisor - WC45</td></tr>",
                            "<tr><td>Production Supervisor - WC45</td></tr>",
                            "<tr><td>Production Supervisor - WC50</td></tr>",
                            "<tr><td>Production Supervisor - WC50</td></tr>",
                            "<tr><td>Production Supervisor - WC50</td></tr>",
                            "<tr><td>Production Supervisor - WC60</td></tr>",
                            "<tr><td>Production Supervisor - WC60</td></tr>",
                            "<tr><td>Production Supervisor - WC60</td></tr>",
                            "<tr><td>Purchasing Manager</td></tr>",
                            "<tr><td>Quality Assurance Manager</td></tr>",
                            "<tr><td>Quality Assurance Supervisor</td></tr>",
                            "<tr><td>Research and Development Manager</td></tr>",
                            "<tr><td>Research and Development Manager</td></tr>",
                            "<tr><td>Shipping and Receiving Supervisor</td></tr>",
                            "<tr><td>Vice President of Engineering</td></tr>",
                            "<tr><td>Vice President of Production</td></tr>",
                            "<tr><td>Vice President of Sales</td></tr>",
                            "</table>"
                        ]
                    }
                }
            ],
            "execution_count": 3
        },
        {
            "cell_type": "code",
            "source": [
                "--Part C\r\n",
                "\r\n",
                "SELECT COUNT(JobTitle) AS Managers\r\n",
                "FROM HumanResources.Employee\r\n",
                "WHERE JobTitle LIKE '%Manager%'\r\n",
                "OR JobTitle LIKE '%Supervisor%'\r\n",
                "OR JobTitle LIKE '%Chief%'\r\n",
                "OR JobTitle LIKE '%Vice_President%'"
            ],
            "metadata": {
                "language": "sql",
                "azdata_cell_guid": "65ed53a4-04fc-438f-ad8a-60b5b904f31c"
            },
            "outputs": [
                {
                    "output_type": "display_data",
                    "data": {
                        "text/html": "(1 row affected)"
                    },
                    "metadata": {}
                },
                {
                    "output_type": "display_data",
                    "data": {
                        "text/html": "Total execution time: 00:00:00.040"
                    },
                    "metadata": {}
                },
                {
                    "output_type": "execute_result",
                    "execution_count": 20,
                    "data": {
                        "application/vnd.dataresource+json": {
                            "schema": {
                                "fields": [
                                    {
                                        "name": "Managers"
                                    }
                                ]
                            },
                            "data": [
                                {
                                    "Managers": "47"
                                }
                            ]
                        },
                        "text/html": "<table><tr><th>Managers</th></tr><tr><td>47</td></tr></table>"
                    },
                    "metadata": {}
                }
            ],
            "execution_count": 20
        },
        {
            "cell_type": "code",
            "source": [
                "--Part D\r\n",
                "\r\n",
                "SELECT JobTitle, BusinessEntityID AS EmployeeID, BirthDate\r\n",
                "FROM HumanResources.Employee\r\n",
                "WHERE BirthDate <= '1964-09-11'\r\n",
                "ORDER BY BirthDate DESC"
            ],
            "metadata": {
                "language": "sql",
                "azdata_cell_guid": "a106c7c4-3556-45f2-a08f-6fe30b65d48c"
            },
            "outputs": [
                {
                    "output_type": "display_data",
                    "data": {
                        "text/html": "(26 rows affected)"
                    },
                    "metadata": {}
                },
                {
                    "output_type": "display_data",
                    "data": {
                        "text/html": "Total execution time: 00:00:00.056"
                    },
                    "metadata": {}
                },
                {
                    "output_type": "execute_result",
                    "execution_count": 21,
                    "data": {
                        "application/vnd.dataresource+json": {
                            "schema": {
                                "fields": [
                                    {
                                        "name": "JobTitle"
                                    },
                                    {
                                        "name": "EmployeeID"
                                    },
                                    {
                                        "name": "BirthDate"
                                    }
                                ]
                            },
                            "data": [
                                {
                                    "JobTitle": "Assistant to the Chief Financial Officer",
                                    "EmployeeID": "262",
                                    "BirthDate": "1964-06-21"
                                },
                                {
                                    "JobTitle": "Sales Representative",
                                    "EmployeeID": "282",
                                    "BirthDate": "1963-12-11"
                                },
                                {
                                    "JobTitle": "Production Technician - WC45",
                                    "EmployeeID": "206",
                                    "BirthDate": "1962-09-13"
                                },
                                {
                                    "JobTitle": "Marketing Specialist",
                                    "EmployeeID": "23",
                                    "BirthDate": "1962-09-13"
                                },
                                {
                                    "JobTitle": "Sales Representative",
                                    "EmployeeID": "277",
                                    "BirthDate": "1962-08-29"
                                },
                                {
                                    "JobTitle": "Design Engineer",
                                    "EmployeeID": "15",
                                    "BirthDate": "1961-05-02"
                                },
                                {
                                    "JobTitle": "Tool Designer",
                                    "EmployeeID": "12",
                                    "BirthDate": "1959-07-29"
                                },
                                {
                                    "JobTitle": "Design Engineer",
                                    "EmployeeID": "6",
                                    "BirthDate": "1959-03-11"
                                },
                                {
                                    "JobTitle": "European Sales Manager",
                                    "EmployeeID": "287",
                                    "BirthDate": "1957-09-20"
                                },
                                {
                                    "JobTitle": "Production Supervisor - WC60",
                                    "EmployeeID": "27",
                                    "BirthDate": "1956-10-08"
                                },
                                {
                                    "JobTitle": "Production Technician - WC10",
                                    "EmployeeID": "50",
                                    "BirthDate": "1956-08-30"
                                },
                                {
                                    "JobTitle": "Production Supervisor - WC60",
                                    "EmployeeID": "62",
                                    "BirthDate": "1956-08-07"
                                },
                                {
                                    "JobTitle": "Production Technician - WC10",
                                    "EmployeeID": "51",
                                    "BirthDate": "1956-07-11"
                                },
                                {
                                    "JobTitle": "Production Technician - WC10",
                                    "EmployeeID": "48",
                                    "BirthDate": "1956-06-04"
                                },
                                {
                                    "JobTitle": "Production Technician - WC10",
                                    "EmployeeID": "52",
                                    "BirthDate": "1956-04-04"
                                },
                                {
                                    "JobTitle": "Production Supervisor - WC50",
                                    "EmployeeID": "55",
                                    "BirthDate": "1956-04-01"
                                },
                                {
                                    "JobTitle": "Production Technician - WC10",
                                    "EmployeeID": "53",
                                    "BirthDate": "1956-03-29"
                                },
                                {
                                    "JobTitle": "Production Technician - WC10",
                                    "EmployeeID": "49",
                                    "BirthDate": "1956-03-26"
                                },
                                {
                                    "JobTitle": "Production Supervisor - WC60",
                                    "EmployeeID": "40",
                                    "BirthDate": "1956-01-16"
                                },
                                {
                                    "JobTitle": "Production Technician - WC60",
                                    "EmployeeID": "63",
                                    "BirthDate": "1955-01-30"
                                },
                                {
                                    "JobTitle": "Janitor",
                                    "EmployeeID": "231",
                                    "BirthDate": "1954-04-24"
                                },
                                {
                                    "JobTitle": "Production Technician - WC20",
                                    "EmployeeID": "140",
                                    "BirthDate": "1953-04-30"
                                },
                                {
                                    "JobTitle": "Design Engineer",
                                    "EmployeeID": "5",
                                    "BirthDate": "1952-09-27"
                                },
                                {
                                    "JobTitle": "Buyer",
                                    "EmployeeID": "256",
                                    "BirthDate": "1952-05-12"
                                },
                                {
                                    "JobTitle": "Production Technician - WC40",
                                    "EmployeeID": "84",
                                    "BirthDate": "1952-03-02"
                                },
                                {
                                    "JobTitle": "North American Sales Manager",
                                    "EmployeeID": "274",
                                    "BirthDate": "1951-10-17"
                                }
                            ]
                        },
                        "text/html": "<table><tr><th>JobTitle</th><th>EmployeeID</th><th>BirthDate</th></tr><tr><td>Assistant to the Chief Financial Officer</td><td>262</td><td>1964-06-21</td></tr><tr><td>Sales Representative</td><td>282</td><td>1963-12-11</td></tr><tr><td>Production Technician - WC45</td><td>206</td><td>1962-09-13</td></tr><tr><td>Marketing Specialist</td><td>23</td><td>1962-09-13</td></tr><tr><td>Sales Representative</td><td>277</td><td>1962-08-29</td></tr><tr><td>Design Engineer</td><td>15</td><td>1961-05-02</td></tr><tr><td>Tool Designer</td><td>12</td><td>1959-07-29</td></tr><tr><td>Design Engineer</td><td>6</td><td>1959-03-11</td></tr><tr><td>European Sales Manager</td><td>287</td><td>1957-09-20</td></tr><tr><td>Production Supervisor - WC60</td><td>27</td><td>1956-10-08</td></tr><tr><td>Production Technician - WC10</td><td>50</td><td>1956-08-30</td></tr><tr><td>Production Supervisor - WC60</td><td>62</td><td>1956-08-07</td></tr><tr><td>Production Technician - WC10</td><td>51</td><td>1956-07-11</td></tr><tr><td>Production Technician - WC10</td><td>48</td><td>1956-06-04</td></tr><tr><td>Production Technician - WC10</td><td>52</td><td>1956-04-04</td></tr><tr><td>Production Supervisor - WC50</td><td>55</td><td>1956-04-01</td></tr><tr><td>Production Technician - WC10</td><td>53</td><td>1956-03-29</td></tr><tr><td>Production Technician - WC10</td><td>49</td><td>1956-03-26</td></tr><tr><td>Production Supervisor - WC60</td><td>40</td><td>1956-01-16</td></tr><tr><td>Production Technician - WC60</td><td>63</td><td>1955-01-30</td></tr><tr><td>Janitor</td><td>231</td><td>1954-04-24</td></tr><tr><td>Production Technician - WC20</td><td>140</td><td>1953-04-30</td></tr><tr><td>Design Engineer</td><td>5</td><td>1952-09-27</td></tr><tr><td>Buyer</td><td>256</td><td>1952-05-12</td></tr><tr><td>Production Technician - WC40</td><td>84</td><td>1952-03-02</td></tr><tr><td>North American Sales Manager</td><td>274</td><td>1951-10-17</td></tr></table>"
                    },
                    "metadata": {}
                }
            ],
            "execution_count": 21
        },
        {
            "cell_type": "code",
            "source": [
                "--Part E\r\n",
                "\r\n",
                "SELECT JobTitle, BusinessEntityID AS EmployeeID, \r\n",
                "        BirthDate, HireDate, \r\n",
                "        DATEDIFF(YEAR, HireDate, GETDATE()) AS EmploymentYears \r\n",
                "FROM HumanResources.Employee\r\n",
                "WHERE BirthDate <= '1964-09-11'\r\n",
                "AND HireDate <= '2017-09-11'\r\n",
                "ORDER BY HireDate ASC"
            ],
            "metadata": {
                "language": "sql",
                "azdata_cell_guid": "38abd830-acd5-4a1c-9460-af19aa0fad36"
            },
            "outputs": [
                {
                    "output_type": "display_data",
                    "data": {
                        "text/html": "(26 rows affected)"
                    },
                    "metadata": {}
                },
                {
                    "output_type": "display_data",
                    "data": {
                        "text/html": "Total execution time: 00:00:00.052"
                    },
                    "metadata": {}
                },
                {
                    "output_type": "execute_result",
                    "execution_count": 33,
                    "data": {
                        "application/vnd.dataresource+json": {
                            "schema": {
                                "fields": [
                                    {
                                        "name": "JobTitle"
                                    },
                                    {
                                        "name": "EmployeeID"
                                    },
                                    {
                                        "name": "BirthDate"
                                    },
                                    {
                                        "name": "HireDate"
                                    },
                                    {
                                        "name": "EmploymentYears"
                                    }
                                ]
                            },
                            "data": [
                                {
                                    "JobTitle": "Tool Designer",
                                    "EmployeeID": "12",
                                    "BirthDate": "1959-07-29",
                                    "HireDate": "2007-12-11",
                                    "EmploymentYears": "17"
                                },
                                {
                                    "JobTitle": "Production Supervisor - WC60",
                                    "EmployeeID": "40",
                                    "BirthDate": "1956-01-16",
                                    "HireDate": "2007-12-26",
                                    "EmploymentYears": "17"
                                },
                                {
                                    "JobTitle": "Production Technician - WC10",
                                    "EmployeeID": "48",
                                    "BirthDate": "1956-06-04",
                                    "HireDate": "2008-01-06",
                                    "EmploymentYears": "16"
                                },
                                {
                                    "JobTitle": "Design Engineer",
                                    "EmployeeID": "5",
                                    "BirthDate": "1952-09-27",
                                    "HireDate": "2008-01-06",
                                    "EmploymentYears": "16"
                                },
                                {
                                    "JobTitle": "Production Technician - WC10",
                                    "EmployeeID": "49",
                                    "BirthDate": "1956-03-26",
                                    "HireDate": "2008-01-07",
                                    "EmploymentYears": "16"
                                },
                                {
                                    "JobTitle": "Design Engineer",
                                    "EmployeeID": "6",
                                    "BirthDate": "1959-03-11",
                                    "HireDate": "2008-01-24",
                                    "EmploymentYears": "16"
                                },
                                {
                                    "JobTitle": "Production Technician - WC10",
                                    "EmployeeID": "50",
                                    "BirthDate": "1956-08-30",
                                    "HireDate": "2008-02-02",
                                    "EmploymentYears": "16"
                                },
                                {
                                    "JobTitle": "Production Supervisor - WC50",
                                    "EmployeeID": "55",
                                    "BirthDate": "1956-04-01",
                                    "HireDate": "2008-02-08",
                                    "EmploymentYears": "16"
                                },
                                {
                                    "JobTitle": "Production Technician - WC10",
                                    "EmployeeID": "51",
                                    "BirthDate": "1956-07-11",
                                    "HireDate": "2008-02-20",
                                    "EmploymentYears": "16"
                                },
                                {
                                    "JobTitle": "Production Supervisor - WC60",
                                    "EmployeeID": "27",
                                    "BirthDate": "1956-10-08",
                                    "HireDate": "2008-02-27",
                                    "EmploymentYears": "16"
                                },
                                {
                                    "JobTitle": "Production Technician - WC10",
                                    "EmployeeID": "52",
                                    "BirthDate": "1956-04-04",
                                    "HireDate": "2008-03-10",
                                    "EmploymentYears": "16"
                                },
                                {
                                    "JobTitle": "Production Supervisor - WC60",
                                    "EmployeeID": "62",
                                    "BirthDate": "1956-08-07",
                                    "HireDate": "2008-03-17",
                                    "EmploymentYears": "16"
                                },
                                {
                                    "JobTitle": "Production Technician - WC10",
                                    "EmployeeID": "53",
                                    "BirthDate": "1956-03-29",
                                    "HireDate": "2008-03-28",
                                    "EmploymentYears": "16"
                                },
                                {
                                    "JobTitle": "Production Technician - WC45",
                                    "EmployeeID": "206",
                                    "BirthDate": "1962-09-13",
                                    "HireDate": "2008-12-02",
                                    "EmploymentYears": "16"
                                },
                                {
                                    "JobTitle": "Marketing Specialist",
                                    "EmployeeID": "23",
                                    "BirthDate": "1962-09-13",
                                    "HireDate": "2009-01-12",
                                    "EmploymentYears": "15"
                                },
                                {
                                    "JobTitle": "Assistant to the Chief Financial Officer",
                                    "EmployeeID": "262",
                                    "BirthDate": "1964-06-21",
                                    "HireDate": "2009-01-12",
                                    "EmploymentYears": "15"
                                },
                                {
                                    "JobTitle": "Production Technician - WC20",
                                    "EmployeeID": "140",
                                    "BirthDate": "1953-04-30",
                                    "HireDate": "2010-01-22",
                                    "EmploymentYears": "14"
                                },
                                {
                                    "JobTitle": "Buyer",
                                    "EmployeeID": "256",
                                    "BirthDate": "1952-05-12",
                                    "HireDate": "2010-01-23",
                                    "EmploymentYears": "14"
                                },
                                {
                                    "JobTitle": "Production Technician - WC60",
                                    "EmployeeID": "63",
                                    "BirthDate": "1955-01-30",
                                    "HireDate": "2010-01-29",
                                    "EmploymentYears": "14"
                                },
                                {
                                    "JobTitle": "Production Technician - WC40",
                                    "EmployeeID": "84",
                                    "BirthDate": "1952-03-02",
                                    "HireDate": "2010-02-05",
                                    "EmploymentYears": "14"
                                },
                                {
                                    "JobTitle": "Janitor",
                                    "EmployeeID": "231",
                                    "BirthDate": "1954-04-24",
                                    "HireDate": "2010-03-07",
                                    "EmploymentYears": "14"
                                },
                                {
                                    "JobTitle": "North American Sales Manager",
                                    "EmployeeID": "274",
                                    "BirthDate": "1951-10-17",
                                    "HireDate": "2011-01-04",
                                    "EmploymentYears": "13"
                                },
                                {
                                    "JobTitle": "Design Engineer",
                                    "EmployeeID": "15",
                                    "BirthDate": "1961-05-02",
                                    "HireDate": "2011-01-18",
                                    "EmploymentYears": "13"
                                },
                                {
                                    "JobTitle": "Sales Representative",
                                    "EmployeeID": "277",
                                    "BirthDate": "1962-08-29",
                                    "HireDate": "2011-05-31",
                                    "EmploymentYears": "13"
                                },
                                {
                                    "JobTitle": "Sales Representative",
                                    "EmployeeID": "282",
                                    "BirthDate": "1963-12-11",
                                    "HireDate": "2011-05-31",
                                    "EmploymentYears": "13"
                                },
                                {
                                    "JobTitle": "European Sales Manager",
                                    "EmployeeID": "287",
                                    "BirthDate": "1957-09-20",
                                    "HireDate": "2012-04-16",
                                    "EmploymentYears": "12"
                                }
                            ]
                        },
                        "text/html": "<table><tr><th>JobTitle</th><th>EmployeeID</th><th>BirthDate</th><th>HireDate</th><th>EmploymentYears</th></tr><tr><td>Tool Designer</td><td>12</td><td>1959-07-29</td><td>2007-12-11</td><td>17</td></tr><tr><td>Production Supervisor - WC60</td><td>40</td><td>1956-01-16</td><td>2007-12-26</td><td>17</td></tr><tr><td>Production Technician - WC10</td><td>48</td><td>1956-06-04</td><td>2008-01-06</td><td>16</td></tr><tr><td>Design Engineer</td><td>5</td><td>1952-09-27</td><td>2008-01-06</td><td>16</td></tr><tr><td>Production Technician - WC10</td><td>49</td><td>1956-03-26</td><td>2008-01-07</td><td>16</td></tr><tr><td>Design Engineer</td><td>6</td><td>1959-03-11</td><td>2008-01-24</td><td>16</td></tr><tr><td>Production Technician - WC10</td><td>50</td><td>1956-08-30</td><td>2008-02-02</td><td>16</td></tr><tr><td>Production Supervisor - WC50</td><td>55</td><td>1956-04-01</td><td>2008-02-08</td><td>16</td></tr><tr><td>Production Technician - WC10</td><td>51</td><td>1956-07-11</td><td>2008-02-20</td><td>16</td></tr><tr><td>Production Supervisor - WC60</td><td>27</td><td>1956-10-08</td><td>2008-02-27</td><td>16</td></tr><tr><td>Production Technician - WC10</td><td>52</td><td>1956-04-04</td><td>2008-03-10</td><td>16</td></tr><tr><td>Production Supervisor - WC60</td><td>62</td><td>1956-08-07</td><td>2008-03-17</td><td>16</td></tr><tr><td>Production Technician - WC10</td><td>53</td><td>1956-03-29</td><td>2008-03-28</td><td>16</td></tr><tr><td>Production Technician - WC45</td><td>206</td><td>1962-09-13</td><td>2008-12-02</td><td>16</td></tr><tr><td>Marketing Specialist</td><td>23</td><td>1962-09-13</td><td>2009-01-12</td><td>15</td></tr><tr><td>Assistant to the Chief Financial Officer</td><td>262</td><td>1964-06-21</td><td>2009-01-12</td><td>15</td></tr><tr><td>Production Technician - WC20</td><td>140</td><td>1953-04-30</td><td>2010-01-22</td><td>14</td></tr><tr><td>Buyer</td><td>256</td><td>1952-05-12</td><td>2010-01-23</td><td>14</td></tr><tr><td>Production Technician - WC60</td><td>63</td><td>1955-01-30</td><td>2010-01-29</td><td>14</td></tr><tr><td>Production Technician - WC40</td><td>84</td><td>1952-03-02</td><td>2010-02-05</td><td>14</td></tr><tr><td>Janitor</td><td>231</td><td>1954-04-24</td><td>2010-03-07</td><td>14</td></tr><tr><td>North American Sales Manager</td><td>274</td><td>1951-10-17</td><td>2011-01-04</td><td>13</td></tr><tr><td>Design Engineer</td><td>15</td><td>1961-05-02</td><td>2011-01-18</td><td>13</td></tr><tr><td>Sales Representative</td><td>277</td><td>1962-08-29</td><td>2011-05-31</td><td>13</td></tr><tr><td>Sales Representative</td><td>282</td><td>1963-12-11</td><td>2011-05-31</td><td>13</td></tr><tr><td>European Sales Manager</td><td>287</td><td>1957-09-20</td><td>2012-04-16</td><td>12</td></tr></table>"
                    },
                    "metadata": {}
                }
            ],
            "execution_count": 33
        },
        {
            "cell_type": "code",
            "source": [
                "--Problem 2\r\n",
                "\r\n",
                "USE AdventureWorks2014"
            ],
            "metadata": {
                "language": "sql",
                "azdata_cell_guid": "9abdf688-2a7f-45da-9a48-18207e85d06e"
            },
            "outputs": [
                {
                    "output_type": "display_data",
                    "data": {
                        "text/html": "Commands completed successfully."
                    },
                    "metadata": {}
                },
                {
                    "output_type": "display_data",
                    "data": {
                        "text/html": "Total execution time: 00:00:00.025"
                    },
                    "metadata": {}
                }
            ],
            "execution_count": 32
        },
        {
            "cell_type": "code",
            "source": [
                "--Part A\r\n",
                "\r\n",
                "SELECT Name AS ProductName, ListPrice, SafetyStockLevel\r\n",
                "FROM Production.Product\r\n",
                "WHERE FinishedGoodsFlag = 1\r\n",
                "AND (SellEndDate IS NULL OR SellEndDate > GETDATE())\r\n",
                "ORDER BY \r\n",
                "SafetyStockLevel ASC,\r\n",
                "Name ASC"
            ],
            "metadata": {
                "language": "sql",
                "azdata_cell_guid": "a31eba48-f67a-4e5c-a9c1-f60f8ddfe4da"
            },
            "outputs": [
                {
                    "output_type": "display_data",
                    "data": {
                        "text/html": "(197 rows affected)"
                    },
                    "metadata": {}
                },
                {
                    "output_type": "display_data",
                    "data": {
                        "text/html": "Total execution time: 00:00:00.056"
                    },
                    "metadata": {}
                },
                {
                    "output_type": "execute_result",
                    "execution_count": 26,
                    "data": {
                        "application/vnd.dataresource+json": {
                            "schema": {
                                "fields": [
                                    {
                                        "name": "ProductName"
                                    },
                                    {
                                        "name": "ListPrice"
                                    },
                                    {
                                        "name": "SafetyStockLevel"
                                    }
                                ]
                            },
                            "data": [
                                {
                                    "ProductName": "All-Purpose Bike Stand",
                                    "ListPrice": "159.00",
                                    "SafetyStockLevel": "4"
                                },
                                {
                                    "ProductName": "AWC Logo Cap",
                                    "ListPrice": "8.99",
                                    "SafetyStockLevel": "4"
                                },
                                {
                                    "ProductName": "Bike Wash - Dissolver",
                                    "ListPrice": "7.95",
                                    "SafetyStockLevel": "4"
                                },
                                {
                                    "ProductName": "Classic Vest, L",
                                    "ListPrice": "63.50",
                                    "SafetyStockLevel": "4"
                                },
                                {
                                    "ProductName": "Classic Vest, M",
                                    "ListPrice": "63.50",
                                    "SafetyStockLevel": "4"
                                },
                                {
                                    "ProductName": "Classic Vest, S",
                                    "ListPrice": "63.50",
                                    "SafetyStockLevel": "4"
                                },
                                {
                                    "ProductName": "Fender Set - Mountain",
                                    "ListPrice": "21.98",
                                    "SafetyStockLevel": "4"
                                },
                                {
                                    "ProductName": "Half-Finger Gloves, L",
                                    "ListPrice": "24.49",
                                    "SafetyStockLevel": "4"
                                },
                                {
                                    "ProductName": "Half-Finger Gloves, M",
                                    "ListPrice": "24.49",
                                    "SafetyStockLevel": "4"
                                },
                                {
                                    "ProductName": "Half-Finger Gloves, S",
                                    "ListPrice": "24.49",
                                    "SafetyStockLevel": "4"
                                },
                                {
                                    "ProductName": "Hitch Rack - 4-Bike",
                                    "ListPrice": "120.00",
                                    "SafetyStockLevel": "4"
                                },
                                {
                                    "ProductName": "Hydration Pack - 70 oz.",
                                    "ListPrice": "54.99",
                                    "SafetyStockLevel": "4"
                                },
                                {
                                    "ProductName": "Long-Sleeve Logo Jersey, L",
                                    "ListPrice": "49.99",
                                    "SafetyStockLevel": "4"
                                },
                                {
                                    "ProductName": "Long-Sleeve Logo Jersey, M",
                                    "ListPrice": "49.99",
                                    "SafetyStockLevel": "4"
                                },
                                {
                                    "ProductName": "Long-Sleeve Logo Jersey, S",
                                    "ListPrice": "49.99",
                                    "SafetyStockLevel": "4"
                                },
                                {
                                    "ProductName": "Long-Sleeve Logo Jersey, XL",
                                    "ListPrice": "49.99",
                                    "SafetyStockLevel": "4"
                                },
                                {
                                    "ProductName": "Mountain Bottle Cage",
                                    "ListPrice": "9.99",
                                    "SafetyStockLevel": "4"
                                },
                                {
                                    "ProductName": "Patch Kit/8 Patches",
                                    "ListPrice": "2.29",
                                    "SafetyStockLevel": "4"
                                },
                                {
                                    "ProductName": "Racing Socks, L",
                                    "ListPrice": "8.99",
                                    "SafetyStockLevel": "4"
                                },
                                {
                                    "ProductName": "Racing Socks, M",
                                    "ListPrice": "8.99",
                                    "SafetyStockLevel": "4"
                                },
                                {
                                    "ProductName": "Road Bottle Cage",
                                    "ListPrice": "8.99",
                                    "SafetyStockLevel": "4"
                                },
                                {
                                    "ProductName": "Short-Sleeve Classic Jersey, L",
                                    "ListPrice": "53.99",
                                    "SafetyStockLevel": "4"
                                },
                                {
                                    "ProductName": "Short-Sleeve Classic Jersey, M",
                                    "ListPrice": "53.99",
                                    "SafetyStockLevel": "4"
                                },
                                {
                                    "ProductName": "Short-Sleeve Classic Jersey, S",
                                    "ListPrice": "53.99",
                                    "SafetyStockLevel": "4"
                                },
                                {
                                    "ProductName": "Short-Sleeve Classic Jersey, XL",
                                    "ListPrice": "53.99",
                                    "SafetyStockLevel": "4"
                                },
                                {
                                    "ProductName": "Sport-100 Helmet, Black",
                                    "ListPrice": "34.99",
                                    "SafetyStockLevel": "4"
                                },
                                {
                                    "ProductName": "Sport-100 Helmet, Blue",
                                    "ListPrice": "34.99",
                                    "SafetyStockLevel": "4"
                                },
                                {
                                    "ProductName": "Sport-100 Helmet, Red",
                                    "ListPrice": "34.99",
                                    "SafetyStockLevel": "4"
                                },
                                {
                                    "ProductName": "Water Bottle - 30 oz.",
                                    "ListPrice": "4.99",
                                    "SafetyStockLevel": "4"
                                },
                                {
                                    "ProductName": "Women's Mountain Shorts, L",
                                    "ListPrice": "69.99",
                                    "SafetyStockLevel": "4"
                                },
                                {
                                    "ProductName": "Women's Mountain Shorts, M",
                                    "ListPrice": "69.99",
                                    "SafetyStockLevel": "4"
                                },
                                {
                                    "ProductName": "Women's Mountain Shorts, S",
                                    "ListPrice": "69.99",
                                    "SafetyStockLevel": "4"
                                },
                                {
                                    "ProductName": "Mountain-200 Black, 38",
                                    "ListPrice": "2294.99",
                                    "SafetyStockLevel": "100"
                                },
                                {
                                    "ProductName": "Mountain-200 Black, 42",
                                    "ListPrice": "2294.99",
                                    "SafetyStockLevel": "100"
                                },
                                {
                                    "ProductName": "Mountain-200 Black, 46",
                                    "ListPrice": "2294.99",
                                    "SafetyStockLevel": "100"
                                },
                                {
                                    "ProductName": "Mountain-200 Silver, 38",
                                    "ListPrice": "2319.99",
                                    "SafetyStockLevel": "100"
                                },
                                {
                                    "ProductName": "Mountain-200 Silver, 42",
                                    "ListPrice": "2319.99",
                                    "SafetyStockLevel": "100"
                                },
                                {
                                    "ProductName": "Mountain-200 Silver, 46",
                                    "ListPrice": "2319.99",
                                    "SafetyStockLevel": "100"
                                },
                                {
                                    "ProductName": "Mountain-400-W Silver, 38",
                                    "ListPrice": "769.49",
                                    "SafetyStockLevel": "100"
                                },
                                {
                                    "ProductName": "Mountain-400-W Silver, 40",
                                    "ListPrice": "769.49",
                                    "SafetyStockLevel": "100"
                                },
                                {
                                    "ProductName": "Mountain-400-W Silver, 42",
                                    "ListPrice": "769.49",
                                    "SafetyStockLevel": "100"
                                },
                                {
                                    "ProductName": "Mountain-400-W Silver, 46",
                                    "ListPrice": "769.49",
                                    "SafetyStockLevel": "100"
                                },
                                {
                                    "ProductName": "Mountain-500 Black, 40",
                                    "ListPrice": "539.99",
                                    "SafetyStockLevel": "100"
                                },
                                {
                                    "ProductName": "Mountain-500 Black, 42",
                                    "ListPrice": "539.99",
                                    "SafetyStockLevel": "100"
                                },
                                {
                                    "ProductName": "Mountain-500 Black, 44",
                                    "ListPrice": "539.99",
                                    "SafetyStockLevel": "100"
                                },
                                {
                                    "ProductName": "Mountain-500 Black, 48",
                                    "ListPrice": "539.99",
                                    "SafetyStockLevel": "100"
                                },
                                {
                                    "ProductName": "Mountain-500 Black, 52",
                                    "ListPrice": "539.99",
                                    "SafetyStockLevel": "100"
                                },
                                {
                                    "ProductName": "Mountain-500 Silver, 40",
                                    "ListPrice": "564.99",
                                    "SafetyStockLevel": "100"
                                },
                                {
                                    "ProductName": "Mountain-500 Silver, 42",
                                    "ListPrice": "564.99",
                                    "SafetyStockLevel": "100"
                                },
                                {
                                    "ProductName": "Mountain-500 Silver, 44",
                                    "ListPrice": "564.99",
                                    "SafetyStockLevel": "100"
                                },
                                {
                                    "ProductName": "Mountain-500 Silver, 48",
                                    "ListPrice": "564.99",
                                    "SafetyStockLevel": "100"
                                },
                                {
                                    "ProductName": "Mountain-500 Silver, 52",
                                    "ListPrice": "564.99",
                                    "SafetyStockLevel": "100"
                                },
                                {
                                    "ProductName": "Road-250 Black, 44",
                                    "ListPrice": "2443.35",
                                    "SafetyStockLevel": "100"
                                },
                                {
                                    "ProductName": "Road-250 Black, 48",
                                    "ListPrice": "2443.35",
                                    "SafetyStockLevel": "100"
                                },
                                {
                                    "ProductName": "Road-250 Black, 52",
                                    "ListPrice": "2443.35",
                                    "SafetyStockLevel": "100"
                                },
                                {
                                    "ProductName": "Road-250 Black, 58",
                                    "ListPrice": "2443.35",
                                    "SafetyStockLevel": "100"
                                },
                                {
                                    "ProductName": "Road-250 Red, 58",
                                    "ListPrice": "2443.35",
                                    "SafetyStockLevel": "100"
                                },
                                {
                                    "ProductName": "Road-350-W Yellow, 40",
                                    "ListPrice": "1700.99",
                                    "SafetyStockLevel": "100"
                                },
                                {
                                    "ProductName": "Road-350-W Yellow, 42",
                                    "ListPrice": "1700.99",
                                    "SafetyStockLevel": "100"
                                },
                                {
                                    "ProductName": "Road-350-W Yellow, 44",
                                    "ListPrice": "1700.99",
                                    "SafetyStockLevel": "100"
                                },
                                {
                                    "ProductName": "Road-350-W Yellow, 48",
                                    "ListPrice": "1700.99",
                                    "SafetyStockLevel": "100"
                                },
                                {
                                    "ProductName": "Road-550-W Yellow, 38",
                                    "ListPrice": "1120.49",
                                    "SafetyStockLevel": "100"
                                },
                                {
                                    "ProductName": "Road-550-W Yellow, 40",
                                    "ListPrice": "1120.49",
                                    "SafetyStockLevel": "100"
                                },
                                {
                                    "ProductName": "Road-550-W Yellow, 42",
                                    "ListPrice": "1120.49",
                                    "SafetyStockLevel": "100"
                                },
                                {
                                    "ProductName": "Road-550-W Yellow, 44",
                                    "ListPrice": "1120.49",
                                    "SafetyStockLevel": "100"
                                },
                                {
                                    "ProductName": "Road-550-W Yellow, 48",
                                    "ListPrice": "1120.49",
                                    "SafetyStockLevel": "100"
                                },
                                {
                                    "ProductName": "Road-750 Black, 44",
                                    "ListPrice": "539.99",
                                    "SafetyStockLevel": "100"
                                },
                                {
                                    "ProductName": "Road-750 Black, 48",
                                    "ListPrice": "539.99",
                                    "SafetyStockLevel": "100"
                                },
                                {
                                    "ProductName": "Road-750 Black, 52",
                                    "ListPrice": "539.99",
                                    "SafetyStockLevel": "100"
                                },
                                {
                                    "ProductName": "Road-750 Black, 58",
                                    "ListPrice": "539.99",
                                    "SafetyStockLevel": "100"
                                },
                                {
                                    "ProductName": "Touring-1000 Blue, 46",
                                    "ListPrice": "2384.07",
                                    "SafetyStockLevel": "100"
                                },
                                {
                                    "ProductName": "Touring-1000 Blue, 50",
                                    "ListPrice": "2384.07",
                                    "SafetyStockLevel": "100"
                                },
                                {
                                    "ProductName": "Touring-1000 Blue, 54",
                                    "ListPrice": "2384.07",
                                    "SafetyStockLevel": "100"
                                },
                                {
                                    "ProductName": "Touring-1000 Blue, 60",
                                    "ListPrice": "2384.07",
                                    "SafetyStockLevel": "100"
                                },
                                {
                                    "ProductName": "Touring-1000 Yellow, 46",
                                    "ListPrice": "2384.07",
                                    "SafetyStockLevel": "100"
                                },
                                {
                                    "ProductName": "Touring-1000 Yellow, 50",
                                    "ListPrice": "2384.07",
                                    "SafetyStockLevel": "100"
                                },
                                {
                                    "ProductName": "Touring-1000 Yellow, 54",
                                    "ListPrice": "2384.07",
                                    "SafetyStockLevel": "100"
                                },
                                {
                                    "ProductName": "Touring-1000 Yellow, 60",
                                    "ListPrice": "2384.07",
                                    "SafetyStockLevel": "100"
                                },
                                {
                                    "ProductName": "Touring-2000 Blue, 46",
                                    "ListPrice": "1214.85",
                                    "SafetyStockLevel": "100"
                                },
                                {
                                    "ProductName": "Touring-2000 Blue, 50",
                                    "ListPrice": "1214.85",
                                    "SafetyStockLevel": "100"
                                },
                                {
                                    "ProductName": "Touring-2000 Blue, 54",
                                    "ListPrice": "1214.85",
                                    "SafetyStockLevel": "100"
                                },
                                {
                                    "ProductName": "Touring-2000 Blue, 60",
                                    "ListPrice": "1214.85",
                                    "SafetyStockLevel": "100"
                                },
                                {
                                    "ProductName": "Touring-3000 Blue, 44",
                                    "ListPrice": "742.35",
                                    "SafetyStockLevel": "100"
                                },
                                {
                                    "ProductName": "Touring-3000 Blue, 50",
                                    "ListPrice": "742.35",
                                    "SafetyStockLevel": "100"
                                },
                                {
                                    "ProductName": "Touring-3000 Blue, 54",
                                    "ListPrice": "742.35",
                                    "SafetyStockLevel": "100"
                                },
                                {
                                    "ProductName": "Touring-3000 Blue, 58",
                                    "ListPrice": "742.35",
                                    "SafetyStockLevel": "100"
                                },
                                {
                                    "ProductName": "Touring-3000 Blue, 62",
                                    "ListPrice": "742.35",
                                    "SafetyStockLevel": "100"
                                },
                                {
                                    "ProductName": "Touring-3000 Yellow, 44",
                                    "ListPrice": "742.35",
                                    "SafetyStockLevel": "100"
                                },
                                {
                                    "ProductName": "Touring-3000 Yellow, 50",
                                    "ListPrice": "742.35",
                                    "SafetyStockLevel": "100"
                                },
                                {
                                    "ProductName": "Touring-3000 Yellow, 54",
                                    "ListPrice": "742.35",
                                    "SafetyStockLevel": "100"
                                },
                                {
                                    "ProductName": "Touring-3000 Yellow, 58",
                                    "ListPrice": "742.35",
                                    "SafetyStockLevel": "100"
                                },
                                {
                                    "ProductName": "Touring-3000 Yellow, 62",
                                    "ListPrice": "742.35",
                                    "SafetyStockLevel": "100"
                                },
                                {
                                    "ProductName": "Chain",
                                    "ListPrice": "20.24",
                                    "SafetyStockLevel": "500"
                                },
                                {
                                    "ProductName": "Front Brakes",
                                    "ListPrice": "106.50",
                                    "SafetyStockLevel": "500"
                                },
                                {
                                    "ProductName": "Front Derailleur",
                                    "ListPrice": "91.49",
                                    "SafetyStockLevel": "500"
                                },
                                {
                                    "ProductName": "HL Bottom Bracket",
                                    "ListPrice": "121.49",
                                    "SafetyStockLevel": "500"
                                },
                                {
                                    "ProductName": "HL Crankset",
                                    "ListPrice": "404.99",
                                    "SafetyStockLevel": "500"
                                },
                                {
                                    "ProductName": "HL Mountain Frame - Black, 38",
                                    "ListPrice": "1349.60",
                                    "SafetyStockLevel": "500"
                                },
                                {
                                    "ProductName": "HL Mountain Frame - Black, 42",
                                    "ListPrice": "1349.60",
                                    "SafetyStockLevel": "500"
                                },
                                {
                                    "ProductName": "HL Mountain Frame - Black, 46",
                                    "ListPrice": "1349.60",
                                    "SafetyStockLevel": "500"
                                },
                                {
                                    "ProductName": "HL Mountain Frame - Silver, 38",
                                    "ListPrice": "1364.50",
                                    "SafetyStockLevel": "500"
                                },
                                {
                                    "ProductName": "HL Mountain Frame - Silver, 42",
                                    "ListPrice": "1364.50",
                                    "SafetyStockLevel": "500"
                                },
                                {
                                    "ProductName": "HL Mountain Frame - Silver, 46",
                                    "ListPrice": "1364.50",
                                    "SafetyStockLevel": "500"
                                },
                                {
                                    "ProductName": "HL Mountain Handlebars",
                                    "ListPrice": "120.27",
                                    "SafetyStockLevel": "500"
                                },
                                {
                                    "ProductName": "HL Mountain Pedal",
                                    "ListPrice": "80.99",
                                    "SafetyStockLevel": "500"
                                },
                                {
                                    "ProductName": "HL Mountain Seat/Saddle",
                                    "ListPrice": "52.64",
                                    "SafetyStockLevel": "500"
                                },
                                {
                                    "ProductName": "HL Mountain Tire",
                                    "ListPrice": "35.00",
                                    "SafetyStockLevel": "500"
                                },
                                {
                                    "ProductName": "HL Road Frame - Black, 44",
                                    "ListPrice": "1431.50",
                                    "SafetyStockLevel": "500"
                                },
                                {
                                    "ProductName": "HL Road Frame - Black, 48",
                                    "ListPrice": "1431.50",
                                    "SafetyStockLevel": "500"
                                },
                                {
                                    "ProductName": "HL Road Frame - Black, 52",
                                    "ListPrice": "1431.50",
                                    "SafetyStockLevel": "500"
                                },
                                {
                                    "ProductName": "HL Road Frame - Black, 58",
                                    "ListPrice": "1431.50",
                                    "SafetyStockLevel": "500"
                                },
                                {
                                    "ProductName": "HL Road Frame - Black, 62",
                                    "ListPrice": "1431.50",
                                    "SafetyStockLevel": "500"
                                },
                                {
                                    "ProductName": "HL Road Frame - Red, 44",
                                    "ListPrice": "1431.50",
                                    "SafetyStockLevel": "500"
                                },
                                {
                                    "ProductName": "HL Road Frame - Red, 48",
                                    "ListPrice": "1431.50",
                                    "SafetyStockLevel": "500"
                                },
                                {
                                    "ProductName": "HL Road Frame - Red, 52",
                                    "ListPrice": "1431.50",
                                    "SafetyStockLevel": "500"
                                },
                                {
                                    "ProductName": "HL Road Frame - Red, 56",
                                    "ListPrice": "1431.50",
                                    "SafetyStockLevel": "500"
                                },
                                {
                                    "ProductName": "HL Road Frame - Red, 58",
                                    "ListPrice": "1431.50",
                                    "SafetyStockLevel": "500"
                                },
                                {
                                    "ProductName": "HL Road Frame - Red, 62",
                                    "ListPrice": "1431.50",
                                    "SafetyStockLevel": "500"
                                },
                                {
                                    "ProductName": "HL Road Handlebars",
                                    "ListPrice": "120.27",
                                    "SafetyStockLevel": "500"
                                },
                                {
                                    "ProductName": "HL Road Pedal",
                                    "ListPrice": "80.99",
                                    "SafetyStockLevel": "500"
                                },
                                {
                                    "ProductName": "HL Road Seat/Saddle",
                                    "ListPrice": "52.64",
                                    "SafetyStockLevel": "500"
                                },
                                {
                                    "ProductName": "HL Road Tire",
                                    "ListPrice": "32.60",
                                    "SafetyStockLevel": "500"
                                },
                                {
                                    "ProductName": "HL Touring Frame - Blue, 46",
                                    "ListPrice": "1003.91",
                                    "SafetyStockLevel": "500"
                                },
                                {
                                    "ProductName": "HL Touring Frame - Blue, 50",
                                    "ListPrice": "1003.91",
                                    "SafetyStockLevel": "500"
                                },
                                {
                                    "ProductName": "HL Touring Frame - Blue, 54",
                                    "ListPrice": "1003.91",
                                    "SafetyStockLevel": "500"
                                },
                                {
                                    "ProductName": "HL Touring Frame - Blue, 60",
                                    "ListPrice": "1003.91",
                                    "SafetyStockLevel": "500"
                                },
                                {
                                    "ProductName": "HL Touring Frame - Yellow, 46",
                                    "ListPrice": "1003.91",
                                    "SafetyStockLevel": "500"
                                },
                                {
                                    "ProductName": "HL Touring Frame - Yellow, 50",
                                    "ListPrice": "1003.91",
                                    "SafetyStockLevel": "500"
                                },
                                {
                                    "ProductName": "HL Touring Frame - Yellow, 54",
                                    "ListPrice": "1003.91",
                                    "SafetyStockLevel": "500"
                                },
                                {
                                    "ProductName": "HL Touring Frame - Yellow, 60",
                                    "ListPrice": "1003.91",
                                    "SafetyStockLevel": "500"
                                },
                                {
                                    "ProductName": "HL Touring Handlebars",
                                    "ListPrice": "91.57",
                                    "SafetyStockLevel": "500"
                                },
                                {
                                    "ProductName": "HL Touring Seat/Saddle",
                                    "ListPrice": "52.64",
                                    "SafetyStockLevel": "500"
                                },
                                {
                                    "ProductName": "LL Bottom Bracket",
                                    "ListPrice": "53.99",
                                    "SafetyStockLevel": "500"
                                },
                                {
                                    "ProductName": "LL Crankset",
                                    "ListPrice": "175.49",
                                    "SafetyStockLevel": "500"
                                },
                                {
                                    "ProductName": "LL Mountain Frame - Black, 40",
                                    "ListPrice": "249.79",
                                    "SafetyStockLevel": "500"
                                },
                                {
                                    "ProductName": "LL Mountain Frame - Black, 42",
                                    "ListPrice": "249.79",
                                    "SafetyStockLevel": "500"
                                },
                                {
                                    "ProductName": "LL Mountain Frame - Black, 44",
                                    "ListPrice": "249.79",
                                    "SafetyStockLevel": "500"
                                },
                                {
                                    "ProductName": "LL Mountain Frame - Black, 48",
                                    "ListPrice": "249.79",
                                    "SafetyStockLevel": "500"
                                },
                                {
                                    "ProductName": "LL Mountain Frame - Black, 52",
                                    "ListPrice": "249.79",
                                    "SafetyStockLevel": "500"
                                },
                                {
                                    "ProductName": "LL Mountain Frame - Silver, 40",
                                    "ListPrice": "264.05",
                                    "SafetyStockLevel": "500"
                                },
                                {
                                    "ProductName": "LL Mountain Frame - Silver, 42",
                                    "ListPrice": "264.05",
                                    "SafetyStockLevel": "500"
                                },
                                {
                                    "ProductName": "LL Mountain Frame - Silver, 44",
                                    "ListPrice": "264.05",
                                    "SafetyStockLevel": "500"
                                },
                                {
                                    "ProductName": "LL Mountain Frame - Silver, 48",
                                    "ListPrice": "264.05",
                                    "SafetyStockLevel": "500"
                                },
                                {
                                    "ProductName": "LL Mountain Frame - Silver, 52",
                                    "ListPrice": "264.05",
                                    "SafetyStockLevel": "500"
                                },
                                {
                                    "ProductName": "LL Mountain Handlebars",
                                    "ListPrice": "44.54",
                                    "SafetyStockLevel": "500"
                                },
                                {
                                    "ProductName": "LL Mountain Pedal",
                                    "ListPrice": "40.49",
                                    "SafetyStockLevel": "500"
                                },
                                {
                                    "ProductName": "LL Mountain Seat/Saddle",
                                    "ListPrice": "27.12",
                                    "SafetyStockLevel": "500"
                                },
                                {
                                    "ProductName": "LL Mountain Tire",
                                    "ListPrice": "24.99",
                                    "SafetyStockLevel": "500"
                                },
                                {
                                    "ProductName": "LL Road Frame - Black, 44",
                                    "ListPrice": "337.22",
                                    "SafetyStockLevel": "500"
                                },
                                {
                                    "ProductName": "LL Road Frame - Black, 48",
                                    "ListPrice": "337.22",
                                    "SafetyStockLevel": "500"
                                },
                                {
                                    "ProductName": "LL Road Frame - Black, 52",
                                    "ListPrice": "337.22",
                                    "SafetyStockLevel": "500"
                                },
                                {
                                    "ProductName": "LL Road Frame - Black, 58",
                                    "ListPrice": "337.22",
                                    "SafetyStockLevel": "500"
                                },
                                {
                                    "ProductName": "LL Road Frame - Black, 60",
                                    "ListPrice": "337.22",
                                    "SafetyStockLevel": "500"
                                },
                                {
                                    "ProductName": "LL Road Frame - Black, 62",
                                    "ListPrice": "337.22",
                                    "SafetyStockLevel": "500"
                                },
                                {
                                    "ProductName": "LL Road Handlebars",
                                    "ListPrice": "44.54",
                                    "SafetyStockLevel": "500"
                                },
                                {
                                    "ProductName": "LL Road Pedal",
                                    "ListPrice": "40.49",
                                    "SafetyStockLevel": "500"
                                },
                                {
                                    "ProductName": "LL Road Seat/Saddle",
                                    "ListPrice": "27.12",
                                    "SafetyStockLevel": "500"
                                },
                                {
                                    "ProductName": "LL Road Tire",
                                    "ListPrice": "21.49",
                                    "SafetyStockLevel": "500"
                                },
                                {
                                    "ProductName": "LL Touring Frame - Blue, 44",
                                    "ListPrice": "333.42",
                                    "SafetyStockLevel": "500"
                                },
                                {
                                    "ProductName": "LL Touring Frame - Blue, 50",
                                    "ListPrice": "333.42",
                                    "SafetyStockLevel": "500"
                                },
                                {
                                    "ProductName": "LL Touring Frame - Blue, 54",
                                    "ListPrice": "333.42",
                                    "SafetyStockLevel": "500"
                                },
                                {
                                    "ProductName": "LL Touring Frame - Blue, 58",
                                    "ListPrice": "333.42",
                                    "SafetyStockLevel": "500"
                                },
                                {
                                    "ProductName": "LL Touring Frame - Blue, 62",
                                    "ListPrice": "333.42",
                                    "SafetyStockLevel": "500"
                                },
                                {
                                    "ProductName": "LL Touring Frame - Yellow, 44",
                                    "ListPrice": "333.42",
                                    "SafetyStockLevel": "500"
                                },
                                {
                                    "ProductName": "LL Touring Frame - Yellow, 50",
                                    "ListPrice": "333.42",
                                    "SafetyStockLevel": "500"
                                },
                                {
                                    "ProductName": "LL Touring Frame - Yellow, 54",
                                    "ListPrice": "333.42",
                                    "SafetyStockLevel": "500"
                                },
                                {
                                    "ProductName": "LL Touring Frame - Yellow, 58",
                                    "ListPrice": "333.42",
                                    "SafetyStockLevel": "500"
                                },
                                {
                                    "ProductName": "LL Touring Frame - Yellow, 62",
                                    "ListPrice": "333.42",
                                    "SafetyStockLevel": "500"
                                },
                                {
                                    "ProductName": "LL Touring Handlebars",
                                    "ListPrice": "46.09",
                                    "SafetyStockLevel": "500"
                                },
                                {
                                    "ProductName": "LL Touring Seat/Saddle",
                                    "ListPrice": "27.12",
                                    "SafetyStockLevel": "500"
                                },
                                {
                                    "ProductName": "ML Bottom Bracket",
                                    "ListPrice": "101.24",
                                    "SafetyStockLevel": "500"
                                },
                                {
                                    "ProductName": "ML Crankset",
                                    "ListPrice": "256.49",
                                    "SafetyStockLevel": "500"
                                },
                                {
                                    "ProductName": "ML Mountain Frame-W - Silver, 38",
                                    "ListPrice": "364.09",
                                    "SafetyStockLevel": "500"
                                },
                                {
                                    "ProductName": "ML Mountain Frame-W - Silver, 40",
                                    "ListPrice": "364.09",
                                    "SafetyStockLevel": "500"
                                },
                                {
                                    "ProductName": "ML Mountain Frame-W - Silver, 42",
                                    "ListPrice": "364.09",
                                    "SafetyStockLevel": "500"
                                },
                                {
                                    "ProductName": "ML Mountain Frame-W - Silver, 46",
                                    "ListPrice": "364.09",
                                    "SafetyStockLevel": "500"
                                },
                                {
                                    "ProductName": "ML Mountain Handlebars",
                                    "ListPrice": "61.92",
                                    "SafetyStockLevel": "500"
                                },
                                {
                                    "ProductName": "ML Mountain Pedal",
                                    "ListPrice": "62.09",
                                    "SafetyStockLevel": "500"
                                },
                                {
                                    "ProductName": "ML Mountain Seat/Saddle",
                                    "ListPrice": "39.14",
                                    "SafetyStockLevel": "500"
                                },
                                {
                                    "ProductName": "ML Mountain Tire",
                                    "ListPrice": "29.99",
                                    "SafetyStockLevel": "500"
                                },
                                {
                                    "ProductName": "ML Road Frame-W - Yellow, 38",
                                    "ListPrice": "594.83",
                                    "SafetyStockLevel": "500"
                                },
                                {
                                    "ProductName": "ML Road Frame-W - Yellow, 40",
                                    "ListPrice": "594.83",
                                    "SafetyStockLevel": "500"
                                },
                                {
                                    "ProductName": "ML Road Frame-W - Yellow, 42",
                                    "ListPrice": "594.83",
                                    "SafetyStockLevel": "500"
                                },
                                {
                                    "ProductName": "ML Road Frame-W - Yellow, 44",
                                    "ListPrice": "594.83",
                                    "SafetyStockLevel": "500"
                                },
                                {
                                    "ProductName": "ML Road Frame-W - Yellow, 48",
                                    "ListPrice": "594.83",
                                    "SafetyStockLevel": "500"
                                },
                                {
                                    "ProductName": "ML Road Handlebars",
                                    "ListPrice": "61.92",
                                    "SafetyStockLevel": "500"
                                },
                                {
                                    "ProductName": "ML Road Pedal",
                                    "ListPrice": "62.09",
                                    "SafetyStockLevel": "500"
                                },
                                {
                                    "ProductName": "ML Road Seat/Saddle",
                                    "ListPrice": "39.14",
                                    "SafetyStockLevel": "500"
                                },
                                {
                                    "ProductName": "ML Road Tire",
                                    "ListPrice": "24.99",
                                    "SafetyStockLevel": "500"
                                },
                                {
                                    "ProductName": "ML Touring Seat/Saddle",
                                    "ListPrice": "39.14",
                                    "SafetyStockLevel": "500"
                                },
                                {
                                    "ProductName": "Mountain Tire Tube",
                                    "ListPrice": "4.99",
                                    "SafetyStockLevel": "500"
                                },
                                {
                                    "ProductName": "Rear Brakes",
                                    "ListPrice": "106.50",
                                    "SafetyStockLevel": "500"
                                },
                                {
                                    "ProductName": "Rear Derailleur",
                                    "ListPrice": "121.46",
                                    "SafetyStockLevel": "500"
                                },
                                {
                                    "ProductName": "Road Tire Tube",
                                    "ListPrice": "3.99",
                                    "SafetyStockLevel": "500"
                                },
                                {
                                    "ProductName": "Touring Pedal",
                                    "ListPrice": "80.99",
                                    "SafetyStockLevel": "500"
                                },
                                {
                                    "ProductName": "Touring Tire",
                                    "ListPrice": "28.99",
                                    "SafetyStockLevel": "500"
                                },
                                {
                                    "ProductName": "Touring Tire Tube",
                                    "ListPrice": "4.99",
                                    "SafetyStockLevel": "500"
                                }
                            ]
                        },
                        "text/html": "<table><tr><th>ProductName</th><th>ListPrice</th><th>SafetyStockLevel</th></tr><tr><td>All-Purpose Bike Stand</td><td>159.00</td><td>4</td></tr><tr><td>AWC Logo Cap</td><td>8.99</td><td>4</td></tr><tr><td>Bike Wash - Dissolver</td><td>7.95</td><td>4</td></tr><tr><td>Classic Vest, L</td><td>63.50</td><td>4</td></tr><tr><td>Classic Vest, M</td><td>63.50</td><td>4</td></tr><tr><td>Classic Vest, S</td><td>63.50</td><td>4</td></tr><tr><td>Fender Set - Mountain</td><td>21.98</td><td>4</td></tr><tr><td>Half-Finger Gloves, L</td><td>24.49</td><td>4</td></tr><tr><td>Half-Finger Gloves, M</td><td>24.49</td><td>4</td></tr><tr><td>Half-Finger Gloves, S</td><td>24.49</td><td>4</td></tr><tr><td>Hitch Rack - 4-Bike</td><td>120.00</td><td>4</td></tr><tr><td>Hydration Pack - 70 oz.</td><td>54.99</td><td>4</td></tr><tr><td>Long-Sleeve Logo Jersey, L</td><td>49.99</td><td>4</td></tr><tr><td>Long-Sleeve Logo Jersey, M</td><td>49.99</td><td>4</td></tr><tr><td>Long-Sleeve Logo Jersey, S</td><td>49.99</td><td>4</td></tr><tr><td>Long-Sleeve Logo Jersey, XL</td><td>49.99</td><td>4</td></tr><tr><td>Mountain Bottle Cage</td><td>9.99</td><td>4</td></tr><tr><td>Patch Kit/8 Patches</td><td>2.29</td><td>4</td></tr><tr><td>Racing Socks, L</td><td>8.99</td><td>4</td></tr><tr><td>Racing Socks, M</td><td>8.99</td><td>4</td></tr><tr><td>Road Bottle Cage</td><td>8.99</td><td>4</td></tr><tr><td>Short-Sleeve Classic Jersey, L</td><td>53.99</td><td>4</td></tr><tr><td>Short-Sleeve Classic Jersey, M</td><td>53.99</td><td>4</td></tr><tr><td>Short-Sleeve Classic Jersey, S</td><td>53.99</td><td>4</td></tr><tr><td>Short-Sleeve Classic Jersey, XL</td><td>53.99</td><td>4</td></tr><tr><td>Sport-100 Helmet, Black</td><td>34.99</td><td>4</td></tr><tr><td>Sport-100 Helmet, Blue</td><td>34.99</td><td>4</td></tr><tr><td>Sport-100 Helmet, Red</td><td>34.99</td><td>4</td></tr><tr><td>Water Bottle - 30 oz.</td><td>4.99</td><td>4</td></tr><tr><td>Women&#39;s Mountain Shorts, L</td><td>69.99</td><td>4</td></tr><tr><td>Women&#39;s Mountain Shorts, M</td><td>69.99</td><td>4</td></tr><tr><td>Women&#39;s Mountain Shorts, S</td><td>69.99</td><td>4</td></tr><tr><td>Mountain-200 Black, 38</td><td>2294.99</td><td>100</td></tr><tr><td>Mountain-200 Black, 42</td><td>2294.99</td><td>100</td></tr><tr><td>Mountain-200 Black, 46</td><td>2294.99</td><td>100</td></tr><tr><td>Mountain-200 Silver, 38</td><td>2319.99</td><td>100</td></tr><tr><td>Mountain-200 Silver, 42</td><td>2319.99</td><td>100</td></tr><tr><td>Mountain-200 Silver, 46</td><td>2319.99</td><td>100</td></tr><tr><td>Mountain-400-W Silver, 38</td><td>769.49</td><td>100</td></tr><tr><td>Mountain-400-W Silver, 40</td><td>769.49</td><td>100</td></tr><tr><td>Mountain-400-W Silver, 42</td><td>769.49</td><td>100</td></tr><tr><td>Mountain-400-W Silver, 46</td><td>769.49</td><td>100</td></tr><tr><td>Mountain-500 Black, 40</td><td>539.99</td><td>100</td></tr><tr><td>Mountain-500 Black, 42</td><td>539.99</td><td>100</td></tr><tr><td>Mountain-500 Black, 44</td><td>539.99</td><td>100</td></tr><tr><td>Mountain-500 Black, 48</td><td>539.99</td><td>100</td></tr><tr><td>Mountain-500 Black, 52</td><td>539.99</td><td>100</td></tr><tr><td>Mountain-500 Silver, 40</td><td>564.99</td><td>100</td></tr><tr><td>Mountain-500 Silver, 42</td><td>564.99</td><td>100</td></tr><tr><td>Mountain-500 Silver, 44</td><td>564.99</td><td>100</td></tr><tr><td>Mountain-500 Silver, 48</td><td>564.99</td><td>100</td></tr><tr><td>Mountain-500 Silver, 52</td><td>564.99</td><td>100</td></tr><tr><td>Road-250 Black, 44</td><td>2443.35</td><td>100</td></tr><tr><td>Road-250 Black, 48</td><td>2443.35</td><td>100</td></tr><tr><td>Road-250 Black, 52</td><td>2443.35</td><td>100</td></tr><tr><td>Road-250 Black, 58</td><td>2443.35</td><td>100</td></tr><tr><td>Road-250 Red, 58</td><td>2443.35</td><td>100</td></tr><tr><td>Road-350-W Yellow, 40</td><td>1700.99</td><td>100</td></tr><tr><td>Road-350-W Yellow, 42</td><td>1700.99</td><td>100</td></tr><tr><td>Road-350-W Yellow, 44</td><td>1700.99</td><td>100</td></tr><tr><td>Road-350-W Yellow, 48</td><td>1700.99</td><td>100</td></tr><tr><td>Road-550-W Yellow, 38</td><td>1120.49</td><td>100</td></tr><tr><td>Road-550-W Yellow, 40</td><td>1120.49</td><td>100</td></tr><tr><td>Road-550-W Yellow, 42</td><td>1120.49</td><td>100</td></tr><tr><td>Road-550-W Yellow, 44</td><td>1120.49</td><td>100</td></tr><tr><td>Road-550-W Yellow, 48</td><td>1120.49</td><td>100</td></tr><tr><td>Road-750 Black, 44</td><td>539.99</td><td>100</td></tr><tr><td>Road-750 Black, 48</td><td>539.99</td><td>100</td></tr><tr><td>Road-750 Black, 52</td><td>539.99</td><td>100</td></tr><tr><td>Road-750 Black, 58</td><td>539.99</td><td>100</td></tr><tr><td>Touring-1000 Blue, 46</td><td>2384.07</td><td>100</td></tr><tr><td>Touring-1000 Blue, 50</td><td>2384.07</td><td>100</td></tr><tr><td>Touring-1000 Blue, 54</td><td>2384.07</td><td>100</td></tr><tr><td>Touring-1000 Blue, 60</td><td>2384.07</td><td>100</td></tr><tr><td>Touring-1000 Yellow, 46</td><td>2384.07</td><td>100</td></tr><tr><td>Touring-1000 Yellow, 50</td><td>2384.07</td><td>100</td></tr><tr><td>Touring-1000 Yellow, 54</td><td>2384.07</td><td>100</td></tr><tr><td>Touring-1000 Yellow, 60</td><td>2384.07</td><td>100</td></tr><tr><td>Touring-2000 Blue, 46</td><td>1214.85</td><td>100</td></tr><tr><td>Touring-2000 Blue, 50</td><td>1214.85</td><td>100</td></tr><tr><td>Touring-2000 Blue, 54</td><td>1214.85</td><td>100</td></tr><tr><td>Touring-2000 Blue, 60</td><td>1214.85</td><td>100</td></tr><tr><td>Touring-3000 Blue, 44</td><td>742.35</td><td>100</td></tr><tr><td>Touring-3000 Blue, 50</td><td>742.35</td><td>100</td></tr><tr><td>Touring-3000 Blue, 54</td><td>742.35</td><td>100</td></tr><tr><td>Touring-3000 Blue, 58</td><td>742.35</td><td>100</td></tr><tr><td>Touring-3000 Blue, 62</td><td>742.35</td><td>100</td></tr><tr><td>Touring-3000 Yellow, 44</td><td>742.35</td><td>100</td></tr><tr><td>Touring-3000 Yellow, 50</td><td>742.35</td><td>100</td></tr><tr><td>Touring-3000 Yellow, 54</td><td>742.35</td><td>100</td></tr><tr><td>Touring-3000 Yellow, 58</td><td>742.35</td><td>100</td></tr><tr><td>Touring-3000 Yellow, 62</td><td>742.35</td><td>100</td></tr><tr><td>Chain</td><td>20.24</td><td>500</td></tr><tr><td>Front Brakes</td><td>106.50</td><td>500</td></tr><tr><td>Front Derailleur</td><td>91.49</td><td>500</td></tr><tr><td>HL Bottom Bracket</td><td>121.49</td><td>500</td></tr><tr><td>HL Crankset</td><td>404.99</td><td>500</td></tr><tr><td>HL Mountain Frame - Black, 38</td><td>1349.60</td><td>500</td></tr><tr><td>HL Mountain Frame - Black, 42</td><td>1349.60</td><td>500</td></tr><tr><td>HL Mountain Frame - Black, 46</td><td>1349.60</td><td>500</td></tr><tr><td>HL Mountain Frame - Silver, 38</td><td>1364.50</td><td>500</td></tr><tr><td>HL Mountain Frame - Silver, 42</td><td>1364.50</td><td>500</td></tr><tr><td>HL Mountain Frame - Silver, 46</td><td>1364.50</td><td>500</td></tr><tr><td>HL Mountain Handlebars</td><td>120.27</td><td>500</td></tr><tr><td>HL Mountain Pedal</td><td>80.99</td><td>500</td></tr><tr><td>HL Mountain Seat/Saddle</td><td>52.64</td><td>500</td></tr><tr><td>HL Mountain Tire</td><td>35.00</td><td>500</td></tr><tr><td>HL Road Frame - Black, 44</td><td>1431.50</td><td>500</td></tr><tr><td>HL Road Frame - Black, 48</td><td>1431.50</td><td>500</td></tr><tr><td>HL Road Frame - Black, 52</td><td>1431.50</td><td>500</td></tr><tr><td>HL Road Frame - Black, 58</td><td>1431.50</td><td>500</td></tr><tr><td>HL Road Frame - Black, 62</td><td>1431.50</td><td>500</td></tr><tr><td>HL Road Frame - Red, 44</td><td>1431.50</td><td>500</td></tr><tr><td>HL Road Frame - Red, 48</td><td>1431.50</td><td>500</td></tr><tr><td>HL Road Frame - Red, 52</td><td>1431.50</td><td>500</td></tr><tr><td>HL Road Frame - Red, 56</td><td>1431.50</td><td>500</td></tr><tr><td>HL Road Frame - Red, 58</td><td>1431.50</td><td>500</td></tr><tr><td>HL Road Frame - Red, 62</td><td>1431.50</td><td>500</td></tr><tr><td>HL Road Handlebars</td><td>120.27</td><td>500</td></tr><tr><td>HL Road Pedal</td><td>80.99</td><td>500</td></tr><tr><td>HL Road Seat/Saddle</td><td>52.64</td><td>500</td></tr><tr><td>HL Road Tire</td><td>32.60</td><td>500</td></tr><tr><td>HL Touring Frame - Blue, 46</td><td>1003.91</td><td>500</td></tr><tr><td>HL Touring Frame - Blue, 50</td><td>1003.91</td><td>500</td></tr><tr><td>HL Touring Frame - Blue, 54</td><td>1003.91</td><td>500</td></tr><tr><td>HL Touring Frame - Blue, 60</td><td>1003.91</td><td>500</td></tr><tr><td>HL Touring Frame - Yellow, 46</td><td>1003.91</td><td>500</td></tr><tr><td>HL Touring Frame - Yellow, 50</td><td>1003.91</td><td>500</td></tr><tr><td>HL Touring Frame - Yellow, 54</td><td>1003.91</td><td>500</td></tr><tr><td>HL Touring Frame - Yellow, 60</td><td>1003.91</td><td>500</td></tr><tr><td>HL Touring Handlebars</td><td>91.57</td><td>500</td></tr><tr><td>HL Touring Seat/Saddle</td><td>52.64</td><td>500</td></tr><tr><td>LL Bottom Bracket</td><td>53.99</td><td>500</td></tr><tr><td>LL Crankset</td><td>175.49</td><td>500</td></tr><tr><td>LL Mountain Frame - Black, 40</td><td>249.79</td><td>500</td></tr><tr><td>LL Mountain Frame - Black, 42</td><td>249.79</td><td>500</td></tr><tr><td>LL Mountain Frame - Black, 44</td><td>249.79</td><td>500</td></tr><tr><td>LL Mountain Frame - Black, 48</td><td>249.79</td><td>500</td></tr><tr><td>LL Mountain Frame - Black, 52</td><td>249.79</td><td>500</td></tr><tr><td>LL Mountain Frame - Silver, 40</td><td>264.05</td><td>500</td></tr><tr><td>LL Mountain Frame - Silver, 42</td><td>264.05</td><td>500</td></tr><tr><td>LL Mountain Frame - Silver, 44</td><td>264.05</td><td>500</td></tr><tr><td>LL Mountain Frame - Silver, 48</td><td>264.05</td><td>500</td></tr><tr><td>LL Mountain Frame - Silver, 52</td><td>264.05</td><td>500</td></tr><tr><td>LL Mountain Handlebars</td><td>44.54</td><td>500</td></tr><tr><td>LL Mountain Pedal</td><td>40.49</td><td>500</td></tr><tr><td>LL Mountain Seat/Saddle</td><td>27.12</td><td>500</td></tr><tr><td>LL Mountain Tire</td><td>24.99</td><td>500</td></tr><tr><td>LL Road Frame - Black, 44</td><td>337.22</td><td>500</td></tr><tr><td>LL Road Frame - Black, 48</td><td>337.22</td><td>500</td></tr><tr><td>LL Road Frame - Black, 52</td><td>337.22</td><td>500</td></tr><tr><td>LL Road Frame - Black, 58</td><td>337.22</td><td>500</td></tr><tr><td>LL Road Frame - Black, 60</td><td>337.22</td><td>500</td></tr><tr><td>LL Road Frame - Black, 62</td><td>337.22</td><td>500</td></tr><tr><td>LL Road Handlebars</td><td>44.54</td><td>500</td></tr><tr><td>LL Road Pedal</td><td>40.49</td><td>500</td></tr><tr><td>LL Road Seat/Saddle</td><td>27.12</td><td>500</td></tr><tr><td>LL Road Tire</td><td>21.49</td><td>500</td></tr><tr><td>LL Touring Frame - Blue, 44</td><td>333.42</td><td>500</td></tr><tr><td>LL Touring Frame - Blue, 50</td><td>333.42</td><td>500</td></tr><tr><td>LL Touring Frame - Blue, 54</td><td>333.42</td><td>500</td></tr><tr><td>LL Touring Frame - Blue, 58</td><td>333.42</td><td>500</td></tr><tr><td>LL Touring Frame - Blue, 62</td><td>333.42</td><td>500</td></tr><tr><td>LL Touring Frame - Yellow, 44</td><td>333.42</td><td>500</td></tr><tr><td>LL Touring Frame - Yellow, 50</td><td>333.42</td><td>500</td></tr><tr><td>LL Touring Frame - Yellow, 54</td><td>333.42</td><td>500</td></tr><tr><td>LL Touring Frame - Yellow, 58</td><td>333.42</td><td>500</td></tr><tr><td>LL Touring Frame - Yellow, 62</td><td>333.42</td><td>500</td></tr><tr><td>LL Touring Handlebars</td><td>46.09</td><td>500</td></tr><tr><td>LL Touring Seat/Saddle</td><td>27.12</td><td>500</td></tr><tr><td>ML Bottom Bracket</td><td>101.24</td><td>500</td></tr><tr><td>ML Crankset</td><td>256.49</td><td>500</td></tr><tr><td>ML Mountain Frame-W - Silver, 38</td><td>364.09</td><td>500</td></tr><tr><td>ML Mountain Frame-W - Silver, 40</td><td>364.09</td><td>500</td></tr><tr><td>ML Mountain Frame-W - Silver, 42</td><td>364.09</td><td>500</td></tr><tr><td>ML Mountain Frame-W - Silver, 46</td><td>364.09</td><td>500</td></tr><tr><td>ML Mountain Handlebars</td><td>61.92</td><td>500</td></tr><tr><td>ML Mountain Pedal</td><td>62.09</td><td>500</td></tr><tr><td>ML Mountain Seat/Saddle</td><td>39.14</td><td>500</td></tr><tr><td>ML Mountain Tire</td><td>29.99</td><td>500</td></tr><tr><td>ML Road Frame-W - Yellow, 38</td><td>594.83</td><td>500</td></tr><tr><td>ML Road Frame-W - Yellow, 40</td><td>594.83</td><td>500</td></tr><tr><td>ML Road Frame-W - Yellow, 42</td><td>594.83</td><td>500</td></tr><tr><td>ML Road Frame-W - Yellow, 44</td><td>594.83</td><td>500</td></tr><tr><td>ML Road Frame-W - Yellow, 48</td><td>594.83</td><td>500</td></tr><tr><td>ML Road Handlebars</td><td>61.92</td><td>500</td></tr><tr><td>ML Road Pedal</td><td>62.09</td><td>500</td></tr><tr><td>ML Road Seat/Saddle</td><td>39.14</td><td>500</td></tr><tr><td>ML Road Tire</td><td>24.99</td><td>500</td></tr><tr><td>ML Touring Seat/Saddle</td><td>39.14</td><td>500</td></tr><tr><td>Mountain Tire Tube</td><td>4.99</td><td>500</td></tr><tr><td>Rear Brakes</td><td>106.50</td><td>500</td></tr><tr><td>Rear Derailleur</td><td>121.46</td><td>500</td></tr><tr><td>Road Tire Tube</td><td>3.99</td><td>500</td></tr><tr><td>Touring Pedal</td><td>80.99</td><td>500</td></tr><tr><td>Touring Tire</td><td>28.99</td><td>500</td></tr><tr><td>Touring Tire Tube</td><td>4.99</td><td>500</td></tr></table>"
                    },
                    "metadata": {}
                }
            ],
            "execution_count": 26
        },
        {
            "cell_type": "code",
            "source": [
                "--Part B\r\n",
                "\r\n",
                "SELECT Name AS ProductName, Color\r\n",
                "FROM Production.Product\r\n",
                "WHERE Name LIKE '%Yellow%'\r\n",
                "AND (Color <> 'Yellow' OR Color IS NULL)\r\n",
                "ORDER BY Name ASC"
            ],
            "metadata": {
                "language": "sql",
                "azdata_cell_guid": "2a771613-3882-4a41-829b-3dc1abe4a9ed"
            },
            "outputs": [
                {
                    "output_type": "display_data",
                    "data": {
                        "text/html": "(2 rows affected)"
                    },
                    "metadata": {}
                },
                {
                    "output_type": "display_data",
                    "data": {
                        "text/html": "Total execution time: 00:00:00.038"
                    },
                    "metadata": {}
                },
                {
                    "output_type": "execute_result",
                    "execution_count": 27,
                    "data": {
                        "application/vnd.dataresource+json": {
                            "schema": {
                                "fields": [
                                    {
                                        "name": "ProductName"
                                    },
                                    {
                                        "name": "Color"
                                    }
                                ]
                            },
                            "data": [
                                {
                                    "ProductName": "Paint - Yellow",
                                    "Color": "NULL"
                                },
                                {
                                    "ProductName": "Road-550-W Yellow, 40",
                                    "Color": "Blue"
                                }
                            ]
                        },
                        "text/html": "<table><tr><th>ProductName</th><th>Color</th></tr><tr><td>Paint - Yellow</td><td>NULL</td></tr><tr><td>Road-550-W Yellow, 40</td><td>Blue</td></tr></table>"
                    },
                    "metadata": {}
                }
            ],
            "execution_count": 27
        },
        {
            "cell_type": "code",
            "source": [
                "--Part C\r\n",
                "\r\n",
                "SELECT Name AS ProductName, SellStartDate\r\n",
                "FROM Production.Product\r\n",
                "WHERE SellStartDate BETWEEN '2013-01-01' AND '2013-06-01'\r\n",
                "ORDER BY Name ASC "
            ],
            "metadata": {
                "language": "sql",
                "azdata_cell_guid": "e7c412b8-8d17-44a3-bed7-b08f19e722fa"
            },
            "outputs": [
                {
                    "output_type": "display_data",
                    "data": {
                        "text/html": "(136 rows affected)"
                    },
                    "metadata": {}
                },
                {
                    "output_type": "display_data",
                    "data": {
                        "text/html": "Total execution time: 00:00:00.057"
                    },
                    "metadata": {}
                },
                {
                    "output_type": "execute_result",
                    "execution_count": 28,
                    "data": {
                        "application/vnd.dataresource+json": {
                            "schema": {
                                "fields": [
                                    {
                                        "name": "ProductName"
                                    },
                                    {
                                        "name": "SellStartDate"
                                    }
                                ]
                            },
                            "data": [
                                {
                                    "ProductName": "All-Purpose Bike Stand",
                                    "SellStartDate": "2013-05-30 00:00:00.000"
                                },
                                {
                                    "ProductName": "Bike Wash - Dissolver",
                                    "SellStartDate": "2013-05-30 00:00:00.000"
                                },
                                {
                                    "ProductName": "Chain",
                                    "SellStartDate": "2013-05-30 00:00:00.000"
                                },
                                {
                                    "ProductName": "Classic Vest, L",
                                    "SellStartDate": "2013-05-30 00:00:00.000"
                                },
                                {
                                    "ProductName": "Classic Vest, M",
                                    "SellStartDate": "2013-05-30 00:00:00.000"
                                },
                                {
                                    "ProductName": "Classic Vest, S",
                                    "SellStartDate": "2013-05-30 00:00:00.000"
                                },
                                {
                                    "ProductName": "Fender Set - Mountain",
                                    "SellStartDate": "2013-05-30 00:00:00.000"
                                },
                                {
                                    "ProductName": "Front Brakes",
                                    "SellStartDate": "2013-05-30 00:00:00.000"
                                },
                                {
                                    "ProductName": "Front Derailleur",
                                    "SellStartDate": "2013-05-30 00:00:00.000"
                                },
                                {
                                    "ProductName": "Hitch Rack - 4-Bike",
                                    "SellStartDate": "2013-05-30 00:00:00.000"
                                },
                                {
                                    "ProductName": "HL Bottom Bracket",
                                    "SellStartDate": "2013-05-30 00:00:00.000"
                                },
                                {
                                    "ProductName": "HL Crankset",
                                    "SellStartDate": "2013-05-30 00:00:00.000"
                                },
                                {
                                    "ProductName": "HL Mountain Pedal",
                                    "SellStartDate": "2013-05-30 00:00:00.000"
                                },
                                {
                                    "ProductName": "HL Mountain Seat/Saddle",
                                    "SellStartDate": "2013-05-30 00:00:00.000"
                                },
                                {
                                    "ProductName": "HL Mountain Tire",
                                    "SellStartDate": "2013-05-30 00:00:00.000"
                                },
                                {
                                    "ProductName": "HL Road Pedal",
                                    "SellStartDate": "2013-05-30 00:00:00.000"
                                },
                                {
                                    "ProductName": "HL Road Seat/Saddle",
                                    "SellStartDate": "2013-05-30 00:00:00.000"
                                },
                                {
                                    "ProductName": "HL Road Tire",
                                    "SellStartDate": "2013-05-30 00:00:00.000"
                                },
                                {
                                    "ProductName": "HL Touring Frame - Blue, 46",
                                    "SellStartDate": "2013-05-30 00:00:00.000"
                                },
                                {
                                    "ProductName": "HL Touring Frame - Blue, 50",
                                    "SellStartDate": "2013-05-30 00:00:00.000"
                                },
                                {
                                    "ProductName": "HL Touring Frame - Blue, 54",
                                    "SellStartDate": "2013-05-30 00:00:00.000"
                                },
                                {
                                    "ProductName": "HL Touring Frame - Blue, 60",
                                    "SellStartDate": "2013-05-30 00:00:00.000"
                                },
                                {
                                    "ProductName": "HL Touring Frame - Yellow, 46",
                                    "SellStartDate": "2013-05-30 00:00:00.000"
                                },
                                {
                                    "ProductName": "HL Touring Frame - Yellow, 50",
                                    "SellStartDate": "2013-05-30 00:00:00.000"
                                },
                                {
                                    "ProductName": "HL Touring Frame - Yellow, 54",
                                    "SellStartDate": "2013-05-30 00:00:00.000"
                                },
                                {
                                    "ProductName": "HL Touring Frame - Yellow, 60",
                                    "SellStartDate": "2013-05-30 00:00:00.000"
                                },
                                {
                                    "ProductName": "HL Touring Handlebars",
                                    "SellStartDate": "2013-05-30 00:00:00.000"
                                },
                                {
                                    "ProductName": "HL Touring Seat/Saddle",
                                    "SellStartDate": "2013-05-30 00:00:00.000"
                                },
                                {
                                    "ProductName": "Hydration Pack - 70 oz.",
                                    "SellStartDate": "2013-05-30 00:00:00.000"
                                },
                                {
                                    "ProductName": "LL Bottom Bracket",
                                    "SellStartDate": "2013-05-30 00:00:00.000"
                                },
                                {
                                    "ProductName": "LL Crankset",
                                    "SellStartDate": "2013-05-30 00:00:00.000"
                                },
                                {
                                    "ProductName": "LL Mountain Frame - Black, 40",
                                    "SellStartDate": "2013-05-30 00:00:00.000"
                                },
                                {
                                    "ProductName": "LL Mountain Frame - Black, 42",
                                    "SellStartDate": "2013-05-30 00:00:00.000"
                                },
                                {
                                    "ProductName": "LL Mountain Frame - Black, 44",
                                    "SellStartDate": "2013-05-30 00:00:00.000"
                                },
                                {
                                    "ProductName": "LL Mountain Frame - Black, 48",
                                    "SellStartDate": "2013-05-30 00:00:00.000"
                                },
                                {
                                    "ProductName": "LL Mountain Frame - Black, 52",
                                    "SellStartDate": "2013-05-30 00:00:00.000"
                                },
                                {
                                    "ProductName": "LL Mountain Frame - Silver, 40",
                                    "SellStartDate": "2013-05-30 00:00:00.000"
                                },
                                {
                                    "ProductName": "LL Mountain Frame - Silver, 42",
                                    "SellStartDate": "2013-05-30 00:00:00.000"
                                },
                                {
                                    "ProductName": "LL Mountain Frame - Silver, 44",
                                    "SellStartDate": "2013-05-30 00:00:00.000"
                                },
                                {
                                    "ProductName": "LL Mountain Frame - Silver, 48",
                                    "SellStartDate": "2013-05-30 00:00:00.000"
                                },
                                {
                                    "ProductName": "LL Mountain Frame - Silver, 52",
                                    "SellStartDate": "2013-05-30 00:00:00.000"
                                },
                                {
                                    "ProductName": "LL Mountain Pedal",
                                    "SellStartDate": "2013-05-30 00:00:00.000"
                                },
                                {
                                    "ProductName": "LL Mountain Seat/Saddle",
                                    "SellStartDate": "2013-05-30 00:00:00.000"
                                },
                                {
                                    "ProductName": "LL Mountain Tire",
                                    "SellStartDate": "2013-05-30 00:00:00.000"
                                },
                                {
                                    "ProductName": "LL Road Pedal",
                                    "SellStartDate": "2013-05-30 00:00:00.000"
                                },
                                {
                                    "ProductName": "LL Road Seat/Saddle",
                                    "SellStartDate": "2013-05-30 00:00:00.000"
                                },
                                {
                                    "ProductName": "LL Road Tire",
                                    "SellStartDate": "2013-05-30 00:00:00.000"
                                },
                                {
                                    "ProductName": "LL Touring Frame - Blue, 44",
                                    "SellStartDate": "2013-05-30 00:00:00.000"
                                },
                                {
                                    "ProductName": "LL Touring Frame - Blue, 50",
                                    "SellStartDate": "2013-05-30 00:00:00.000"
                                },
                                {
                                    "ProductName": "LL Touring Frame - Blue, 54",
                                    "SellStartDate": "2013-05-30 00:00:00.000"
                                },
                                {
                                    "ProductName": "LL Touring Frame - Blue, 58",
                                    "SellStartDate": "2013-05-30 00:00:00.000"
                                },
                                {
                                    "ProductName": "LL Touring Frame - Blue, 62",
                                    "SellStartDate": "2013-05-30 00:00:00.000"
                                },
                                {
                                    "ProductName": "LL Touring Frame - Yellow, 44",
                                    "SellStartDate": "2013-05-30 00:00:00.000"
                                },
                                {
                                    "ProductName": "LL Touring Frame - Yellow, 50",
                                    "SellStartDate": "2013-05-30 00:00:00.000"
                                },
                                {
                                    "ProductName": "LL Touring Frame - Yellow, 54",
                                    "SellStartDate": "2013-05-30 00:00:00.000"
                                },
                                {
                                    "ProductName": "LL Touring Frame - Yellow, 58",
                                    "SellStartDate": "2013-05-30 00:00:00.000"
                                },
                                {
                                    "ProductName": "LL Touring Frame - Yellow, 62",
                                    "SellStartDate": "2013-05-30 00:00:00.000"
                                },
                                {
                                    "ProductName": "LL Touring Handlebars",
                                    "SellStartDate": "2013-05-30 00:00:00.000"
                                },
                                {
                                    "ProductName": "LL Touring Seat/Saddle",
                                    "SellStartDate": "2013-05-30 00:00:00.000"
                                },
                                {
                                    "ProductName": "ML Bottom Bracket",
                                    "SellStartDate": "2013-05-30 00:00:00.000"
                                },
                                {
                                    "ProductName": "ML Crankset",
                                    "SellStartDate": "2013-05-30 00:00:00.000"
                                },
                                {
                                    "ProductName": "ML Mountain Frame-W - Silver, 38",
                                    "SellStartDate": "2013-05-30 00:00:00.000"
                                },
                                {
                                    "ProductName": "ML Mountain Frame-W - Silver, 40",
                                    "SellStartDate": "2013-05-30 00:00:00.000"
                                },
                                {
                                    "ProductName": "ML Mountain Frame-W - Silver, 42",
                                    "SellStartDate": "2013-05-30 00:00:00.000"
                                },
                                {
                                    "ProductName": "ML Mountain Frame-W - Silver, 46",
                                    "SellStartDate": "2013-05-30 00:00:00.000"
                                },
                                {
                                    "ProductName": "ML Mountain Pedal",
                                    "SellStartDate": "2013-05-30 00:00:00.000"
                                },
                                {
                                    "ProductName": "ML Mountain Seat/Saddle",
                                    "SellStartDate": "2013-05-30 00:00:00.000"
                                },
                                {
                                    "ProductName": "ML Mountain Tire",
                                    "SellStartDate": "2013-05-30 00:00:00.000"
                                },
                                {
                                    "ProductName": "ML Road Pedal",
                                    "SellStartDate": "2013-05-30 00:00:00.000"
                                },
                                {
                                    "ProductName": "ML Road Seat/Saddle",
                                    "SellStartDate": "2013-05-30 00:00:00.000"
                                },
                                {
                                    "ProductName": "ML Road Tire",
                                    "SellStartDate": "2013-05-30 00:00:00.000"
                                },
                                {
                                    "ProductName": "ML Touring Seat/Saddle",
                                    "SellStartDate": "2013-05-30 00:00:00.000"
                                },
                                {
                                    "ProductName": "Mountain Bottle Cage",
                                    "SellStartDate": "2013-05-30 00:00:00.000"
                                },
                                {
                                    "ProductName": "Mountain Tire Tube",
                                    "SellStartDate": "2013-05-30 00:00:00.000"
                                },
                                {
                                    "ProductName": "Mountain-400-W Silver, 38",
                                    "SellStartDate": "2013-05-30 00:00:00.000"
                                },
                                {
                                    "ProductName": "Mountain-400-W Silver, 40",
                                    "SellStartDate": "2013-05-30 00:00:00.000"
                                },
                                {
                                    "ProductName": "Mountain-400-W Silver, 42",
                                    "SellStartDate": "2013-05-30 00:00:00.000"
                                },
                                {
                                    "ProductName": "Mountain-400-W Silver, 46",
                                    "SellStartDate": "2013-05-30 00:00:00.000"
                                },
                                {
                                    "ProductName": "Mountain-500 Black, 40",
                                    "SellStartDate": "2013-05-30 00:00:00.000"
                                },
                                {
                                    "ProductName": "Mountain-500 Black, 42",
                                    "SellStartDate": "2013-05-30 00:00:00.000"
                                },
                                {
                                    "ProductName": "Mountain-500 Black, 44",
                                    "SellStartDate": "2013-05-30 00:00:00.000"
                                },
                                {
                                    "ProductName": "Mountain-500 Black, 48",
                                    "SellStartDate": "2013-05-30 00:00:00.000"
                                },
                                {
                                    "ProductName": "Mountain-500 Black, 52",
                                    "SellStartDate": "2013-05-30 00:00:00.000"
                                },
                                {
                                    "ProductName": "Mountain-500 Silver, 40",
                                    "SellStartDate": "2013-05-30 00:00:00.000"
                                },
                                {
                                    "ProductName": "Mountain-500 Silver, 42",
                                    "SellStartDate": "2013-05-30 00:00:00.000"
                                },
                                {
                                    "ProductName": "Mountain-500 Silver, 44",
                                    "SellStartDate": "2013-05-30 00:00:00.000"
                                },
                                {
                                    "ProductName": "Mountain-500 Silver, 48",
                                    "SellStartDate": "2013-05-30 00:00:00.000"
                                },
                                {
                                    "ProductName": "Mountain-500 Silver, 52",
                                    "SellStartDate": "2013-05-30 00:00:00.000"
                                },
                                {
                                    "ProductName": "Patch Kit/8 Patches",
                                    "SellStartDate": "2013-05-30 00:00:00.000"
                                },
                                {
                                    "ProductName": "Racing Socks, L",
                                    "SellStartDate": "2013-05-30 00:00:00.000"
                                },
                                {
                                    "ProductName": "Racing Socks, M",
                                    "SellStartDate": "2013-05-30 00:00:00.000"
                                },
                                {
                                    "ProductName": "Rear Brakes",
                                    "SellStartDate": "2013-05-30 00:00:00.000"
                                },
                                {
                                    "ProductName": "Rear Derailleur",
                                    "SellStartDate": "2013-05-30 00:00:00.000"
                                },
                                {
                                    "ProductName": "Road Bottle Cage",
                                    "SellStartDate": "2013-05-30 00:00:00.000"
                                },
                                {
                                    "ProductName": "Road Tire Tube",
                                    "SellStartDate": "2013-05-30 00:00:00.000"
                                },
                                {
                                    "ProductName": "Road-350-W Yellow, 40",
                                    "SellStartDate": "2013-05-30 00:00:00.000"
                                },
                                {
                                    "ProductName": "Road-350-W Yellow, 42",
                                    "SellStartDate": "2013-05-30 00:00:00.000"
                                },
                                {
                                    "ProductName": "Road-350-W Yellow, 44",
                                    "SellStartDate": "2013-05-30 00:00:00.000"
                                },
                                {
                                    "ProductName": "Road-350-W Yellow, 48",
                                    "SellStartDate": "2013-05-30 00:00:00.000"
                                },
                                {
                                    "ProductName": "Road-750 Black, 44",
                                    "SellStartDate": "2013-05-30 00:00:00.000"
                                },
                                {
                                    "ProductName": "Road-750 Black, 48",
                                    "SellStartDate": "2013-05-30 00:00:00.000"
                                },
                                {
                                    "ProductName": "Road-750 Black, 52",
                                    "SellStartDate": "2013-05-30 00:00:00.000"
                                },
                                {
                                    "ProductName": "Road-750 Black, 58",
                                    "SellStartDate": "2013-05-30 00:00:00.000"
                                },
                                {
                                    "ProductName": "Short-Sleeve Classic Jersey, L",
                                    "SellStartDate": "2013-05-30 00:00:00.000"
                                },
                                {
                                    "ProductName": "Short-Sleeve Classic Jersey, M",
                                    "SellStartDate": "2013-05-30 00:00:00.000"
                                },
                                {
                                    "ProductName": "Short-Sleeve Classic Jersey, S",
                                    "SellStartDate": "2013-05-30 00:00:00.000"
                                },
                                {
                                    "ProductName": "Short-Sleeve Classic Jersey, XL",
                                    "SellStartDate": "2013-05-30 00:00:00.000"
                                },
                                {
                                    "ProductName": "Touring Pedal",
                                    "SellStartDate": "2013-05-30 00:00:00.000"
                                },
                                {
                                    "ProductName": "Touring Tire",
                                    "SellStartDate": "2013-05-30 00:00:00.000"
                                },
                                {
                                    "ProductName": "Touring Tire Tube",
                                    "SellStartDate": "2013-05-30 00:00:00.000"
                                },
                                {
                                    "ProductName": "Touring-1000 Blue, 46",
                                    "SellStartDate": "2013-05-30 00:00:00.000"
                                },
                                {
                                    "ProductName": "Touring-1000 Blue, 50",
                                    "SellStartDate": "2013-05-30 00:00:00.000"
                                },
                                {
                                    "ProductName": "Touring-1000 Blue, 54",
                                    "SellStartDate": "2013-05-30 00:00:00.000"
                                },
                                {
                                    "ProductName": "Touring-1000 Blue, 60",
                                    "SellStartDate": "2013-05-30 00:00:00.000"
                                },
                                {
                                    "ProductName": "Touring-1000 Yellow, 46",
                                    "SellStartDate": "2013-05-30 00:00:00.000"
                                },
                                {
                                    "ProductName": "Touring-1000 Yellow, 50",
                                    "SellStartDate": "2013-05-30 00:00:00.000"
                                },
                                {
                                    "ProductName": "Touring-1000 Yellow, 54",
                                    "SellStartDate": "2013-05-30 00:00:00.000"
                                },
                                {
                                    "ProductName": "Touring-1000 Yellow, 60",
                                    "SellStartDate": "2013-05-30 00:00:00.000"
                                },
                                {
                                    "ProductName": "Touring-2000 Blue, 46",
                                    "SellStartDate": "2013-05-30 00:00:00.000"
                                },
                                {
                                    "ProductName": "Touring-2000 Blue, 50",
                                    "SellStartDate": "2013-05-30 00:00:00.000"
                                },
                                {
                                    "ProductName": "Touring-2000 Blue, 54",
                                    "SellStartDate": "2013-05-30 00:00:00.000"
                                },
                                {
                                    "ProductName": "Touring-2000 Blue, 60",
                                    "SellStartDate": "2013-05-30 00:00:00.000"
                                },
                                {
                                    "ProductName": "Touring-3000 Blue, 44",
                                    "SellStartDate": "2013-05-30 00:00:00.000"
                                },
                                {
                                    "ProductName": "Touring-3000 Blue, 50",
                                    "SellStartDate": "2013-05-30 00:00:00.000"
                                },
                                {
                                    "ProductName": "Touring-3000 Blue, 54",
                                    "SellStartDate": "2013-05-30 00:00:00.000"
                                },
                                {
                                    "ProductName": "Touring-3000 Blue, 58",
                                    "SellStartDate": "2013-05-30 00:00:00.000"
                                },
                                {
                                    "ProductName": "Touring-3000 Blue, 62",
                                    "SellStartDate": "2013-05-30 00:00:00.000"
                                },
                                {
                                    "ProductName": "Touring-3000 Yellow, 44",
                                    "SellStartDate": "2013-05-30 00:00:00.000"
                                },
                                {
                                    "ProductName": "Touring-3000 Yellow, 50",
                                    "SellStartDate": "2013-05-30 00:00:00.000"
                                },
                                {
                                    "ProductName": "Touring-3000 Yellow, 54",
                                    "SellStartDate": "2013-05-30 00:00:00.000"
                                },
                                {
                                    "ProductName": "Touring-3000 Yellow, 58",
                                    "SellStartDate": "2013-05-30 00:00:00.000"
                                },
                                {
                                    "ProductName": "Touring-3000 Yellow, 62",
                                    "SellStartDate": "2013-05-30 00:00:00.000"
                                },
                                {
                                    "ProductName": "Water Bottle - 30 oz.",
                                    "SellStartDate": "2013-05-30 00:00:00.000"
                                },
                                {
                                    "ProductName": "Women's Mountain Shorts, L",
                                    "SellStartDate": "2013-05-30 00:00:00.000"
                                },
                                {
                                    "ProductName": "Women's Mountain Shorts, M",
                                    "SellStartDate": "2013-05-30 00:00:00.000"
                                },
                                {
                                    "ProductName": "Women's Mountain Shorts, S",
                                    "SellStartDate": "2013-05-30 00:00:00.000"
                                }
                            ]
                        },
                        "text/html": "<table><tr><th>ProductName</th><th>SellStartDate</th></tr><tr><td>All-Purpose Bike Stand</td><td>2013-05-30 00:00:00.000</td></tr><tr><td>Bike Wash - Dissolver</td><td>2013-05-30 00:00:00.000</td></tr><tr><td>Chain</td><td>2013-05-30 00:00:00.000</td></tr><tr><td>Classic Vest, L</td><td>2013-05-30 00:00:00.000</td></tr><tr><td>Classic Vest, M</td><td>2013-05-30 00:00:00.000</td></tr><tr><td>Classic Vest, S</td><td>2013-05-30 00:00:00.000</td></tr><tr><td>Fender Set - Mountain</td><td>2013-05-30 00:00:00.000</td></tr><tr><td>Front Brakes</td><td>2013-05-30 00:00:00.000</td></tr><tr><td>Front Derailleur</td><td>2013-05-30 00:00:00.000</td></tr><tr><td>Hitch Rack - 4-Bike</td><td>2013-05-30 00:00:00.000</td></tr><tr><td>HL Bottom Bracket</td><td>2013-05-30 00:00:00.000</td></tr><tr><td>HL Crankset</td><td>2013-05-30 00:00:00.000</td></tr><tr><td>HL Mountain Pedal</td><td>2013-05-30 00:00:00.000</td></tr><tr><td>HL Mountain Seat/Saddle</td><td>2013-05-30 00:00:00.000</td></tr><tr><td>HL Mountain Tire</td><td>2013-05-30 00:00:00.000</td></tr><tr><td>HL Road Pedal</td><td>2013-05-30 00:00:00.000</td></tr><tr><td>HL Road Seat/Saddle</td><td>2013-05-30 00:00:00.000</td></tr><tr><td>HL Road Tire</td><td>2013-05-30 00:00:00.000</td></tr><tr><td>HL Touring Frame - Blue, 46</td><td>2013-05-30 00:00:00.000</td></tr><tr><td>HL Touring Frame - Blue, 50</td><td>2013-05-30 00:00:00.000</td></tr><tr><td>HL Touring Frame - Blue, 54</td><td>2013-05-30 00:00:00.000</td></tr><tr><td>HL Touring Frame - Blue, 60</td><td>2013-05-30 00:00:00.000</td></tr><tr><td>HL Touring Frame - Yellow, 46</td><td>2013-05-30 00:00:00.000</td></tr><tr><td>HL Touring Frame - Yellow, 50</td><td>2013-05-30 00:00:00.000</td></tr><tr><td>HL Touring Frame - Yellow, 54</td><td>2013-05-30 00:00:00.000</td></tr><tr><td>HL Touring Frame - Yellow, 60</td><td>2013-05-30 00:00:00.000</td></tr><tr><td>HL Touring Handlebars</td><td>2013-05-30 00:00:00.000</td></tr><tr><td>HL Touring Seat/Saddle</td><td>2013-05-30 00:00:00.000</td></tr><tr><td>Hydration Pack - 70 oz.</td><td>2013-05-30 00:00:00.000</td></tr><tr><td>LL Bottom Bracket</td><td>2013-05-30 00:00:00.000</td></tr><tr><td>LL Crankset</td><td>2013-05-30 00:00:00.000</td></tr><tr><td>LL Mountain Frame - Black, 40</td><td>2013-05-30 00:00:00.000</td></tr><tr><td>LL Mountain Frame - Black, 42</td><td>2013-05-30 00:00:00.000</td></tr><tr><td>LL Mountain Frame - Black, 44</td><td>2013-05-30 00:00:00.000</td></tr><tr><td>LL Mountain Frame - Black, 48</td><td>2013-05-30 00:00:00.000</td></tr><tr><td>LL Mountain Frame - Black, 52</td><td>2013-05-30 00:00:00.000</td></tr><tr><td>LL Mountain Frame - Silver, 40</td><td>2013-05-30 00:00:00.000</td></tr><tr><td>LL Mountain Frame - Silver, 42</td><td>2013-05-30 00:00:00.000</td></tr><tr><td>LL Mountain Frame - Silver, 44</td><td>2013-05-30 00:00:00.000</td></tr><tr><td>LL Mountain Frame - Silver, 48</td><td>2013-05-30 00:00:00.000</td></tr><tr><td>LL Mountain Frame - Silver, 52</td><td>2013-05-30 00:00:00.000</td></tr><tr><td>LL Mountain Pedal</td><td>2013-05-30 00:00:00.000</td></tr><tr><td>LL Mountain Seat/Saddle</td><td>2013-05-30 00:00:00.000</td></tr><tr><td>LL Mountain Tire</td><td>2013-05-30 00:00:00.000</td></tr><tr><td>LL Road Pedal</td><td>2013-05-30 00:00:00.000</td></tr><tr><td>LL Road Seat/Saddle</td><td>2013-05-30 00:00:00.000</td></tr><tr><td>LL Road Tire</td><td>2013-05-30 00:00:00.000</td></tr><tr><td>LL Touring Frame - Blue, 44</td><td>2013-05-30 00:00:00.000</td></tr><tr><td>LL Touring Frame - Blue, 50</td><td>2013-05-30 00:00:00.000</td></tr><tr><td>LL Touring Frame - Blue, 54</td><td>2013-05-30 00:00:00.000</td></tr><tr><td>LL Touring Frame - Blue, 58</td><td>2013-05-30 00:00:00.000</td></tr><tr><td>LL Touring Frame - Blue, 62</td><td>2013-05-30 00:00:00.000</td></tr><tr><td>LL Touring Frame - Yellow, 44</td><td>2013-05-30 00:00:00.000</td></tr><tr><td>LL Touring Frame - Yellow, 50</td><td>2013-05-30 00:00:00.000</td></tr><tr><td>LL Touring Frame - Yellow, 54</td><td>2013-05-30 00:00:00.000</td></tr><tr><td>LL Touring Frame - Yellow, 58</td><td>2013-05-30 00:00:00.000</td></tr><tr><td>LL Touring Frame - Yellow, 62</td><td>2013-05-30 00:00:00.000</td></tr><tr><td>LL Touring Handlebars</td><td>2013-05-30 00:00:00.000</td></tr><tr><td>LL Touring Seat/Saddle</td><td>2013-05-30 00:00:00.000</td></tr><tr><td>ML Bottom Bracket</td><td>2013-05-30 00:00:00.000</td></tr><tr><td>ML Crankset</td><td>2013-05-30 00:00:00.000</td></tr><tr><td>ML Mountain Frame-W - Silver, 38</td><td>2013-05-30 00:00:00.000</td></tr><tr><td>ML Mountain Frame-W - Silver, 40</td><td>2013-05-30 00:00:00.000</td></tr><tr><td>ML Mountain Frame-W - Silver, 42</td><td>2013-05-30 00:00:00.000</td></tr><tr><td>ML Mountain Frame-W - Silver, 46</td><td>2013-05-30 00:00:00.000</td></tr><tr><td>ML Mountain Pedal</td><td>2013-05-30 00:00:00.000</td></tr><tr><td>ML Mountain Seat/Saddle</td><td>2013-05-30 00:00:00.000</td></tr><tr><td>ML Mountain Tire</td><td>2013-05-30 00:00:00.000</td></tr><tr><td>ML Road Pedal</td><td>2013-05-30 00:00:00.000</td></tr><tr><td>ML Road Seat/Saddle</td><td>2013-05-30 00:00:00.000</td></tr><tr><td>ML Road Tire</td><td>2013-05-30 00:00:00.000</td></tr><tr><td>ML Touring Seat/Saddle</td><td>2013-05-30 00:00:00.000</td></tr><tr><td>Mountain Bottle Cage</td><td>2013-05-30 00:00:00.000</td></tr><tr><td>Mountain Tire Tube</td><td>2013-05-30 00:00:00.000</td></tr><tr><td>Mountain-400-W Silver, 38</td><td>2013-05-30 00:00:00.000</td></tr><tr><td>Mountain-400-W Silver, 40</td><td>2013-05-30 00:00:00.000</td></tr><tr><td>Mountain-400-W Silver, 42</td><td>2013-05-30 00:00:00.000</td></tr><tr><td>Mountain-400-W Silver, 46</td><td>2013-05-30 00:00:00.000</td></tr><tr><td>Mountain-500 Black, 40</td><td>2013-05-30 00:00:00.000</td></tr><tr><td>Mountain-500 Black, 42</td><td>2013-05-30 00:00:00.000</td></tr><tr><td>Mountain-500 Black, 44</td><td>2013-05-30 00:00:00.000</td></tr><tr><td>Mountain-500 Black, 48</td><td>2013-05-30 00:00:00.000</td></tr><tr><td>Mountain-500 Black, 52</td><td>2013-05-30 00:00:00.000</td></tr><tr><td>Mountain-500 Silver, 40</td><td>2013-05-30 00:00:00.000</td></tr><tr><td>Mountain-500 Silver, 42</td><td>2013-05-30 00:00:00.000</td></tr><tr><td>Mountain-500 Silver, 44</td><td>2013-05-30 00:00:00.000</td></tr><tr><td>Mountain-500 Silver, 48</td><td>2013-05-30 00:00:00.000</td></tr><tr><td>Mountain-500 Silver, 52</td><td>2013-05-30 00:00:00.000</td></tr><tr><td>Patch Kit/8 Patches</td><td>2013-05-30 00:00:00.000</td></tr><tr><td>Racing Socks, L</td><td>2013-05-30 00:00:00.000</td></tr><tr><td>Racing Socks, M</td><td>2013-05-30 00:00:00.000</td></tr><tr><td>Rear Brakes</td><td>2013-05-30 00:00:00.000</td></tr><tr><td>Rear Derailleur</td><td>2013-05-30 00:00:00.000</td></tr><tr><td>Road Bottle Cage</td><td>2013-05-30 00:00:00.000</td></tr><tr><td>Road Tire Tube</td><td>2013-05-30 00:00:00.000</td></tr><tr><td>Road-350-W Yellow, 40</td><td>2013-05-30 00:00:00.000</td></tr><tr><td>Road-350-W Yellow, 42</td><td>2013-05-30 00:00:00.000</td></tr><tr><td>Road-350-W Yellow, 44</td><td>2013-05-30 00:00:00.000</td></tr><tr><td>Road-350-W Yellow, 48</td><td>2013-05-30 00:00:00.000</td></tr><tr><td>Road-750 Black, 44</td><td>2013-05-30 00:00:00.000</td></tr><tr><td>Road-750 Black, 48</td><td>2013-05-30 00:00:00.000</td></tr><tr><td>Road-750 Black, 52</td><td>2013-05-30 00:00:00.000</td></tr><tr><td>Road-750 Black, 58</td><td>2013-05-30 00:00:00.000</td></tr><tr><td>Short-Sleeve Classic Jersey, L</td><td>2013-05-30 00:00:00.000</td></tr><tr><td>Short-Sleeve Classic Jersey, M</td><td>2013-05-30 00:00:00.000</td></tr><tr><td>Short-Sleeve Classic Jersey, S</td><td>2013-05-30 00:00:00.000</td></tr><tr><td>Short-Sleeve Classic Jersey, XL</td><td>2013-05-30 00:00:00.000</td></tr><tr><td>Touring Pedal</td><td>2013-05-30 00:00:00.000</td></tr><tr><td>Touring Tire</td><td>2013-05-30 00:00:00.000</td></tr><tr><td>Touring Tire Tube</td><td>2013-05-30 00:00:00.000</td></tr><tr><td>Touring-1000 Blue, 46</td><td>2013-05-30 00:00:00.000</td></tr><tr><td>Touring-1000 Blue, 50</td><td>2013-05-30 00:00:00.000</td></tr><tr><td>Touring-1000 Blue, 54</td><td>2013-05-30 00:00:00.000</td></tr><tr><td>Touring-1000 Blue, 60</td><td>2013-05-30 00:00:00.000</td></tr><tr><td>Touring-1000 Yellow, 46</td><td>2013-05-30 00:00:00.000</td></tr><tr><td>Touring-1000 Yellow, 50</td><td>2013-05-30 00:00:00.000</td></tr><tr><td>Touring-1000 Yellow, 54</td><td>2013-05-30 00:00:00.000</td></tr><tr><td>Touring-1000 Yellow, 60</td><td>2013-05-30 00:00:00.000</td></tr><tr><td>Touring-2000 Blue, 46</td><td>2013-05-30 00:00:00.000</td></tr><tr><td>Touring-2000 Blue, 50</td><td>2013-05-30 00:00:00.000</td></tr><tr><td>Touring-2000 Blue, 54</td><td>2013-05-30 00:00:00.000</td></tr><tr><td>Touring-2000 Blue, 60</td><td>2013-05-30 00:00:00.000</td></tr><tr><td>Touring-3000 Blue, 44</td><td>2013-05-30 00:00:00.000</td></tr><tr><td>Touring-3000 Blue, 50</td><td>2013-05-30 00:00:00.000</td></tr><tr><td>Touring-3000 Blue, 54</td><td>2013-05-30 00:00:00.000</td></tr><tr><td>Touring-3000 Blue, 58</td><td>2013-05-30 00:00:00.000</td></tr><tr><td>Touring-3000 Blue, 62</td><td>2013-05-30 00:00:00.000</td></tr><tr><td>Touring-3000 Yellow, 44</td><td>2013-05-30 00:00:00.000</td></tr><tr><td>Touring-3000 Yellow, 50</td><td>2013-05-30 00:00:00.000</td></tr><tr><td>Touring-3000 Yellow, 54</td><td>2013-05-30 00:00:00.000</td></tr><tr><td>Touring-3000 Yellow, 58</td><td>2013-05-30 00:00:00.000</td></tr><tr><td>Touring-3000 Yellow, 62</td><td>2013-05-30 00:00:00.000</td></tr><tr><td>Water Bottle - 30 oz.</td><td>2013-05-30 00:00:00.000</td></tr><tr><td>Women&#39;s Mountain Shorts, L</td><td>2013-05-30 00:00:00.000</td></tr><tr><td>Women&#39;s Mountain Shorts, M</td><td>2013-05-30 00:00:00.000</td></tr><tr><td>Women&#39;s Mountain Shorts, S</td><td>2013-05-30 00:00:00.000</td></tr></table>"
                    },
                    "metadata": {}
                }
            ],
            "execution_count": 28
        },
        {
            "cell_type": "code",
            "source": [
                "--Part D\r\n",
                "\r\n",
                "SELECT Name AS ProductName,\r\n",
                "                SellStartDate, \r\n",
                "                DATENAME(WEEKDAY, SellStartDate) AS DayOfWeek\r\n",
                "FROM Production.Product\r\n",
                "WHERE DATEPART(WEEKDAY, SellStartDate) >= 4\r\n",
                "ORDER BY SellStartDate ASC,\r\n",
                "Name ASC "
            ],
            "metadata": {
                "language": "sql",
                "azdata_cell_guid": "d3e759f0-0176-43f7-a618-cc00f6339b3a",
                "tags": []
            },
            "outputs": [
                {
                    "output_type": "display_data",
                    "data": {
                        "text/html": "(432 rows affected)"
                    },
                    "metadata": {}
                },
                {
                    "output_type": "display_data",
                    "data": {
                        "text/html": "Total execution time: 00:00:00.038"
                    },
                    "metadata": {}
                },
                {
                    "output_type": "execute_result",
                    "execution_count": 34,
                    "data": {
                        "application/vnd.dataresource+json": {
                            "schema": {
                                "fields": [
                                    {
                                        "name": "ProductName"
                                    },
                                    {
                                        "name": "SellStartDate"
                                    },
                                    {
                                        "name": "DayOfWeek"
                                    }
                                ]
                            },
                            "data": [
                                {
                                    "ProductName": "Adjustable Race",
                                    "SellStartDate": "2008-04-30 00:00:00.000",
                                    "DayOfWeek": "Wednesday"
                                },
                                {
                                    "ProductName": "BB Ball Bearing",
                                    "SellStartDate": "2008-04-30 00:00:00.000",
                                    "DayOfWeek": "Wednesday"
                                },
                                {
                                    "ProductName": "Bearing Ball",
                                    "SellStartDate": "2008-04-30 00:00:00.000",
                                    "DayOfWeek": "Wednesday"
                                },
                                {
                                    "ProductName": "Blade",
                                    "SellStartDate": "2008-04-30 00:00:00.000",
                                    "DayOfWeek": "Wednesday"
                                },
                                {
                                    "ProductName": "Chain Stays",
                                    "SellStartDate": "2008-04-30 00:00:00.000",
                                    "DayOfWeek": "Wednesday"
                                },
                                {
                                    "ProductName": "Chainring",
                                    "SellStartDate": "2008-04-30 00:00:00.000",
                                    "DayOfWeek": "Wednesday"
                                },
                                {
                                    "ProductName": "Chainring Bolts",
                                    "SellStartDate": "2008-04-30 00:00:00.000",
                                    "DayOfWeek": "Wednesday"
                                },
                                {
                                    "ProductName": "Chainring Nut",
                                    "SellStartDate": "2008-04-30 00:00:00.000",
                                    "DayOfWeek": "Wednesday"
                                },
                                {
                                    "ProductName": "Cone-Shaped Race",
                                    "SellStartDate": "2008-04-30 00:00:00.000",
                                    "DayOfWeek": "Wednesday"
                                },
                                {
                                    "ProductName": "Crown Race",
                                    "SellStartDate": "2008-04-30 00:00:00.000",
                                    "DayOfWeek": "Wednesday"
                                },
                                {
                                    "ProductName": "Cup-Shaped Race",
                                    "SellStartDate": "2008-04-30 00:00:00.000",
                                    "DayOfWeek": "Wednesday"
                                },
                                {
                                    "ProductName": "Decal 1",
                                    "SellStartDate": "2008-04-30 00:00:00.000",
                                    "DayOfWeek": "Wednesday"
                                },
                                {
                                    "ProductName": "Decal 2",
                                    "SellStartDate": "2008-04-30 00:00:00.000",
                                    "DayOfWeek": "Wednesday"
                                },
                                {
                                    "ProductName": "Down Tube",
                                    "SellStartDate": "2008-04-30 00:00:00.000",
                                    "DayOfWeek": "Wednesday"
                                },
                                {
                                    "ProductName": "External Lock Washer 1",
                                    "SellStartDate": "2008-04-30 00:00:00.000",
                                    "DayOfWeek": "Wednesday"
                                },
                                {
                                    "ProductName": "External Lock Washer 2",
                                    "SellStartDate": "2008-04-30 00:00:00.000",
                                    "DayOfWeek": "Wednesday"
                                },
                                {
                                    "ProductName": "External Lock Washer 3",
                                    "SellStartDate": "2008-04-30 00:00:00.000",
                                    "DayOfWeek": "Wednesday"
                                },
                                {
                                    "ProductName": "External Lock Washer 4",
                                    "SellStartDate": "2008-04-30 00:00:00.000",
                                    "DayOfWeek": "Wednesday"
                                },
                                {
                                    "ProductName": "External Lock Washer 5",
                                    "SellStartDate": "2008-04-30 00:00:00.000",
                                    "DayOfWeek": "Wednesday"
                                },
                                {
                                    "ProductName": "External Lock Washer 6",
                                    "SellStartDate": "2008-04-30 00:00:00.000",
                                    "DayOfWeek": "Wednesday"
                                },
                                {
                                    "ProductName": "External Lock Washer 7",
                                    "SellStartDate": "2008-04-30 00:00:00.000",
                                    "DayOfWeek": "Wednesday"
                                },
                                {
                                    "ProductName": "External Lock Washer 8",
                                    "SellStartDate": "2008-04-30 00:00:00.000",
                                    "DayOfWeek": "Wednesday"
                                },
                                {
                                    "ProductName": "External Lock Washer 9",
                                    "SellStartDate": "2008-04-30 00:00:00.000",
                                    "DayOfWeek": "Wednesday"
                                },
                                {
                                    "ProductName": "Flat Washer 1",
                                    "SellStartDate": "2008-04-30 00:00:00.000",
                                    "DayOfWeek": "Wednesday"
                                },
                                {
                                    "ProductName": "Flat Washer 2",
                                    "SellStartDate": "2008-04-30 00:00:00.000",
                                    "DayOfWeek": "Wednesday"
                                },
                                {
                                    "ProductName": "Flat Washer 3",
                                    "SellStartDate": "2008-04-30 00:00:00.000",
                                    "DayOfWeek": "Wednesday"
                                },
                                {
                                    "ProductName": "Flat Washer 4",
                                    "SellStartDate": "2008-04-30 00:00:00.000",
                                    "DayOfWeek": "Wednesday"
                                },
                                {
                                    "ProductName": "Flat Washer 5",
                                    "SellStartDate": "2008-04-30 00:00:00.000",
                                    "DayOfWeek": "Wednesday"
                                },
                                {
                                    "ProductName": "Flat Washer 6",
                                    "SellStartDate": "2008-04-30 00:00:00.000",
                                    "DayOfWeek": "Wednesday"
                                },
                                {
                                    "ProductName": "Flat Washer 7",
                                    "SellStartDate": "2008-04-30 00:00:00.000",
                                    "DayOfWeek": "Wednesday"
                                },
                                {
                                    "ProductName": "Flat Washer 8",
                                    "SellStartDate": "2008-04-30 00:00:00.000",
                                    "DayOfWeek": "Wednesday"
                                },
                                {
                                    "ProductName": "Flat Washer 9",
                                    "SellStartDate": "2008-04-30 00:00:00.000",
                                    "DayOfWeek": "Wednesday"
                                },
                                {
                                    "ProductName": "Fork Crown",
                                    "SellStartDate": "2008-04-30 00:00:00.000",
                                    "DayOfWeek": "Wednesday"
                                },
                                {
                                    "ProductName": "Fork End",
                                    "SellStartDate": "2008-04-30 00:00:00.000",
                                    "DayOfWeek": "Wednesday"
                                },
                                {
                                    "ProductName": "Freewheel",
                                    "SellStartDate": "2008-04-30 00:00:00.000",
                                    "DayOfWeek": "Wednesday"
                                },
                                {
                                    "ProductName": "Front Derailleur Cage",
                                    "SellStartDate": "2008-04-30 00:00:00.000",
                                    "DayOfWeek": "Wednesday"
                                },
                                {
                                    "ProductName": "Front Derailleur Linkage",
                                    "SellStartDate": "2008-04-30 00:00:00.000",
                                    "DayOfWeek": "Wednesday"
                                },
                                {
                                    "ProductName": "Guide Pulley",
                                    "SellStartDate": "2008-04-30 00:00:00.000",
                                    "DayOfWeek": "Wednesday"
                                },
                                {
                                    "ProductName": "Handlebar Tube",
                                    "SellStartDate": "2008-04-30 00:00:00.000",
                                    "DayOfWeek": "Wednesday"
                                },
                                {
                                    "ProductName": "Head Tube",
                                    "SellStartDate": "2008-04-30 00:00:00.000",
                                    "DayOfWeek": "Wednesday"
                                },
                                {
                                    "ProductName": "Headset Ball Bearings",
                                    "SellStartDate": "2008-04-30 00:00:00.000",
                                    "DayOfWeek": "Wednesday"
                                },
                                {
                                    "ProductName": "Hex Nut 1",
                                    "SellStartDate": "2008-04-30 00:00:00.000",
                                    "DayOfWeek": "Wednesday"
                                },
                                {
                                    "ProductName": "Hex Nut 10",
                                    "SellStartDate": "2008-04-30 00:00:00.000",
                                    "DayOfWeek": "Wednesday"
                                },
                                {
                                    "ProductName": "Hex Nut 11",
                                    "SellStartDate": "2008-04-30 00:00:00.000",
                                    "DayOfWeek": "Wednesday"
                                },
                                {
                                    "ProductName": "Hex Nut 12",
                                    "SellStartDate": "2008-04-30 00:00:00.000",
                                    "DayOfWeek": "Wednesday"
                                },
                                {
                                    "ProductName": "Hex Nut 13",
                                    "SellStartDate": "2008-04-30 00:00:00.000",
                                    "DayOfWeek": "Wednesday"
                                },
                                {
                                    "ProductName": "Hex Nut 14",
                                    "SellStartDate": "2008-04-30 00:00:00.000",
                                    "DayOfWeek": "Wednesday"
                                },
                                {
                                    "ProductName": "Hex Nut 15",
                                    "SellStartDate": "2008-04-30 00:00:00.000",
                                    "DayOfWeek": "Wednesday"
                                },
                                {
                                    "ProductName": "Hex Nut 16",
                                    "SellStartDate": "2008-04-30 00:00:00.000",
                                    "DayOfWeek": "Wednesday"
                                },
                                {
                                    "ProductName": "Hex Nut 17",
                                    "SellStartDate": "2008-04-30 00:00:00.000",
                                    "DayOfWeek": "Wednesday"
                                },
                                {
                                    "ProductName": "Hex Nut 18",
                                    "SellStartDate": "2008-04-30 00:00:00.000",
                                    "DayOfWeek": "Wednesday"
                                },
                                {
                                    "ProductName": "Hex Nut 19",
                                    "SellStartDate": "2008-04-30 00:00:00.000",
                                    "DayOfWeek": "Wednesday"
                                },
                                {
                                    "ProductName": "Hex Nut 2",
                                    "SellStartDate": "2008-04-30 00:00:00.000",
                                    "DayOfWeek": "Wednesday"
                                },
                                {
                                    "ProductName": "Hex Nut 20",
                                    "SellStartDate": "2008-04-30 00:00:00.000",
                                    "DayOfWeek": "Wednesday"
                                },
                                {
                                    "ProductName": "Hex Nut 21",
                                    "SellStartDate": "2008-04-30 00:00:00.000",
                                    "DayOfWeek": "Wednesday"
                                },
                                {
                                    "ProductName": "Hex Nut 22",
                                    "SellStartDate": "2008-04-30 00:00:00.000",
                                    "DayOfWeek": "Wednesday"
                                },
                                {
                                    "ProductName": "Hex Nut 23",
                                    "SellStartDate": "2008-04-30 00:00:00.000",
                                    "DayOfWeek": "Wednesday"
                                },
                                {
                                    "ProductName": "Hex Nut 3",
                                    "SellStartDate": "2008-04-30 00:00:00.000",
                                    "DayOfWeek": "Wednesday"
                                },
                                {
                                    "ProductName": "Hex Nut 4",
                                    "SellStartDate": "2008-04-30 00:00:00.000",
                                    "DayOfWeek": "Wednesday"
                                },
                                {
                                    "ProductName": "Hex Nut 5",
                                    "SellStartDate": "2008-04-30 00:00:00.000",
                                    "DayOfWeek": "Wednesday"
                                },
                                {
                                    "ProductName": "Hex Nut 6",
                                    "SellStartDate": "2008-04-30 00:00:00.000",
                                    "DayOfWeek": "Wednesday"
                                },
                                {
                                    "ProductName": "Hex Nut 7",
                                    "SellStartDate": "2008-04-30 00:00:00.000",
                                    "DayOfWeek": "Wednesday"
                                },
                                {
                                    "ProductName": "Hex Nut 8",
                                    "SellStartDate": "2008-04-30 00:00:00.000",
                                    "DayOfWeek": "Wednesday"
                                },
                                {
                                    "ProductName": "Hex Nut 9",
                                    "SellStartDate": "2008-04-30 00:00:00.000",
                                    "DayOfWeek": "Wednesday"
                                },
                                {
                                    "ProductName": "HL Crankarm",
                                    "SellStartDate": "2008-04-30 00:00:00.000",
                                    "DayOfWeek": "Wednesday"
                                },
                                {
                                    "ProductName": "HL Grip Tape",
                                    "SellStartDate": "2008-04-30 00:00:00.000",
                                    "DayOfWeek": "Wednesday"
                                },
                                {
                                    "ProductName": "HL Hub",
                                    "SellStartDate": "2008-04-30 00:00:00.000",
                                    "DayOfWeek": "Wednesday"
                                },
                                {
                                    "ProductName": "HL Mountain Rim",
                                    "SellStartDate": "2008-04-30 00:00:00.000",
                                    "DayOfWeek": "Wednesday"
                                },
                                {
                                    "ProductName": "HL Mountain Seat Assembly",
                                    "SellStartDate": "2008-04-30 00:00:00.000",
                                    "DayOfWeek": "Wednesday"
                                },
                                {
                                    "ProductName": "HL Nipple",
                                    "SellStartDate": "2008-04-30 00:00:00.000",
                                    "DayOfWeek": "Wednesday"
                                },
                                {
                                    "ProductName": "HL Road Frame - Black, 58",
                                    "SellStartDate": "2008-04-30 00:00:00.000",
                                    "DayOfWeek": "Wednesday"
                                },
                                {
                                    "ProductName": "HL Road Frame - Red, 58",
                                    "SellStartDate": "2008-04-30 00:00:00.000",
                                    "DayOfWeek": "Wednesday"
                                },
                                {
                                    "ProductName": "HL Road Rim",
                                    "SellStartDate": "2008-04-30 00:00:00.000",
                                    "DayOfWeek": "Wednesday"
                                },
                                {
                                    "ProductName": "HL Road Seat Assembly",
                                    "SellStartDate": "2008-04-30 00:00:00.000",
                                    "DayOfWeek": "Wednesday"
                                },
                                {
                                    "ProductName": "HL Shell",
                                    "SellStartDate": "2008-04-30 00:00:00.000",
                                    "DayOfWeek": "Wednesday"
                                },
                                {
                                    "ProductName": "HL Spindle/Axle",
                                    "SellStartDate": "2008-04-30 00:00:00.000",
                                    "DayOfWeek": "Wednesday"
                                },
                                {
                                    "ProductName": "HL Touring Seat Assembly",
                                    "SellStartDate": "2008-04-30 00:00:00.000",
                                    "DayOfWeek": "Wednesday"
                                },
                                {
                                    "ProductName": "Internal Lock Washer 1",
                                    "SellStartDate": "2008-04-30 00:00:00.000",
                                    "DayOfWeek": "Wednesday"
                                },
                                {
                                    "ProductName": "Internal Lock Washer 10",
                                    "SellStartDate": "2008-04-30 00:00:00.000",
                                    "DayOfWeek": "Wednesday"
                                },
                                {
                                    "ProductName": "Internal Lock Washer 2",
                                    "SellStartDate": "2008-04-30 00:00:00.000",
                                    "DayOfWeek": "Wednesday"
                                },
                                {
                                    "ProductName": "Internal Lock Washer 3",
                                    "SellStartDate": "2008-04-30 00:00:00.000",
                                    "DayOfWeek": "Wednesday"
                                },
                                {
                                    "ProductName": "Internal Lock Washer 4",
                                    "SellStartDate": "2008-04-30 00:00:00.000",
                                    "DayOfWeek": "Wednesday"
                                },
                                {
                                    "ProductName": "Internal Lock Washer 5",
                                    "SellStartDate": "2008-04-30 00:00:00.000",
                                    "DayOfWeek": "Wednesday"
                                },
                                {
                                    "ProductName": "Internal Lock Washer 6",
                                    "SellStartDate": "2008-04-30 00:00:00.000",
                                    "DayOfWeek": "Wednesday"
                                },
                                {
                                    "ProductName": "Internal Lock Washer 7",
                                    "SellStartDate": "2008-04-30 00:00:00.000",
                                    "DayOfWeek": "Wednesday"
                                },
                                {
                                    "ProductName": "Internal Lock Washer 8",
                                    "SellStartDate": "2008-04-30 00:00:00.000",
                                    "DayOfWeek": "Wednesday"
                                },
                                {
                                    "ProductName": "Internal Lock Washer 9",
                                    "SellStartDate": "2008-04-30 00:00:00.000",
                                    "DayOfWeek": "Wednesday"
                                },
                                {
                                    "ProductName": "Keyed Washer",
                                    "SellStartDate": "2008-04-30 00:00:00.000",
                                    "DayOfWeek": "Wednesday"
                                },
                                {
                                    "ProductName": "LL Crankarm",
                                    "SellStartDate": "2008-04-30 00:00:00.000",
                                    "DayOfWeek": "Wednesday"
                                },
                                {
                                    "ProductName": "LL Grip Tape",
                                    "SellStartDate": "2008-04-30 00:00:00.000",
                                    "DayOfWeek": "Wednesday"
                                },
                                {
                                    "ProductName": "LL Hub",
                                    "SellStartDate": "2008-04-30 00:00:00.000",
                                    "DayOfWeek": "Wednesday"
                                },
                                {
                                    "ProductName": "LL Mountain Rim",
                                    "SellStartDate": "2008-04-30 00:00:00.000",
                                    "DayOfWeek": "Wednesday"
                                },
                                {
                                    "ProductName": "LL Mountain Seat Assembly",
                                    "SellStartDate": "2008-04-30 00:00:00.000",
                                    "DayOfWeek": "Wednesday"
                                },
                                {
                                    "ProductName": "LL Nipple",
                                    "SellStartDate": "2008-04-30 00:00:00.000",
                                    "DayOfWeek": "Wednesday"
                                },
                                {
                                    "ProductName": "LL Road Rim",
                                    "SellStartDate": "2008-04-30 00:00:00.000",
                                    "DayOfWeek": "Wednesday"
                                },
                                {
                                    "ProductName": "LL Road Seat Assembly",
                                    "SellStartDate": "2008-04-30 00:00:00.000",
                                    "DayOfWeek": "Wednesday"
                                },
                                {
                                    "ProductName": "LL Shell",
                                    "SellStartDate": "2008-04-30 00:00:00.000",
                                    "DayOfWeek": "Wednesday"
                                },
                                {
                                    "ProductName": "LL Spindle/Axle",
                                    "SellStartDate": "2008-04-30 00:00:00.000",
                                    "DayOfWeek": "Wednesday"
                                },
                                {
                                    "ProductName": "LL Touring Seat Assembly",
                                    "SellStartDate": "2008-04-30 00:00:00.000",
                                    "DayOfWeek": "Wednesday"
                                },
                                {
                                    "ProductName": "Lock Nut 1",
                                    "SellStartDate": "2008-04-30 00:00:00.000",
                                    "DayOfWeek": "Wednesday"
                                },
                                {
                                    "ProductName": "Lock Nut 10",
                                    "SellStartDate": "2008-04-30 00:00:00.000",
                                    "DayOfWeek": "Wednesday"
                                },
                                {
                                    "ProductName": "Lock Nut 11",
                                    "SellStartDate": "2008-04-30 00:00:00.000",
                                    "DayOfWeek": "Wednesday"
                                },
                                {
                                    "ProductName": "Lock Nut 12",
                                    "SellStartDate": "2008-04-30 00:00:00.000",
                                    "DayOfWeek": "Wednesday"
                                },
                                {
                                    "ProductName": "Lock Nut 13",
                                    "SellStartDate": "2008-04-30 00:00:00.000",
                                    "DayOfWeek": "Wednesday"
                                },
                                {
                                    "ProductName": "Lock Nut 14",
                                    "SellStartDate": "2008-04-30 00:00:00.000",
                                    "DayOfWeek": "Wednesday"
                                },
                                {
                                    "ProductName": "Lock Nut 15",
                                    "SellStartDate": "2008-04-30 00:00:00.000",
                                    "DayOfWeek": "Wednesday"
                                },
                                {
                                    "ProductName": "Lock Nut 16",
                                    "SellStartDate": "2008-04-30 00:00:00.000",
                                    "DayOfWeek": "Wednesday"
                                },
                                {
                                    "ProductName": "Lock Nut 17",
                                    "SellStartDate": "2008-04-30 00:00:00.000",
                                    "DayOfWeek": "Wednesday"
                                },
                                {
                                    "ProductName": "Lock Nut 18",
                                    "SellStartDate": "2008-04-30 00:00:00.000",
                                    "DayOfWeek": "Wednesday"
                                },
                                {
                                    "ProductName": "Lock Nut 19",
                                    "SellStartDate": "2008-04-30 00:00:00.000",
                                    "DayOfWeek": "Wednesday"
                                },
                                {
                                    "ProductName": "Lock Nut 2",
                                    "SellStartDate": "2008-04-30 00:00:00.000",
                                    "DayOfWeek": "Wednesday"
                                },
                                {
                                    "ProductName": "Lock Nut 20",
                                    "SellStartDate": "2008-04-30 00:00:00.000",
                                    "DayOfWeek": "Wednesday"
                                },
                                {
                                    "ProductName": "Lock Nut 21",
                                    "SellStartDate": "2008-04-30 00:00:00.000",
                                    "DayOfWeek": "Wednesday"
                                },
                                {
                                    "ProductName": "Lock Nut 22",
                                    "SellStartDate": "2008-04-30 00:00:00.000",
                                    "DayOfWeek": "Wednesday"
                                },
                                {
                                    "ProductName": "Lock Nut 23",
                                    "SellStartDate": "2008-04-30 00:00:00.000",
                                    "DayOfWeek": "Wednesday"
                                },
                                {
                                    "ProductName": "Lock Nut 3",
                                    "SellStartDate": "2008-04-30 00:00:00.000",
                                    "DayOfWeek": "Wednesday"
                                },
                                {
                                    "ProductName": "Lock Nut 4",
                                    "SellStartDate": "2008-04-30 00:00:00.000",
                                    "DayOfWeek": "Wednesday"
                                },
                                {
                                    "ProductName": "Lock Nut 5",
                                    "SellStartDate": "2008-04-30 00:00:00.000",
                                    "DayOfWeek": "Wednesday"
                                },
                                {
                                    "ProductName": "Lock Nut 6",
                                    "SellStartDate": "2008-04-30 00:00:00.000",
                                    "DayOfWeek": "Wednesday"
                                },
                                {
                                    "ProductName": "Lock Nut 7",
                                    "SellStartDate": "2008-04-30 00:00:00.000",
                                    "DayOfWeek": "Wednesday"
                                },
                                {
                                    "ProductName": "Lock Nut 8",
                                    "SellStartDate": "2008-04-30 00:00:00.000",
                                    "DayOfWeek": "Wednesday"
                                },
                                {
                                    "ProductName": "Lock Nut 9",
                                    "SellStartDate": "2008-04-30 00:00:00.000",
                                    "DayOfWeek": "Wednesday"
                                },
                                {
                                    "ProductName": "Lock Ring",
                                    "SellStartDate": "2008-04-30 00:00:00.000",
                                    "DayOfWeek": "Wednesday"
                                },
                                {
                                    "ProductName": "Lock Washer 1",
                                    "SellStartDate": "2008-04-30 00:00:00.000",
                                    "DayOfWeek": "Wednesday"
                                },
                                {
                                    "ProductName": "Lock Washer 10",
                                    "SellStartDate": "2008-04-30 00:00:00.000",
                                    "DayOfWeek": "Wednesday"
                                },
                                {
                                    "ProductName": "Lock Washer 11",
                                    "SellStartDate": "2008-04-30 00:00:00.000",
                                    "DayOfWeek": "Wednesday"
                                },
                                {
                                    "ProductName": "Lock Washer 12",
                                    "SellStartDate": "2008-04-30 00:00:00.000",
                                    "DayOfWeek": "Wednesday"
                                },
                                {
                                    "ProductName": "Lock Washer 13",
                                    "SellStartDate": "2008-04-30 00:00:00.000",
                                    "DayOfWeek": "Wednesday"
                                },
                                {
                                    "ProductName": "Lock Washer 2",
                                    "SellStartDate": "2008-04-30 00:00:00.000",
                                    "DayOfWeek": "Wednesday"
                                },
                                {
                                    "ProductName": "Lock Washer 3",
                                    "SellStartDate": "2008-04-30 00:00:00.000",
                                    "DayOfWeek": "Wednesday"
                                },
                                {
                                    "ProductName": "Lock Washer 4",
                                    "SellStartDate": "2008-04-30 00:00:00.000",
                                    "DayOfWeek": "Wednesday"
                                },
                                {
                                    "ProductName": "Lock Washer 5",
                                    "SellStartDate": "2008-04-30 00:00:00.000",
                                    "DayOfWeek": "Wednesday"
                                },
                                {
                                    "ProductName": "Lock Washer 6",
                                    "SellStartDate": "2008-04-30 00:00:00.000",
                                    "DayOfWeek": "Wednesday"
                                },
                                {
                                    "ProductName": "Lock Washer 7",
                                    "SellStartDate": "2008-04-30 00:00:00.000",
                                    "DayOfWeek": "Wednesday"
                                },
                                {
                                    "ProductName": "Lock Washer 8",
                                    "SellStartDate": "2008-04-30 00:00:00.000",
                                    "DayOfWeek": "Wednesday"
                                },
                                {
                                    "ProductName": "Lock Washer 9",
                                    "SellStartDate": "2008-04-30 00:00:00.000",
                                    "DayOfWeek": "Wednesday"
                                },
                                {
                                    "ProductName": "Lower Head Race",
                                    "SellStartDate": "2008-04-30 00:00:00.000",
                                    "DayOfWeek": "Wednesday"
                                },
                                {
                                    "ProductName": "Metal Angle",
                                    "SellStartDate": "2008-04-30 00:00:00.000",
                                    "DayOfWeek": "Wednesday"
                                },
                                {
                                    "ProductName": "Metal Bar 1",
                                    "SellStartDate": "2008-04-30 00:00:00.000",
                                    "DayOfWeek": "Wednesday"
                                },
                                {
                                    "ProductName": "Metal Bar 2",
                                    "SellStartDate": "2008-04-30 00:00:00.000",
                                    "DayOfWeek": "Wednesday"
                                },
                                {
                                    "ProductName": "Metal Plate 1",
                                    "SellStartDate": "2008-04-30 00:00:00.000",
                                    "DayOfWeek": "Wednesday"
                                },
                                {
                                    "ProductName": "Metal Plate 2",
                                    "SellStartDate": "2008-04-30 00:00:00.000",
                                    "DayOfWeek": "Wednesday"
                                },
                                {
                                    "ProductName": "Metal Plate 3",
                                    "SellStartDate": "2008-04-30 00:00:00.000",
                                    "DayOfWeek": "Wednesday"
                                },
                                {
                                    "ProductName": "Metal Sheet 1",
                                    "SellStartDate": "2008-04-30 00:00:00.000",
                                    "DayOfWeek": "Wednesday"
                                },
                                {
                                    "ProductName": "Metal Sheet 2",
                                    "SellStartDate": "2008-04-30 00:00:00.000",
                                    "DayOfWeek": "Wednesday"
                                },
                                {
                                    "ProductName": "Metal Sheet 3",
                                    "SellStartDate": "2008-04-30 00:00:00.000",
                                    "DayOfWeek": "Wednesday"
                                },
                                {
                                    "ProductName": "Metal Sheet 4",
                                    "SellStartDate": "2008-04-30 00:00:00.000",
                                    "DayOfWeek": "Wednesday"
                                },
                                {
                                    "ProductName": "Metal Sheet 5",
                                    "SellStartDate": "2008-04-30 00:00:00.000",
                                    "DayOfWeek": "Wednesday"
                                },
                                {
                                    "ProductName": "Metal Sheet 6",
                                    "SellStartDate": "2008-04-30 00:00:00.000",
                                    "DayOfWeek": "Wednesday"
                                },
                                {
                                    "ProductName": "Metal Sheet 7",
                                    "SellStartDate": "2008-04-30 00:00:00.000",
                                    "DayOfWeek": "Wednesday"
                                },
                                {
                                    "ProductName": "Metal Tread Plate",
                                    "SellStartDate": "2008-04-30 00:00:00.000",
                                    "DayOfWeek": "Wednesday"
                                },
                                {
                                    "ProductName": "ML Crankarm",
                                    "SellStartDate": "2008-04-30 00:00:00.000",
                                    "DayOfWeek": "Wednesday"
                                },
                                {
                                    "ProductName": "ML Grip Tape",
                                    "SellStartDate": "2008-04-30 00:00:00.000",
                                    "DayOfWeek": "Wednesday"
                                },
                                {
                                    "ProductName": "ML Mountain Rim",
                                    "SellStartDate": "2008-04-30 00:00:00.000",
                                    "DayOfWeek": "Wednesday"
                                },
                                {
                                    "ProductName": "ML Mountain Seat Assembly",
                                    "SellStartDate": "2008-04-30 00:00:00.000",
                                    "DayOfWeek": "Wednesday"
                                },
                                {
                                    "ProductName": "ML Road Rim",
                                    "SellStartDate": "2008-04-30 00:00:00.000",
                                    "DayOfWeek": "Wednesday"
                                },
                                {
                                    "ProductName": "ML Road Seat Assembly",
                                    "SellStartDate": "2008-04-30 00:00:00.000",
                                    "DayOfWeek": "Wednesday"
                                },
                                {
                                    "ProductName": "ML Touring Seat Assembly",
                                    "SellStartDate": "2008-04-30 00:00:00.000",
                                    "DayOfWeek": "Wednesday"
                                },
                                {
                                    "ProductName": "Mountain End Caps",
                                    "SellStartDate": "2008-04-30 00:00:00.000",
                                    "DayOfWeek": "Wednesday"
                                },
                                {
                                    "ProductName": "Paint - Black",
                                    "SellStartDate": "2008-04-30 00:00:00.000",
                                    "DayOfWeek": "Wednesday"
                                },
                                {
                                    "ProductName": "Paint - Blue",
                                    "SellStartDate": "2008-04-30 00:00:00.000",
                                    "DayOfWeek": "Wednesday"
                                },
                                {
                                    "ProductName": "Paint - Red",
                                    "SellStartDate": "2008-04-30 00:00:00.000",
                                    "DayOfWeek": "Wednesday"
                                },
                                {
                                    "ProductName": "Paint - Silver",
                                    "SellStartDate": "2008-04-30 00:00:00.000",
                                    "DayOfWeek": "Wednesday"
                                },
                                {
                                    "ProductName": "Paint - Yellow",
                                    "SellStartDate": "2008-04-30 00:00:00.000",
                                    "DayOfWeek": "Wednesday"
                                },
                                {
                                    "ProductName": "Pinch Bolt",
                                    "SellStartDate": "2008-04-30 00:00:00.000",
                                    "DayOfWeek": "Wednesday"
                                },
                                {
                                    "ProductName": "Rear Derailleur Cage",
                                    "SellStartDate": "2008-04-30 00:00:00.000",
                                    "DayOfWeek": "Wednesday"
                                },
                                {
                                    "ProductName": "Reflector",
                                    "SellStartDate": "2008-04-30 00:00:00.000",
                                    "DayOfWeek": "Wednesday"
                                },
                                {
                                    "ProductName": "Road End Caps",
                                    "SellStartDate": "2008-04-30 00:00:00.000",
                                    "DayOfWeek": "Wednesday"
                                },
                                {
                                    "ProductName": "Seat Lug",
                                    "SellStartDate": "2008-04-30 00:00:00.000",
                                    "DayOfWeek": "Wednesday"
                                },
                                {
                                    "ProductName": "Seat Post",
                                    "SellStartDate": "2008-04-30 00:00:00.000",
                                    "DayOfWeek": "Wednesday"
                                },
                                {
                                    "ProductName": "Seat Stays",
                                    "SellStartDate": "2008-04-30 00:00:00.000",
                                    "DayOfWeek": "Wednesday"
                                },
                                {
                                    "ProductName": "Seat Tube",
                                    "SellStartDate": "2008-04-30 00:00:00.000",
                                    "DayOfWeek": "Wednesday"
                                },
                                {
                                    "ProductName": "Spokes",
                                    "SellStartDate": "2008-04-30 00:00:00.000",
                                    "DayOfWeek": "Wednesday"
                                },
                                {
                                    "ProductName": "Steerer",
                                    "SellStartDate": "2008-04-30 00:00:00.000",
                                    "DayOfWeek": "Wednesday"
                                },
                                {
                                    "ProductName": "Stem",
                                    "SellStartDate": "2008-04-30 00:00:00.000",
                                    "DayOfWeek": "Wednesday"
                                },
                                {
                                    "ProductName": "Tension Pulley",
                                    "SellStartDate": "2008-04-30 00:00:00.000",
                                    "DayOfWeek": "Wednesday"
                                },
                                {
                                    "ProductName": "Thin-Jam Hex Nut 1",
                                    "SellStartDate": "2008-04-30 00:00:00.000",
                                    "DayOfWeek": "Wednesday"
                                },
                                {
                                    "ProductName": "Thin-Jam Hex Nut 10",
                                    "SellStartDate": "2008-04-30 00:00:00.000",
                                    "DayOfWeek": "Wednesday"
                                },
                                {
                                    "ProductName": "Thin-Jam Hex Nut 11",
                                    "SellStartDate": "2008-04-30 00:00:00.000",
                                    "DayOfWeek": "Wednesday"
                                },
                                {
                                    "ProductName": "Thin-Jam Hex Nut 12",
                                    "SellStartDate": "2008-04-30 00:00:00.000",
                                    "DayOfWeek": "Wednesday"
                                },
                                {
                                    "ProductName": "Thin-Jam Hex Nut 13",
                                    "SellStartDate": "2008-04-30 00:00:00.000",
                                    "DayOfWeek": "Wednesday"
                                },
                                {
                                    "ProductName": "Thin-Jam Hex Nut 14",
                                    "SellStartDate": "2008-04-30 00:00:00.000",
                                    "DayOfWeek": "Wednesday"
                                },
                                {
                                    "ProductName": "Thin-Jam Hex Nut 15",
                                    "SellStartDate": "2008-04-30 00:00:00.000",
                                    "DayOfWeek": "Wednesday"
                                },
                                {
                                    "ProductName": "Thin-Jam Hex Nut 16",
                                    "SellStartDate": "2008-04-30 00:00:00.000",
                                    "DayOfWeek": "Wednesday"
                                },
                                {
                                    "ProductName": "Thin-Jam Hex Nut 2",
                                    "SellStartDate": "2008-04-30 00:00:00.000",
                                    "DayOfWeek": "Wednesday"
                                },
                                {
                                    "ProductName": "Thin-Jam Hex Nut 3",
                                    "SellStartDate": "2008-04-30 00:00:00.000",
                                    "DayOfWeek": "Wednesday"
                                },
                                {
                                    "ProductName": "Thin-Jam Hex Nut 4",
                                    "SellStartDate": "2008-04-30 00:00:00.000",
                                    "DayOfWeek": "Wednesday"
                                },
                                {
                                    "ProductName": "Thin-Jam Hex Nut 5",
                                    "SellStartDate": "2008-04-30 00:00:00.000",
                                    "DayOfWeek": "Wednesday"
                                },
                                {
                                    "ProductName": "Thin-Jam Hex Nut 6",
                                    "SellStartDate": "2008-04-30 00:00:00.000",
                                    "DayOfWeek": "Wednesday"
                                },
                                {
                                    "ProductName": "Thin-Jam Hex Nut 7",
                                    "SellStartDate": "2008-04-30 00:00:00.000",
                                    "DayOfWeek": "Wednesday"
                                },
                                {
                                    "ProductName": "Thin-Jam Hex Nut 8",
                                    "SellStartDate": "2008-04-30 00:00:00.000",
                                    "DayOfWeek": "Wednesday"
                                },
                                {
                                    "ProductName": "Thin-Jam Hex Nut 9",
                                    "SellStartDate": "2008-04-30 00:00:00.000",
                                    "DayOfWeek": "Wednesday"
                                },
                                {
                                    "ProductName": "Thin-Jam Lock Nut 1",
                                    "SellStartDate": "2008-04-30 00:00:00.000",
                                    "DayOfWeek": "Wednesday"
                                },
                                {
                                    "ProductName": "Thin-Jam Lock Nut 10",
                                    "SellStartDate": "2008-04-30 00:00:00.000",
                                    "DayOfWeek": "Wednesday"
                                },
                                {
                                    "ProductName": "Thin-Jam Lock Nut 11",
                                    "SellStartDate": "2008-04-30 00:00:00.000",
                                    "DayOfWeek": "Wednesday"
                                },
                                {
                                    "ProductName": "Thin-Jam Lock Nut 12",
                                    "SellStartDate": "2008-04-30 00:00:00.000",
                                    "DayOfWeek": "Wednesday"
                                },
                                {
                                    "ProductName": "Thin-Jam Lock Nut 13",
                                    "SellStartDate": "2008-04-30 00:00:00.000",
                                    "DayOfWeek": "Wednesday"
                                },
                                {
                                    "ProductName": "Thin-Jam Lock Nut 14",
                                    "SellStartDate": "2008-04-30 00:00:00.000",
                                    "DayOfWeek": "Wednesday"
                                },
                                {
                                    "ProductName": "Thin-Jam Lock Nut 15",
                                    "SellStartDate": "2008-04-30 00:00:00.000",
                                    "DayOfWeek": "Wednesday"
                                },
                                {
                                    "ProductName": "Thin-Jam Lock Nut 16",
                                    "SellStartDate": "2008-04-30 00:00:00.000",
                                    "DayOfWeek": "Wednesday"
                                },
                                {
                                    "ProductName": "Thin-Jam Lock Nut 2",
                                    "SellStartDate": "2008-04-30 00:00:00.000",
                                    "DayOfWeek": "Wednesday"
                                },
                                {
                                    "ProductName": "Thin-Jam Lock Nut 3",
                                    "SellStartDate": "2008-04-30 00:00:00.000",
                                    "DayOfWeek": "Wednesday"
                                },
                                {
                                    "ProductName": "Thin-Jam Lock Nut 4",
                                    "SellStartDate": "2008-04-30 00:00:00.000",
                                    "DayOfWeek": "Wednesday"
                                },
                                {
                                    "ProductName": "Thin-Jam Lock Nut 5",
                                    "SellStartDate": "2008-04-30 00:00:00.000",
                                    "DayOfWeek": "Wednesday"
                                },
                                {
                                    "ProductName": "Thin-Jam Lock Nut 6",
                                    "SellStartDate": "2008-04-30 00:00:00.000",
                                    "DayOfWeek": "Wednesday"
                                },
                                {
                                    "ProductName": "Thin-Jam Lock Nut 7",
                                    "SellStartDate": "2008-04-30 00:00:00.000",
                                    "DayOfWeek": "Wednesday"
                                },
                                {
                                    "ProductName": "Thin-Jam Lock Nut 8",
                                    "SellStartDate": "2008-04-30 00:00:00.000",
                                    "DayOfWeek": "Wednesday"
                                },
                                {
                                    "ProductName": "Thin-Jam Lock Nut 9",
                                    "SellStartDate": "2008-04-30 00:00:00.000",
                                    "DayOfWeek": "Wednesday"
                                },
                                {
                                    "ProductName": "Top Tube",
                                    "SellStartDate": "2008-04-30 00:00:00.000",
                                    "DayOfWeek": "Wednesday"
                                },
                                {
                                    "ProductName": "Touring End Caps",
                                    "SellStartDate": "2008-04-30 00:00:00.000",
                                    "DayOfWeek": "Wednesday"
                                },
                                {
                                    "ProductName": "Touring Rim",
                                    "SellStartDate": "2008-04-30 00:00:00.000",
                                    "DayOfWeek": "Wednesday"
                                },
                                {
                                    "ProductName": "Cable Lock",
                                    "SellStartDate": "2012-05-30 00:00:00.000",
                                    "DayOfWeek": "Wednesday"
                                },
                                {
                                    "ProductName": "Full-Finger Gloves, L",
                                    "SellStartDate": "2012-05-30 00:00:00.000",
                                    "DayOfWeek": "Wednesday"
                                },
                                {
                                    "ProductName": "Full-Finger Gloves, M",
                                    "SellStartDate": "2012-05-30 00:00:00.000",
                                    "DayOfWeek": "Wednesday"
                                },
                                {
                                    "ProductName": "Full-Finger Gloves, S",
                                    "SellStartDate": "2012-05-30 00:00:00.000",
                                    "DayOfWeek": "Wednesday"
                                },
                                {
                                    "ProductName": "Half-Finger Gloves, L",
                                    "SellStartDate": "2012-05-30 00:00:00.000",
                                    "DayOfWeek": "Wednesday"
                                },
                                {
                                    "ProductName": "Half-Finger Gloves, M",
                                    "SellStartDate": "2012-05-30 00:00:00.000",
                                    "DayOfWeek": "Wednesday"
                                },
                                {
                                    "ProductName": "Half-Finger Gloves, S",
                                    "SellStartDate": "2012-05-30 00:00:00.000",
                                    "DayOfWeek": "Wednesday"
                                },
                                {
                                    "ProductName": "Headlights - Dual-Beam",
                                    "SellStartDate": "2012-05-30 00:00:00.000",
                                    "DayOfWeek": "Wednesday"
                                },
                                {
                                    "ProductName": "Headlights - Weatherproof",
                                    "SellStartDate": "2012-05-30 00:00:00.000",
                                    "DayOfWeek": "Wednesday"
                                },
                                {
                                    "ProductName": "HL Fork",
                                    "SellStartDate": "2012-05-30 00:00:00.000",
                                    "DayOfWeek": "Wednesday"
                                },
                                {
                                    "ProductName": "HL Headset",
                                    "SellStartDate": "2012-05-30 00:00:00.000",
                                    "DayOfWeek": "Wednesday"
                                },
                                {
                                    "ProductName": "HL Mountain Front Wheel",
                                    "SellStartDate": "2012-05-30 00:00:00.000",
                                    "DayOfWeek": "Wednesday"
                                },
                                {
                                    "ProductName": "HL Mountain Handlebars",
                                    "SellStartDate": "2012-05-30 00:00:00.000",
                                    "DayOfWeek": "Wednesday"
                                },
                                {
                                    "ProductName": "HL Mountain Rear Wheel",
                                    "SellStartDate": "2012-05-30 00:00:00.000",
                                    "DayOfWeek": "Wednesday"
                                },
                                {
                                    "ProductName": "HL Road Frame - Black, 44",
                                    "SellStartDate": "2012-05-30 00:00:00.000",
                                    "DayOfWeek": "Wednesday"
                                },
                                {
                                    "ProductName": "HL Road Frame - Black, 48",
                                    "SellStartDate": "2012-05-30 00:00:00.000",
                                    "DayOfWeek": "Wednesday"
                                },
                                {
                                    "ProductName": "HL Road Frame - Black, 52",
                                    "SellStartDate": "2012-05-30 00:00:00.000",
                                    "DayOfWeek": "Wednesday"
                                },
                                {
                                    "ProductName": "HL Road Frame - Black, 62",
                                    "SellStartDate": "2012-05-30 00:00:00.000",
                                    "DayOfWeek": "Wednesday"
                                },
                                {
                                    "ProductName": "HL Road Front Wheel",
                                    "SellStartDate": "2012-05-30 00:00:00.000",
                                    "DayOfWeek": "Wednesday"
                                },
                                {
                                    "ProductName": "HL Road Handlebars",
                                    "SellStartDate": "2012-05-30 00:00:00.000",
                                    "DayOfWeek": "Wednesday"
                                },
                                {
                                    "ProductName": "HL Road Rear Wheel",
                                    "SellStartDate": "2012-05-30 00:00:00.000",
                                    "DayOfWeek": "Wednesday"
                                },
                                {
                                    "ProductName": "LL Fork",
                                    "SellStartDate": "2012-05-30 00:00:00.000",
                                    "DayOfWeek": "Wednesday"
                                },
                                {
                                    "ProductName": "LL Headset",
                                    "SellStartDate": "2012-05-30 00:00:00.000",
                                    "DayOfWeek": "Wednesday"
                                },
                                {
                                    "ProductName": "LL Mountain Front Wheel",
                                    "SellStartDate": "2012-05-30 00:00:00.000",
                                    "DayOfWeek": "Wednesday"
                                },
                                {
                                    "ProductName": "LL Mountain Handlebars",
                                    "SellStartDate": "2012-05-30 00:00:00.000",
                                    "DayOfWeek": "Wednesday"
                                },
                                {
                                    "ProductName": "LL Mountain Rear Wheel",
                                    "SellStartDate": "2012-05-30 00:00:00.000",
                                    "DayOfWeek": "Wednesday"
                                },
                                {
                                    "ProductName": "LL Road Front Wheel",
                                    "SellStartDate": "2012-05-30 00:00:00.000",
                                    "DayOfWeek": "Wednesday"
                                },
                                {
                                    "ProductName": "LL Road Handlebars",
                                    "SellStartDate": "2012-05-30 00:00:00.000",
                                    "DayOfWeek": "Wednesday"
                                },
                                {
                                    "ProductName": "LL Road Rear Wheel",
                                    "SellStartDate": "2012-05-30 00:00:00.000",
                                    "DayOfWeek": "Wednesday"
                                },
                                {
                                    "ProductName": "Men's Bib-Shorts, L",
                                    "SellStartDate": "2012-05-30 00:00:00.000",
                                    "DayOfWeek": "Wednesday"
                                },
                                {
                                    "ProductName": "Men's Bib-Shorts, M",
                                    "SellStartDate": "2012-05-30 00:00:00.000",
                                    "DayOfWeek": "Wednesday"
                                },
                                {
                                    "ProductName": "Men's Bib-Shorts, S",
                                    "SellStartDate": "2012-05-30 00:00:00.000",
                                    "DayOfWeek": "Wednesday"
                                },
                                {
                                    "ProductName": "Men's Sports Shorts, L",
                                    "SellStartDate": "2012-05-30 00:00:00.000",
                                    "DayOfWeek": "Wednesday"
                                },
                                {
                                    "ProductName": "Men's Sports Shorts, M",
                                    "SellStartDate": "2012-05-30 00:00:00.000",
                                    "DayOfWeek": "Wednesday"
                                },
                                {
                                    "ProductName": "Men's Sports Shorts, S",
                                    "SellStartDate": "2012-05-30 00:00:00.000",
                                    "DayOfWeek": "Wednesday"
                                },
                                {
                                    "ProductName": "Men's Sports Shorts, XL",
                                    "SellStartDate": "2012-05-30 00:00:00.000",
                                    "DayOfWeek": "Wednesday"
                                },
                                {
                                    "ProductName": "Minipump",
                                    "SellStartDate": "2012-05-30 00:00:00.000",
                                    "DayOfWeek": "Wednesday"
                                },
                                {
                                    "ProductName": "ML Fork",
                                    "SellStartDate": "2012-05-30 00:00:00.000",
                                    "DayOfWeek": "Wednesday"
                                },
                                {
                                    "ProductName": "ML Headset",
                                    "SellStartDate": "2012-05-30 00:00:00.000",
                                    "DayOfWeek": "Wednesday"
                                },
                                {
                                    "ProductName": "ML Mountain Frame - Black, 38",
                                    "SellStartDate": "2012-05-30 00:00:00.000",
                                    "DayOfWeek": "Wednesday"
                                },
                                {
                                    "ProductName": "ML Mountain Frame - Black, 40",
                                    "SellStartDate": "2012-05-30 00:00:00.000",
                                    "DayOfWeek": "Wednesday"
                                },
                                {
                                    "ProductName": "ML Mountain Frame - Black, 44",
                                    "SellStartDate": "2012-05-30 00:00:00.000",
                                    "DayOfWeek": "Wednesday"
                                },
                                {
                                    "ProductName": "ML Mountain Frame - Black, 48",
                                    "SellStartDate": "2012-05-30 00:00:00.000",
                                    "DayOfWeek": "Wednesday"
                                },
                                {
                                    "ProductName": "ML Mountain Front Wheel",
                                    "SellStartDate": "2012-05-30 00:00:00.000",
                                    "DayOfWeek": "Wednesday"
                                },
                                {
                                    "ProductName": "ML Mountain Handlebars",
                                    "SellStartDate": "2012-05-30 00:00:00.000",
                                    "DayOfWeek": "Wednesday"
                                },
                                {
                                    "ProductName": "ML Mountain Rear Wheel",
                                    "SellStartDate": "2012-05-30 00:00:00.000",
                                    "DayOfWeek": "Wednesday"
                                },
                                {
                                    "ProductName": "ML Road Frame-W - Yellow, 38",
                                    "SellStartDate": "2012-05-30 00:00:00.000",
                                    "DayOfWeek": "Wednesday"
                                },
                                {
                                    "ProductName": "ML Road Frame-W - Yellow, 40",
                                    "SellStartDate": "2012-05-30 00:00:00.000",
                                    "DayOfWeek": "Wednesday"
                                },
                                {
                                    "ProductName": "ML Road Frame-W - Yellow, 42",
                                    "SellStartDate": "2012-05-30 00:00:00.000",
                                    "DayOfWeek": "Wednesday"
                                },
                                {
                                    "ProductName": "ML Road Frame-W - Yellow, 44",
                                    "SellStartDate": "2012-05-30 00:00:00.000",
                                    "DayOfWeek": "Wednesday"
                                },
                                {
                                    "ProductName": "ML Road Frame-W - Yellow, 48",
                                    "SellStartDate": "2012-05-30 00:00:00.000",
                                    "DayOfWeek": "Wednesday"
                                },
                                {
                                    "ProductName": "ML Road Front Wheel",
                                    "SellStartDate": "2012-05-30 00:00:00.000",
                                    "DayOfWeek": "Wednesday"
                                },
                                {
                                    "ProductName": "ML Road Handlebars",
                                    "SellStartDate": "2012-05-30 00:00:00.000",
                                    "DayOfWeek": "Wednesday"
                                },
                                {
                                    "ProductName": "ML Road Rear Wheel",
                                    "SellStartDate": "2012-05-30 00:00:00.000",
                                    "DayOfWeek": "Wednesday"
                                },
                                {
                                    "ProductName": "Mountain Pump",
                                    "SellStartDate": "2012-05-30 00:00:00.000",
                                    "DayOfWeek": "Wednesday"
                                },
                                {
                                    "ProductName": "Mountain-200 Black, 38",
                                    "SellStartDate": "2012-05-30 00:00:00.000",
                                    "DayOfWeek": "Wednesday"
                                },
                                {
                                    "ProductName": "Mountain-200 Black, 42",
                                    "SellStartDate": "2012-05-30 00:00:00.000",
                                    "DayOfWeek": "Wednesday"
                                },
                                {
                                    "ProductName": "Mountain-200 Black, 46",
                                    "SellStartDate": "2012-05-30 00:00:00.000",
                                    "DayOfWeek": "Wednesday"
                                },
                                {
                                    "ProductName": "Mountain-200 Silver, 38",
                                    "SellStartDate": "2012-05-30 00:00:00.000",
                                    "DayOfWeek": "Wednesday"
                                },
                                {
                                    "ProductName": "Mountain-200 Silver, 42",
                                    "SellStartDate": "2012-05-30 00:00:00.000",
                                    "DayOfWeek": "Wednesday"
                                },
                                {
                                    "ProductName": "Mountain-200 Silver, 46",
                                    "SellStartDate": "2012-05-30 00:00:00.000",
                                    "DayOfWeek": "Wednesday"
                                },
                                {
                                    "ProductName": "Mountain-300 Black, 38",
                                    "SellStartDate": "2012-05-30 00:00:00.000",
                                    "DayOfWeek": "Wednesday"
                                },
                                {
                                    "ProductName": "Mountain-300 Black, 40",
                                    "SellStartDate": "2012-05-30 00:00:00.000",
                                    "DayOfWeek": "Wednesday"
                                },
                                {
                                    "ProductName": "Mountain-300 Black, 44",
                                    "SellStartDate": "2012-05-30 00:00:00.000",
                                    "DayOfWeek": "Wednesday"
                                },
                                {
                                    "ProductName": "Mountain-300 Black, 48",
                                    "SellStartDate": "2012-05-30 00:00:00.000",
                                    "DayOfWeek": "Wednesday"
                                },
                                {
                                    "ProductName": "Road-250 Black, 44",
                                    "SellStartDate": "2012-05-30 00:00:00.000",
                                    "DayOfWeek": "Wednesday"
                                },
                                {
                                    "ProductName": "Road-250 Black, 48",
                                    "SellStartDate": "2012-05-30 00:00:00.000",
                                    "DayOfWeek": "Wednesday"
                                },
                                {
                                    "ProductName": "Road-250 Black, 52",
                                    "SellStartDate": "2012-05-30 00:00:00.000",
                                    "DayOfWeek": "Wednesday"
                                },
                                {
                                    "ProductName": "Road-250 Black, 58",
                                    "SellStartDate": "2012-05-30 00:00:00.000",
                                    "DayOfWeek": "Wednesday"
                                },
                                {
                                    "ProductName": "Road-250 Red, 44",
                                    "SellStartDate": "2012-05-30 00:00:00.000",
                                    "DayOfWeek": "Wednesday"
                                },
                                {
                                    "ProductName": "Road-250 Red, 48",
                                    "SellStartDate": "2012-05-30 00:00:00.000",
                                    "DayOfWeek": "Wednesday"
                                },
                                {
                                    "ProductName": "Road-250 Red, 52",
                                    "SellStartDate": "2012-05-30 00:00:00.000",
                                    "DayOfWeek": "Wednesday"
                                },
                                {
                                    "ProductName": "Road-250 Red, 58",
                                    "SellStartDate": "2012-05-30 00:00:00.000",
                                    "DayOfWeek": "Wednesday"
                                },
                                {
                                    "ProductName": "Road-550-W Yellow, 38",
                                    "SellStartDate": "2012-05-30 00:00:00.000",
                                    "DayOfWeek": "Wednesday"
                                },
                                {
                                    "ProductName": "Road-550-W Yellow, 40",
                                    "SellStartDate": "2012-05-30 00:00:00.000",
                                    "DayOfWeek": "Wednesday"
                                },
                                {
                                    "ProductName": "Road-550-W Yellow, 42",
                                    "SellStartDate": "2012-05-30 00:00:00.000",
                                    "DayOfWeek": "Wednesday"
                                },
                                {
                                    "ProductName": "Road-550-W Yellow, 44",
                                    "SellStartDate": "2012-05-30 00:00:00.000",
                                    "DayOfWeek": "Wednesday"
                                },
                                {
                                    "ProductName": "Road-550-W Yellow, 48",
                                    "SellStartDate": "2012-05-30 00:00:00.000",
                                    "DayOfWeek": "Wednesday"
                                },
                                {
                                    "ProductName": "Taillights - Battery-Powered",
                                    "SellStartDate": "2012-05-30 00:00:00.000",
                                    "DayOfWeek": "Wednesday"
                                },
                                {
                                    "ProductName": "Touring Front Wheel",
                                    "SellStartDate": "2012-05-30 00:00:00.000",
                                    "DayOfWeek": "Wednesday"
                                },
                                {
                                    "ProductName": "Touring Rear Wheel",
                                    "SellStartDate": "2012-05-30 00:00:00.000",
                                    "DayOfWeek": "Wednesday"
                                },
                                {
                                    "ProductName": "Touring-Panniers, Large",
                                    "SellStartDate": "2012-05-30 00:00:00.000",
                                    "DayOfWeek": "Wednesday"
                                },
                                {
                                    "ProductName": "Women's Tights, L",
                                    "SellStartDate": "2012-05-30 00:00:00.000",
                                    "DayOfWeek": "Wednesday"
                                },
                                {
                                    "ProductName": "Women's Tights, M",
                                    "SellStartDate": "2012-05-30 00:00:00.000",
                                    "DayOfWeek": "Wednesday"
                                },
                                {
                                    "ProductName": "Women's Tights, S",
                                    "SellStartDate": "2012-05-30 00:00:00.000",
                                    "DayOfWeek": "Wednesday"
                                },
                                {
                                    "ProductName": "All-Purpose Bike Stand",
                                    "SellStartDate": "2013-05-30 00:00:00.000",
                                    "DayOfWeek": "Thursday"
                                },
                                {
                                    "ProductName": "Bike Wash - Dissolver",
                                    "SellStartDate": "2013-05-30 00:00:00.000",
                                    "DayOfWeek": "Thursday"
                                },
                                {
                                    "ProductName": "Chain",
                                    "SellStartDate": "2013-05-30 00:00:00.000",
                                    "DayOfWeek": "Thursday"
                                },
                                {
                                    "ProductName": "Classic Vest, L",
                                    "SellStartDate": "2013-05-30 00:00:00.000",
                                    "DayOfWeek": "Thursday"
                                },
                                {
                                    "ProductName": "Classic Vest, M",
                                    "SellStartDate": "2013-05-30 00:00:00.000",
                                    "DayOfWeek": "Thursday"
                                },
                                {
                                    "ProductName": "Classic Vest, S",
                                    "SellStartDate": "2013-05-30 00:00:00.000",
                                    "DayOfWeek": "Thursday"
                                },
                                {
                                    "ProductName": "Fender Set - Mountain",
                                    "SellStartDate": "2013-05-30 00:00:00.000",
                                    "DayOfWeek": "Thursday"
                                },
                                {
                                    "ProductName": "Front Brakes",
                                    "SellStartDate": "2013-05-30 00:00:00.000",
                                    "DayOfWeek": "Thursday"
                                },
                                {
                                    "ProductName": "Front Derailleur",
                                    "SellStartDate": "2013-05-30 00:00:00.000",
                                    "DayOfWeek": "Thursday"
                                },
                                {
                                    "ProductName": "Hitch Rack - 4-Bike",
                                    "SellStartDate": "2013-05-30 00:00:00.000",
                                    "DayOfWeek": "Thursday"
                                },
                                {
                                    "ProductName": "HL Bottom Bracket",
                                    "SellStartDate": "2013-05-30 00:00:00.000",
                                    "DayOfWeek": "Thursday"
                                },
                                {
                                    "ProductName": "HL Crankset",
                                    "SellStartDate": "2013-05-30 00:00:00.000",
                                    "DayOfWeek": "Thursday"
                                },
                                {
                                    "ProductName": "HL Mountain Pedal",
                                    "SellStartDate": "2013-05-30 00:00:00.000",
                                    "DayOfWeek": "Thursday"
                                },
                                {
                                    "ProductName": "HL Mountain Seat/Saddle",
                                    "SellStartDate": "2013-05-30 00:00:00.000",
                                    "DayOfWeek": "Thursday"
                                },
                                {
                                    "ProductName": "HL Mountain Tire",
                                    "SellStartDate": "2013-05-30 00:00:00.000",
                                    "DayOfWeek": "Thursday"
                                },
                                {
                                    "ProductName": "HL Road Pedal",
                                    "SellStartDate": "2013-05-30 00:00:00.000",
                                    "DayOfWeek": "Thursday"
                                },
                                {
                                    "ProductName": "HL Road Seat/Saddle",
                                    "SellStartDate": "2013-05-30 00:00:00.000",
                                    "DayOfWeek": "Thursday"
                                },
                                {
                                    "ProductName": "HL Road Tire",
                                    "SellStartDate": "2013-05-30 00:00:00.000",
                                    "DayOfWeek": "Thursday"
                                },
                                {
                                    "ProductName": "HL Touring Frame - Blue, 46",
                                    "SellStartDate": "2013-05-30 00:00:00.000",
                                    "DayOfWeek": "Thursday"
                                },
                                {
                                    "ProductName": "HL Touring Frame - Blue, 50",
                                    "SellStartDate": "2013-05-30 00:00:00.000",
                                    "DayOfWeek": "Thursday"
                                },
                                {
                                    "ProductName": "HL Touring Frame - Blue, 54",
                                    "SellStartDate": "2013-05-30 00:00:00.000",
                                    "DayOfWeek": "Thursday"
                                },
                                {
                                    "ProductName": "HL Touring Frame - Blue, 60",
                                    "SellStartDate": "2013-05-30 00:00:00.000",
                                    "DayOfWeek": "Thursday"
                                },
                                {
                                    "ProductName": "HL Touring Frame - Yellow, 46",
                                    "SellStartDate": "2013-05-30 00:00:00.000",
                                    "DayOfWeek": "Thursday"
                                },
                                {
                                    "ProductName": "HL Touring Frame - Yellow, 50",
                                    "SellStartDate": "2013-05-30 00:00:00.000",
                                    "DayOfWeek": "Thursday"
                                },
                                {
                                    "ProductName": "HL Touring Frame - Yellow, 54",
                                    "SellStartDate": "2013-05-30 00:00:00.000",
                                    "DayOfWeek": "Thursday"
                                },
                                {
                                    "ProductName": "HL Touring Frame - Yellow, 60",
                                    "SellStartDate": "2013-05-30 00:00:00.000",
                                    "DayOfWeek": "Thursday"
                                },
                                {
                                    "ProductName": "HL Touring Handlebars",
                                    "SellStartDate": "2013-05-30 00:00:00.000",
                                    "DayOfWeek": "Thursday"
                                },
                                {
                                    "ProductName": "HL Touring Seat/Saddle",
                                    "SellStartDate": "2013-05-30 00:00:00.000",
                                    "DayOfWeek": "Thursday"
                                },
                                {
                                    "ProductName": "Hydration Pack - 70 oz.",
                                    "SellStartDate": "2013-05-30 00:00:00.000",
                                    "DayOfWeek": "Thursday"
                                },
                                {
                                    "ProductName": "LL Bottom Bracket",
                                    "SellStartDate": "2013-05-30 00:00:00.000",
                                    "DayOfWeek": "Thursday"
                                },
                                {
                                    "ProductName": "LL Crankset",
                                    "SellStartDate": "2013-05-30 00:00:00.000",
                                    "DayOfWeek": "Thursday"
                                },
                                {
                                    "ProductName": "LL Mountain Frame - Black, 40",
                                    "SellStartDate": "2013-05-30 00:00:00.000",
                                    "DayOfWeek": "Thursday"
                                },
                                {
                                    "ProductName": "LL Mountain Frame - Black, 42",
                                    "SellStartDate": "2013-05-30 00:00:00.000",
                                    "DayOfWeek": "Thursday"
                                },
                                {
                                    "ProductName": "LL Mountain Frame - Black, 44",
                                    "SellStartDate": "2013-05-30 00:00:00.000",
                                    "DayOfWeek": "Thursday"
                                },
                                {
                                    "ProductName": "LL Mountain Frame - Black, 48",
                                    "SellStartDate": "2013-05-30 00:00:00.000",
                                    "DayOfWeek": "Thursday"
                                },
                                {
                                    "ProductName": "LL Mountain Frame - Black, 52",
                                    "SellStartDate": "2013-05-30 00:00:00.000",
                                    "DayOfWeek": "Thursday"
                                },
                                {
                                    "ProductName": "LL Mountain Frame - Silver, 40",
                                    "SellStartDate": "2013-05-30 00:00:00.000",
                                    "DayOfWeek": "Thursday"
                                },
                                {
                                    "ProductName": "LL Mountain Frame - Silver, 42",
                                    "SellStartDate": "2013-05-30 00:00:00.000",
                                    "DayOfWeek": "Thursday"
                                },
                                {
                                    "ProductName": "LL Mountain Frame - Silver, 44",
                                    "SellStartDate": "2013-05-30 00:00:00.000",
                                    "DayOfWeek": "Thursday"
                                },
                                {
                                    "ProductName": "LL Mountain Frame - Silver, 48",
                                    "SellStartDate": "2013-05-30 00:00:00.000",
                                    "DayOfWeek": "Thursday"
                                },
                                {
                                    "ProductName": "LL Mountain Frame - Silver, 52",
                                    "SellStartDate": "2013-05-30 00:00:00.000",
                                    "DayOfWeek": "Thursday"
                                },
                                {
                                    "ProductName": "LL Mountain Pedal",
                                    "SellStartDate": "2013-05-30 00:00:00.000",
                                    "DayOfWeek": "Thursday"
                                },
                                {
                                    "ProductName": "LL Mountain Seat/Saddle",
                                    "SellStartDate": "2013-05-30 00:00:00.000",
                                    "DayOfWeek": "Thursday"
                                },
                                {
                                    "ProductName": "LL Mountain Tire",
                                    "SellStartDate": "2013-05-30 00:00:00.000",
                                    "DayOfWeek": "Thursday"
                                },
                                {
                                    "ProductName": "LL Road Pedal",
                                    "SellStartDate": "2013-05-30 00:00:00.000",
                                    "DayOfWeek": "Thursday"
                                },
                                {
                                    "ProductName": "LL Road Seat/Saddle",
                                    "SellStartDate": "2013-05-30 00:00:00.000",
                                    "DayOfWeek": "Thursday"
                                },
                                {
                                    "ProductName": "LL Road Tire",
                                    "SellStartDate": "2013-05-30 00:00:00.000",
                                    "DayOfWeek": "Thursday"
                                },
                                {
                                    "ProductName": "LL Touring Frame - Blue, 44",
                                    "SellStartDate": "2013-05-30 00:00:00.000",
                                    "DayOfWeek": "Thursday"
                                },
                                {
                                    "ProductName": "LL Touring Frame - Blue, 50",
                                    "SellStartDate": "2013-05-30 00:00:00.000",
                                    "DayOfWeek": "Thursday"
                                },
                                {
                                    "ProductName": "LL Touring Frame - Blue, 54",
                                    "SellStartDate": "2013-05-30 00:00:00.000",
                                    "DayOfWeek": "Thursday"
                                },
                                {
                                    "ProductName": "LL Touring Frame - Blue, 58",
                                    "SellStartDate": "2013-05-30 00:00:00.000",
                                    "DayOfWeek": "Thursday"
                                },
                                {
                                    "ProductName": "LL Touring Frame - Blue, 62",
                                    "SellStartDate": "2013-05-30 00:00:00.000",
                                    "DayOfWeek": "Thursday"
                                },
                                {
                                    "ProductName": "LL Touring Frame - Yellow, 44",
                                    "SellStartDate": "2013-05-30 00:00:00.000",
                                    "DayOfWeek": "Thursday"
                                },
                                {
                                    "ProductName": "LL Touring Frame - Yellow, 50",
                                    "SellStartDate": "2013-05-30 00:00:00.000",
                                    "DayOfWeek": "Thursday"
                                },
                                {
                                    "ProductName": "LL Touring Frame - Yellow, 54",
                                    "SellStartDate": "2013-05-30 00:00:00.000",
                                    "DayOfWeek": "Thursday"
                                },
                                {
                                    "ProductName": "LL Touring Frame - Yellow, 58",
                                    "SellStartDate": "2013-05-30 00:00:00.000",
                                    "DayOfWeek": "Thursday"
                                },
                                {
                                    "ProductName": "LL Touring Frame - Yellow, 62",
                                    "SellStartDate": "2013-05-30 00:00:00.000",
                                    "DayOfWeek": "Thursday"
                                },
                                {
                                    "ProductName": "LL Touring Handlebars",
                                    "SellStartDate": "2013-05-30 00:00:00.000",
                                    "DayOfWeek": "Thursday"
                                },
                                {
                                    "ProductName": "LL Touring Seat/Saddle",
                                    "SellStartDate": "2013-05-30 00:00:00.000",
                                    "DayOfWeek": "Thursday"
                                },
                                {
                                    "ProductName": "ML Bottom Bracket",
                                    "SellStartDate": "2013-05-30 00:00:00.000",
                                    "DayOfWeek": "Thursday"
                                },
                                {
                                    "ProductName": "ML Crankset",
                                    "SellStartDate": "2013-05-30 00:00:00.000",
                                    "DayOfWeek": "Thursday"
                                },
                                {
                                    "ProductName": "ML Mountain Frame-W - Silver, 38",
                                    "SellStartDate": "2013-05-30 00:00:00.000",
                                    "DayOfWeek": "Thursday"
                                },
                                {
                                    "ProductName": "ML Mountain Frame-W - Silver, 40",
                                    "SellStartDate": "2013-05-30 00:00:00.000",
                                    "DayOfWeek": "Thursday"
                                },
                                {
                                    "ProductName": "ML Mountain Frame-W - Silver, 42",
                                    "SellStartDate": "2013-05-30 00:00:00.000",
                                    "DayOfWeek": "Thursday"
                                },
                                {
                                    "ProductName": "ML Mountain Frame-W - Silver, 46",
                                    "SellStartDate": "2013-05-30 00:00:00.000",
                                    "DayOfWeek": "Thursday"
                                },
                                {
                                    "ProductName": "ML Mountain Pedal",
                                    "SellStartDate": "2013-05-30 00:00:00.000",
                                    "DayOfWeek": "Thursday"
                                },
                                {
                                    "ProductName": "ML Mountain Seat/Saddle",
                                    "SellStartDate": "2013-05-30 00:00:00.000",
                                    "DayOfWeek": "Thursday"
                                },
                                {
                                    "ProductName": "ML Mountain Tire",
                                    "SellStartDate": "2013-05-30 00:00:00.000",
                                    "DayOfWeek": "Thursday"
                                },
                                {
                                    "ProductName": "ML Road Pedal",
                                    "SellStartDate": "2013-05-30 00:00:00.000",
                                    "DayOfWeek": "Thursday"
                                },
                                {
                                    "ProductName": "ML Road Seat/Saddle",
                                    "SellStartDate": "2013-05-30 00:00:00.000",
                                    "DayOfWeek": "Thursday"
                                },
                                {
                                    "ProductName": "ML Road Tire",
                                    "SellStartDate": "2013-05-30 00:00:00.000",
                                    "DayOfWeek": "Thursday"
                                },
                                {
                                    "ProductName": "ML Touring Seat/Saddle",
                                    "SellStartDate": "2013-05-30 00:00:00.000",
                                    "DayOfWeek": "Thursday"
                                },
                                {
                                    "ProductName": "Mountain Bottle Cage",
                                    "SellStartDate": "2013-05-30 00:00:00.000",
                                    "DayOfWeek": "Thursday"
                                },
                                {
                                    "ProductName": "Mountain Tire Tube",
                                    "SellStartDate": "2013-05-30 00:00:00.000",
                                    "DayOfWeek": "Thursday"
                                },
                                {
                                    "ProductName": "Mountain-400-W Silver, 38",
                                    "SellStartDate": "2013-05-30 00:00:00.000",
                                    "DayOfWeek": "Thursday"
                                },
                                {
                                    "ProductName": "Mountain-400-W Silver, 40",
                                    "SellStartDate": "2013-05-30 00:00:00.000",
                                    "DayOfWeek": "Thursday"
                                },
                                {
                                    "ProductName": "Mountain-400-W Silver, 42",
                                    "SellStartDate": "2013-05-30 00:00:00.000",
                                    "DayOfWeek": "Thursday"
                                },
                                {
                                    "ProductName": "Mountain-400-W Silver, 46",
                                    "SellStartDate": "2013-05-30 00:00:00.000",
                                    "DayOfWeek": "Thursday"
                                },
                                {
                                    "ProductName": "Mountain-500 Black, 40",
                                    "SellStartDate": "2013-05-30 00:00:00.000",
                                    "DayOfWeek": "Thursday"
                                },
                                {
                                    "ProductName": "Mountain-500 Black, 42",
                                    "SellStartDate": "2013-05-30 00:00:00.000",
                                    "DayOfWeek": "Thursday"
                                },
                                {
                                    "ProductName": "Mountain-500 Black, 44",
                                    "SellStartDate": "2013-05-30 00:00:00.000",
                                    "DayOfWeek": "Thursday"
                                },
                                {
                                    "ProductName": "Mountain-500 Black, 48",
                                    "SellStartDate": "2013-05-30 00:00:00.000",
                                    "DayOfWeek": "Thursday"
                                },
                                {
                                    "ProductName": "Mountain-500 Black, 52",
                                    "SellStartDate": "2013-05-30 00:00:00.000",
                                    "DayOfWeek": "Thursday"
                                },
                                {
                                    "ProductName": "Mountain-500 Silver, 40",
                                    "SellStartDate": "2013-05-30 00:00:00.000",
                                    "DayOfWeek": "Thursday"
                                },
                                {
                                    "ProductName": "Mountain-500 Silver, 42",
                                    "SellStartDate": "2013-05-30 00:00:00.000",
                                    "DayOfWeek": "Thursday"
                                },
                                {
                                    "ProductName": "Mountain-500 Silver, 44",
                                    "SellStartDate": "2013-05-30 00:00:00.000",
                                    "DayOfWeek": "Thursday"
                                },
                                {
                                    "ProductName": "Mountain-500 Silver, 48",
                                    "SellStartDate": "2013-05-30 00:00:00.000",
                                    "DayOfWeek": "Thursday"
                                },
                                {
                                    "ProductName": "Mountain-500 Silver, 52",
                                    "SellStartDate": "2013-05-30 00:00:00.000",
                                    "DayOfWeek": "Thursday"
                                },
                                {
                                    "ProductName": "Patch Kit/8 Patches",
                                    "SellStartDate": "2013-05-30 00:00:00.000",
                                    "DayOfWeek": "Thursday"
                                },
                                {
                                    "ProductName": "Racing Socks, L",
                                    "SellStartDate": "2013-05-30 00:00:00.000",
                                    "DayOfWeek": "Thursday"
                                },
                                {
                                    "ProductName": "Racing Socks, M",
                                    "SellStartDate": "2013-05-30 00:00:00.000",
                                    "DayOfWeek": "Thursday"
                                },
                                {
                                    "ProductName": "Rear Brakes",
                                    "SellStartDate": "2013-05-30 00:00:00.000",
                                    "DayOfWeek": "Thursday"
                                },
                                {
                                    "ProductName": "Rear Derailleur",
                                    "SellStartDate": "2013-05-30 00:00:00.000",
                                    "DayOfWeek": "Thursday"
                                },
                                {
                                    "ProductName": "Road Bottle Cage",
                                    "SellStartDate": "2013-05-30 00:00:00.000",
                                    "DayOfWeek": "Thursday"
                                },
                                {
                                    "ProductName": "Road Tire Tube",
                                    "SellStartDate": "2013-05-30 00:00:00.000",
                                    "DayOfWeek": "Thursday"
                                },
                                {
                                    "ProductName": "Road-350-W Yellow, 40",
                                    "SellStartDate": "2013-05-30 00:00:00.000",
                                    "DayOfWeek": "Thursday"
                                },
                                {
                                    "ProductName": "Road-350-W Yellow, 42",
                                    "SellStartDate": "2013-05-30 00:00:00.000",
                                    "DayOfWeek": "Thursday"
                                },
                                {
                                    "ProductName": "Road-350-W Yellow, 44",
                                    "SellStartDate": "2013-05-30 00:00:00.000",
                                    "DayOfWeek": "Thursday"
                                },
                                {
                                    "ProductName": "Road-350-W Yellow, 48",
                                    "SellStartDate": "2013-05-30 00:00:00.000",
                                    "DayOfWeek": "Thursday"
                                },
                                {
                                    "ProductName": "Road-750 Black, 44",
                                    "SellStartDate": "2013-05-30 00:00:00.000",
                                    "DayOfWeek": "Thursday"
                                },
                                {
                                    "ProductName": "Road-750 Black, 48",
                                    "SellStartDate": "2013-05-30 00:00:00.000",
                                    "DayOfWeek": "Thursday"
                                },
                                {
                                    "ProductName": "Road-750 Black, 52",
                                    "SellStartDate": "2013-05-30 00:00:00.000",
                                    "DayOfWeek": "Thursday"
                                },
                                {
                                    "ProductName": "Road-750 Black, 58",
                                    "SellStartDate": "2013-05-30 00:00:00.000",
                                    "DayOfWeek": "Thursday"
                                },
                                {
                                    "ProductName": "Short-Sleeve Classic Jersey, L",
                                    "SellStartDate": "2013-05-30 00:00:00.000",
                                    "DayOfWeek": "Thursday"
                                },
                                {
                                    "ProductName": "Short-Sleeve Classic Jersey, M",
                                    "SellStartDate": "2013-05-30 00:00:00.000",
                                    "DayOfWeek": "Thursday"
                                },
                                {
                                    "ProductName": "Short-Sleeve Classic Jersey, S",
                                    "SellStartDate": "2013-05-30 00:00:00.000",
                                    "DayOfWeek": "Thursday"
                                },
                                {
                                    "ProductName": "Short-Sleeve Classic Jersey, XL",
                                    "SellStartDate": "2013-05-30 00:00:00.000",
                                    "DayOfWeek": "Thursday"
                                },
                                {
                                    "ProductName": "Touring Pedal",
                                    "SellStartDate": "2013-05-30 00:00:00.000",
                                    "DayOfWeek": "Thursday"
                                },
                                {
                                    "ProductName": "Touring Tire",
                                    "SellStartDate": "2013-05-30 00:00:00.000",
                                    "DayOfWeek": "Thursday"
                                },
                                {
                                    "ProductName": "Touring Tire Tube",
                                    "SellStartDate": "2013-05-30 00:00:00.000",
                                    "DayOfWeek": "Thursday"
                                },
                                {
                                    "ProductName": "Touring-1000 Blue, 46",
                                    "SellStartDate": "2013-05-30 00:00:00.000",
                                    "DayOfWeek": "Thursday"
                                },
                                {
                                    "ProductName": "Touring-1000 Blue, 50",
                                    "SellStartDate": "2013-05-30 00:00:00.000",
                                    "DayOfWeek": "Thursday"
                                },
                                {
                                    "ProductName": "Touring-1000 Blue, 54",
                                    "SellStartDate": "2013-05-30 00:00:00.000",
                                    "DayOfWeek": "Thursday"
                                },
                                {
                                    "ProductName": "Touring-1000 Blue, 60",
                                    "SellStartDate": "2013-05-30 00:00:00.000",
                                    "DayOfWeek": "Thursday"
                                },
                                {
                                    "ProductName": "Touring-1000 Yellow, 46",
                                    "SellStartDate": "2013-05-30 00:00:00.000",
                                    "DayOfWeek": "Thursday"
                                },
                                {
                                    "ProductName": "Touring-1000 Yellow, 50",
                                    "SellStartDate": "2013-05-30 00:00:00.000",
                                    "DayOfWeek": "Thursday"
                                },
                                {
                                    "ProductName": "Touring-1000 Yellow, 54",
                                    "SellStartDate": "2013-05-30 00:00:00.000",
                                    "DayOfWeek": "Thursday"
                                },
                                {
                                    "ProductName": "Touring-1000 Yellow, 60",
                                    "SellStartDate": "2013-05-30 00:00:00.000",
                                    "DayOfWeek": "Thursday"
                                },
                                {
                                    "ProductName": "Touring-2000 Blue, 46",
                                    "SellStartDate": "2013-05-30 00:00:00.000",
                                    "DayOfWeek": "Thursday"
                                },
                                {
                                    "ProductName": "Touring-2000 Blue, 50",
                                    "SellStartDate": "2013-05-30 00:00:00.000",
                                    "DayOfWeek": "Thursday"
                                },
                                {
                                    "ProductName": "Touring-2000 Blue, 54",
                                    "SellStartDate": "2013-05-30 00:00:00.000",
                                    "DayOfWeek": "Thursday"
                                },
                                {
                                    "ProductName": "Touring-2000 Blue, 60",
                                    "SellStartDate": "2013-05-30 00:00:00.000",
                                    "DayOfWeek": "Thursday"
                                },
                                {
                                    "ProductName": "Touring-3000 Blue, 44",
                                    "SellStartDate": "2013-05-30 00:00:00.000",
                                    "DayOfWeek": "Thursday"
                                },
                                {
                                    "ProductName": "Touring-3000 Blue, 50",
                                    "SellStartDate": "2013-05-30 00:00:00.000",
                                    "DayOfWeek": "Thursday"
                                },
                                {
                                    "ProductName": "Touring-3000 Blue, 54",
                                    "SellStartDate": "2013-05-30 00:00:00.000",
                                    "DayOfWeek": "Thursday"
                                },
                                {
                                    "ProductName": "Touring-3000 Blue, 58",
                                    "SellStartDate": "2013-05-30 00:00:00.000",
                                    "DayOfWeek": "Thursday"
                                },
                                {
                                    "ProductName": "Touring-3000 Blue, 62",
                                    "SellStartDate": "2013-05-30 00:00:00.000",
                                    "DayOfWeek": "Thursday"
                                },
                                {
                                    "ProductName": "Touring-3000 Yellow, 44",
                                    "SellStartDate": "2013-05-30 00:00:00.000",
                                    "DayOfWeek": "Thursday"
                                },
                                {
                                    "ProductName": "Touring-3000 Yellow, 50",
                                    "SellStartDate": "2013-05-30 00:00:00.000",
                                    "DayOfWeek": "Thursday"
                                },
                                {
                                    "ProductName": "Touring-3000 Yellow, 54",
                                    "SellStartDate": "2013-05-30 00:00:00.000",
                                    "DayOfWeek": "Thursday"
                                },
                                {
                                    "ProductName": "Touring-3000 Yellow, 58",
                                    "SellStartDate": "2013-05-30 00:00:00.000",
                                    "DayOfWeek": "Thursday"
                                },
                                {
                                    "ProductName": "Touring-3000 Yellow, 62",
                                    "SellStartDate": "2013-05-30 00:00:00.000",
                                    "DayOfWeek": "Thursday"
                                },
                                {
                                    "ProductName": "Water Bottle - 30 oz.",
                                    "SellStartDate": "2013-05-30 00:00:00.000",
                                    "DayOfWeek": "Thursday"
                                },
                                {
                                    "ProductName": "Women's Mountain Shorts, L",
                                    "SellStartDate": "2013-05-30 00:00:00.000",
                                    "DayOfWeek": "Thursday"
                                },
                                {
                                    "ProductName": "Women's Mountain Shorts, M",
                                    "SellStartDate": "2013-05-30 00:00:00.000",
                                    "DayOfWeek": "Thursday"
                                },
                                {
                                    "ProductName": "Women's Mountain Shorts, S",
                                    "SellStartDate": "2013-05-30 00:00:00.000",
                                    "DayOfWeek": "Thursday"
                                }
                            ]
                        },
                        "text/html": "<table><tr><th>ProductName</th><th>SellStartDate</th><th>DayOfWeek</th></tr><tr><td>Adjustable Race</td><td>2008-04-30 00:00:00.000</td><td>Wednesday</td></tr><tr><td>BB Ball Bearing</td><td>2008-04-30 00:00:00.000</td><td>Wednesday</td></tr><tr><td>Bearing Ball</td><td>2008-04-30 00:00:00.000</td><td>Wednesday</td></tr><tr><td>Blade</td><td>2008-04-30 00:00:00.000</td><td>Wednesday</td></tr><tr><td>Chain Stays</td><td>2008-04-30 00:00:00.000</td><td>Wednesday</td></tr><tr><td>Chainring</td><td>2008-04-30 00:00:00.000</td><td>Wednesday</td></tr><tr><td>Chainring Bolts</td><td>2008-04-30 00:00:00.000</td><td>Wednesday</td></tr><tr><td>Chainring Nut</td><td>2008-04-30 00:00:00.000</td><td>Wednesday</td></tr><tr><td>Cone-Shaped Race</td><td>2008-04-30 00:00:00.000</td><td>Wednesday</td></tr><tr><td>Crown Race</td><td>2008-04-30 00:00:00.000</td><td>Wednesday</td></tr><tr><td>Cup-Shaped Race</td><td>2008-04-30 00:00:00.000</td><td>Wednesday</td></tr><tr><td>Decal 1</td><td>2008-04-30 00:00:00.000</td><td>Wednesday</td></tr><tr><td>Decal 2</td><td>2008-04-30 00:00:00.000</td><td>Wednesday</td></tr><tr><td>Down Tube</td><td>2008-04-30 00:00:00.000</td><td>Wednesday</td></tr><tr><td>External Lock Washer 1</td><td>2008-04-30 00:00:00.000</td><td>Wednesday</td></tr><tr><td>External Lock Washer 2</td><td>2008-04-30 00:00:00.000</td><td>Wednesday</td></tr><tr><td>External Lock Washer 3</td><td>2008-04-30 00:00:00.000</td><td>Wednesday</td></tr><tr><td>External Lock Washer 4</td><td>2008-04-30 00:00:00.000</td><td>Wednesday</td></tr><tr><td>External Lock Washer 5</td><td>2008-04-30 00:00:00.000</td><td>Wednesday</td></tr><tr><td>External Lock Washer 6</td><td>2008-04-30 00:00:00.000</td><td>Wednesday</td></tr><tr><td>External Lock Washer 7</td><td>2008-04-30 00:00:00.000</td><td>Wednesday</td></tr><tr><td>External Lock Washer 8</td><td>2008-04-30 00:00:00.000</td><td>Wednesday</td></tr><tr><td>External Lock Washer 9</td><td>2008-04-30 00:00:00.000</td><td>Wednesday</td></tr><tr><td>Flat Washer 1</td><td>2008-04-30 00:00:00.000</td><td>Wednesday</td></tr><tr><td>Flat Washer 2</td><td>2008-04-30 00:00:00.000</td><td>Wednesday</td></tr><tr><td>Flat Washer 3</td><td>2008-04-30 00:00:00.000</td><td>Wednesday</td></tr><tr><td>Flat Washer 4</td><td>2008-04-30 00:00:00.000</td><td>Wednesday</td></tr><tr><td>Flat Washer 5</td><td>2008-04-30 00:00:00.000</td><td>Wednesday</td></tr><tr><td>Flat Washer 6</td><td>2008-04-30 00:00:00.000</td><td>Wednesday</td></tr><tr><td>Flat Washer 7</td><td>2008-04-30 00:00:00.000</td><td>Wednesday</td></tr><tr><td>Flat Washer 8</td><td>2008-04-30 00:00:00.000</td><td>Wednesday</td></tr><tr><td>Flat Washer 9</td><td>2008-04-30 00:00:00.000</td><td>Wednesday</td></tr><tr><td>Fork Crown</td><td>2008-04-30 00:00:00.000</td><td>Wednesday</td></tr><tr><td>Fork End</td><td>2008-04-30 00:00:00.000</td><td>Wednesday</td></tr><tr><td>Freewheel</td><td>2008-04-30 00:00:00.000</td><td>Wednesday</td></tr><tr><td>Front Derailleur Cage</td><td>2008-04-30 00:00:00.000</td><td>Wednesday</td></tr><tr><td>Front Derailleur Linkage</td><td>2008-04-30 00:00:00.000</td><td>Wednesday</td></tr><tr><td>Guide Pulley</td><td>2008-04-30 00:00:00.000</td><td>Wednesday</td></tr><tr><td>Handlebar Tube</td><td>2008-04-30 00:00:00.000</td><td>Wednesday</td></tr><tr><td>Head Tube</td><td>2008-04-30 00:00:00.000</td><td>Wednesday</td></tr><tr><td>Headset Ball Bearings</td><td>2008-04-30 00:00:00.000</td><td>Wednesday</td></tr><tr><td>Hex Nut 1</td><td>2008-04-30 00:00:00.000</td><td>Wednesday</td></tr><tr><td>Hex Nut 10</td><td>2008-04-30 00:00:00.000</td><td>Wednesday</td></tr><tr><td>Hex Nut 11</td><td>2008-04-30 00:00:00.000</td><td>Wednesday</td></tr><tr><td>Hex Nut 12</td><td>2008-04-30 00:00:00.000</td><td>Wednesday</td></tr><tr><td>Hex Nut 13</td><td>2008-04-30 00:00:00.000</td><td>Wednesday</td></tr><tr><td>Hex Nut 14</td><td>2008-04-30 00:00:00.000</td><td>Wednesday</td></tr><tr><td>Hex Nut 15</td><td>2008-04-30 00:00:00.000</td><td>Wednesday</td></tr><tr><td>Hex Nut 16</td><td>2008-04-30 00:00:00.000</td><td>Wednesday</td></tr><tr><td>Hex Nut 17</td><td>2008-04-30 00:00:00.000</td><td>Wednesday</td></tr><tr><td>Hex Nut 18</td><td>2008-04-30 00:00:00.000</td><td>Wednesday</td></tr><tr><td>Hex Nut 19</td><td>2008-04-30 00:00:00.000</td><td>Wednesday</td></tr><tr><td>Hex Nut 2</td><td>2008-04-30 00:00:00.000</td><td>Wednesday</td></tr><tr><td>Hex Nut 20</td><td>2008-04-30 00:00:00.000</td><td>Wednesday</td></tr><tr><td>Hex Nut 21</td><td>2008-04-30 00:00:00.000</td><td>Wednesday</td></tr><tr><td>Hex Nut 22</td><td>2008-04-30 00:00:00.000</td><td>Wednesday</td></tr><tr><td>Hex Nut 23</td><td>2008-04-30 00:00:00.000</td><td>Wednesday</td></tr><tr><td>Hex Nut 3</td><td>2008-04-30 00:00:00.000</td><td>Wednesday</td></tr><tr><td>Hex Nut 4</td><td>2008-04-30 00:00:00.000</td><td>Wednesday</td></tr><tr><td>Hex Nut 5</td><td>2008-04-30 00:00:00.000</td><td>Wednesday</td></tr><tr><td>Hex Nut 6</td><td>2008-04-30 00:00:00.000</td><td>Wednesday</td></tr><tr><td>Hex Nut 7</td><td>2008-04-30 00:00:00.000</td><td>Wednesday</td></tr><tr><td>Hex Nut 8</td><td>2008-04-30 00:00:00.000</td><td>Wednesday</td></tr><tr><td>Hex Nut 9</td><td>2008-04-30 00:00:00.000</td><td>Wednesday</td></tr><tr><td>HL Crankarm</td><td>2008-04-30 00:00:00.000</td><td>Wednesday</td></tr><tr><td>HL Grip Tape</td><td>2008-04-30 00:00:00.000</td><td>Wednesday</td></tr><tr><td>HL Hub</td><td>2008-04-30 00:00:00.000</td><td>Wednesday</td></tr><tr><td>HL Mountain Rim</td><td>2008-04-30 00:00:00.000</td><td>Wednesday</td></tr><tr><td>HL Mountain Seat Assembly</td><td>2008-04-30 00:00:00.000</td><td>Wednesday</td></tr><tr><td>HL Nipple</td><td>2008-04-30 00:00:00.000</td><td>Wednesday</td></tr><tr><td>HL Road Frame - Black, 58</td><td>2008-04-30 00:00:00.000</td><td>Wednesday</td></tr><tr><td>HL Road Frame - Red, 58</td><td>2008-04-30 00:00:00.000</td><td>Wednesday</td></tr><tr><td>HL Road Rim</td><td>2008-04-30 00:00:00.000</td><td>Wednesday</td></tr><tr><td>HL Road Seat Assembly</td><td>2008-04-30 00:00:00.000</td><td>Wednesday</td></tr><tr><td>HL Shell</td><td>2008-04-30 00:00:00.000</td><td>Wednesday</td></tr><tr><td>HL Spindle/Axle</td><td>2008-04-30 00:00:00.000</td><td>Wednesday</td></tr><tr><td>HL Touring Seat Assembly</td><td>2008-04-30 00:00:00.000</td><td>Wednesday</td></tr><tr><td>Internal Lock Washer 1</td><td>2008-04-30 00:00:00.000</td><td>Wednesday</td></tr><tr><td>Internal Lock Washer 10</td><td>2008-04-30 00:00:00.000</td><td>Wednesday</td></tr><tr><td>Internal Lock Washer 2</td><td>2008-04-30 00:00:00.000</td><td>Wednesday</td></tr><tr><td>Internal Lock Washer 3</td><td>2008-04-30 00:00:00.000</td><td>Wednesday</td></tr><tr><td>Internal Lock Washer 4</td><td>2008-04-30 00:00:00.000</td><td>Wednesday</td></tr><tr><td>Internal Lock Washer 5</td><td>2008-04-30 00:00:00.000</td><td>Wednesday</td></tr><tr><td>Internal Lock Washer 6</td><td>2008-04-30 00:00:00.000</td><td>Wednesday</td></tr><tr><td>Internal Lock Washer 7</td><td>2008-04-30 00:00:00.000</td><td>Wednesday</td></tr><tr><td>Internal Lock Washer 8</td><td>2008-04-30 00:00:00.000</td><td>Wednesday</td></tr><tr><td>Internal Lock Washer 9</td><td>2008-04-30 00:00:00.000</td><td>Wednesday</td></tr><tr><td>Keyed Washer</td><td>2008-04-30 00:00:00.000</td><td>Wednesday</td></tr><tr><td>LL Crankarm</td><td>2008-04-30 00:00:00.000</td><td>Wednesday</td></tr><tr><td>LL Grip Tape</td><td>2008-04-30 00:00:00.000</td><td>Wednesday</td></tr><tr><td>LL Hub</td><td>2008-04-30 00:00:00.000</td><td>Wednesday</td></tr><tr><td>LL Mountain Rim</td><td>2008-04-30 00:00:00.000</td><td>Wednesday</td></tr><tr><td>LL Mountain Seat Assembly</td><td>2008-04-30 00:00:00.000</td><td>Wednesday</td></tr><tr><td>LL Nipple</td><td>2008-04-30 00:00:00.000</td><td>Wednesday</td></tr><tr><td>LL Road Rim</td><td>2008-04-30 00:00:00.000</td><td>Wednesday</td></tr><tr><td>LL Road Seat Assembly</td><td>2008-04-30 00:00:00.000</td><td>Wednesday</td></tr><tr><td>LL Shell</td><td>2008-04-30 00:00:00.000</td><td>Wednesday</td></tr><tr><td>LL Spindle/Axle</td><td>2008-04-30 00:00:00.000</td><td>Wednesday</td></tr><tr><td>LL Touring Seat Assembly</td><td>2008-04-30 00:00:00.000</td><td>Wednesday</td></tr><tr><td>Lock Nut 1</td><td>2008-04-30 00:00:00.000</td><td>Wednesday</td></tr><tr><td>Lock Nut 10</td><td>2008-04-30 00:00:00.000</td><td>Wednesday</td></tr><tr><td>Lock Nut 11</td><td>2008-04-30 00:00:00.000</td><td>Wednesday</td></tr><tr><td>Lock Nut 12</td><td>2008-04-30 00:00:00.000</td><td>Wednesday</td></tr><tr><td>Lock Nut 13</td><td>2008-04-30 00:00:00.000</td><td>Wednesday</td></tr><tr><td>Lock Nut 14</td><td>2008-04-30 00:00:00.000</td><td>Wednesday</td></tr><tr><td>Lock Nut 15</td><td>2008-04-30 00:00:00.000</td><td>Wednesday</td></tr><tr><td>Lock Nut 16</td><td>2008-04-30 00:00:00.000</td><td>Wednesday</td></tr><tr><td>Lock Nut 17</td><td>2008-04-30 00:00:00.000</td><td>Wednesday</td></tr><tr><td>Lock Nut 18</td><td>2008-04-30 00:00:00.000</td><td>Wednesday</td></tr><tr><td>Lock Nut 19</td><td>2008-04-30 00:00:00.000</td><td>Wednesday</td></tr><tr><td>Lock Nut 2</td><td>2008-04-30 00:00:00.000</td><td>Wednesday</td></tr><tr><td>Lock Nut 20</td><td>2008-04-30 00:00:00.000</td><td>Wednesday</td></tr><tr><td>Lock Nut 21</td><td>2008-04-30 00:00:00.000</td><td>Wednesday</td></tr><tr><td>Lock Nut 22</td><td>2008-04-30 00:00:00.000</td><td>Wednesday</td></tr><tr><td>Lock Nut 23</td><td>2008-04-30 00:00:00.000</td><td>Wednesday</td></tr><tr><td>Lock Nut 3</td><td>2008-04-30 00:00:00.000</td><td>Wednesday</td></tr><tr><td>Lock Nut 4</td><td>2008-04-30 00:00:00.000</td><td>Wednesday</td></tr><tr><td>Lock Nut 5</td><td>2008-04-30 00:00:00.000</td><td>Wednesday</td></tr><tr><td>Lock Nut 6</td><td>2008-04-30 00:00:00.000</td><td>Wednesday</td></tr><tr><td>Lock Nut 7</td><td>2008-04-30 00:00:00.000</td><td>Wednesday</td></tr><tr><td>Lock Nut 8</td><td>2008-04-30 00:00:00.000</td><td>Wednesday</td></tr><tr><td>Lock Nut 9</td><td>2008-04-30 00:00:00.000</td><td>Wednesday</td></tr><tr><td>Lock Ring</td><td>2008-04-30 00:00:00.000</td><td>Wednesday</td></tr><tr><td>Lock Washer 1</td><td>2008-04-30 00:00:00.000</td><td>Wednesday</td></tr><tr><td>Lock Washer 10</td><td>2008-04-30 00:00:00.000</td><td>Wednesday</td></tr><tr><td>Lock Washer 11</td><td>2008-04-30 00:00:00.000</td><td>Wednesday</td></tr><tr><td>Lock Washer 12</td><td>2008-04-30 00:00:00.000</td><td>Wednesday</td></tr><tr><td>Lock Washer 13</td><td>2008-04-30 00:00:00.000</td><td>Wednesday</td></tr><tr><td>Lock Washer 2</td><td>2008-04-30 00:00:00.000</td><td>Wednesday</td></tr><tr><td>Lock Washer 3</td><td>2008-04-30 00:00:00.000</td><td>Wednesday</td></tr><tr><td>Lock Washer 4</td><td>2008-04-30 00:00:00.000</td><td>Wednesday</td></tr><tr><td>Lock Washer 5</td><td>2008-04-30 00:00:00.000</td><td>Wednesday</td></tr><tr><td>Lock Washer 6</td><td>2008-04-30 00:00:00.000</td><td>Wednesday</td></tr><tr><td>Lock Washer 7</td><td>2008-04-30 00:00:00.000</td><td>Wednesday</td></tr><tr><td>Lock Washer 8</td><td>2008-04-30 00:00:00.000</td><td>Wednesday</td></tr><tr><td>Lock Washer 9</td><td>2008-04-30 00:00:00.000</td><td>Wednesday</td></tr><tr><td>Lower Head Race</td><td>2008-04-30 00:00:00.000</td><td>Wednesday</td></tr><tr><td>Metal Angle</td><td>2008-04-30 00:00:00.000</td><td>Wednesday</td></tr><tr><td>Metal Bar 1</td><td>2008-04-30 00:00:00.000</td><td>Wednesday</td></tr><tr><td>Metal Bar 2</td><td>2008-04-30 00:00:00.000</td><td>Wednesday</td></tr><tr><td>Metal Plate 1</td><td>2008-04-30 00:00:00.000</td><td>Wednesday</td></tr><tr><td>Metal Plate 2</td><td>2008-04-30 00:00:00.000</td><td>Wednesday</td></tr><tr><td>Metal Plate 3</td><td>2008-04-30 00:00:00.000</td><td>Wednesday</td></tr><tr><td>Metal Sheet 1</td><td>2008-04-30 00:00:00.000</td><td>Wednesday</td></tr><tr><td>Metal Sheet 2</td><td>2008-04-30 00:00:00.000</td><td>Wednesday</td></tr><tr><td>Metal Sheet 3</td><td>2008-04-30 00:00:00.000</td><td>Wednesday</td></tr><tr><td>Metal Sheet 4</td><td>2008-04-30 00:00:00.000</td><td>Wednesday</td></tr><tr><td>Metal Sheet 5</td><td>2008-04-30 00:00:00.000</td><td>Wednesday</td></tr><tr><td>Metal Sheet 6</td><td>2008-04-30 00:00:00.000</td><td>Wednesday</td></tr><tr><td>Metal Sheet 7</td><td>2008-04-30 00:00:00.000</td><td>Wednesday</td></tr><tr><td>Metal Tread Plate</td><td>2008-04-30 00:00:00.000</td><td>Wednesday</td></tr><tr><td>ML Crankarm</td><td>2008-04-30 00:00:00.000</td><td>Wednesday</td></tr><tr><td>ML Grip Tape</td><td>2008-04-30 00:00:00.000</td><td>Wednesday</td></tr><tr><td>ML Mountain Rim</td><td>2008-04-30 00:00:00.000</td><td>Wednesday</td></tr><tr><td>ML Mountain Seat Assembly</td><td>2008-04-30 00:00:00.000</td><td>Wednesday</td></tr><tr><td>ML Road Rim</td><td>2008-04-30 00:00:00.000</td><td>Wednesday</td></tr><tr><td>ML Road Seat Assembly</td><td>2008-04-30 00:00:00.000</td><td>Wednesday</td></tr><tr><td>ML Touring Seat Assembly</td><td>2008-04-30 00:00:00.000</td><td>Wednesday</td></tr><tr><td>Mountain End Caps</td><td>2008-04-30 00:00:00.000</td><td>Wednesday</td></tr><tr><td>Paint - Black</td><td>2008-04-30 00:00:00.000</td><td>Wednesday</td></tr><tr><td>Paint - Blue</td><td>2008-04-30 00:00:00.000</td><td>Wednesday</td></tr><tr><td>Paint - Red</td><td>2008-04-30 00:00:00.000</td><td>Wednesday</td></tr><tr><td>Paint - Silver</td><td>2008-04-30 00:00:00.000</td><td>Wednesday</td></tr><tr><td>Paint - Yellow</td><td>2008-04-30 00:00:00.000</td><td>Wednesday</td></tr><tr><td>Pinch Bolt</td><td>2008-04-30 00:00:00.000</td><td>Wednesday</td></tr><tr><td>Rear Derailleur Cage</td><td>2008-04-30 00:00:00.000</td><td>Wednesday</td></tr><tr><td>Reflector</td><td>2008-04-30 00:00:00.000</td><td>Wednesday</td></tr><tr><td>Road End Caps</td><td>2008-04-30 00:00:00.000</td><td>Wednesday</td></tr><tr><td>Seat Lug</td><td>2008-04-30 00:00:00.000</td><td>Wednesday</td></tr><tr><td>Seat Post</td><td>2008-04-30 00:00:00.000</td><td>Wednesday</td></tr><tr><td>Seat Stays</td><td>2008-04-30 00:00:00.000</td><td>Wednesday</td></tr><tr><td>Seat Tube</td><td>2008-04-30 00:00:00.000</td><td>Wednesday</td></tr><tr><td>Spokes</td><td>2008-04-30 00:00:00.000</td><td>Wednesday</td></tr><tr><td>Steerer</td><td>2008-04-30 00:00:00.000</td><td>Wednesday</td></tr><tr><td>Stem</td><td>2008-04-30 00:00:00.000</td><td>Wednesday</td></tr><tr><td>Tension Pulley</td><td>2008-04-30 00:00:00.000</td><td>Wednesday</td></tr><tr><td>Thin-Jam Hex Nut 1</td><td>2008-04-30 00:00:00.000</td><td>Wednesday</td></tr><tr><td>Thin-Jam Hex Nut 10</td><td>2008-04-30 00:00:00.000</td><td>Wednesday</td></tr><tr><td>Thin-Jam Hex Nut 11</td><td>2008-04-30 00:00:00.000</td><td>Wednesday</td></tr><tr><td>Thin-Jam Hex Nut 12</td><td>2008-04-30 00:00:00.000</td><td>Wednesday</td></tr><tr><td>Thin-Jam Hex Nut 13</td><td>2008-04-30 00:00:00.000</td><td>Wednesday</td></tr><tr><td>Thin-Jam Hex Nut 14</td><td>2008-04-30 00:00:00.000</td><td>Wednesday</td></tr><tr><td>Thin-Jam Hex Nut 15</td><td>2008-04-30 00:00:00.000</td><td>Wednesday</td></tr><tr><td>Thin-Jam Hex Nut 16</td><td>2008-04-30 00:00:00.000</td><td>Wednesday</td></tr><tr><td>Thin-Jam Hex Nut 2</td><td>2008-04-30 00:00:00.000</td><td>Wednesday</td></tr><tr><td>Thin-Jam Hex Nut 3</td><td>2008-04-30 00:00:00.000</td><td>Wednesday</td></tr><tr><td>Thin-Jam Hex Nut 4</td><td>2008-04-30 00:00:00.000</td><td>Wednesday</td></tr><tr><td>Thin-Jam Hex Nut 5</td><td>2008-04-30 00:00:00.000</td><td>Wednesday</td></tr><tr><td>Thin-Jam Hex Nut 6</td><td>2008-04-30 00:00:00.000</td><td>Wednesday</td></tr><tr><td>Thin-Jam Hex Nut 7</td><td>2008-04-30 00:00:00.000</td><td>Wednesday</td></tr><tr><td>Thin-Jam Hex Nut 8</td><td>2008-04-30 00:00:00.000</td><td>Wednesday</td></tr><tr><td>Thin-Jam Hex Nut 9</td><td>2008-04-30 00:00:00.000</td><td>Wednesday</td></tr><tr><td>Thin-Jam Lock Nut 1</td><td>2008-04-30 00:00:00.000</td><td>Wednesday</td></tr><tr><td>Thin-Jam Lock Nut 10</td><td>2008-04-30 00:00:00.000</td><td>Wednesday</td></tr><tr><td>Thin-Jam Lock Nut 11</td><td>2008-04-30 00:00:00.000</td><td>Wednesday</td></tr><tr><td>Thin-Jam Lock Nut 12</td><td>2008-04-30 00:00:00.000</td><td>Wednesday</td></tr><tr><td>Thin-Jam Lock Nut 13</td><td>2008-04-30 00:00:00.000</td><td>Wednesday</td></tr><tr><td>Thin-Jam Lock Nut 14</td><td>2008-04-30 00:00:00.000</td><td>Wednesday</td></tr><tr><td>Thin-Jam Lock Nut 15</td><td>2008-04-30 00:00:00.000</td><td>Wednesday</td></tr><tr><td>Thin-Jam Lock Nut 16</td><td>2008-04-30 00:00:00.000</td><td>Wednesday</td></tr><tr><td>Thin-Jam Lock Nut 2</td><td>2008-04-30 00:00:00.000</td><td>Wednesday</td></tr><tr><td>Thin-Jam Lock Nut 3</td><td>2008-04-30 00:00:00.000</td><td>Wednesday</td></tr><tr><td>Thin-Jam Lock Nut 4</td><td>2008-04-30 00:00:00.000</td><td>Wednesday</td></tr><tr><td>Thin-Jam Lock Nut 5</td><td>2008-04-30 00:00:00.000</td><td>Wednesday</td></tr><tr><td>Thin-Jam Lock Nut 6</td><td>2008-04-30 00:00:00.000</td><td>Wednesday</td></tr><tr><td>Thin-Jam Lock Nut 7</td><td>2008-04-30 00:00:00.000</td><td>Wednesday</td></tr><tr><td>Thin-Jam Lock Nut 8</td><td>2008-04-30 00:00:00.000</td><td>Wednesday</td></tr><tr><td>Thin-Jam Lock Nut 9</td><td>2008-04-30 00:00:00.000</td><td>Wednesday</td></tr><tr><td>Top Tube</td><td>2008-04-30 00:00:00.000</td><td>Wednesday</td></tr><tr><td>Touring End Caps</td><td>2008-04-30 00:00:00.000</td><td>Wednesday</td></tr><tr><td>Touring Rim</td><td>2008-04-30 00:00:00.000</td><td>Wednesday</td></tr><tr><td>Cable Lock</td><td>2012-05-30 00:00:00.000</td><td>Wednesday</td></tr><tr><td>Full-Finger Gloves, L</td><td>2012-05-30 00:00:00.000</td><td>Wednesday</td></tr><tr><td>Full-Finger Gloves, M</td><td>2012-05-30 00:00:00.000</td><td>Wednesday</td></tr><tr><td>Full-Finger Gloves, S</td><td>2012-05-30 00:00:00.000</td><td>Wednesday</td></tr><tr><td>Half-Finger Gloves, L</td><td>2012-05-30 00:00:00.000</td><td>Wednesday</td></tr><tr><td>Half-Finger Gloves, M</td><td>2012-05-30 00:00:00.000</td><td>Wednesday</td></tr><tr><td>Half-Finger Gloves, S</td><td>2012-05-30 00:00:00.000</td><td>Wednesday</td></tr><tr><td>Headlights - Dual-Beam</td><td>2012-05-30 00:00:00.000</td><td>Wednesday</td></tr><tr><td>Headlights - Weatherproof</td><td>2012-05-30 00:00:00.000</td><td>Wednesday</td></tr><tr><td>HL Fork</td><td>2012-05-30 00:00:00.000</td><td>Wednesday</td></tr><tr><td>HL Headset</td><td>2012-05-30 00:00:00.000</td><td>Wednesday</td></tr><tr><td>HL Mountain Front Wheel</td><td>2012-05-30 00:00:00.000</td><td>Wednesday</td></tr><tr><td>HL Mountain Handlebars</td><td>2012-05-30 00:00:00.000</td><td>Wednesday</td></tr><tr><td>HL Mountain Rear Wheel</td><td>2012-05-30 00:00:00.000</td><td>Wednesday</td></tr><tr><td>HL Road Frame - Black, 44</td><td>2012-05-30 00:00:00.000</td><td>Wednesday</td></tr><tr><td>HL Road Frame - Black, 48</td><td>2012-05-30 00:00:00.000</td><td>Wednesday</td></tr><tr><td>HL Road Frame - Black, 52</td><td>2012-05-30 00:00:00.000</td><td>Wednesday</td></tr><tr><td>HL Road Frame - Black, 62</td><td>2012-05-30 00:00:00.000</td><td>Wednesday</td></tr><tr><td>HL Road Front Wheel</td><td>2012-05-30 00:00:00.000</td><td>Wednesday</td></tr><tr><td>HL Road Handlebars</td><td>2012-05-30 00:00:00.000</td><td>Wednesday</td></tr><tr><td>HL Road Rear Wheel</td><td>2012-05-30 00:00:00.000</td><td>Wednesday</td></tr><tr><td>LL Fork</td><td>2012-05-30 00:00:00.000</td><td>Wednesday</td></tr><tr><td>LL Headset</td><td>2012-05-30 00:00:00.000</td><td>Wednesday</td></tr><tr><td>LL Mountain Front Wheel</td><td>2012-05-30 00:00:00.000</td><td>Wednesday</td></tr><tr><td>LL Mountain Handlebars</td><td>2012-05-30 00:00:00.000</td><td>Wednesday</td></tr><tr><td>LL Mountain Rear Wheel</td><td>2012-05-30 00:00:00.000</td><td>Wednesday</td></tr><tr><td>LL Road Front Wheel</td><td>2012-05-30 00:00:00.000</td><td>Wednesday</td></tr><tr><td>LL Road Handlebars</td><td>2012-05-30 00:00:00.000</td><td>Wednesday</td></tr><tr><td>LL Road Rear Wheel</td><td>2012-05-30 00:00:00.000</td><td>Wednesday</td></tr><tr><td>Men&#39;s Bib-Shorts, L</td><td>2012-05-30 00:00:00.000</td><td>Wednesday</td></tr><tr><td>Men&#39;s Bib-Shorts, M</td><td>2012-05-30 00:00:00.000</td><td>Wednesday</td></tr><tr><td>Men&#39;s Bib-Shorts, S</td><td>2012-05-30 00:00:00.000</td><td>Wednesday</td></tr><tr><td>Men&#39;s Sports Shorts, L</td><td>2012-05-30 00:00:00.000</td><td>Wednesday</td></tr><tr><td>Men&#39;s Sports Shorts, M</td><td>2012-05-30 00:00:00.000</td><td>Wednesday</td></tr><tr><td>Men&#39;s Sports Shorts, S</td><td>2012-05-30 00:00:00.000</td><td>Wednesday</td></tr><tr><td>Men&#39;s Sports Shorts, XL</td><td>2012-05-30 00:00:00.000</td><td>Wednesday</td></tr><tr><td>Minipump</td><td>2012-05-30 00:00:00.000</td><td>Wednesday</td></tr><tr><td>ML Fork</td><td>2012-05-30 00:00:00.000</td><td>Wednesday</td></tr><tr><td>ML Headset</td><td>2012-05-30 00:00:00.000</td><td>Wednesday</td></tr><tr><td>ML Mountain Frame - Black, 38</td><td>2012-05-30 00:00:00.000</td><td>Wednesday</td></tr><tr><td>ML Mountain Frame - Black, 40</td><td>2012-05-30 00:00:00.000</td><td>Wednesday</td></tr><tr><td>ML Mountain Frame - Black, 44</td><td>2012-05-30 00:00:00.000</td><td>Wednesday</td></tr><tr><td>ML Mountain Frame - Black, 48</td><td>2012-05-30 00:00:00.000</td><td>Wednesday</td></tr><tr><td>ML Mountain Front Wheel</td><td>2012-05-30 00:00:00.000</td><td>Wednesday</td></tr><tr><td>ML Mountain Handlebars</td><td>2012-05-30 00:00:00.000</td><td>Wednesday</td></tr><tr><td>ML Mountain Rear Wheel</td><td>2012-05-30 00:00:00.000</td><td>Wednesday</td></tr><tr><td>ML Road Frame-W - Yellow, 38</td><td>2012-05-30 00:00:00.000</td><td>Wednesday</td></tr><tr><td>ML Road Frame-W - Yellow, 40</td><td>2012-05-30 00:00:00.000</td><td>Wednesday</td></tr><tr><td>ML Road Frame-W - Yellow, 42</td><td>2012-05-30 00:00:00.000</td><td>Wednesday</td></tr><tr><td>ML Road Frame-W - Yellow, 44</td><td>2012-05-30 00:00:00.000</td><td>Wednesday</td></tr><tr><td>ML Road Frame-W - Yellow, 48</td><td>2012-05-30 00:00:00.000</td><td>Wednesday</td></tr><tr><td>ML Road Front Wheel</td><td>2012-05-30 00:00:00.000</td><td>Wednesday</td></tr><tr><td>ML Road Handlebars</td><td>2012-05-30 00:00:00.000</td><td>Wednesday</td></tr><tr><td>ML Road Rear Wheel</td><td>2012-05-30 00:00:00.000</td><td>Wednesday</td></tr><tr><td>Mountain Pump</td><td>2012-05-30 00:00:00.000</td><td>Wednesday</td></tr><tr><td>Mountain-200 Black, 38</td><td>2012-05-30 00:00:00.000</td><td>Wednesday</td></tr><tr><td>Mountain-200 Black, 42</td><td>2012-05-30 00:00:00.000</td><td>Wednesday</td></tr><tr><td>Mountain-200 Black, 46</td><td>2012-05-30 00:00:00.000</td><td>Wednesday</td></tr><tr><td>Mountain-200 Silver, 38</td><td>2012-05-30 00:00:00.000</td><td>Wednesday</td></tr><tr><td>Mountain-200 Silver, 42</td><td>2012-05-30 00:00:00.000</td><td>Wednesday</td></tr><tr><td>Mountain-200 Silver, 46</td><td>2012-05-30 00:00:00.000</td><td>Wednesday</td></tr><tr><td>Mountain-300 Black, 38</td><td>2012-05-30 00:00:00.000</td><td>Wednesday</td></tr><tr><td>Mountain-300 Black, 40</td><td>2012-05-30 00:00:00.000</td><td>Wednesday</td></tr><tr><td>Mountain-300 Black, 44</td><td>2012-05-30 00:00:00.000</td><td>Wednesday</td></tr><tr><td>Mountain-300 Black, 48</td><td>2012-05-30 00:00:00.000</td><td>Wednesday</td></tr><tr><td>Road-250 Black, 44</td><td>2012-05-30 00:00:00.000</td><td>Wednesday</td></tr><tr><td>Road-250 Black, 48</td><td>2012-05-30 00:00:00.000</td><td>Wednesday</td></tr><tr><td>Road-250 Black, 52</td><td>2012-05-30 00:00:00.000</td><td>Wednesday</td></tr><tr><td>Road-250 Black, 58</td><td>2012-05-30 00:00:00.000</td><td>Wednesday</td></tr><tr><td>Road-250 Red, 44</td><td>2012-05-30 00:00:00.000</td><td>Wednesday</td></tr><tr><td>Road-250 Red, 48</td><td>2012-05-30 00:00:00.000</td><td>Wednesday</td></tr><tr><td>Road-250 Red, 52</td><td>2012-05-30 00:00:00.000</td><td>Wednesday</td></tr><tr><td>Road-250 Red, 58</td><td>2012-05-30 00:00:00.000</td><td>Wednesday</td></tr><tr><td>Road-550-W Yellow, 38</td><td>2012-05-30 00:00:00.000</td><td>Wednesday</td></tr><tr><td>Road-550-W Yellow, 40</td><td>2012-05-30 00:00:00.000</td><td>Wednesday</td></tr><tr><td>Road-550-W Yellow, 42</td><td>2012-05-30 00:00:00.000</td><td>Wednesday</td></tr><tr><td>Road-550-W Yellow, 44</td><td>2012-05-30 00:00:00.000</td><td>Wednesday</td></tr><tr><td>Road-550-W Yellow, 48</td><td>2012-05-30 00:00:00.000</td><td>Wednesday</td></tr><tr><td>Taillights - Battery-Powered</td><td>2012-05-30 00:00:00.000</td><td>Wednesday</td></tr><tr><td>Touring Front Wheel</td><td>2012-05-30 00:00:00.000</td><td>Wednesday</td></tr><tr><td>Touring Rear Wheel</td><td>2012-05-30 00:00:00.000</td><td>Wednesday</td></tr><tr><td>Touring-Panniers, Large</td><td>2012-05-30 00:00:00.000</td><td>Wednesday</td></tr><tr><td>Women&#39;s Tights, L</td><td>2012-05-30 00:00:00.000</td><td>Wednesday</td></tr><tr><td>Women&#39;s Tights, M</td><td>2012-05-30 00:00:00.000</td><td>Wednesday</td></tr><tr><td>Women&#39;s Tights, S</td><td>2012-05-30 00:00:00.000</td><td>Wednesday</td></tr><tr><td>All-Purpose Bike Stand</td><td>2013-05-30 00:00:00.000</td><td>Thursday</td></tr><tr><td>Bike Wash - Dissolver</td><td>2013-05-30 00:00:00.000</td><td>Thursday</td></tr><tr><td>Chain</td><td>2013-05-30 00:00:00.000</td><td>Thursday</td></tr><tr><td>Classic Vest, L</td><td>2013-05-30 00:00:00.000</td><td>Thursday</td></tr><tr><td>Classic Vest, M</td><td>2013-05-30 00:00:00.000</td><td>Thursday</td></tr><tr><td>Classic Vest, S</td><td>2013-05-30 00:00:00.000</td><td>Thursday</td></tr><tr><td>Fender Set - Mountain</td><td>2013-05-30 00:00:00.000</td><td>Thursday</td></tr><tr><td>Front Brakes</td><td>2013-05-30 00:00:00.000</td><td>Thursday</td></tr><tr><td>Front Derailleur</td><td>2013-05-30 00:00:00.000</td><td>Thursday</td></tr><tr><td>Hitch Rack - 4-Bike</td><td>2013-05-30 00:00:00.000</td><td>Thursday</td></tr><tr><td>HL Bottom Bracket</td><td>2013-05-30 00:00:00.000</td><td>Thursday</td></tr><tr><td>HL Crankset</td><td>2013-05-30 00:00:00.000</td><td>Thursday</td></tr><tr><td>HL Mountain Pedal</td><td>2013-05-30 00:00:00.000</td><td>Thursday</td></tr><tr><td>HL Mountain Seat/Saddle</td><td>2013-05-30 00:00:00.000</td><td>Thursday</td></tr><tr><td>HL Mountain Tire</td><td>2013-05-30 00:00:00.000</td><td>Thursday</td></tr><tr><td>HL Road Pedal</td><td>2013-05-30 00:00:00.000</td><td>Thursday</td></tr><tr><td>HL Road Seat/Saddle</td><td>2013-05-30 00:00:00.000</td><td>Thursday</td></tr><tr><td>HL Road Tire</td><td>2013-05-30 00:00:00.000</td><td>Thursday</td></tr><tr><td>HL Touring Frame - Blue, 46</td><td>2013-05-30 00:00:00.000</td><td>Thursday</td></tr><tr><td>HL Touring Frame - Blue, 50</td><td>2013-05-30 00:00:00.000</td><td>Thursday</td></tr><tr><td>HL Touring Frame - Blue, 54</td><td>2013-05-30 00:00:00.000</td><td>Thursday</td></tr><tr><td>HL Touring Frame - Blue, 60</td><td>2013-05-30 00:00:00.000</td><td>Thursday</td></tr><tr><td>HL Touring Frame - Yellow, 46</td><td>2013-05-30 00:00:00.000</td><td>Thursday</td></tr><tr><td>HL Touring Frame - Yellow, 50</td><td>2013-05-30 00:00:00.000</td><td>Thursday</td></tr><tr><td>HL Touring Frame - Yellow, 54</td><td>2013-05-30 00:00:00.000</td><td>Thursday</td></tr><tr><td>HL Touring Frame - Yellow, 60</td><td>2013-05-30 00:00:00.000</td><td>Thursday</td></tr><tr><td>HL Touring Handlebars</td><td>2013-05-30 00:00:00.000</td><td>Thursday</td></tr><tr><td>HL Touring Seat/Saddle</td><td>2013-05-30 00:00:00.000</td><td>Thursday</td></tr><tr><td>Hydration Pack - 70 oz.</td><td>2013-05-30 00:00:00.000</td><td>Thursday</td></tr><tr><td>LL Bottom Bracket</td><td>2013-05-30 00:00:00.000</td><td>Thursday</td></tr><tr><td>LL Crankset</td><td>2013-05-30 00:00:00.000</td><td>Thursday</td></tr><tr><td>LL Mountain Frame - Black, 40</td><td>2013-05-30 00:00:00.000</td><td>Thursday</td></tr><tr><td>LL Mountain Frame - Black, 42</td><td>2013-05-30 00:00:00.000</td><td>Thursday</td></tr><tr><td>LL Mountain Frame - Black, 44</td><td>2013-05-30 00:00:00.000</td><td>Thursday</td></tr><tr><td>LL Mountain Frame - Black, 48</td><td>2013-05-30 00:00:00.000</td><td>Thursday</td></tr><tr><td>LL Mountain Frame - Black, 52</td><td>2013-05-30 00:00:00.000</td><td>Thursday</td></tr><tr><td>LL Mountain Frame - Silver, 40</td><td>2013-05-30 00:00:00.000</td><td>Thursday</td></tr><tr><td>LL Mountain Frame - Silver, 42</td><td>2013-05-30 00:00:00.000</td><td>Thursday</td></tr><tr><td>LL Mountain Frame - Silver, 44</td><td>2013-05-30 00:00:00.000</td><td>Thursday</td></tr><tr><td>LL Mountain Frame - Silver, 48</td><td>2013-05-30 00:00:00.000</td><td>Thursday</td></tr><tr><td>LL Mountain Frame - Silver, 52</td><td>2013-05-30 00:00:00.000</td><td>Thursday</td></tr><tr><td>LL Mountain Pedal</td><td>2013-05-30 00:00:00.000</td><td>Thursday</td></tr><tr><td>LL Mountain Seat/Saddle</td><td>2013-05-30 00:00:00.000</td><td>Thursday</td></tr><tr><td>LL Mountain Tire</td><td>2013-05-30 00:00:00.000</td><td>Thursday</td></tr><tr><td>LL Road Pedal</td><td>2013-05-30 00:00:00.000</td><td>Thursday</td></tr><tr><td>LL Road Seat/Saddle</td><td>2013-05-30 00:00:00.000</td><td>Thursday</td></tr><tr><td>LL Road Tire</td><td>2013-05-30 00:00:00.000</td><td>Thursday</td></tr><tr><td>LL Touring Frame - Blue, 44</td><td>2013-05-30 00:00:00.000</td><td>Thursday</td></tr><tr><td>LL Touring Frame - Blue, 50</td><td>2013-05-30 00:00:00.000</td><td>Thursday</td></tr><tr><td>LL Touring Frame - Blue, 54</td><td>2013-05-30 00:00:00.000</td><td>Thursday</td></tr><tr><td>LL Touring Frame - Blue, 58</td><td>2013-05-30 00:00:00.000</td><td>Thursday</td></tr><tr><td>LL Touring Frame - Blue, 62</td><td>2013-05-30 00:00:00.000</td><td>Thursday</td></tr><tr><td>LL Touring Frame - Yellow, 44</td><td>2013-05-30 00:00:00.000</td><td>Thursday</td></tr><tr><td>LL Touring Frame - Yellow, 50</td><td>2013-05-30 00:00:00.000</td><td>Thursday</td></tr><tr><td>LL Touring Frame - Yellow, 54</td><td>2013-05-30 00:00:00.000</td><td>Thursday</td></tr><tr><td>LL Touring Frame - Yellow, 58</td><td>2013-05-30 00:00:00.000</td><td>Thursday</td></tr><tr><td>LL Touring Frame - Yellow, 62</td><td>2013-05-30 00:00:00.000</td><td>Thursday</td></tr><tr><td>LL Touring Handlebars</td><td>2013-05-30 00:00:00.000</td><td>Thursday</td></tr><tr><td>LL Touring Seat/Saddle</td><td>2013-05-30 00:00:00.000</td><td>Thursday</td></tr><tr><td>ML Bottom Bracket</td><td>2013-05-30 00:00:00.000</td><td>Thursday</td></tr><tr><td>ML Crankset</td><td>2013-05-30 00:00:00.000</td><td>Thursday</td></tr><tr><td>ML Mountain Frame-W - Silver, 38</td><td>2013-05-30 00:00:00.000</td><td>Thursday</td></tr><tr><td>ML Mountain Frame-W - Silver, 40</td><td>2013-05-30 00:00:00.000</td><td>Thursday</td></tr><tr><td>ML Mountain Frame-W - Silver, 42</td><td>2013-05-30 00:00:00.000</td><td>Thursday</td></tr><tr><td>ML Mountain Frame-W - Silver, 46</td><td>2013-05-30 00:00:00.000</td><td>Thursday</td></tr><tr><td>ML Mountain Pedal</td><td>2013-05-30 00:00:00.000</td><td>Thursday</td></tr><tr><td>ML Mountain Seat/Saddle</td><td>2013-05-30 00:00:00.000</td><td>Thursday</td></tr><tr><td>ML Mountain Tire</td><td>2013-05-30 00:00:00.000</td><td>Thursday</td></tr><tr><td>ML Road Pedal</td><td>2013-05-30 00:00:00.000</td><td>Thursday</td></tr><tr><td>ML Road Seat/Saddle</td><td>2013-05-30 00:00:00.000</td><td>Thursday</td></tr><tr><td>ML Road Tire</td><td>2013-05-30 00:00:00.000</td><td>Thursday</td></tr><tr><td>ML Touring Seat/Saddle</td><td>2013-05-30 00:00:00.000</td><td>Thursday</td></tr><tr><td>Mountain Bottle Cage</td><td>2013-05-30 00:00:00.000</td><td>Thursday</td></tr><tr><td>Mountain Tire Tube</td><td>2013-05-30 00:00:00.000</td><td>Thursday</td></tr><tr><td>Mountain-400-W Silver, 38</td><td>2013-05-30 00:00:00.000</td><td>Thursday</td></tr><tr><td>Mountain-400-W Silver, 40</td><td>2013-05-30 00:00:00.000</td><td>Thursday</td></tr><tr><td>Mountain-400-W Silver, 42</td><td>2013-05-30 00:00:00.000</td><td>Thursday</td></tr><tr><td>Mountain-400-W Silver, 46</td><td>2013-05-30 00:00:00.000</td><td>Thursday</td></tr><tr><td>Mountain-500 Black, 40</td><td>2013-05-30 00:00:00.000</td><td>Thursday</td></tr><tr><td>Mountain-500 Black, 42</td><td>2013-05-30 00:00:00.000</td><td>Thursday</td></tr><tr><td>Mountain-500 Black, 44</td><td>2013-05-30 00:00:00.000</td><td>Thursday</td></tr><tr><td>Mountain-500 Black, 48</td><td>2013-05-30 00:00:00.000</td><td>Thursday</td></tr><tr><td>Mountain-500 Black, 52</td><td>2013-05-30 00:00:00.000</td><td>Thursday</td></tr><tr><td>Mountain-500 Silver, 40</td><td>2013-05-30 00:00:00.000</td><td>Thursday</td></tr><tr><td>Mountain-500 Silver, 42</td><td>2013-05-30 00:00:00.000</td><td>Thursday</td></tr><tr><td>Mountain-500 Silver, 44</td><td>2013-05-30 00:00:00.000</td><td>Thursday</td></tr><tr><td>Mountain-500 Silver, 48</td><td>2013-05-30 00:00:00.000</td><td>Thursday</td></tr><tr><td>Mountain-500 Silver, 52</td><td>2013-05-30 00:00:00.000</td><td>Thursday</td></tr><tr><td>Patch Kit/8 Patches</td><td>2013-05-30 00:00:00.000</td><td>Thursday</td></tr><tr><td>Racing Socks, L</td><td>2013-05-30 00:00:00.000</td><td>Thursday</td></tr><tr><td>Racing Socks, M</td><td>2013-05-30 00:00:00.000</td><td>Thursday</td></tr><tr><td>Rear Brakes</td><td>2013-05-30 00:00:00.000</td><td>Thursday</td></tr><tr><td>Rear Derailleur</td><td>2013-05-30 00:00:00.000</td><td>Thursday</td></tr><tr><td>Road Bottle Cage</td><td>2013-05-30 00:00:00.000</td><td>Thursday</td></tr><tr><td>Road Tire Tube</td><td>2013-05-30 00:00:00.000</td><td>Thursday</td></tr><tr><td>Road-350-W Yellow, 40</td><td>2013-05-30 00:00:00.000</td><td>Thursday</td></tr><tr><td>Road-350-W Yellow, 42</td><td>2013-05-30 00:00:00.000</td><td>Thursday</td></tr><tr><td>Road-350-W Yellow, 44</td><td>2013-05-30 00:00:00.000</td><td>Thursday</td></tr><tr><td>Road-350-W Yellow, 48</td><td>2013-05-30 00:00:00.000</td><td>Thursday</td></tr><tr><td>Road-750 Black, 44</td><td>2013-05-30 00:00:00.000</td><td>Thursday</td></tr><tr><td>Road-750 Black, 48</td><td>2013-05-30 00:00:00.000</td><td>Thursday</td></tr><tr><td>Road-750 Black, 52</td><td>2013-05-30 00:00:00.000</td><td>Thursday</td></tr><tr><td>Road-750 Black, 58</td><td>2013-05-30 00:00:00.000</td><td>Thursday</td></tr><tr><td>Short-Sleeve Classic Jersey, L</td><td>2013-05-30 00:00:00.000</td><td>Thursday</td></tr><tr><td>Short-Sleeve Classic Jersey, M</td><td>2013-05-30 00:00:00.000</td><td>Thursday</td></tr><tr><td>Short-Sleeve Classic Jersey, S</td><td>2013-05-30 00:00:00.000</td><td>Thursday</td></tr><tr><td>Short-Sleeve Classic Jersey, XL</td><td>2013-05-30 00:00:00.000</td><td>Thursday</td></tr><tr><td>Touring Pedal</td><td>2013-05-30 00:00:00.000</td><td>Thursday</td></tr><tr><td>Touring Tire</td><td>2013-05-30 00:00:00.000</td><td>Thursday</td></tr><tr><td>Touring Tire Tube</td><td>2013-05-30 00:00:00.000</td><td>Thursday</td></tr><tr><td>Touring-1000 Blue, 46</td><td>2013-05-30 00:00:00.000</td><td>Thursday</td></tr><tr><td>Touring-1000 Blue, 50</td><td>2013-05-30 00:00:00.000</td><td>Thursday</td></tr><tr><td>Touring-1000 Blue, 54</td><td>2013-05-30 00:00:00.000</td><td>Thursday</td></tr><tr><td>Touring-1000 Blue, 60</td><td>2013-05-30 00:00:00.000</td><td>Thursday</td></tr><tr><td>Touring-1000 Yellow, 46</td><td>2013-05-30 00:00:00.000</td><td>Thursday</td></tr><tr><td>Touring-1000 Yellow, 50</td><td>2013-05-30 00:00:00.000</td><td>Thursday</td></tr><tr><td>Touring-1000 Yellow, 54</td><td>2013-05-30 00:00:00.000</td><td>Thursday</td></tr><tr><td>Touring-1000 Yellow, 60</td><td>2013-05-30 00:00:00.000</td><td>Thursday</td></tr><tr><td>Touring-2000 Blue, 46</td><td>2013-05-30 00:00:00.000</td><td>Thursday</td></tr><tr><td>Touring-2000 Blue, 50</td><td>2013-05-30 00:00:00.000</td><td>Thursday</td></tr><tr><td>Touring-2000 Blue, 54</td><td>2013-05-30 00:00:00.000</td><td>Thursday</td></tr><tr><td>Touring-2000 Blue, 60</td><td>2013-05-30 00:00:00.000</td><td>Thursday</td></tr><tr><td>Touring-3000 Blue, 44</td><td>2013-05-30 00:00:00.000</td><td>Thursday</td></tr><tr><td>Touring-3000 Blue, 50</td><td>2013-05-30 00:00:00.000</td><td>Thursday</td></tr><tr><td>Touring-3000 Blue, 54</td><td>2013-05-30 00:00:00.000</td><td>Thursday</td></tr><tr><td>Touring-3000 Blue, 58</td><td>2013-05-30 00:00:00.000</td><td>Thursday</td></tr><tr><td>Touring-3000 Blue, 62</td><td>2013-05-30 00:00:00.000</td><td>Thursday</td></tr><tr><td>Touring-3000 Yellow, 44</td><td>2013-05-30 00:00:00.000</td><td>Thursday</td></tr><tr><td>Touring-3000 Yellow, 50</td><td>2013-05-30 00:00:00.000</td><td>Thursday</td></tr><tr><td>Touring-3000 Yellow, 54</td><td>2013-05-30 00:00:00.000</td><td>Thursday</td></tr><tr><td>Touring-3000 Yellow, 58</td><td>2013-05-30 00:00:00.000</td><td>Thursday</td></tr><tr><td>Touring-3000 Yellow, 62</td><td>2013-05-30 00:00:00.000</td><td>Thursday</td></tr><tr><td>Water Bottle - 30 oz.</td><td>2013-05-30 00:00:00.000</td><td>Thursday</td></tr><tr><td>Women&#39;s Mountain Shorts, L</td><td>2013-05-30 00:00:00.000</td><td>Thursday</td></tr><tr><td>Women&#39;s Mountain Shorts, M</td><td>2013-05-30 00:00:00.000</td><td>Thursday</td></tr><tr><td>Women&#39;s Mountain Shorts, S</td><td>2013-05-30 00:00:00.000</td><td>Thursday</td></tr></table>"
                    },
                    "metadata": {}
                }
            ],
            "execution_count": 34
        }
    ]
}